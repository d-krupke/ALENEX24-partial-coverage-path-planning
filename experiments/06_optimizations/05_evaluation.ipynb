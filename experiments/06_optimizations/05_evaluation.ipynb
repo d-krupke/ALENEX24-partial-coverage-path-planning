{
 "cells": [
  {
   "cell_type": "code",
   "execution_count": 1,
   "metadata": {
    "collapsed": true
   },
   "outputs": [],
   "source": [
    "from aemeasure import read_as_pd\n",
    "import os\n",
    "import pandas as pd\n",
    "import seaborn as sns\n",
    "import matplotlib.pyplot as plt\n",
    "\n",
    "sns.set_theme()\n",
    "from _utils import quick_plot_setup\n",
    "\n",
    "quick_plot_setup(use_tex=False)"
   ]
  },
  {
   "cell_type": "code",
   "execution_count": 2,
   "metadata": {
    "collapsed": false,
    "pycharm": {
     "name": "#%%\n"
    }
   },
   "outputs": [],
   "source": [
    "from pcpptc import PolygonInstance, Solution\n",
    "from pcpptc.plot import setup_plot, plot_polygon_instance, plot_solution\n",
    "from pcpptc.plot.polgyon_instance import plot_coverage"
   ]
  },
  {
   "cell_type": "code",
   "execution_count": 3,
   "metadata": {
    "collapsed": false,
    "pycharm": {
     "name": "#%%\n"
    }
   },
   "outputs": [
    {
     "name": "stdout",
     "output_type": "stream",
     "text": [
      "Loaded dataframe ./solutions_04/1.results.json\n",
      "Executed on: ['algry03']\n",
      "During: 2021-08-25 15:32:11.115218 and 2021-08-25 15:48:45.011178\n"
     ]
    },
    {
     "data": {
      "text/plain": [
       "Index(['solution', 'coverage', 'touring_cost', 'length', 'integralization',\n",
       "       'turn_sum', 'instance', 'instance_path', 'runtime', 'timestamp',\n",
       "       'hostname', 'argv', 'git_revision', 'cwd', 'solver', 'i',\n",
       "       'turn_factor'],\n",
       "      dtype='object')"
      ]
     },
     "execution_count": 3,
     "metadata": {},
     "output_type": "execute_result"
    }
   ],
   "source": [
    "read_as_pd(\"./solutions_04/1.results.json\").columns"
   ]
  },
  {
   "cell_type": "code",
   "execution_count": 4,
   "metadata": {
    "collapsed": false,
    "pycharm": {
     "name": "#%%\n"
    }
   },
   "outputs": [
    {
     "name": "stdout",
     "output_type": "stream",
     "text": [
      "Loaded dataframe ./solutions_04/75.results.json\n",
      "Executed on: ['algry01']\n",
      "During: 2021-08-25 15:07:28.892179 and 2021-08-25 15:13:25.565169\n",
      "Loaded dataframe ./solutions_04/156.results.json\n",
      "Executed on: ['algry01']\n",
      "During: 2021-08-25 13:34:46.453411 and 2021-08-25 13:38:35.889058\n",
      "Loaded dataframe ./solutions_04/119.results.json\n",
      "Executed on: ['algry03']\n",
      "During: 2021-08-25 10:48:17.929488 and 2021-08-25 11:05:28.570785\n",
      "Loaded dataframe ./solutions_04/173.results.json\n",
      "Executed on: ['algry03']\n",
      "During: 2021-08-25 13:59:23.152691 and 2021-08-25 14:12:27.384525\n",
      "Loaded dataframe ./solutions_04/144.results.json\n",
      "Executed on: ['algry03']\n",
      "During: 2021-08-25 08:40:47.448984 and 2021-08-25 08:43:32.532389\n",
      "Loaded dataframe ./solutions_04/185.results.json\n",
      "Executed on: ['algry03']\n",
      "During: 2021-08-25 09:50:20.594205 and 2021-08-25 09:58:22.789805\n",
      "Loaded dataframe ./solutions_04/154.results.json\n",
      "Executed on: ['algry03']\n",
      "During: 2021-08-25 15:42:56.038332 and 2021-08-25 15:54:59.148520\n",
      "Loaded dataframe ./solutions_04/12.results.json\n",
      "Executed on: ['algry01']\n",
      "During: 2021-08-25 14:19:05.724481 and 2021-08-25 14:40:20.450126\n",
      "Loaded dataframe ./solutions_04/197.results.json\n",
      "Executed on: ['algry01']\n",
      "During: 2021-08-25 12:14:10.619792 and 2021-08-25 12:34:33.473793\n",
      "Loaded dataframe ./solutions_04/86.results.json\n",
      "Executed on: ['algry03']\n",
      "During: 2021-08-25 15:05:22.404516 and 2021-08-25 15:11:56.257443\n",
      "Loaded dataframe ./solutions_04/35.results.json\n",
      "Executed on: ['algry03']\n",
      "During: 2021-08-25 13:42:50.438012 and 2021-08-25 13:51:05.205884\n",
      "Loaded dataframe ./solutions_04/74.results.json\n",
      "Executed on: ['algry03']\n",
      "During: 2021-08-25 14:13:01.142590 and 2021-08-25 14:18:07.361906\n",
      "Loaded dataframe ./solutions_04/57.results.json\n",
      "Executed on: ['algry01']\n",
      "During: 2021-08-25 11:55:06.214242 and 2021-08-25 12:30:03.493127\n",
      "Loaded dataframe ./solutions_04/58.results.json\n",
      "Executed on: ['algry01']\n",
      "During: 2021-08-25 14:16:41.960895 and 2021-08-25 14:22:21.127897\n",
      "Loaded dataframe ./solutions_04/14.results.json\n",
      "Executed on: ['algry01']\n",
      "During: 2021-08-25 15:07:47.353728 and 2021-08-25 15:10:43.863582\n",
      "Loaded dataframe ./solutions_04/3.results.json\n",
      "Executed on: ['algry03']\n",
      "During: 2021-08-25 13:05:29.787906 and 2021-08-25 13:13:12.971098\n",
      "Loaded dataframe ./solutions_04/36.results.json\n",
      "Executed on: ['algry01']\n",
      "During: 2021-08-25 09:35:12.417827 and 2021-08-25 10:02:23.681563\n",
      "Loaded dataframe ./solutions_04/80.results.json\n",
      "Executed on: ['algry01']\n",
      "During: 2021-08-25 12:09:50.225502 and 2021-08-25 12:11:43.567103\n",
      "Loaded dataframe ./solutions_04/70.results.json\n",
      "Executed on: ['algry03']\n",
      "During: 2021-08-25 10:26:44.947446 and 2021-08-25 10:29:38.381970\n",
      "Loaded dataframe ./solutions_04/45.results.json\n",
      "Executed on: ['algry01']\n",
      "During: 2021-08-25 10:15:05.651659 and 2021-08-25 10:21:03.875900\n",
      "Loaded dataframe ./solutions_04/21.results.json\n",
      "Executed on: ['algry03' 'algry01']\n",
      "During: 2021-08-25 14:49:48.472724 and 2021-08-25 15:06:51.984677\n",
      "Loaded dataframe ./solutions_04/17.results.json\n",
      "Executed on: ['algry03']\n",
      "During: 2021-08-25 08:49:40.745504 and 2021-08-25 09:00:41.081397\n",
      "Loaded dataframe ./solutions_04/125.results.json\n",
      "Executed on: ['algry03']\n",
      "During: 2021-08-25 12:32:53.435373 and 2021-08-25 12:40:54.894470\n",
      "Loaded dataframe ./solutions_04/101.results.json\n",
      "Executed on: ['algry01' 'algry03']\n",
      "During: 2021-08-25 16:07:19.902253 and 2021-08-25 16:20:53.529489\n",
      "Loaded dataframe ./solutions_04/16.results.json\n",
      "Executed on: ['algry03']\n",
      "During: 2021-08-25 09:35:14.801130 and 2021-08-25 09:40:37.838009\n",
      "Loaded dataframe ./solutions_04/52.results.json\n",
      "Executed on: ['algry03']\n",
      "During: 2021-08-25 14:40:42.268040 and 2021-08-25 14:48:27.481454\n",
      "Loaded dataframe ./solutions_04/167.results.json\n",
      "Executed on: ['algry03']\n",
      "During: 2021-08-25 13:32:35.159293 and 2021-08-25 13:35:38.547363\n",
      "Loaded dataframe ./solutions_04/131.results.json\n",
      "Executed on: ['algry01']\n",
      "During: 2021-08-25 14:46:34.416435 and 2021-08-25 14:49:10.906626\n",
      "Loaded dataframe ./solutions_04/149.results.json\n",
      "Executed on: ['algry01']\n",
      "During: 2021-08-25 11:36:53.567358 and 2021-08-25 11:48:35.264315\n",
      "Loaded dataframe ./solutions_04/92.results.json\n",
      "Executed on: ['algry01']\n",
      "During: 2021-08-25 13:44:50.583647 and 2021-08-25 13:48:30.116753\n",
      "Loaded dataframe ./solutions_04/84.results.json\n",
      "Executed on: ['algry03']\n",
      "During: 2021-08-25 13:28:41.713637 and 2021-08-25 13:35:20.763279\n",
      "Loaded dataframe ./solutions_04/158.results.json\n",
      "Executed on: ['algry03']\n",
      "During: 2021-08-25 11:43:09.081563 and 2021-08-25 11:49:03.093439\n",
      "Loaded dataframe ./solutions_04/41.results.json\n",
      "Executed on: ['algry01']\n",
      "During: 2021-08-25 11:48:56.971272 and 2021-08-25 11:52:07.102247\n",
      "Loaded dataframe ./solutions_04/174.results.json\n",
      "Executed on: ['algry03']\n",
      "During: 2021-08-25 12:41:19.797526 and 2021-08-25 12:44:50.842504\n",
      "Loaded dataframe ./solutions_04/191.results.json\n",
      "Executed on: ['algry03']\n",
      "During: 2021-08-25 13:36:29.189573 and 2021-08-25 13:47:19.288828\n",
      "Loaded dataframe ./solutions_04/181.results.json\n",
      "Executed on: ['algry03']\n",
      "During: 2021-08-25 14:13:42.103119 and 2021-08-25 14:28:11.103526\n",
      "Loaded dataframe ./solutions_04/29.results.json\n",
      "Executed on: ['algry03']\n",
      "During: 2021-08-25 11:12:08.057943 and 2021-08-25 12:55:33.928616\n",
      "Loaded dataframe ./solutions_04/76.results.json\n",
      "Executed on: ['algry03']\n",
      "During: 2021-08-25 12:11:02.616553 and 2021-08-25 12:20:01.755702\n",
      "Loaded dataframe ./solutions_04/130.results.json\n",
      "Executed on: ['algry01']\n",
      "During: 2021-08-25 13:03:24.333932 and 2021-08-25 13:07:27.768782\n",
      "Loaded dataframe ./solutions_04/118.results.json\n",
      "Executed on: ['algry01' 'algry03']\n",
      "During: 2021-08-25 15:48:32.534380 and 2021-08-25 16:09:58.524878\n",
      "Loaded dataframe ./solutions_04/38.results.json\n",
      "Executed on: ['algry01']\n",
      "During: 2021-08-25 10:45:31.549868 and 2021-08-25 10:54:03.761154\n",
      "Loaded dataframe ./solutions_04/68.results.json\n",
      "Executed on: ['algry01']\n",
      "During: 2021-08-25 14:38:47.437773 and 2021-08-25 14:43:33.759017\n",
      "Loaded dataframe ./solutions_04/143.results.json\n",
      "Executed on: ['algry01']\n",
      "During: 2021-08-25 11:01:04.254143 and 2021-08-25 11:26:51.864379\n",
      "Loaded dataframe ./solutions_04/79.results.json\n",
      "Executed on: ['algry01']\n",
      "During: 2021-08-25 08:45:04.618631 and 2021-08-25 09:32:38.943180\n",
      "Loaded dataframe ./solutions_04/5.results.json\n",
      "Executed on: ['algry03']\n",
      "During: 2021-08-25 13:35:04.124533 and 2021-08-25 13:36:29.418017\n",
      "Loaded dataframe ./solutions_04/180.results.json\n",
      "Executed on: ['algry03']\n",
      "During: 2021-08-25 15:55:43.971417 and 2021-08-25 16:02:18.059783\n",
      "Loaded dataframe ./solutions_04/99.results.json\n",
      "Executed on: ['algry01']\n",
      "During: 2021-08-25 13:54:32.419993 and 2021-08-25 14:05:16.847125\n",
      "Loaded dataframe ./solutions_04/161.results.json\n",
      "Executed on: ['algry03']\n",
      "During: 2021-08-25 13:47:39.334956 and 2021-08-25 13:54:33.085028\n",
      "Loaded dataframe ./solutions_04/136.results.json\n",
      "Executed on: ['algry03']\n",
      "During: 2021-08-25 09:30:32.577693 and 2021-08-25 09:34:34.789331\n",
      "Loaded dataframe ./solutions_04/115.results.json\n",
      "Executed on: ['algry01']\n",
      "During: 2021-08-25 10:58:54.041404 and 2021-08-25 11:13:09.721863\n",
      "Loaded dataframe ./solutions_04/153.results.json\n",
      "Executed on: ['algry03']\n",
      "During: 2021-08-25 10:54:11.445179 and 2021-08-25 11:06:32.434041\n",
      "Loaded dataframe ./solutions_04/11.results.json\n",
      "Executed on: ['algry03']\n",
      "During: 2021-08-25 14:40:52.066625 and 2021-08-25 14:54:12.480283\n",
      "Loaded dataframe ./solutions_04/32.results.json\n",
      "Executed on: ['algry03']\n",
      "During: 2021-08-25 08:49:06.727719 and 2021-08-25 09:01:10.712416\n",
      "Loaded dataframe ./solutions_04/121.results.json\n",
      "Executed on: ['algry03']\n",
      "During: 2021-08-25 11:06:09.150654 and 2021-08-25 11:17:18.339486\n",
      "Loaded dataframe ./solutions_04/189.results.json\n",
      "Executed on: ['algry03']\n",
      "During: 2021-08-25 11:27:30.943326 and 2021-08-25 11:42:44.332480\n",
      "Loaded dataframe ./solutions_04/50.results.json\n",
      "Executed on: ['algry03']\n",
      "During: 2021-08-25 10:11:45.627020 and 2021-08-25 10:28:07.358433\n",
      "Loaded dataframe ./solutions_04/1.results.json\n",
      "Executed on: ['algry03']\n",
      "During: 2021-08-25 15:32:11.115218 and 2021-08-25 15:48:45.011178\n",
      "Loaded dataframe ./solutions_04/193.results.json\n",
      "Executed on: ['algry01']\n",
      "During: 2021-08-25 14:45:06.706566 and 2021-08-25 14:51:02.663618\n",
      "Loaded dataframe ./solutions_04/96.results.json\n",
      "Executed on: ['algry01']\n",
      "During: 2021-08-25 13:01:38.769465 and 2021-08-25 13:03:07.145451\n",
      "Loaded dataframe ./solutions_04/49.results.json\n",
      "Executed on: ['algry01' 'algry03']\n",
      "During: 2021-08-25 16:00:12.935877 and 2021-08-25 16:13:38.364143\n",
      "Loaded dataframe ./solutions_04/9.results.json\n",
      "Executed on: ['algry03']\n",
      "During: 2021-08-25 14:03:52.492077 and 2021-08-25 14:14:47.620870\n",
      "Loaded dataframe ./solutions_04/48.results.json\n",
      "Executed on: ['algry03']\n",
      "During: 2021-08-25 13:22:48.022810 and 2021-08-25 13:28:00.745330\n",
      "Loaded dataframe ./solutions_04/129.results.json\n",
      "Executed on: ['algry03']\n",
      "During: 2021-08-25 10:34:34.562957 and 2021-08-25 10:57:13.982719\n",
      "Loaded dataframe ./solutions_04/146.results.json\n",
      "Executed on: ['algry03']\n",
      "During: 2021-08-25 13:05:19.262467 and 2021-08-25 13:08:33.504672\n",
      "Loaded dataframe ./solutions_04/127.results.json\n",
      "Executed on: ['algry03']\n",
      "During: 2021-08-25 15:24:54.094973 and 2021-08-25 15:36:44.330496\n",
      "Loaded dataframe ./solutions_04/44.results.json\n",
      "Executed on: ['algry03']\n",
      "During: 2021-08-25 10:27:19.636714 and 2021-08-25 10:36:17.328957\n",
      "Loaded dataframe ./solutions_04/194.results.json\n",
      "Executed on: ['algry03']\n",
      "During: 2021-08-25 10:30:09.931799 and 2021-08-25 10:34:58.972015\n",
      "Loaded dataframe ./solutions_04/145.results.json\n",
      "Executed on: ['algry03']\n",
      "During: 2021-08-25 15:32:17.975002 and 2021-08-25 15:38:28.344310\n",
      "Loaded dataframe ./solutions_04/53.results.json\n",
      "Executed on: ['algry03']\n",
      "During: 2021-08-25 13:48:12.072661 and 2021-08-25 13:53:19.136669\n",
      "Loaded dataframe ./solutions_04/169.results.json\n",
      "Executed on: ['algry01']\n",
      "During: 2021-08-25 12:35:09.709308 and 2021-08-25 12:41:48.216583\n",
      "Loaded dataframe ./solutions_04/132.results.json\n",
      "Executed on: ['algry03']\n",
      "During: 2021-08-25 15:49:06.583576 and 2021-08-25 15:52:19.157018\n",
      "Loaded dataframe ./solutions_04/188.results.json\n",
      "Executed on: ['algry01']\n",
      "During: 2021-08-25 14:07:58.772013 and 2021-08-25 14:26:43.342600\n",
      "Loaded dataframe ./solutions_04/46.results.json\n",
      "Executed on: ['algry03' 'algry01']\n",
      "During: 2021-08-25 13:05:58.408862 and 2021-08-25 13:23:24.729810\n",
      "Loaded dataframe ./solutions_04/13.results.json\n",
      "Executed on: ['algry03']\n",
      "During: 2021-08-25 14:19:48.448869 and 2021-08-25 14:35:37.667998\n",
      "Loaded dataframe ./solutions_04/114.results.json\n",
      "Executed on: ['algry01']\n",
      "During: 2021-08-25 14:27:28.697695 and 2021-08-25 14:38:08.892492\n",
      "Loaded dataframe ./solutions_04/104.results.json\n",
      "Executed on: ['algry01']\n",
      "During: 2021-08-25 14:10:47.217264 and 2021-08-25 14:13:49.721520\n",
      "Loaded dataframe ./solutions_04/59.results.json\n",
      "Executed on: ['algry01']\n",
      "During: 2021-08-25 15:14:36.057510 and 2021-08-25 15:23:18.692408\n",
      "Loaded dataframe ./solutions_04/71.results.json\n",
      "Executed on: ['algry01']\n",
      "During: 2021-08-25 15:33:50.161624 and 2021-08-25 15:43:22.123631\n",
      "Loaded dataframe ./solutions_04/7.results.json\n",
      "Executed on: ['algry03']\n",
      "During: 2021-08-25 09:35:52.774175 and 2021-08-25 09:39:06.618245\n",
      "Loaded dataframe ./solutions_04/122.results.json\n",
      "Executed on: ['algry03']\n",
      "During: 2021-08-25 09:31:11.498221 and 2021-08-25 09:36:22.420821\n",
      "Loaded dataframe ./solutions_04/170.results.json\n",
      "Executed on: ['algry01']\n",
      "During: 2021-08-25 12:31:12.929639 and 2021-08-25 12:43:31.976898\n",
      "Loaded dataframe ./solutions_04/47.results.json\n",
      "Executed on: ['algry01']\n",
      "During: 2021-08-25 13:47:11.869561 and 2021-08-25 13:49:51.967273\n",
      "Loaded dataframe ./solutions_04/179.results.json\n",
      "Executed on: ['algry01']\n",
      "During: 2021-08-25 15:31:16.122266 and 2021-08-25 15:54:18.661166\n",
      "Loaded dataframe ./solutions_04/168.results.json\n",
      "Executed on: ['algry03']\n",
      "During: 2021-08-25 11:17:49.362097 and 2021-08-25 11:25:29.331133\n",
      "Loaded dataframe ./solutions_04/126.results.json\n",
      "Executed on: ['algry03']\n",
      "During: 2021-08-25 16:22:08.067771 and 2021-08-25 16:37:46.359708\n",
      "Loaded dataframe ./solutions_04/135.results.json\n",
      "Executed on: ['algry01']\n",
      "During: 2021-08-25 14:14:10.919922 and 2021-08-25 14:17:16.769119\n",
      "Loaded dataframe ./solutions_04/134.results.json\n",
      "Executed on: ['algry03' 'algry01']\n",
      "During: 2021-08-25 14:36:10.873663 and 2021-08-25 14:44:33.545022\n",
      "Loaded dataframe ./solutions_04/199.results.json\n",
      "Executed on: ['algry01']\n",
      "During: 2021-08-25 15:54:55.271336 and 2021-08-25 15:59:21.281112\n",
      "Loaded dataframe ./solutions_04/62.results.json\n",
      "Executed on: ['algry01']\n",
      "During: 2021-08-25 12:43:21.349235 and 2021-08-25 12:59:48.008425\n",
      "Loaded dataframe ./solutions_04/83.results.json\n",
      "Executed on: ['algry01']\n",
      "During: 2021-08-25 13:24:56.065187 and 2021-08-25 13:26:01.859030\n",
      "Loaded dataframe ./solutions_04/6.results.json\n",
      "Executed on: ['algry03']\n",
      "During: 2021-08-25 09:08:06.622229 and 2021-08-25 09:22:25.010646\n",
      "Loaded dataframe ./solutions_04/64.results.json\n",
      "Executed on: ['algry01']\n",
      "During: 2021-08-25 15:44:04.607231 and 2021-08-25 15:51:21.633513\n",
      "Loaded dataframe ./solutions_04/22.results.json\n",
      "Executed on: ['algry01']\n",
      "During: 2021-08-25 11:13:48.308169 and 2021-08-25 11:21:32.613721\n",
      "Loaded dataframe ./solutions_04/66.results.json\n",
      "Executed on: ['algry03']\n",
      "During: 2021-08-25 12:20:25.066662 and 2021-08-25 12:28:55.973846\n",
      "Loaded dataframe ./solutions_04/94.results.json\n",
      "Executed on: ['algry03']\n",
      "During: 2021-08-25 09:41:13.695659 and 2021-08-25 09:49:16.515299\n",
      "Loaded dataframe ./solutions_04/54.results.json\n",
      "Executed on: ['algry01']\n",
      "During: 2021-08-25 15:12:08.897778 and 2021-08-25 15:31:10.929918\n",
      "Loaded dataframe ./solutions_04/163.results.json\n",
      "Executed on: ['algry03']\n",
      "During: 2021-08-25 14:56:20.613530 and 2021-08-25 15:21:01.677690\n",
      "Loaded dataframe ./solutions_04/160.results.json\n",
      "Executed on: ['algry03']\n",
      "During: 2021-08-25 09:03:42.570897 and 2021-08-25 09:30:05.007804\n",
      "Loaded dataframe ./solutions_04/186.results.json\n",
      "Executed on: ['algry01']\n",
      "During: 2021-08-25 13:27:05.777987 and 2021-08-25 13:44:44.620129\n",
      "Loaded dataframe ./solutions_04/137.results.json\n",
      "Executed on: ['algry03']\n",
      "During: 2021-08-25 14:44:24.059103 and 2021-08-25 14:52:54.762664\n",
      "Loaded dataframe ./solutions_04/0.results.json\n",
      "Executed on: ['algry03']\n",
      "During: 2021-08-25 11:36:41.077693 and 2021-08-25 11:45:34.513756\n",
      "Loaded dataframe ./solutions_04/97.results.json\n",
      "Executed on: ['algry03']\n",
      "During: 2021-08-25 10:45:29.161342 and 2021-08-25 10:52:12.436983\n",
      "Loaded dataframe ./solutions_04/40.results.json\n",
      "Executed on: ['algry01']\n",
      "During: 2021-08-25 14:01:17.010333 and 2021-08-25 14:09:23.128003\n",
      "Loaded dataframe ./solutions_04/88.results.json\n",
      "Executed on: ['algry03']\n",
      "During: 2021-08-25 14:53:49.714998 and 2021-08-25 15:04:01.612550\n",
      "Loaded dataframe ./solutions_04/61.results.json\n",
      "Executed on: ['algry03']\n",
      "During: 2021-08-25 12:35:14.762643 and 2021-08-25 12:55:11.006535\n",
      "Loaded dataframe ./solutions_04/196.results.json\n",
      "Executed on: ['algry01']\n",
      "During: 2021-08-25 14:23:17.599389 and 2021-08-25 14:39:07.487270\n",
      "Loaded dataframe ./solutions_04/93.results.json\n",
      "Executed on: ['algry03']\n",
      "During: 2021-08-25 14:29:04.650807 and 2021-08-25 14:40:08.600042\n",
      "Loaded dataframe ./solutions_04/39.results.json\n",
      "Executed on: ['algry01']\n",
      "During: 2021-08-25 10:54:30.245345 and 2021-08-25 10:58:36.673251\n",
      "Loaded dataframe ./solutions_04/73.results.json\n",
      "Executed on: ['algry01']\n",
      "During: 2021-08-25 10:46:03.649873 and 2021-08-25 10:56:02.545631\n",
      "Loaded dataframe ./solutions_04/91.results.json\n",
      "Executed on: ['algry03']\n",
      "During: 2021-08-25 13:55:14.035033 and 2021-08-25 14:03:14.911923\n",
      "Loaded dataframe ./solutions_04/112.results.json\n",
      "Executed on: ['algry03']\n",
      "During: 2021-08-25 09:00:59.514042 and 2021-08-25 09:06:50.330149\n",
      "Loaded dataframe ./solutions_04/142.results.json\n",
      "Executed on: ['algry01']\n",
      "During: 2021-08-25 14:50:05.096054 and 2021-08-25 14:57:45.269795\n",
      "Loaded dataframe ./solutions_04/110.results.json\n",
      "Executed on: ['algry03']\n",
      "During: 2021-08-25 11:08:38.230439 and 2021-08-25 11:26:27.453288\n",
      "Loaded dataframe ./solutions_04/10.results.json\n",
      "Executed on: ['algry03']\n",
      "During: 2021-08-25 09:23:04.521031 and 2021-08-25 09:30:24.297072\n",
      "Loaded dataframe ./solutions_04/28.results.json\n",
      "Executed on: ['algry03']\n",
      "During: 2021-08-25 13:14:12.436367 and 2021-08-25 13:21:48.215293\n",
      "Loaded dataframe ./solutions_04/37.results.json\n",
      "Executed on: ['algry03']\n",
      "During: 2021-08-25 13:53:32.545571 and 2021-08-25 13:55:33.853799\n",
      "Loaded dataframe ./solutions_04/65.results.json\n",
      "Executed on: ['algry01']\n",
      "During: 2021-08-25 13:42:43.420033 and 2021-08-25 13:46:51.967638\n",
      "Loaded dataframe ./solutions_04/133.results.json\n",
      "Executed on: ['algry01' 'algry03']\n",
      "During: 2021-08-25 11:22:57.151519 and 2021-08-25 11:36:00.979160\n",
      "Loaded dataframe ./solutions_04/77.results.json\n",
      "Executed on: ['algry03']\n",
      "During: 2021-08-25 12:07:43.427549 and 2021-08-25 12:19:49.936570\n",
      "Loaded dataframe ./solutions_04/183.results.json\n",
      "Executed on: ['algry03']\n",
      "During: 2021-08-25 08:44:10.227736 and 2021-08-25 08:49:42.016903\n",
      "Loaded dataframe ./solutions_04/98.results.json\n",
      "Executed on: ['algry03']\n",
      "During: 2021-08-25 12:53:53.853701 and 2021-08-25 13:04:33.894224\n",
      "Loaded dataframe ./solutions_04/128.results.json\n",
      "Executed on: ['algry03']\n",
      "During: 2021-08-25 15:12:51.278392 and 2021-08-25 15:23:37.715134\n",
      "Loaded dataframe ./solutions_04/107.results.json\n",
      "Executed on: ['algry01']\n",
      "During: 2021-08-25 13:38:59.488218 and 2021-08-25 13:42:21.633681\n",
      "Loaded dataframe ./solutions_04/24.results.json\n",
      "Executed on: ['algry03']\n",
      "During: 2021-08-25 09:26:12.524423 and 2021-08-25 09:35:34.628381\n",
      "Loaded dataframe ./solutions_04/166.results.json\n",
      "Executed on: ['algry01' 'algry03']\n",
      "During: 2021-08-25 15:53:10.910406 and 2021-08-25 16:20:29.720021\n",
      "Loaded dataframe ./solutions_04/85.results.json\n",
      "Executed on: ['algry03']\n",
      "During: 2021-08-25 08:45:23.884041 and 2021-08-25 08:47:36.113350\n",
      "Loaded dataframe ./solutions_04/81.results.json\n",
      "Executed on: ['algry01']\n",
      "During: 2021-08-25 14:40:21.218132 and 2021-08-25 14:51:01.039404\n",
      "Loaded dataframe ./solutions_04/90.results.json\n",
      "Executed on: ['algry03']\n",
      "During: 2021-08-25 13:36:51.326517 and 2021-08-25 13:42:13.061077\n",
      "Loaded dataframe ./solutions_04/139.results.json\n",
      "Executed on: ['algry03']\n",
      "During: 2021-08-25 12:45:38.093200 and 2021-08-25 12:52:37.669468\n",
      "Loaded dataframe ./solutions_04/78.results.json\n",
      "Executed on: ['algry03']\n",
      "During: 2021-08-25 16:02:09.964913 and 2021-08-25 16:05:30.283077\n",
      "Loaded dataframe ./solutions_04/165.results.json\n",
      "Executed on: ['algry03']\n",
      "During: 2021-08-25 10:01:43.740296 and 2021-08-25 10:16:08.025063\n",
      "Loaded dataframe ./solutions_04/164.results.json\n",
      "Executed on: ['algry03']\n",
      "During: 2021-08-25 12:56:18.511966 and 2021-08-25 13:05:01.046249\n",
      "Loaded dataframe ./solutions_04/87.results.json\n",
      "Executed on: ['algry03']\n",
      "During: 2021-08-25 15:07:09.260570 and 2021-08-25 15:59:23.134928\n",
      "Loaded dataframe ./solutions_04/116.results.json\n",
      "Executed on: ['algry01']\n",
      "During: 2021-08-25 14:09:33.275212 and 2021-08-25 14:10:33.692008\n",
      "Loaded dataframe ./solutions_04/141.results.json\n",
      "Executed on: ['algry01']\n",
      "During: 2021-08-25 14:52:14.746223 and 2021-08-25 15:04:55.595187\n",
      "Loaded dataframe ./solutions_04/182.results.json\n",
      "Executed on: ['algry01']\n",
      "During: 2021-08-25 14:43:55.351127 and 2021-08-25 14:46:18.901298\n",
      "Loaded dataframe ./solutions_04/60.results.json\n",
      "Executed on: ['algry03']\n",
      "During: 2021-08-25 15:37:01.039825 and 2021-08-25 15:41:58.744549\n",
      "Loaded dataframe ./solutions_04/184.results.json\n",
      "Executed on: ['algry03']\n",
      "During: 2021-08-25 15:59:49.628363 and 2021-08-25 16:04:01.570408\n",
      "Loaded dataframe ./solutions_04/171.results.json\n",
      "Executed on: ['algry03']\n",
      "During: 2021-08-25 15:56:45.407012 and 2021-08-25 16:01:50.696480\n",
      "Loaded dataframe ./solutions_04/100.results.json\n",
      "Executed on: ['algry03']\n",
      "During: 2021-08-25 10:16:42.947450 and 2021-08-25 10:26:47.562067\n",
      "Loaded dataframe ./solutions_04/2.results.json\n",
      "Executed on: ['algry01' 'algry03']\n",
      "During: 2021-08-25 16:21:11.388221 and 2021-08-25 16:42:43.812903\n",
      "Loaded dataframe ./solutions_04/178.results.json\n",
      "Executed on: ['algry03']\n",
      "During: 2021-08-25 11:52:18.382399 and 2021-08-25 11:56:09.516050\n",
      "Loaded dataframe ./solutions_04/69.results.json\n",
      "Executed on: ['algry01']\n",
      "During: 2021-08-25 15:23:51.758633 and 2021-08-25 15:29:13.163730\n",
      "Loaded dataframe ./solutions_04/176.results.json\n",
      "Executed on: ['algry01']\n",
      "During: 2021-08-25 13:04:48.193343 and 2021-08-25 13:08:23.364081\n",
      "Loaded dataframe ./solutions_04/102.results.json\n",
      "Executed on: ['algry03']\n",
      "During: 2021-08-25 14:29:19.021691 and 2021-08-25 14:39:34.332947\n",
      "Loaded dataframe ./solutions_04/67.results.json\n",
      "Executed on: ['algry01']\n",
      "During: 2021-08-25 12:59:59.655714 and 2021-08-25 13:01:27.409668\n",
      "Loaded dataframe ./solutions_04/148.results.json\n",
      "Executed on: ['algry03']\n",
      "During: 2021-08-25 13:08:55.379786 and 2021-08-25 13:13:26.219891\n",
      "Loaded dataframe ./solutions_04/140.results.json\n",
      "Executed on: ['algry01']\n",
      "During: 2021-08-25 13:25:50.811229 and 2021-08-25 13:44:29.835984\n",
      "Loaded dataframe ./solutions_04/151.results.json\n",
      "Executed on: ['algry03']\n",
      "During: 2021-08-25 15:20:32.525414 and 2021-08-25 15:31:36.400235\n",
      "Loaded dataframe ./solutions_04/4.results.json\n",
      "Executed on: ['algry03']\n",
      "During: 2021-08-25 08:43:20.067975 and 2021-08-25 08:45:10.000045\n",
      "Loaded dataframe ./solutions_04/123.results.json\n",
      "Executed on: ['algry01']\n",
      "During: 2021-08-25 10:02:50.566016 and 2021-08-25 10:10:40.419446\n",
      "Loaded dataframe ./solutions_04/157.results.json\n",
      "Executed on: ['algry03']\n",
      "During: 2021-08-25 14:15:53.864775 and 2021-08-25 14:28:24.206083\n",
      "Loaded dataframe ./solutions_04/55.results.json\n",
      "Executed on: ['algry03']\n",
      "During: 2021-08-25 10:28:28.366125 and 2021-08-25 10:32:11.460672\n",
      "Loaded dataframe ./solutions_04/192.results.json\n",
      "Executed on: ['algry01' 'algry03']\n",
      "During: 2021-08-25 16:19:40.685916 and 2021-08-25 16:29:26.837055\n",
      "Loaded dataframe ./solutions_04/195.results.json\n",
      "Executed on: ['algry03']\n",
      "During: 2021-08-25 13:55:51.279732 and 2021-08-25 13:58:39.391288\n",
      "Loaded dataframe ./solutions_04/26.results.json\n",
      "Executed on: ['algry03']\n",
      "During: 2021-08-25 13:36:27.069492 and 2021-08-25 13:47:36.021439\n",
      "Loaded dataframe ./solutions_04/124.results.json\n",
      "Executed on: ['algry01' 'algry03']\n",
      "During: 2021-08-25 15:32:38.391369 and 2021-08-25 15:50:04.959529\n",
      "Loaded dataframe ./solutions_04/198.results.json\n",
      "Executed on: ['algry01']\n",
      "During: 2021-08-25 16:16:37.814756 and 2021-08-25 16:20:01.697935\n",
      "Loaded dataframe ./solutions_04/147.results.json\n",
      "Executed on: ['algry01']\n",
      "During: 2021-08-25 14:05:27.338649 and 2021-08-25 14:16:15.216185\n",
      "Loaded dataframe ./solutions_04/111.results.json\n",
      "Executed on: ['algry03']\n",
      "During: 2021-08-25 10:35:35.260609 and 2021-08-25 10:42:24.567231\n",
      "Loaded dataframe ./solutions_04/162.results.json\n",
      "Executed on: ['algry03']\n",
      "During: 2021-08-25 12:26:09.799887 and 2021-08-25 12:33:10.296080\n",
      "Loaded dataframe ./solutions_04/63.results.json\n",
      "Executed on: ['algry03' 'algry01']\n",
      "During: 2021-08-25 09:59:42.779186 and 2021-08-25 10:14:36.072336\n",
      "Loaded dataframe ./solutions_04/82.results.json\n",
      "Executed on: ['algry01']\n",
      "During: 2021-08-25 15:25:57.379919 and 2021-08-25 15:32:54.413991\n",
      "Loaded dataframe ./solutions_04/150.results.json\n",
      "Executed on: ['algry03']\n",
      "During: 2021-08-25 12:29:20.324493 and 2021-08-25 12:32:10.424544\n",
      "Loaded dataframe ./solutions_04/187.results.json\n",
      "Executed on: ['algry03']\n",
      "During: 2021-08-25 13:18:24.950805 and 2021-08-25 13:30:34.263786\n",
      "Loaded dataframe ./solutions_04/72.results.json\n",
      "Executed on: ['algry03']\n",
      "During: 2021-08-25 13:22:31.880866 and 2021-08-25 13:32:11.638692\n",
      "Loaded dataframe ./solutions_04/31.results.json\n",
      "Executed on: ['algry03']\n",
      "During: 2021-08-25 12:56:25.567671 and 2021-08-25 13:04:55.532069\n",
      "Loaded dataframe ./solutions_04/25.results.json\n",
      "Executed on: ['algry01' 'algry03']\n",
      "During: 2021-08-25 16:19:45.881110 and 2021-08-25 16:30:55.405682\n",
      "Loaded dataframe ./solutions_04/34.results.json\n",
      "Executed on: ['algry01']\n",
      "During: 2021-08-25 13:49:23.979955 and 2021-08-25 14:00:46.642999\n",
      "Loaded dataframe ./solutions_04/108.results.json\n",
      "Executed on: ['algry03']\n",
      "During: 2021-08-25 13:13:51.706185 and 2021-08-25 13:17:32.534709\n",
      "Loaded dataframe ./solutions_04/105.results.json\n",
      "Executed on: ['algry01']\n",
      "During: 2021-08-25 13:12:51.789634 and 2021-08-25 13:24:48.085164\n",
      "Loaded dataframe ./solutions_04/42.results.json\n",
      "Executed on: ['algry01']\n",
      "During: 2021-08-25 12:45:30.889566 and 2021-08-25 13:04:18.973930\n",
      "Loaded dataframe ./solutions_04/155.results.json\n",
      "Executed on: ['algry03']\n",
      "During: 2021-08-25 08:40:47.244622 and 2021-08-25 08:43:06.824213\n",
      "Loaded dataframe ./solutions_04/138.results.json\n",
      "Executed on: ['algry03']\n",
      "During: 2021-08-25 12:20:20.173220 and 2021-08-25 12:25:31.180133\n",
      "Loaded dataframe ./solutions_04/51.results.json\n",
      "Executed on: ['algry03']\n",
      "During: 2021-08-25 09:39:26.036184 and 2021-08-25 09:42:12.349707\n",
      "Loaded dataframe ./solutions_04/95.results.json\n",
      "Executed on: ['algry01']\n",
      "During: 2021-08-25 13:45:21.244440 and 2021-08-25 13:53:46.875850\n",
      "Loaded dataframe ./solutions_04/8.results.json\n",
      "Executed on: ['algry03']\n",
      "During: 2021-08-25 10:13:30.377618 and 2021-08-25 10:26:29.358416\n",
      "Loaded dataframe ./solutions_04/103.results.json\n",
      "Executed on: ['algry03']\n",
      "During: 2021-08-25 08:51:58.589852 and 2021-08-25 09:25:05.784992\n",
      "Loaded dataframe ./solutions_04/43.results.json\n",
      "Executed on: ['algry01' 'algry03']\n",
      "During: 2021-08-25 16:31:02.952330 and 2021-08-25 16:58:11.533382\n",
      "Loaded dataframe ./solutions_04/177.results.json\n",
      "Executed on: ['algry01']\n",
      "During: 2021-08-25 15:07:19.356079 and 2021-08-25 15:25:24.501523\n",
      "Loaded dataframe ./solutions_04/33.results.json\n",
      "Executed on: ['algry03']\n",
      "During: 2021-08-25 10:37:00.986867 and 2021-08-25 10:44:39.238284\n",
      "Loaded dataframe ./solutions_04/15.results.json\n",
      "Executed on: ['algry03']\n",
      "During: 2021-08-25 15:50:42.677774 and 2021-08-25 15:56:15.477260\n",
      "Loaded dataframe ./solutions_04/23.results.json\n",
      "Executed on: ['algry03']\n",
      "During: 2021-08-25 10:42:50.061415 and 2021-08-25 10:47:15.471214\n",
      "Loaded dataframe ./solutions_04/109.results.json\n",
      "Executed on: ['algry01']\n",
      "During: 2021-08-25 10:22:36.482817 and 2021-08-25 10:45:09.666805\n",
      "Loaded dataframe ./solutions_04/89.results.json\n",
      "Executed on: ['algry01']\n",
      "During: 2021-08-25 14:51:31.979358 and 2021-08-25 14:57:26.881143\n",
      "Loaded dataframe ./solutions_04/56.results.json\n",
      "Executed on: ['algry01']\n",
      "During: 2021-08-25 13:08:45.307921 and 2021-08-25 13:12:01.743293\n",
      "Loaded dataframe ./solutions_04/30.results.json\n",
      "Executed on: ['algry03']\n",
      "During: 2021-08-25 09:38:34.881115 and 2021-08-25 10:10:20.417599\n",
      "Loaded dataframe ./solutions_04/117.results.json\n",
      "Executed on: ['algry01']\n",
      "During: 2021-08-25 14:58:26.270627 and 2021-08-25 15:07:31.852095\n",
      "Loaded dataframe ./solutions_04/175.results.json\n",
      "Executed on: ['algry03']\n",
      "During: 2021-08-25 09:43:26.848449 and 2021-08-25 10:00:28.241329\n",
      "Loaded dataframe ./solutions_04/120.results.json\n",
      "Executed on: ['algry03']\n",
      "During: 2021-08-25 08:40:57.171448 and 2021-08-25 08:48:38.013146\n",
      "Loaded dataframe ./solutions_04/20.results.json\n",
      "Executed on: ['algry03']\n",
      "During: 2021-08-25 15:06:26.623263 and 2021-08-25 15:18:42.502384\n",
      "Loaded dataframe ./solutions_04/113.results.json\n",
      "Executed on: ['algry01']\n",
      "During: 2021-08-25 11:29:33.688908 and 2021-08-25 12:09:36.312381\n",
      "Loaded dataframe ./solutions_04/19.results.json\n",
      "Executed on: ['algry03']\n",
      "During: 2021-08-25 16:06:46.634587 and 2021-08-25 16:26:39.457387\n",
      "Loaded dataframe ./solutions_04/106.results.json\n",
      "Executed on: ['algry01' 'algry03']\n",
      "During: 2021-08-25 13:50:18.742747 and 2021-08-25 13:59:11.224298\n",
      "Loaded dataframe ./solutions_04/172.results.json\n",
      "Executed on: ['algry01']\n",
      "During: 2021-08-25 16:12:43.727740 and 2021-08-25 16:19:09.493353\n",
      "Loaded dataframe ./solutions_04/18.results.json\n",
      "Executed on: ['algry01']\n",
      "During: 2021-08-25 10:56:12.087627 and 2021-08-25 10:57:45.050313\n",
      "Loaded dataframe ./solutions_04/27.results.json\n",
      "Executed on: ['algry03']\n",
      "During: 2021-08-25 11:46:10.988316 and 2021-08-25 11:51:49.795068\n",
      "Loaded dataframe ./solutions_04/152.results.json\n",
      "Executed on: ['algry03' 'algry01']\n",
      "During: 2021-08-25 16:14:52.603752 and 2021-08-25 16:34:24.863059\n",
      "Loaded dataframe ./solutions_04/159.results.json\n",
      "Executed on: ['algry03']\n",
      "During: 2021-08-25 11:56:32.991446 and 2021-08-25 12:06:56.896522\n",
      "Loaded dataframe ./solutions_04/190.results.json\n",
      "Executed on: ['algry03']\n",
      "During: 2021-08-25 11:51:23.450817 and 2021-08-25 12:10:30.376293\n"
     ]
    },
    {
     "data": {
      "text/plain": [
       "solver\n",
       "MeshAlgorithm(0.95, full_coverage=False, GridSolver(GridSolverParameter(k=3, r=2, adaptive=True, integralize=0, cc_opt_steps=0, cc_opt_size=50, t_opt_steps=0, t_opt_size=50)))      200\n",
       "MeshAlgorithm(0.95, full_coverage=False, GridSolver(GridSolverParameter(k=3, r=2, adaptive=True, integralize=10, cc_opt_steps=0, cc_opt_size=50, t_opt_steps=0, t_opt_size=50)))     200\n",
       "MeshAlgorithm(0.95, full_coverage=False, GridSolver(GridSolverParameter(k=3, r=2, adaptive=True, integralize=100, cc_opt_steps=0, cc_opt_size=50, t_opt_steps=0, t_opt_size=50)))    200\n",
       "MeshAlgorithm(0.95, full_coverage=False, GridSolver(GridSolverParameter(k=3, r=2, adaptive=True, integralize=200, cc_opt_steps=0, cc_opt_size=50, t_opt_steps=0, t_opt_size=50)))    200\n",
       "MeshAlgorithm(0.95, full_coverage=False, GridSolver(GridSolverParameter(k=3, r=2, adaptive=True, integralize=25, cc_opt_steps=0, cc_opt_size=50, t_opt_steps=0, t_opt_size=50)))     200\n",
       "MeshAlgorithm(0.95, full_coverage=False, GridSolver(GridSolverParameter(k=3, r=2, adaptive=True, integralize=50, cc_opt_steps=0, cc_opt_size=50, t_opt_steps=0, t_opt_size=50)))     200\n",
       "MeshAlgorithm(0.95, full_coverage=False, GridSolver(GridSolverParameter(k=3, r=2, adaptive=True, integralize=500, cc_opt_steps=0, cc_opt_size=50, t_opt_steps=0, t_opt_size=50)))    200\n",
       "Name: instance, dtype: int64"
      ]
     },
     "execution_count": 4,
     "metadata": {},
     "output_type": "execute_result"
    }
   ],
   "source": [
    "tables = []\n",
    "for f in os.listdir(\"./solutions_04\"):\n",
    "    if not f.endswith(\".results.json\"):\n",
    "        continue\n",
    "    f = os.path.join(\"./solutions_04\", f)\n",
    "    tables.append(read_as_pd(f))\n",
    "\n",
    "data = pd.concat(tables, ignore_index=True)\n",
    "data.groupby([\"solver\"])[\"instance\"].nunique()"
   ]
  },
  {
   "cell_type": "code",
   "execution_count": 5,
   "metadata": {
    "collapsed": false,
    "pycharm": {
     "name": "#%%\n"
    }
   },
   "outputs": [
    {
     "data": {
      "text/html": [
       "<div>\n",
       "<style scoped>\n",
       "    .dataframe tbody tr th:only-of-type {\n",
       "        vertical-align: middle;\n",
       "    }\n",
       "\n",
       "    .dataframe tbody tr th {\n",
       "        vertical-align: top;\n",
       "    }\n",
       "\n",
       "    .dataframe thead th {\n",
       "        text-align: right;\n",
       "    }\n",
       "</style>\n",
       "<table border=\"1\" class=\"dataframe\">\n",
       "  <thead>\n",
       "    <tr style=\"text-align: right;\">\n",
       "      <th></th>\n",
       "      <th>solution</th>\n",
       "      <th>coverage</th>\n",
       "      <th>touring_cost</th>\n",
       "      <th>length</th>\n",
       "      <th>integralization</th>\n",
       "      <th>turn_sum</th>\n",
       "      <th>instance</th>\n",
       "      <th>instance_path</th>\n",
       "      <th>runtime</th>\n",
       "      <th>timestamp</th>\n",
       "      <th>hostname</th>\n",
       "      <th>argv</th>\n",
       "      <th>git_revision</th>\n",
       "      <th>cwd</th>\n",
       "      <th>solver</th>\n",
       "      <th>i</th>\n",
       "      <th>turn_factor</th>\n",
       "    </tr>\n",
       "  </thead>\n",
       "  <tbody>\n",
       "  </tbody>\n",
       "</table>\n",
       "</div>"
      ],
      "text/plain": [
       "Empty DataFrame\n",
       "Columns: [solution, coverage, touring_cost, length, integralization, turn_sum, instance, instance_path, runtime, timestamp, hostname, argv, git_revision, cwd, solver, i, turn_factor]\n",
       "Index: []"
      ]
     },
     "execution_count": 5,
     "metadata": {},
     "output_type": "execute_result"
    }
   ],
   "source": [
    "data[data.isna().any(axis=1)]"
   ]
  },
  {
   "cell_type": "code",
   "execution_count": 6,
   "metadata": {
    "collapsed": false,
    "pycharm": {
     "name": "#%%\n"
    }
   },
   "outputs": [
    {
     "data": {
      "text/plain": [
       "solver\n",
       "MeshAlgorithm(0.95, full_coverage=False, GridSolver(GridSolverParameter(k=3, r=2, adaptive=True, integralize=0, cc_opt_steps=0, cc_opt_size=50, t_opt_steps=0, t_opt_size=50)))      200\n",
       "MeshAlgorithm(0.95, full_coverage=False, GridSolver(GridSolverParameter(k=3, r=2, adaptive=True, integralize=10, cc_opt_steps=0, cc_opt_size=50, t_opt_steps=0, t_opt_size=50)))     200\n",
       "MeshAlgorithm(0.95, full_coverage=False, GridSolver(GridSolverParameter(k=3, r=2, adaptive=True, integralize=100, cc_opt_steps=0, cc_opt_size=50, t_opt_steps=0, t_opt_size=50)))    200\n",
       "MeshAlgorithm(0.95, full_coverage=False, GridSolver(GridSolverParameter(k=3, r=2, adaptive=True, integralize=200, cc_opt_steps=0, cc_opt_size=50, t_opt_steps=0, t_opt_size=50)))    200\n",
       "MeshAlgorithm(0.95, full_coverage=False, GridSolver(GridSolverParameter(k=3, r=2, adaptive=True, integralize=25, cc_opt_steps=0, cc_opt_size=50, t_opt_steps=0, t_opt_size=50)))     200\n",
       "MeshAlgorithm(0.95, full_coverage=False, GridSolver(GridSolverParameter(k=3, r=2, adaptive=True, integralize=50, cc_opt_steps=0, cc_opt_size=50, t_opt_steps=0, t_opt_size=50)))     200\n",
       "MeshAlgorithm(0.95, full_coverage=False, GridSolver(GridSolverParameter(k=3, r=2, adaptive=True, integralize=500, cc_opt_steps=0, cc_opt_size=50, t_opt_steps=0, t_opt_size=50)))    200\n",
       "Name: instance, dtype: int64"
      ]
     },
     "execution_count": 6,
     "metadata": {},
     "output_type": "execute_result"
    }
   ],
   "source": [
    "data.dropna(inplace=True)\n",
    "data.drop_duplicates(subset=[\"instance\", \"solver\"], inplace=True)\n",
    "data.groupby([\"solver\"])[\"instance\"].nunique()"
   ]
  },
  {
   "cell_type": "code",
   "execution_count": 7,
   "metadata": {
    "collapsed": false,
    "pycharm": {
     "name": "#%%\n"
    }
   },
   "outputs": [],
   "source": [
    "from pcpptc.instance_converter.dmsh import GmshGrid\n",
    "\n",
    "\n",
    "def rename(s):\n",
    "    names = {\n",
    "        \"RotatingHexagonalAlgorithm(RotatingRegularHexagonal(full_coverage=False, point_based=False, with_boundary=False))\": \"Regular (Partial)\",\n",
    "        \"RotatingHexagonalAlgorithm(RotatingRegularHexagonal(full_coverage=True, point_based=False, with_boundary=False))\": \"Regular (Full)\",\n",
    "        \"RotatingHexagonalAlgorithm(RotatingRegularHexagonal(full_coverage=True, point_based=True, with_boundary=False))\": \"Regular (Full, PB)\",\n",
    "        \"MeshAlgorithm(0.95, full_coverage=False)\": \"Mesh (Partial)\",\n",
    "        \"MeshAlgorithm(0.95, full_coverage=True)\": \"Mesh (Full)\",\n",
    "    }\n",
    "    return names.get(s, s)\n",
    "\n",
    "\n",
    "data[\"solver\"] = data[\"solver\"].apply(rename)"
   ]
  },
  {
   "cell_type": "code",
   "execution_count": 8,
   "metadata": {
    "collapsed": false,
    "pycharm": {
     "name": "#%%\n"
    }
   },
   "outputs": [],
   "source": [
    "data[\"type\"] = data[\"solver\"].apply(lambda s: \"hex\" if \"Hex\" in s else \"square\")\n",
    "data[\"point_based\"] = data[\"solver\"].apply(lambda s: \"pb=True\" in s)"
   ]
  },
  {
   "cell_type": "code",
   "execution_count": 8,
   "metadata": {
    "collapsed": false,
    "pycharm": {
     "name": "#%%\n"
    }
   },
   "outputs": [],
   "source": []
  },
  {
   "cell_type": "code",
   "execution_count": 9,
   "metadata": {
    "collapsed": false,
    "pycharm": {
     "name": "#%%\n"
    }
   },
   "outputs": [],
   "source": [
    "instance_paths = list(data[\"instance_path\"].unique())\n",
    "instances = {f: PolygonInstance.from_json(file_path=f) for f in instance_paths}\n",
    "instance_areas = pd.DataFrame(\n",
    "    data={\"area\": [i.original_area.area for i in instances.values()]},\n",
    "    index=instance_paths,\n",
    ")\n",
    "data = data.merge(instance_areas, left_on=\"instance_path\", right_index=True)\n",
    "\n",
    "\n",
    "def compute_objective(row):\n",
    "    instance = instances[row[\"instance_path\"]]\n",
    "    solution = Solution.from_json(data=row[\"solution\"])\n",
    "    instance: PolygonInstance\n",
    "    return instance.compute_touring_cost(\n",
    "        solution.waypoints\n",
    "    ) + instance.compute_missed_covering_value(solution.waypoints)\n",
    "\n",
    "\n",
    "data[\"Obj\"] = data.apply(compute_objective, axis=1)"
   ]
  },
  {
   "cell_type": "code",
   "execution_count": 10,
   "metadata": {
    "collapsed": false,
    "pycharm": {
     "name": "#%%\n"
    }
   },
   "outputs": [],
   "source": [
    "t_ = data.groupby(\"instance\")[[\"touring_cost\"]].min()\n",
    "data = data.merge(t_, left_on=\"instance\", right_index=True, suffixes=(\"\", \"_min\"))\n",
    "data[\"relative_cost\"] = 100 * ((data[\"touring_cost\"] / data[\"touring_cost_min\"]) - 1)\n",
    "data[\"relative_coverage\"] = 100 * data[\"coverage\"] / data[\"area\"]\n",
    "data[\"type\"] = data[\"solver\"].apply(lambda s: s[0])"
   ]
  },
  {
   "cell_type": "code",
   "execution_count": 11,
   "metadata": {
    "collapsed": false,
    "pycharm": {
     "name": "#%%\n"
    }
   },
   "outputs": [],
   "source": [
    "t_ = data.groupby(\"instance\")[[\"Obj\"]].min()\n",
    "data = data.merge(t_, left_on=\"instance\", right_index=True, suffixes=(\"\", \"_min\"))\n",
    "data[\"relative_obj\"] = 100 * ((data[\"Obj\"] / data[\"Obj_min\"]) - 1)"
   ]
  },
  {
   "cell_type": "code",
   "execution_count": 12,
   "metadata": {
    "collapsed": false,
    "pycharm": {
     "name": "#%%\n"
    }
   },
   "outputs": [],
   "source": [
    "data.sort_values([\"solver\"], inplace=True, ascending=True)\n",
    "data.sort_values([\"type\"], inplace=True, ascending=True, kind=\"stable\")"
   ]
  },
  {
   "cell_type": "code",
   "execution_count": 25,
   "metadata": {
    "collapsed": false,
    "pycharm": {
     "name": "#%%\n"
    }
   },
   "outputs": [
    {
     "data": {
      "image/png": "[encoded data removed]",
      "text/plain": [
       "<Figure size 252x252 with 1 Axes>"
      ]
     },
     "metadata": {},
     "output_type": "display_data"
    }
   ],
   "source": [
    "# data = data[data[\"relative_cost\"]<=1000]\n",
    "\n",
    "plt.figure(figsize=(3.5, 3.5))\n",
    "sns.boxplot(data=data, x=\"integralization\", y=\"relative_obj\", orient=\"v\")\n",
    "plt.ylabel(\"Objective (% above best)\")\n",
    "plt.xlabel(\"Integralization steps\")\n",
    "plt.tight_layout()\n",
    "plt.savefig(\"05_obj_integralizatio_steps.pdf\")\n",
    "plt.show()"
   ]
  },
  {
   "cell_type": "code",
   "execution_count": 24,
   "metadata": {
    "collapsed": false,
    "pycharm": {
     "name": "#%%\n"
    }
   },
   "outputs": [
    {
     "data": {
      "text/html": [
       "<div>\n",
       "<style scoped>\n",
       "    .dataframe tbody tr th:only-of-type {\n",
       "        vertical-align: middle;\n",
       "    }\n",
       "\n",
       "    .dataframe tbody tr th {\n",
       "        vertical-align: top;\n",
       "    }\n",
       "\n",
       "    .dataframe thead th {\n",
       "        text-align: right;\n",
       "    }\n",
       "</style>\n",
       "<table border=\"1\" class=\"dataframe\">\n",
       "  <thead>\n",
       "    <tr style=\"text-align: right;\">\n",
       "      <th></th>\n",
       "      <th>relative_obj</th>\n",
       "      <th>relative_cost</th>\n",
       "      <th>relative_coverage</th>\n",
       "    </tr>\n",
       "    <tr>\n",
       "      <th>integralization</th>\n",
       "      <th></th>\n",
       "      <th></th>\n",
       "      <th></th>\n",
       "    </tr>\n",
       "  </thead>\n",
       "  <tbody>\n",
       "    <tr>\n",
       "      <th>0</th>\n",
       "      <td>2.345005</td>\n",
       "      <td>4.506922</td>\n",
       "      <td>66.369099</td>\n",
       "    </tr>\n",
       "    <tr>\n",
       "      <th>10</th>\n",
       "      <td>2.159023</td>\n",
       "      <td>4.319552</td>\n",
       "      <td>66.410327</td>\n",
       "    </tr>\n",
       "    <tr>\n",
       "      <th>25</th>\n",
       "      <td>2.296709</td>\n",
       "      <td>4.429663</td>\n",
       "      <td>66.417516</td>\n",
       "    </tr>\n",
       "    <tr>\n",
       "      <th>50</th>\n",
       "      <td>1.906367</td>\n",
       "      <td>3.769903</td>\n",
       "      <td>66.402601</td>\n",
       "    </tr>\n",
       "    <tr>\n",
       "      <th>100</th>\n",
       "      <td>2.089756</td>\n",
       "      <td>4.224425</td>\n",
       "      <td>66.449603</td>\n",
       "    </tr>\n",
       "    <tr>\n",
       "      <th>200</th>\n",
       "      <td>1.848726</td>\n",
       "      <td>3.732684</td>\n",
       "      <td>66.437465</td>\n",
       "    </tr>\n",
       "    <tr>\n",
       "      <th>500</th>\n",
       "      <td>1.747480</td>\n",
       "      <td>3.568879</td>\n",
       "      <td>66.520314</td>\n",
       "    </tr>\n",
       "  </tbody>\n",
       "</table>\n",
       "</div>"
      ],
      "text/plain": [
       "                 relative_obj  relative_cost  relative_coverage\n",
       "integralization                                                \n",
       "0                    2.345005       4.506922          66.369099\n",
       "10                   2.159023       4.319552          66.410327\n",
       "25                   2.296709       4.429663          66.417516\n",
       "50                   1.906367       3.769903          66.402601\n",
       "100                  2.089756       4.224425          66.449603\n",
       "200                  1.848726       3.732684          66.437465\n",
       "500                  1.747480       3.568879          66.520314"
      ]
     },
     "execution_count": 24,
     "metadata": {},
     "output_type": "execute_result"
    }
   ],
   "source": [
    "data.groupby([\"integralization\"])[\n",
    "    [\"relative_obj\", \"relative_cost\", \"relative_coverage\"]\n",
    "].mean()"
   ]
  },
  {
   "cell_type": "code",
   "execution_count": 15,
   "metadata": {
    "collapsed": false,
    "pycharm": {
     "name": "#%%\n"
    }
   },
   "outputs": [
    {
     "data": {
      "image/png": "[encoded data removed]",
      "text/plain": [
       "<Figure size 252x252 with 1 Axes>"
      ]
     },
     "metadata": {},
     "output_type": "display_data"
    }
   ],
   "source": [
    "# data = data[data[\"relative_cost\"]<=1000]\n",
    "\n",
    "plt.figure(figsize=(3.5, 3.5))\n",
    "sns.boxplot(data=data, x=\"integralization\", y=\"relative_cost\", orient=\"v\")\n",
    "plt.ylabel(\"Cost (% above cheapest)\")\n",
    "plt.xlabel(\"Meshing Algorithm\")\n",
    "plt.tight_layout()\n",
    "plt.show()"
   ]
  },
  {
   "cell_type": "code",
   "execution_count": 16,
   "metadata": {
    "collapsed": false,
    "pycharm": {
     "name": "#%%\n"
    }
   },
   "outputs": [
    {
     "data": {
      "image/png": "[encoded data removed]",
      "text/plain": [
       "<Figure size 360x360 with 1 Axes>"
      ]
     },
     "metadata": {},
     "output_type": "display_data"
    }
   ],
   "source": [
    "plt.figure(figsize=(5, 5))\n",
    "sns.boxplot(\n",
    "    data=data, y=\"integralization\", x=\"relative_cost\", orient=\"h\", hue=\"turn_factor\"\n",
    ")\n",
    "plt.xlabel(\"Cost (% above cheapest)\")\n",
    "plt.ylabel(\"Meshing Algorithm\")\n",
    "plt.legend(title=\"Turn Cost\")\n",
    "plt.tight_layout()\n",
    "plt.show()"
   ]
  },
  {
   "cell_type": "code",
   "execution_count": 17,
   "metadata": {
    "collapsed": false,
    "pycharm": {
     "name": "#%%\n"
    }
   },
   "outputs": [
    {
     "data": {
      "image/png": "[encoded data removed]",
      "text/plain": [
       "<Figure size 252x252 with 1 Axes>"
      ]
     },
     "metadata": {},
     "output_type": "display_data"
    }
   ],
   "source": [
    "plt.figure(figsize=(3.5, 3.5))\n",
    "sns.boxplot(data=data, x=\"integralization\", y=\"relative_coverage\", orient=\"v\")\n",
    "plt.ylabel(\"Coverage (%)\")\n",
    "plt.xlabel(\"Meshing Algorithm\")\n",
    "\n",
    "plt.tight_layout()\n",
    "plt.show()"
   ]
  },
  {
   "cell_type": "code",
   "execution_count": 18,
   "metadata": {
    "collapsed": false,
    "pycharm": {
     "name": "#%%\n"
    }
   },
   "outputs": [
    {
     "data": {
      "text/plain": [
       "solver\n",
       "MeshAlgorithm(0.95, full_coverage=False, GridSolver(GridSolverParameter(k=3, r=2, adaptive=True, integralize=0, cc_opt_steps=0, cc_opt_size=50, t_opt_steps=0, t_opt_size=50)))      200\n",
       "MeshAlgorithm(0.95, full_coverage=False, GridSolver(GridSolverParameter(k=3, r=2, adaptive=True, integralize=10, cc_opt_steps=0, cc_opt_size=50, t_opt_steps=0, t_opt_size=50)))     200\n",
       "MeshAlgorithm(0.95, full_coverage=False, GridSolver(GridSolverParameter(k=3, r=2, adaptive=True, integralize=100, cc_opt_steps=0, cc_opt_size=50, t_opt_steps=0, t_opt_size=50)))    200\n",
       "MeshAlgorithm(0.95, full_coverage=False, GridSolver(GridSolverParameter(k=3, r=2, adaptive=True, integralize=200, cc_opt_steps=0, cc_opt_size=50, t_opt_steps=0, t_opt_size=50)))    200\n",
       "MeshAlgorithm(0.95, full_coverage=False, GridSolver(GridSolverParameter(k=3, r=2, adaptive=True, integralize=25, cc_opt_steps=0, cc_opt_size=50, t_opt_steps=0, t_opt_size=50)))     200\n",
       "MeshAlgorithm(0.95, full_coverage=False, GridSolver(GridSolverParameter(k=3, r=2, adaptive=True, integralize=50, cc_opt_steps=0, cc_opt_size=50, t_opt_steps=0, t_opt_size=50)))     200\n",
       "MeshAlgorithm(0.95, full_coverage=False, GridSolver(GridSolverParameter(k=3, r=2, adaptive=True, integralize=500, cc_opt_steps=0, cc_opt_size=50, t_opt_steps=0, t_opt_size=50)))    200\n",
       "Name: instance, dtype: int64"
      ]
     },
     "execution_count": 18,
     "metadata": {},
     "output_type": "execute_result"
    }
   ],
   "source": [
    "t_ = data.dropna()\n",
    "t_ = t_.groupby([\"solver\"])[\"instance\"].nunique()\n",
    "t_"
   ]
  },
  {
   "cell_type": "code",
   "execution_count": 19,
   "metadata": {
    "collapsed": false,
    "pycharm": {
     "name": "#%%\n"
    }
   },
   "outputs": [
    {
     "name": "stdout",
     "output_type": "stream",
     "text": [
      "MeshAlgorithm(0.95, full_coverage=False, GridSolver(GridSolverParameter(k=3, r=2, adaptive=True, integralize=0, cc_opt_steps=0, cc_opt_size=50, t_opt_steps=0, t_opt_size=50))) & 60.1 \\\\\n",
      "MeshAlgorithm(0.95, full_coverage=False, GridSolver(GridSolverParameter(k=3, r=2, adaptive=True, integralize=10, cc_opt_steps=0, cc_opt_size=50, t_opt_steps=0, t_opt_size=50))) & 63.1 \\\\\n",
      "MeshAlgorithm(0.95, full_coverage=False, GridSolver(GridSolverParameter(k=3, r=2, adaptive=True, integralize=100, cc_opt_steps=0, cc_opt_size=50, t_opt_steps=0, t_opt_size=50))) & 92.1 \\\\\n",
      "MeshAlgorithm(0.95, full_coverage=False, GridSolver(GridSolverParameter(k=3, r=2, adaptive=True, integralize=200, cc_opt_steps=0, cc_opt_size=50, t_opt_steps=0, t_opt_size=50))) & 124.5 \\\\\n",
      "MeshAlgorithm(0.95, full_coverage=False, GridSolver(GridSolverParameter(k=3, r=2, adaptive=True, integralize=25, cc_opt_steps=0, cc_opt_size=50, t_opt_steps=0, t_opt_size=50))) & 67.4 \\\\\n",
      "MeshAlgorithm(0.95, full_coverage=False, GridSolver(GridSolverParameter(k=3, r=2, adaptive=True, integralize=50, cc_opt_steps=0, cc_opt_size=50, t_opt_steps=0, t_opt_size=50))) & 75.5 \\\\\n",
      "MeshAlgorithm(0.95, full_coverage=False, GridSolver(GridSolverParameter(k=3, r=2, adaptive=True, integralize=500, cc_opt_steps=0, cc_opt_size=50, t_opt_steps=0, t_opt_size=50))) & 223.2 \\\\\n"
     ]
    }
   ],
   "source": [
    "t = data.groupby([\"solver\"])[\"runtime\"].mean().reset_index()\n",
    "t[\"solver\"] = t[\"solver\"].apply(lambda s: s.replace(\"□\", \"$\\\\square$\"))\n",
    "t[\"solver\"] = t[\"solver\"].apply(lambda s: s.replace(\"△\", \"$\\\\Delta$\"))\n",
    "t[\"solver\"] = t[\"solver\"].apply(lambda s: s.replace(\"%\", \"\\\\%\"))\n",
    "for i, t in t.iterrows():\n",
    "    print(t[\"solver\"], \"&\", round(t[\"runtime\"], 1), \"\\\\\\\\\")"
   ]
  },
  {
   "cell_type": "code",
   "execution_count": 20,
   "metadata": {
    "collapsed": false,
    "pycharm": {
     "name": "#%%\n"
    }
   },
   "outputs": [
    {
     "data": {
      "image/png": "[encoded data removed]",
      "text/plain": [
       "<Figure size 252x252 with 1 Axes>"
      ]
     },
     "metadata": {},
     "output_type": "display_data"
    }
   ],
   "source": [
    "from _utils import convert_to_percentage_interval\n",
    "\n",
    "t = convert_to_percentage_interval(\n",
    "    table=data[\n",
    "        [\n",
    "            \"area\",\n",
    "            \"relative_cost\",\n",
    "            \"solver\",\n",
    "            \"instance\",\n",
    "            \"relative_coverage\",\n",
    "            \"integralization\",\n",
    "            \"relative_obj\",\n",
    "        ]\n",
    "    ],\n",
    "    on_column=\"area\",\n",
    "    percentage=5,\n",
    ")\n",
    "plt.figure(figsize=(3.5, 3.5))\n",
    "sns.lineplot(data=t, x=\"area\", y=\"relative_cost\", hue=\"integralization\")\n",
    "plt.ylabel(\"Cost (\\% above cheapest)\")\n",
    "plt.xlabel(\"Area ($\\pm 10\\%$)\")\n",
    "plt.tight_layout()\n",
    "plt.show()"
   ]
  },
  {
   "cell_type": "code",
   "execution_count": 21,
   "metadata": {
    "collapsed": false,
    "pycharm": {
     "name": "#%%\n"
    }
   },
   "outputs": [
    {
     "data": {
      "image/png": "[encoded data removed]",
      "text/plain": [
       "<Figure size 252x252 with 1 Axes>"
      ]
     },
     "metadata": {},
     "output_type": "display_data"
    }
   ],
   "source": [
    "plt.figure(figsize=(3.5, 3.5))\n",
    "sns.lineplot(data=t, x=\"area\", y=\"relative_coverage\", hue=\"integralization\")\n",
    "plt.ylabel(\"Coverage (\\%)\")\n",
    "plt.xlabel(\"Area ($\\pm 10\\%$)\")\n",
    "plt.tight_layout()\n",
    "plt.show()"
   ]
  },
  {
   "cell_type": "code",
   "execution_count": 22,
   "metadata": {
    "collapsed": false,
    "pycharm": {
     "name": "#%%\n"
    }
   },
   "outputs": [
    {
     "data": {
      "image/png": "[encoded data removed]",
      "text/plain": [
       "<Figure size 252x252 with 1 Axes>"
      ]
     },
     "metadata": {},
     "output_type": "display_data"
    }
   ],
   "source": [
    "plt.figure(figsize=(3.5, 3.5))\n",
    "sns.lineplot(data=t, x=\"area\", y=\"relative_obj\", hue=\"integralization\")\n",
    "plt.ylabel(\"Coverage (\\%)\")\n",
    "plt.xlabel(\"Area ($\\pm 10\\%$)\")\n",
    "plt.tight_layout()\n",
    "plt.show()"
   ]
  }
 ],
 "metadata": {
  "kernelspec": {
   "display_name": "Python 3",
   "language": "python",
   "name": "python3"
  },
  "language_info": {
   "codemirror_mode": {
    "name": "ipython",
    "version": 2
   },
   "file_extension": ".py",
   "mimetype": "text/x-python",
   "name": "python",
   "nbconvert_exporter": "python",
   "pygments_lexer": "ipython2",
   "version": "2.7.6"
  }
 },
 "nbformat": 4,
 "nbformat_minor": 0
}
