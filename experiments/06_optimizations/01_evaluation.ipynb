{
 "cells": [
  {
   "cell_type": "markdown",
   "metadata": {
    "collapsed": false,
    "pycharm": {
     "name": "#%% md\n"
    }
   },
   "source": [
    "# How large is the influence of the integralization optimization?\n",
    "\n",
    "It barely has an influence on the solution quality but it improves our lower\n",
    "bound on the graph instance over 1% for 200 steps. Considering that\n",
    "the optimality gap is around 10-20%, this closes the optimality gap\n",
    "by around 5-10%."
   ]
  },
  {
   "cell_type": "code",
   "execution_count": 1,
   "metadata": {
    "collapsed": true
   },
   "outputs": [],
   "source": [
    "\n",
    "import os\n",
    "import pandas as pd\n",
    "import seaborn as sns\n",
    "import matplotlib.pyplot as plt\n",
    "\n",
    "sns.set_theme()\n",
    "from _utils import quick_plot_setup\n",
    "\n",
    "quick_plot_setup(use_tex=False)"
   ]
  },
  {
   "cell_type": "code",
   "execution_count": 2,
   "metadata": {
    "collapsed": false,
    "pycharm": {
     "name": "#%%\n"
    }
   },
   "outputs": [
    {
     "name": "stdout",
     "output_type": "stream",
     "text": [
      "Solver 0:  integralize=0 with 500 entries\n",
      "Solver 1:  integralize=10 with 500 entries\n",
      "Solver 2:  integralize=25 with 500 entries\n",
      "Solver 3:  integralize=50 with 500 entries\n",
      "Solver 4:  integralize=100 with 500 entries\n",
      "Solver 5:  integralize=200 with 500 entries\n"
     ]
    }
   ],
   "source": [
    "data = pd.read_json(\"./00c_prepared_data.json\")\n",
    "from utils import show_solver_diffs\n",
    "\n",
    "show_solver_diffs(data)"
   ]
  },
  {
   "cell_type": "markdown",
   "metadata": {
    "collapsed": false,
    "pycharm": {
     "name": "#%% md\n"
    }
   },
   "source": [
    "# Data\n",
    "\n",
    "* `solution` Solution as json string. Read with `Solution.from_json(data=row[\"solution\"])`.\n",
    "* `Obj` The objective value computed in the polygon instance.\n",
    "* `relative_obj` The objective value divided by the minimal objective value for this instance.\n",
    "* `integralization` The number of integralization steps.\n",
    "* `instance`, `instance_path` the instance, path to the instance file.\n",
    "* `grid_lb` the value of the fractional solution.\n",
    "* `grid_obj` the objective of the solution in the grid (the coverage value can differ from the polygon objective `Obj`)"
   ]
  },
  {
   "cell_type": "code",
   "execution_count": 3,
   "metadata": {
    "collapsed": false,
    "pycharm": {
     "name": "#%%\n"
    }
   },
   "outputs": [],
   "source": []
  },
  {
   "cell_type": "code",
   "execution_count": 4,
   "metadata": {
    "collapsed": false,
    "pycharm": {
     "name": "#%%\n"
    }
   },
   "outputs": [],
   "source": [
    "relaxation = data[data[\"integralization\"] == 0][[\"instance\", \"grid_lb\"]]\n",
    "relaxation.drop_duplicates([\"instance\"], inplace=True)\n",
    "relaxation.rename(columns={\"grid_lb\": \"relaxation\"}, inplace=True)\n",
    "data = data.merge(right=relaxation, left_on=\"instance\", right_on=\"instance\")"
   ]
  },
  {
   "cell_type": "code",
   "execution_count": 5,
   "metadata": {
    "collapsed": false,
    "pycharm": {
     "name": "#%%\n"
    }
   },
   "outputs": [],
   "source": [
    "data[\"relaxation_improvement\"] = (data[\"grid_lb\"] / data[\"relaxation\"] - 1) * 100"
   ]
  },
  {
   "cell_type": "markdown",
   "metadata": {
    "collapsed": false,
    "pycharm": {
     "name": "#%% md\n"
    }
   },
   "source": [
    "## How much does the value of the relaxation increase by integralization steps?\n",
    "\n",
    "Every percent decreases the integrality gap. Higher is better.\n",
    "\n",
    "It shows a postive effect here. Unfortunately, it does not carry over\n",
    "to the actual solutions. It primarily improves our lower bound but not\n",
    "our upper bound (see next plot).\n",
    "\n",
    "We have a logarithmic improvement of the relaxation.\n",
    "This was to be expected due to the branch and bound tree."
   ]
  },
  {
   "cell_type": "code",
   "execution_count": 6,
   "metadata": {
    "collapsed": false,
    "pycharm": {
     "name": "#%%\n"
    }
   },
   "outputs": [
    {
     "name": "stderr",
     "output_type": "stream",
     "text": [
      "findfont: Font family ['serif'] not found. Falling back to DejaVu Sans.\n",
      "findfont: Font family ['serif'] not found. Falling back to DejaVu Sans.\n"
     ]
    },
    {
     "data": {
      "image/png": "[encoded data removed]",
      "text/plain": [
       "<Figure size 252x252 with 1 Axes>"
      ]
     },
     "metadata": {},
     "output_type": "display_data"
    }
   ],
   "source": [
    "plt.figure(figsize=(3.5, 3.5))\n",
    "plt.title(\"Higher is better\")\n",
    "sns.barplot(\n",
    "    data=data[data[\"integralization\"] != 0],\n",
    "    x=\"integralization\",\n",
    "    y=\"relaxation_improvement\",\n",
    ")\n",
    "plt.ylabel(\"Increase of relaxation (%)\")\n",
    "plt.xlabel(\"Integralization steps\")\n",
    "plt.tight_layout()\n",
    "plt.savefig(\"./01c_relaxation_improvement.pdf\")\n",
    "plt.show()"
   ]
  },
  {
   "cell_type": "markdown",
   "metadata": {
    "collapsed": false,
    "pycharm": {
     "name": "#%% md\n"
    }
   },
   "source": [
    "## By how much percent does the objective get improved?\n",
    "\n",
    "Unfortunately, barely.\n"
   ]
  },
  {
   "cell_type": "markdown",
   "metadata": {
    "collapsed": false,
    "pycharm": {
     "name": "#%% md\n"
    }
   },
   "source": [
    "### In the graph objectivve"
   ]
  },
  {
   "cell_type": "code",
   "execution_count": 7,
   "metadata": {
    "collapsed": false,
    "pycharm": {
     "name": "#%%\n"
    }
   },
   "outputs": [],
   "source": [
    "grid_solution_without = data[data[\"integralization\"] == 0][[\"instance\", \"grid_obj\"]]\n",
    "grid_solution_without.rename(columns={\"grid_obj\": \"grid_obj_without\"}, inplace=True)\n",
    "data = data.merge(right=grid_solution_without, left_on=\"instance\", right_on=\"instance\")\n",
    "data[\"graph_obj_reduction\"] = 100 * (data[\"grid_obj\"] / data[\"grid_obj_without\"] - 1)"
   ]
  },
  {
   "cell_type": "code",
   "execution_count": 8,
   "metadata": {
    "collapsed": false,
    "pycharm": {
     "name": "#%%\n"
    }
   },
   "outputs": [
    {
     "data": {
      "text/plain": [
       "integralization\n",
       "0      0.000000\n",
       "10     0.001271\n",
       "25     0.114917\n",
       "50    -0.011665\n",
       "100   -0.003516\n",
       "200    0.076452\n",
       "Name: graph_obj_reduction, dtype: float64"
      ]
     },
     "execution_count": 8,
     "metadata": {},
     "output_type": "execute_result"
    }
   ],
   "source": [
    "data.groupby(\"integralization\")[\"graph_obj_reduction\"].mean()"
   ]
  },
  {
   "cell_type": "code",
   "execution_count": 9,
   "metadata": {
    "collapsed": false,
    "pycharm": {
     "name": "#%%\n"
    }
   },
   "outputs": [
    {
     "data": {
      "image/png": "[encoded data removed]",
      "text/plain": [
       "<Figure size 252x252 with 1 Axes>"
      ]
     },
     "metadata": {},
     "output_type": "display_data"
    }
   ],
   "source": [
    "plt.figure(figsize=(3.5, 3.5))\n",
    "plt.title(\"Lower is better\")\n",
    "sns.boxplot(\n",
    "    data=data[data[\"integralization\"] != 0],\n",
    "    x=\"integralization\",\n",
    "    y=\"graph_obj_reduction\",\n",
    ")\n",
    "plt.ylabel(\"Change of G-Obj. (%)\")\n",
    "plt.xlabel(\"Integralization steps\")\n",
    "plt.tight_layout()\n",
    "plt.savefig(\"01c_change_of_gobj.pdf\")\n",
    "plt.show()"
   ]
  },
  {
   "cell_type": "code",
   "execution_count": 10,
   "metadata": {
    "collapsed": false,
    "pycharm": {
     "name": "#%%\n"
    }
   },
   "outputs": [],
   "source": [
    "data[\"gopt_gap\"] = (data[\"grid_obj\"] / data[\"grid_lb\"] - 1) * 100"
   ]
  },
  {
   "cell_type": "markdown",
   "metadata": {
    "collapsed": false,
    "pycharm": {
     "name": "#%% md\n"
    }
   },
   "source": [
    "Warning! The following plot only shows an improvement because\n",
    "the lower bound is better. Not because the upper bound is better."
   ]
  },
  {
   "cell_type": "code",
   "execution_count": 11,
   "metadata": {
    "collapsed": false,
    "pycharm": {
     "name": "#%%\n"
    }
   },
   "outputs": [
    {
     "data": {
      "image/png": "[encoded data removed]",
      "text/plain": [
       "<Figure size 252x252 with 1 Axes>"
      ]
     },
     "metadata": {},
     "output_type": "display_data"
    }
   ],
   "source": [
    "plt.figure(figsize=(3.5, 3.5))\n",
    "plt.title(\"Lower is better\")\n",
    "sns.barplot(data=data, x=\"integralization\", y=\"gopt_gap\")\n",
    "plt.ylabel(\"G-Obj. (% above lower bound)\")\n",
    "plt.xlabel(\"Integralization steps\")\n",
    "plt.tight_layout()\n",
    "plt.savefig(\"01b_gobj_above_lb.pdf\")\n",
    "plt.show()"
   ]
  },
  {
   "cell_type": "markdown",
   "metadata": {
    "collapsed": false,
    "pycharm": {
     "name": "#%% md\n"
    }
   },
   "source": [
    "### In the polygon objective"
   ]
  },
  {
   "cell_type": "code",
   "execution_count": 12,
   "metadata": {
    "collapsed": false,
    "pycharm": {
     "name": "#%%\n"
    }
   },
   "outputs": [],
   "source": [
    "solution_without = data[data[\"integralization\"] == 0][[\"instance\", \"Obj\"]]\n",
    "solution_without.rename(columns={\"Obj\": \"obj_without\"}, inplace=True)\n",
    "data = data.merge(right=solution_without, left_on=\"instance\", right_on=\"instance\")\n",
    "data[\"obj_reduction\"] = 100 * (data[\"Obj\"] / data[\"obj_without\"] - 1)"
   ]
  },
  {
   "cell_type": "code",
   "execution_count": 13,
   "metadata": {
    "collapsed": false,
    "pycharm": {
     "name": "#%%\n"
    }
   },
   "outputs": [
    {
     "data": {
      "text/plain": [
       "integralization\n",
       "0      0.000000\n",
       "10     0.074176\n",
       "25     0.258684\n",
       "50     0.172494\n",
       "100    0.175442\n",
       "200    0.171547\n",
       "Name: obj_reduction, dtype: float64"
      ]
     },
     "execution_count": 13,
     "metadata": {},
     "output_type": "execute_result"
    }
   ],
   "source": [
    "data.groupby(\"integralization\")[\"obj_reduction\"].mean()"
   ]
  },
  {
   "cell_type": "code",
   "execution_count": 14,
   "metadata": {
    "collapsed": false,
    "pycharm": {
     "name": "#%%\n"
    }
   },
   "outputs": [
    {
     "data": {
      "image/png": "[encoded data removed]",
      "text/plain": [
       "<Figure size 252x252 with 1 Axes>"
      ]
     },
     "metadata": {},
     "output_type": "display_data"
    }
   ],
   "source": [
    "plt.figure(figsize=(3.5, 3.5))\n",
    "plt.title(\"Lower is better\")\n",
    "sns.boxplot(\n",
    "    data=data[data[\"integralization\"] != 0], x=\"integralization\", y=\"obj_reduction\"\n",
    ")\n",
    "plt.ylabel(\"Change of P-Obj. (%)\")\n",
    "plt.xlabel(\"Integralization steps\")\n",
    "plt.tight_layout()\n",
    "plt.savefig(\"01d_change_of_pobj.pdf\")\n",
    "plt.show()"
   ]
  },
  {
   "cell_type": "markdown",
   "metadata": {
    "collapsed": false
   },
   "source": [
    "## Old plots"
   ]
  },
  {
   "cell_type": "code",
   "execution_count": 15,
   "metadata": {
    "collapsed": false,
    "pycharm": {
     "name": "#%%\n"
    }
   },
   "outputs": [],
   "source": [
    "data.sort_values([\"solver\"], inplace=True, ascending=True)\n",
    "data.sort_values([\"type\"], inplace=True, ascending=True, kind=\"stable\")"
   ]
  },
  {
   "cell_type": "code",
   "execution_count": 16,
   "metadata": {
    "collapsed": false,
    "pycharm": {
     "name": "#%%\n"
    }
   },
   "outputs": [
    {
     "data": {
      "image/png": "[encoded data removed]",
      "text/plain": [
       "<Figure size 252x252 with 1 Axes>"
      ]
     },
     "metadata": {},
     "output_type": "display_data"
    }
   ],
   "source": [
    "# data = data[data[\"relative_cost\"]<=1000]\n",
    "\n",
    "plt.figure(figsize=(3.5, 3.5))\n",
    "sns.boxplot(data=data, x=\"integralization\", y=\"relative_obj\", orient=\"v\")\n",
    "plt.ylabel(\"Objective (% above best)\")\n",
    "plt.xlabel(\"Integralization steps\")\n",
    "plt.tight_layout()\n",
    "plt.show()"
   ]
  },
  {
   "cell_type": "code",
   "execution_count": 17,
   "metadata": {
    "collapsed": false,
    "pycharm": {
     "name": "#%%\n"
    }
   },
   "outputs": [
    {
     "data": {
      "text/html": [
       "<div>\n",
       "<style scoped>\n",
       "    .dataframe tbody tr th:only-of-type {\n",
       "        vertical-align: middle;\n",
       "    }\n",
       "\n",
       "    .dataframe tbody tr th {\n",
       "        vertical-align: top;\n",
       "    }\n",
       "\n",
       "    .dataframe thead th {\n",
       "        text-align: right;\n",
       "    }\n",
       "</style>\n",
       "<table border=\"1\" class=\"dataframe\">\n",
       "  <thead>\n",
       "    <tr style=\"text-align: right;\">\n",
       "      <th></th>\n",
       "      <th>relative_obj</th>\n",
       "      <th>relative_cost</th>\n",
       "      <th>relative_coverage</th>\n",
       "    </tr>\n",
       "    <tr>\n",
       "      <th>integralization</th>\n",
       "      <th></th>\n",
       "      <th></th>\n",
       "      <th></th>\n",
       "    </tr>\n",
       "  </thead>\n",
       "  <tbody>\n",
       "    <tr>\n",
       "      <th>0</th>\n",
       "      <td>1.117292</td>\n",
       "      <td>2.994831</td>\n",
       "      <td>63.661272</td>\n",
       "    </tr>\n",
       "    <tr>\n",
       "      <th>10</th>\n",
       "      <td>1.178983</td>\n",
       "      <td>2.918193</td>\n",
       "      <td>63.713251</td>\n",
       "    </tr>\n",
       "    <tr>\n",
       "      <th>25</th>\n",
       "      <td>1.366096</td>\n",
       "      <td>2.885762</td>\n",
       "      <td>63.726301</td>\n",
       "    </tr>\n",
       "    <tr>\n",
       "      <th>50</th>\n",
       "      <td>1.278631</td>\n",
       "      <td>2.819786</td>\n",
       "      <td>63.696170</td>\n",
       "    </tr>\n",
       "    <tr>\n",
       "      <th>100</th>\n",
       "      <td>1.281823</td>\n",
       "      <td>2.868742</td>\n",
       "      <td>63.705354</td>\n",
       "    </tr>\n",
       "    <tr>\n",
       "      <th>200</th>\n",
       "      <td>1.276477</td>\n",
       "      <td>3.050116</td>\n",
       "      <td>63.797182</td>\n",
       "    </tr>\n",
       "  </tbody>\n",
       "</table>\n",
       "</div>"
      ],
      "text/plain": [
       "                 relative_obj  relative_cost  relative_coverage\n",
       "integralization                                                \n",
       "0                    1.117292       2.994831          63.661272\n",
       "10                   1.178983       2.918193          63.713251\n",
       "25                   1.366096       2.885762          63.726301\n",
       "50                   1.278631       2.819786          63.696170\n",
       "100                  1.281823       2.868742          63.705354\n",
       "200                  1.276477       3.050116          63.797182"
      ]
     },
     "execution_count": 17,
     "metadata": {},
     "output_type": "execute_result"
    }
   ],
   "source": [
    "data.groupby([\"integralization\"])[\n",
    "    [\"relative_obj\", \"relative_cost\", \"relative_coverage\"]\n",
    "].mean()"
   ]
  },
  {
   "cell_type": "code",
   "execution_count": 18,
   "metadata": {
    "collapsed": false,
    "pycharm": {
     "name": "#%%\n"
    }
   },
   "outputs": [
    {
     "data": {
      "image/png": "[encoded data removed]",
      "text/plain": [
       "<Figure size 252x252 with 1 Axes>"
      ]
     },
     "metadata": {},
     "output_type": "display_data"
    }
   ],
   "source": [
    "# data = data[data[\"relative_cost\"]<=1000]\n",
    "\n",
    "plt.figure(figsize=(3.5, 3.5))\n",
    "sns.boxplot(data=data, x=\"integralization\", y=\"relative_cost\", orient=\"v\")\n",
    "plt.ylabel(\"Cost (% above cheapest)\")\n",
    "plt.xlabel(\"Meshing Algorithm\")\n",
    "plt.tight_layout()\n",
    "plt.show()"
   ]
  },
  {
   "cell_type": "code",
   "execution_count": 19,
   "metadata": {
    "collapsed": false,
    "pycharm": {
     "name": "#%%\n"
    }
   },
   "outputs": [
    {
     "data": {
      "image/png": "[encoded data removed]",
      "text/plain": [
       "<Figure size 360x360 with 1 Axes>"
      ]
     },
     "metadata": {},
     "output_type": "display_data"
    }
   ],
   "source": [
    "plt.figure(figsize=(5, 5))\n",
    "sns.boxplot(\n",
    "    data=data, y=\"integralization\", x=\"relative_cost\", orient=\"h\", hue=\"turn_factor\"\n",
    ")\n",
    "plt.xlabel(\"Cost (% above cheapest)\")\n",
    "plt.ylabel(\"Meshing Algorithm\")\n",
    "plt.legend(title=\"Turn Cost\")\n",
    "plt.tight_layout()\n",
    "plt.show()"
   ]
  },
  {
   "cell_type": "code",
   "execution_count": 20,
   "metadata": {
    "collapsed": false,
    "pycharm": {
     "name": "#%%\n"
    }
   },
   "outputs": [
    {
     "data": {
      "image/png": "[encoded data removed]",
      "text/plain": [
       "<Figure size 252x252 with 1 Axes>"
      ]
     },
     "metadata": {},
     "output_type": "display_data"
    }
   ],
   "source": [
    "plt.figure(figsize=(3.5, 3.5))\n",
    "sns.boxplot(data=data, x=\"integralization\", y=\"relative_coverage\", orient=\"v\")\n",
    "plt.ylabel(\"Coverage (%)\")\n",
    "plt.xlabel(\"Meshing Algorithm\")\n",
    "\n",
    "plt.tight_layout()\n",
    "plt.show()"
   ]
  },
  {
   "cell_type": "code",
   "execution_count": 20,
   "metadata": {
    "collapsed": false,
    "pycharm": {
     "name": "#%%\n"
    }
   },
   "outputs": [],
   "source": []
  }
 ],
 "metadata": {
  "kernelspec": {
   "display_name": "Python 3",
   "language": "python",
   "name": "python3"
  },
  "language_info": {
   "codemirror_mode": {
    "name": "ipython",
    "version": 2
   },
   "file_extension": ".py",
   "mimetype": "text/x-python",
   "name": "python",
   "nbconvert_exporter": "python",
   "pygments_lexer": "ipython2",
   "version": "2.7.6"
  }
 },
 "nbformat": 4,
 "nbformat_minor": 0
}
