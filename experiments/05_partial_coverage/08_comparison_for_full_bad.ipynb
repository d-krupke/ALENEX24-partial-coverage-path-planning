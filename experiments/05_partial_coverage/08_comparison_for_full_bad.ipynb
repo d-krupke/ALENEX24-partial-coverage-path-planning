{
 "cells": [
  {
   "cell_type": "code",
   "execution_count": 1,
   "metadata": {
    "collapsed": true
   },
   "outputs": [],
   "source": [
    "from aemeasure import read_as_pd\n",
    "import os\n",
    "import pandas as pd\n",
    "import seaborn as sns\n",
    "import matplotlib.pyplot as plt\n"
   ]
  },
  {
   "cell_type": "code",
   "execution_count": 2,
   "metadata": {
    "collapsed": false,
    "pycharm": {
     "name": "#%%\n"
    }
   },
   "outputs": [],
   "source": [
    "from pcpptc import PolygonInstance, Solution\n",
    "from pcpptc.plot import setup_plot, plot_polygon_instance, plot_solution\n",
    "from pcpptc.plot.polgyon_instance import plot_coverage"
   ]
  },
  {
   "cell_type": "code",
   "execution_count": 3,
   "metadata": {
    "collapsed": false,
    "pycharm": {
     "name": "#%%\n"
    }
   },
   "outputs": [
    {
     "name": "stdout",
     "output_type": "stream",
     "text": [
      "Loaded dataframe ./solutions2/2.results.json\n",
      "Executed on: ['algry03' 'algry01']\n",
      "During: 2021-08-20 16:20:25.305058 and 2021-08-23 19:12:10.324509\n"
     ]
    },
    {
     "data": {
      "text/plain": [
       "Index(['solution', 'coverage', 'touring_cost', 'length', 'turn_sum',\n",
       "       'instance', 'instance_path', 'runtime', 'timestamp', 'hostname', 'argv',\n",
       "       'git_revision', 'cwd', 'solver', 'i', 'turn_factor'],\n",
       "      dtype='object')"
      ]
     },
     "execution_count": 3,
     "metadata": {},
     "output_type": "execute_result"
    }
   ],
   "source": [
    "read_as_pd(\"./solutions2/2.results.json\").columns"
   ]
  },
  {
   "cell_type": "code",
   "execution_count": 4,
   "metadata": {
    "collapsed": false,
    "pycharm": {
     "name": "#%%\n"
    }
   },
   "outputs": [
    {
     "name": "stdout",
     "output_type": "stream",
     "text": [
      "Loaded dataframe ./solutions2/75.results.json\n",
      "Executed on: ['algry01']\n",
      "During: 2021-08-23 21:15:25.537704 and 2021-08-23 21:18:47.477030\n",
      "Loaded dataframe ./solutions2/156.results.json\n",
      "Executed on: ['algry01']\n",
      "During: 2021-08-23 17:28:07.922508 and 2021-08-23 17:29:58.018417\n",
      "Loaded dataframe ./solutions2/119.results.json\n",
      "Executed on: ['algry01']\n",
      "During: 2021-08-23 21:52:15.380986 and 2021-08-23 22:01:16.874869\n",
      "Loaded dataframe ./solutions2/173.results.json\n",
      "Executed on: ['algry01']\n",
      "During: 2021-08-23 21:37:08.068632 and 2021-08-23 21:42:46.264003\n",
      "Loaded dataframe ./solutions2/144.results.json\n",
      "Executed on: ['algry03' 'algry01']\n",
      "During: 2021-08-20 16:24:14.480837 and 2021-08-23 19:20:55.900008\n",
      "Loaded dataframe ./solutions2/185.results.json\n",
      "Executed on: ['algry01']\n",
      "During: 2021-08-23 22:28:15.147155 and 2021-08-23 22:31:34.907581\n",
      "Loaded dataframe ./solutions2/154.results.json\n",
      "Executed on: ['algry01']\n",
      "During: 2021-08-23 20:02:03.554251 and 2021-08-23 20:07:16.064666\n",
      "Loaded dataframe ./solutions2/12.results.json\n",
      "Executed on: ['algry03' 'algry01']\n",
      "During: 2021-08-20 16:36:52.154269 and 2021-08-23 19:40:28.993302\n",
      "Loaded dataframe ./solutions2/197.results.json\n",
      "Executed on: ['algry03' 'algry01']\n",
      "During: 2021-08-20 16:34:45.942072 and 2021-08-23 20:42:25.333067\n",
      "Loaded dataframe ./solutions2/86.results.json\n",
      "Executed on: ['algry01']\n",
      "During: 2021-08-23 19:42:09.703926 and 2021-08-23 19:45:45.068338\n",
      "Loaded dataframe ./solutions2/35.results.json\n",
      "Executed on: ['algry01']\n",
      "During: 2021-08-23 19:37:00.667312 and 2021-08-23 19:40:09.452426\n",
      "Loaded dataframe ./solutions2/74.results.json\n",
      "Executed on: ['algry01']\n",
      "During: 2021-08-20 16:47:49.534665 and 2021-08-20 16:50:27.013633\n",
      "Loaded dataframe ./solutions2/57.results.json\n",
      "Executed on: ['algry01']\n",
      "During: 2021-08-23 19:56:16.011981 and 2021-08-23 20:17:07.604822\n",
      "Loaded dataframe ./solutions2/58.results.json\n",
      "Executed on: ['algry01']\n",
      "During: 2021-08-23 18:33:21.979894 and 2021-08-23 18:36:30.099678\n",
      "Loaded dataframe ./solutions2/14.results.json\n",
      "Executed on: ['algry01']\n",
      "During: 2021-08-23 21:19:27.086992 and 2021-08-23 21:20:50.540163\n",
      "Loaded dataframe ./solutions2/3.results.json\n",
      "Executed on: ['algry03' 'algry01']\n",
      "During: 2021-08-20 17:19:43.748533 and 2021-08-23 20:29:04.846946\n",
      "Loaded dataframe ./solutions2/36.results.json\n",
      "Executed on: ['algry03' 'algry01']\n",
      "During: 2021-08-20 17:11:22.124619 and 2021-08-23 22:57:51.655710\n",
      "Loaded dataframe ./solutions2/80.results.json\n",
      "Executed on: ['algry01']\n",
      "During: 2021-08-20 18:44:39.493872 and 2021-08-20 18:45:53.163592\n",
      "Loaded dataframe ./solutions2/70.results.json\n",
      "Executed on: ['algry01']\n",
      "During: 2021-08-23 21:25:49.512522 and 2021-08-23 21:27:20.240674\n",
      "Loaded dataframe ./solutions2/45.results.json\n",
      "Executed on: ['algry03' 'algry01']\n",
      "During: 2021-08-20 18:17:22.091808 and 2021-08-23 16:38:07.889739\n",
      "Loaded dataframe ./solutions2/21.results.json\n",
      "Executed on: ['algry01']\n",
      "During: 2021-08-23 18:18:08.357916 and 2021-08-23 18:25:17.330503\n",
      "Loaded dataframe ./solutions2/17.results.json\n",
      "Executed on: ['algry01']\n",
      "During: 2021-08-23 16:21:32.992932 and 2021-08-23 18:15:59.533005\n",
      "Loaded dataframe ./solutions2/125.results.json\n",
      "Executed on: ['algry03' 'algry01']\n",
      "During: 2021-08-20 19:02:16.988535 and 2021-08-23 19:36:36.891987\n",
      "Loaded dataframe ./solutions2/101.results.json\n",
      "Executed on: ['algry01']\n",
      "During: 2021-08-20 19:22:04.980766 and 2021-08-20 19:27:35.770493\n",
      "Loaded dataframe ./solutions2/16.results.json\n",
      "Executed on: ['algry01']\n",
      "During: 2021-08-23 18:50:55.021404 and 2021-08-23 18:54:48.679943\n",
      "Loaded dataframe ./solutions2/52.results.json\n",
      "Executed on: ['algry01']\n",
      "During: 2021-08-23 16:27:13.322992 and 2021-08-23 16:30:53.488865\n",
      "Loaded dataframe ./solutions2/167.results.json\n",
      "Executed on: ['algry01']\n",
      "During: 2021-08-23 21:38:15.076807 and 2021-08-23 21:40:29.709251\n",
      "Loaded dataframe ./solutions2/131.results.json\n",
      "Executed on: ['algry01']\n",
      "During: 2021-08-20 17:46:17.070324 and 2021-08-20 17:47:59.822763\n",
      "Loaded dataframe ./solutions2/149.results.json\n",
      "Executed on: ['algry01' 'algry03']\n",
      "During: 2021-08-20 16:43:15.272849 and 2021-08-20 17:40:04.669765\n",
      "Loaded dataframe ./solutions2/92.results.json\n",
      "Executed on: ['algry01']\n",
      "During: 2021-08-23 18:39:59.633943 and 2021-08-23 18:41:44.765395\n",
      "Loaded dataframe ./solutions2/84.results.json\n",
      "Executed on: ['algry01']\n",
      "During: 2021-08-20 18:52:27.440852 and 2021-08-20 18:55:05.782405\n",
      "Loaded dataframe ./solutions2/158.results.json\n",
      "Executed on: ['algry01']\n",
      "During: 2021-08-20 17:08:11.748723 and 2021-08-20 17:10:45.122446\n",
      "Loaded dataframe ./solutions2/41.results.json\n",
      "Executed on: ['algry01']\n",
      "During: 2021-08-20 16:15:50.957056 and 2021-08-23 20:18:24.425311\n",
      "Loaded dataframe ./solutions2/174.results.json\n",
      "Executed on: ['algry01']\n",
      "During: 2021-08-23 16:44:01.844831 and 2021-08-23 16:46:17.123745\n",
      "Loaded dataframe ./solutions2/191.results.json\n",
      "Executed on: ['algry01']\n",
      "During: 2021-08-23 18:09:03.719706 and 2021-08-23 18:13:47.844578\n",
      "Loaded dataframe ./solutions2/181.results.json\n",
      "Executed on: ['algry01']\n",
      "During: 2021-08-20 16:24:22.345111 and 2021-08-23 19:45:57.847490\n",
      "Loaded dataframe ./solutions2/29.results.json\n",
      "Executed on: ['algry01']\n",
      "During: 2021-08-23 16:57:59.424288 and 2021-08-23 17:27:17.642017\n",
      "Loaded dataframe ./solutions2/76.results.json\n",
      "Executed on: ['algry01']\n",
      "During: 2021-08-23 16:02:28.022335 and 2021-08-23 16:07:04.683651\n",
      "Loaded dataframe ./solutions2/130.results.json\n",
      "Executed on: ['algry01']\n",
      "During: 2021-08-23 21:21:25.513804 and 2021-08-23 21:23:08.647720\n",
      "Loaded dataframe ./solutions2/118.results.json\n",
      "Executed on: ['algry01']\n",
      "During: 2021-08-23 21:26:39.994349 and 2021-08-23 21:37:28.619093\n",
      "Loaded dataframe ./solutions2/38.results.json\n",
      "Executed on: ['algry01']\n",
      "During: 2021-08-23 18:44:34.613350 and 2021-08-23 18:49:21.084409\n",
      "Loaded dataframe ./solutions2/68.results.json\n",
      "Executed on: ['algry01']\n",
      "During: 2021-08-23 18:33:38.194874 and 2021-08-23 18:35:56.525867\n",
      "Loaded dataframe ./solutions2/143.results.json\n",
      "Executed on: ['algry01']\n",
      "During: 2021-08-23 20:35:41.159775 and 2021-08-23 20:49:17.004111\n",
      "Loaded dataframe ./solutions2/79.results.json\n",
      "Executed on: ['algry01']\n",
      "During: 2021-08-23 19:53:32.364195 and 2021-08-23 20:21:17.233596\n",
      "Loaded dataframe ./solutions2/5.results.json\n",
      "Executed on: ['algry01']\n",
      "During: 2021-08-23 19:16:23.118072 and 2021-08-23 19:17:15.220246\n",
      "Loaded dataframe ./solutions2/180.results.json\n",
      "Executed on: ['algry01']\n",
      "During: 2021-08-23 18:33:22.511448 and 2021-08-23 18:36:16.036021\n",
      "Loaded dataframe ./solutions2/99.results.json\n",
      "Executed on: ['algry01']\n",
      "During: 2021-08-23 19:47:50.346296 and 2021-08-23 19:52:11.979430\n",
      "Loaded dataframe ./solutions2/161.results.json\n",
      "Executed on: ['algry03' 'algry01']\n",
      "During: 2021-08-20 17:36:11.195643 and 2021-08-23 16:59:24.562796\n",
      "Loaded dataframe ./solutions2/136.results.json\n",
      "Executed on: ['algry01']\n",
      "During: 2021-08-20 16:17:20.138138 and 2021-08-23 19:05:22.555571\n",
      "Loaded dataframe ./solutions2/115.results.json\n",
      "Executed on: ['algry03' 'algry01']\n",
      "During: 2021-08-20 16:46:23.200512 and 2021-08-23 18:17:53.050861\n",
      "Loaded dataframe ./solutions2/153.results.json\n",
      "Executed on: ['algry01']\n",
      "During: 2021-08-23 22:09:50.321031 and 2021-08-23 22:15:08.339310\n",
      "Loaded dataframe ./solutions2/11.results.json\n",
      "Executed on: ['algry01']\n",
      "During: 2021-08-20 16:59:17.848925 and 2021-08-23 16:26:18.121020\n",
      "Loaded dataframe ./solutions2/32.results.json\n",
      "Executed on: ['algry01']\n",
      "During: 2021-08-23 20:23:07.595479 and 2021-08-23 20:26:41.700211\n",
      "Loaded dataframe ./solutions2/121.results.json\n",
      "Executed on: ['algry03' 'algry01']\n",
      "During: 2021-08-20 18:40:02.330201 and 2021-08-23 18:59:18.994265\n",
      "Loaded dataframe ./solutions2/189.results.json\n",
      "Executed on: ['algry01']\n",
      "During: 2021-08-23 20:45:16.631361 and 2021-08-23 20:51:09.860320\n",
      "Loaded dataframe ./solutions2/50.results.json\n",
      "Executed on: ['algry01']\n",
      "During: 2021-08-23 19:15:21.621057 and 2021-08-23 19:22:26.810482\n",
      "Loaded dataframe ./solutions2/1.results.json\n",
      "Executed on: ['algry03' 'algry01']\n",
      "During: 2021-08-20 17:50:26.470319 and 2021-08-23 16:15:52.415912\n",
      "Loaded dataframe ./solutions2/193.results.json\n",
      "Executed on: ['algry03' 'algry01']\n",
      "During: 2021-08-20 16:29:18.077547 and 2021-08-23 17:09:09.819558\n",
      "Loaded dataframe ./solutions2/96.results.json\n",
      "Executed on: ['algry01']\n",
      "During: 2021-08-23 18:06:00.695854 and 2021-08-23 18:07:02.930948\n",
      "Loaded dataframe ./solutions2/49.results.json\n",
      "Executed on: ['algry01']\n",
      "During: 2021-08-23 19:58:54.774254 and 2021-08-23 20:06:08.260390\n",
      "Loaded dataframe ./solutions2/9.results.json\n",
      "Executed on: ['algry01']\n",
      "During: 2021-08-23 18:38:01.778960 and 2021-08-23 18:42:59.932451\n",
      "Loaded dataframe ./solutions2/48.results.json\n",
      "Executed on: ['algry03' 'algry01']\n",
      "During: 2021-08-20 17:15:11.615832 and 2021-08-23 22:50:05.414743\n",
      "Loaded dataframe ./solutions2/129.results.json\n",
      "Executed on: ['algry01']\n",
      "During: 2021-08-23 21:52:27.176648 and 2021-08-23 22:04:58.217251\n",
      "Loaded dataframe ./solutions2/146.results.json\n",
      "Executed on: ['algry01']\n",
      "During: 2021-08-23 19:05:25.458466 and 2021-08-23 19:07:25.125888\n",
      "Loaded dataframe ./solutions2/127.results.json\n",
      "Executed on: ['algry01']\n",
      "During: 2021-08-23 19:35:34.227338 and 2021-08-23 19:39:36.358776\n",
      "Loaded dataframe ./solutions2/44.results.json\n",
      "Executed on: ['algry01']\n",
      "During: 2021-08-23 19:03:51.040406 and 2021-08-23 19:08:37.802046\n",
      "Loaded dataframe ./solutions2/194.results.json\n",
      "Executed on: ['algry01']\n",
      "During: 2021-08-20 18:46:56.286461 and 2021-08-20 18:49:42.706414\n",
      "Loaded dataframe ./solutions2/145.results.json\n",
      "Executed on: ['algry03' 'algry01']\n",
      "During: 2021-08-20 17:06:03.869846 and 2021-08-23 17:58:19.994666\n",
      "Loaded dataframe ./solutions2/53.results.json\n",
      "Executed on: ['algry03' 'algry01']\n",
      "During: 2021-08-20 18:20:38.705735 and 2021-08-23 19:04:39.145827\n",
      "Loaded dataframe ./solutions2/169.results.json\n",
      "Executed on: ['algry01']\n",
      "During: 2021-08-23 21:41:52.291701 and 2021-08-23 21:44:58.636043\n",
      "Loaded dataframe ./solutions2/132.results.json\n",
      "Executed on: ['algry03' 'algry01']\n",
      "During: 2021-08-20 16:17:49.329544 and 2021-08-23 18:39:08.586177\n",
      "Loaded dataframe ./solutions2/188.results.json\n",
      "Executed on: ['algry01']\n",
      "During: 2021-08-23 17:49:58.648823 and 2021-08-23 17:57:11.554844\n",
      "Loaded dataframe ./solutions2/46.results.json\n",
      "Executed on: ['algry03' 'algry01']\n",
      "During: 2021-08-20 18:02:37.529453 and 2021-08-23 18:32:23.816828\n",
      "Loaded dataframe ./solutions2/13.results.json\n",
      "Executed on: ['algry03' 'algry01']\n",
      "During: 2021-08-20 18:55:22.132204 and 2021-08-23 18:31:59.196441\n",
      "Loaded dataframe ./solutions2/114.results.json\n",
      "Executed on: ['algry03' 'algry01']\n",
      "During: 2021-08-20 17:42:01.802105 and 2021-08-23 18:28:35.344592\n",
      "Loaded dataframe ./solutions2/104.results.json\n",
      "Executed on: ['algry03' 'algry01']\n",
      "During: 2021-08-20 18:44:16.755613 and 2021-08-23 21:21:30.702696\n",
      "Loaded dataframe ./solutions2/59.results.json\n",
      "Executed on: ['algry01']\n",
      "During: 2021-08-23 19:18:49.187259 and 2021-08-23 19:21:35.776164\n",
      "Loaded dataframe ./solutions2/71.results.json\n",
      "Executed on: ['algry01']\n",
      "During: 2021-08-23 19:10:30.130406 and 2021-08-23 19:15:58.279210\n",
      "Loaded dataframe ./solutions2/7.results.json\n",
      "Executed on: ['algry01']\n",
      "During: 2021-08-20 16:29:13.151121 and 2021-08-23 17:18:24.305732\n",
      "Loaded dataframe ./solutions2/122.results.json\n",
      "Executed on: ['algry01']\n",
      "During: 2021-08-23 22:05:59.037825 and 2021-08-23 22:07:26.284368\n",
      "Loaded dataframe ./solutions2/170.results.json\n",
      "Executed on: ['algry01']\n",
      "During: 2021-08-23 19:27:56.811745 and 2021-08-23 19:33:29.918465\n",
      "Loaded dataframe ./solutions2/47.results.json\n",
      "Executed on: ['algry01']\n",
      "During: 2021-08-23 19:11:56.533895 and 2021-08-23 19:14:06.527951\n",
      "Loaded dataframe ./solutions2/179.results.json\n",
      "Executed on: ['algry01']\n",
      "During: 2021-08-23 18:11:58.801842 and 2021-08-23 18:25:34.107025\n",
      "Loaded dataframe ./solutions2/168.results.json\n",
      "Executed on: ['algry01']\n",
      "During: 2021-08-20 16:18:11.995701 and 2021-08-23 21:33:54.556038\n",
      "Loaded dataframe ./solutions2/126.results.json\n",
      "Executed on: ['algry01']\n",
      "During: 2021-08-23 18:56:10.058147 and 2021-08-23 19:02:01.983700\n",
      "Loaded dataframe ./solutions2/135.results.json\n",
      "Executed on: ['algry01']\n",
      "During: 2021-08-23 19:23:04.826596 and 2021-08-23 19:24:16.443474\n",
      "Loaded dataframe ./solutions2/134.results.json\n",
      "Executed on: ['algry01']\n",
      "During: 2021-08-23 22:16:33.965327 and 2021-08-23 22:20:02.527343\n",
      "Loaded dataframe ./solutions2/199.results.json\n",
      "Executed on: ['algry03' 'algry01']\n",
      "During: 2021-08-20 17:45:40.931323 and 2021-08-23 19:19:38.502295\n",
      "Loaded dataframe ./solutions2/62.results.json\n",
      "Executed on: ['algry01']\n",
      "During: 2021-08-23 19:44:32.297222 and 2021-08-23 19:52:46.809879\n",
      "Loaded dataframe ./solutions2/83.results.json\n",
      "Executed on: ['algry01']\n",
      "During: 2021-08-23 21:34:10.064331 and 2021-08-23 21:34:43.991960\n",
      "Loaded dataframe ./solutions2/6.results.json\n",
      "Executed on: ['algry01']\n",
      "During: 2021-08-20 16:00:59.407839 and 2021-08-20 16:56:30.452004\n",
      "Loaded dataframe ./solutions2/64.results.json\n",
      "Executed on: ['algry01']\n",
      "During: 2021-08-23 21:01:46.359671 and 2021-08-23 21:04:28.045494\n",
      "Loaded dataframe ./solutions2/22.results.json\n",
      "Executed on: ['algry03' 'algry01']\n",
      "During: 2021-08-20 18:23:51.345346 and 2021-08-23 19:01:57.951223\n",
      "Loaded dataframe ./solutions2/66.results.json\n",
      "Executed on: ['algry01']\n",
      "During: 2021-08-20 16:47:37.797617 and 2021-08-20 16:50:39.230309\n",
      "Loaded dataframe ./solutions2/94.results.json\n",
      "Executed on: ['algry01']\n",
      "During: 2021-08-23 21:44:13.271820 and 2021-08-23 21:47:47.056302\n",
      "Loaded dataframe ./solutions2/54.results.json\n",
      "Executed on: ['algry01']\n",
      "During: 2021-08-23 20:45:42.067282 and 2021-08-23 20:54:39.279994\n",
      "Loaded dataframe ./solutions2/163.results.json\n",
      "Executed on: ['algry01']\n",
      "During: 2021-08-23 22:37:33.119067 and 2021-08-23 22:48:22.171488\n",
      "Loaded dataframe ./solutions2/160.results.json\n",
      "Executed on: ['algry01']\n",
      "During: 2021-08-23 18:59:53.657485 and 2021-08-23 19:11:15.309437\n",
      "Loaded dataframe ./solutions2/186.results.json\n",
      "Executed on: ['algry01']\n",
      "During: 2021-08-23 16:05:15.712092 and 2021-08-23 16:15:43.498662\n",
      "Loaded dataframe ./solutions2/137.results.json\n",
      "Executed on: ['algry01']\n",
      "During: 2021-08-23 18:01:27.701786 and 2021-08-23 18:05:35.422878\n",
      "Loaded dataframe ./solutions2/0.results.json\n",
      "Executed on: ['algry03' 'algry01']\n",
      "During: 2021-08-20 16:39:46.889203 and 2021-08-23 22:06:29.244755\n",
      "Loaded dataframe ./solutions2/97.results.json\n",
      "Executed on: ['algry01']\n",
      "During: 2021-08-23 17:52:25.716469 and 2021-08-23 17:55:49.079121\n",
      "Loaded dataframe ./solutions2/40.results.json\n",
      "Executed on: ['algry01']\n",
      "During: 2021-08-23 16:10:01.043830 and 2021-08-23 16:13:30.412035\n",
      "Loaded dataframe ./solutions2/88.results.json\n",
      "Executed on: ['algry01']\n",
      "During: 2021-08-23 17:52:35.993928 and 2021-08-23 17:57:48.380286\n",
      "Loaded dataframe ./solutions2/61.results.json\n",
      "Executed on: ['algry01']\n",
      "During: 2021-08-23 18:20:25.176984 and 2021-08-23 18:32:05.630278\n",
      "Loaded dataframe ./solutions2/196.results.json\n",
      "Executed on: ['algry01']\n",
      "During: 2021-08-20 16:32:15.209348 and 2021-08-23 17:05:11.199271\n",
      "Loaded dataframe ./solutions2/93.results.json\n",
      "Executed on: ['algry01']\n",
      "During: 2021-08-23 16:20:47.001892 and 2021-08-23 16:25:35.112638\n",
      "Loaded dataframe ./solutions2/39.results.json\n",
      "Executed on: ['algry01']\n",
      "During: 2021-08-23 22:34:21.882336 and 2021-08-23 22:36:59.203438\n",
      "Loaded dataframe ./solutions2/73.results.json\n",
      "Executed on: ['algry01']\n",
      "During: 2021-08-23 20:51:13.893002 and 2021-08-23 20:57:11.383797\n",
      "Loaded dataframe ./solutions2/91.results.json\n",
      "Executed on: ['algry01']\n",
      "During: 2021-08-20 17:49:51.831761 and 2021-08-20 17:54:26.932920\n",
      "Loaded dataframe ./solutions2/112.results.json\n",
      "Executed on: ['algry03' 'algry01']\n",
      "During: 2021-08-20 16:26:06.610536 and 2021-08-23 19:42:18.861783\n",
      "Loaded dataframe ./solutions2/142.results.json\n",
      "Executed on: ['algry01']\n",
      "During: 2021-08-23 18:45:20.978224 and 2021-08-23 18:50:26.102059\n",
      "Loaded dataframe ./solutions2/110.results.json\n",
      "Executed on: ['algry03' 'algry01']\n",
      "During: 2021-08-20 17:28:33.224006 and 2021-08-20 17:40:00.374577\n",
      "Loaded dataframe ./solutions2/10.results.json\n",
      "Executed on: ['algry01']\n",
      "During: 2021-08-23 16:34:31.608811 and 2021-08-23 16:39:37.012711\n",
      "Loaded dataframe ./solutions2/28.results.json\n",
      "Executed on: ['algry01']\n",
      "During: 2021-08-23 19:31:06.418676 and 2021-08-23 19:35:43.964114\n",
      "Loaded dataframe ./solutions2/37.results.json\n",
      "Executed on: ['algry01']\n",
      "During: 2021-08-23 16:26:55.774879 and 2021-08-23 16:28:23.743005\n",
      "Loaded dataframe ./solutions2/65.results.json\n",
      "Executed on: ['algry01']\n",
      "During: 2021-08-23 20:18:40.768757 and 2021-08-23 20:20:52.366018\n",
      "Loaded dataframe ./solutions2/133.results.json\n",
      "Executed on: ['algry01']\n",
      "During: 2021-08-23 18:00:05.237401 and 2021-08-23 18:06:43.448023\n",
      "Loaded dataframe ./solutions2/77.results.json\n",
      "Executed on: ['algry01']\n",
      "During: 2021-08-20 16:31:29.848106 and 2021-08-23 18:24:47.305365\n",
      "Loaded dataframe ./solutions2/183.results.json\n",
      "Executed on: ['algry01']\n",
      "During: 2021-08-23 18:55:18.636756 and 2021-08-23 18:58:08.832780\n",
      "Loaded dataframe ./solutions2/98.results.json\n",
      "Executed on: ['algry03' 'algry01']\n",
      "During: 2021-08-20 18:47:44.619404 and 2021-08-23 19:29:12.985996\n",
      "Loaded dataframe ./solutions2/128.results.json\n",
      "Executed on: ['algry03' 'algry01']\n",
      "During: 2021-08-20 16:20:57.620133 and 2021-08-23 19:28:51.577672\n",
      "Loaded dataframe ./solutions2/107.results.json\n",
      "Executed on: ['algry01']\n",
      "During: 2021-08-23 17:58:38.700383 and 2021-08-23 18:00:11.489838\n",
      "Loaded dataframe ./solutions2/24.results.json\n",
      "Executed on: ['algry01']\n",
      "During: 2021-08-23 17:28:42.639737 and 2021-08-23 17:34:54.448892\n",
      "Loaded dataframe ./solutions2/166.results.json\n",
      "Executed on: ['algry01']\n",
      "During: 2021-08-23 22:14:10.200129 and 2021-08-23 22:28:16.307899\n",
      "Loaded dataframe ./solutions2/85.results.json\n",
      "Executed on: ['algry01']\n",
      "During: 2021-08-20 16:37:15.121567 and 2021-08-23 17:59:25.618313\n",
      "Loaded dataframe ./solutions2/81.results.json\n",
      "Executed on: ['algry03' 'algry01']\n",
      "During: 2021-08-20 18:33:22.196162 and 2021-08-23 16:50:29.847333\n",
      "Loaded dataframe ./solutions2/90.results.json\n",
      "Executed on: ['algry03' 'algry01']\n",
      "During: 2021-08-20 17:56:40.885052 and 2021-08-23 18:19:45.624510\n",
      "Loaded dataframe ./solutions2/139.results.json\n",
      "Executed on: ['algry01']\n",
      "During: 2021-08-23 16:02:13.912425 and 2021-08-23 16:06:35.978724\n",
      "Loaded dataframe ./solutions2/78.results.json\n",
      "Executed on: ['algry03' 'algry01']\n",
      "During: 2021-08-20 17:17:23.129133 and 2021-08-23 17:06:43.182533\n",
      "Loaded dataframe ./solutions2/165.results.json\n",
      "Executed on: ['algry03' 'algry01']\n",
      "During: 2021-08-20 17:27:34.222848 and 2021-08-23 21:31:02.461878\n",
      "Loaded dataframe ./solutions2/164.results.json\n",
      "Executed on: ['algry01']\n",
      "During: 2021-08-23 20:21:23.850885 and 2021-08-23 20:26:02.284407\n",
      "Loaded dataframe ./solutions2/87.results.json\n",
      "Executed on: ['algry01']\n",
      "During: 2021-08-20 18:04:24.467820 and 2021-08-20 18:44:01.956485\n",
      "Loaded dataframe ./solutions2/116.results.json\n",
      "Executed on: ['algry01']\n",
      "During: 2021-08-20 18:50:03.596539 and 2021-08-20 18:50:44.509964\n",
      "Loaded dataframe ./solutions2/141.results.json\n",
      "Executed on: ['algry01']\n",
      "During: 2021-08-20 16:07:22.470693 and 2021-08-23 17:14:05.021403\n",
      "Loaded dataframe ./solutions2/182.results.json\n",
      "Executed on: ['algry01']\n",
      "During: 2021-08-23 16:07:07.658722 and 2021-08-23 16:08:21.109020\n",
      "Loaded dataframe ./solutions2/60.results.json\n",
      "Executed on: ['algry01']\n",
      "During: 2021-08-23 19:53:39.939672 and 2021-08-23 19:55:49.059594\n",
      "Loaded dataframe ./solutions2/184.results.json\n",
      "Executed on: ['algry01']\n",
      "During: 2021-08-23 19:43:14.785108 and 2021-08-23 19:44:52.721466\n",
      "Loaded dataframe ./solutions2/171.results.json\n",
      "Executed on: ['algry01']\n",
      "During: 2021-08-23 20:14:53.621460 and 2021-08-23 20:17:44.996640\n",
      "Loaded dataframe ./solutions2/100.results.json\n",
      "Executed on: ['algry01']\n",
      "During: 2021-08-23 20:07:46.091829 and 2021-08-23 20:13:26.039107\n",
      "Loaded dataframe ./solutions2/2.results.json\n",
      "Executed on: ['algry03' 'algry01']\n",
      "During: 2021-08-20 16:20:25.305058 and 2021-08-23 19:12:10.324509\n",
      "Loaded dataframe ./solutions2/178.results.json\n",
      "Executed on: ['algry03' 'algry01']\n",
      "During: 2021-08-20 17:24:04.779643 and 2021-08-23 16:32:41.377550\n",
      "Loaded dataframe ./solutions2/69.results.json\n",
      "Executed on: ['algry03' 'algry01']\n",
      "During: 2021-08-20 16:39:55.096390 and 2021-08-23 16:18:40.936128\n",
      "Loaded dataframe ./solutions2/176.results.json\n",
      "Executed on: ['algry01']\n",
      "During: 2021-08-23 17:35:56.467811 and 2021-08-23 18:29:00.983390\n",
      "Loaded dataframe ./solutions2/102.results.json\n",
      "Executed on: ['algry01']\n",
      "During: 2021-08-20 16:25:30.490014 and 2021-08-23 18:43:07.685899\n",
      "Loaded dataframe ./solutions2/67.results.json\n",
      "Executed on: ['algry01']\n",
      "During: 2021-08-20 16:48:19.486673 and 2021-08-23 18:11:31.189733\n",
      "Loaded dataframe ./solutions2/148.results.json\n",
      "Executed on: ['algry01']\n",
      "During: 2021-08-20 15:55:47.608572 and 2021-08-23 18:37:43.839439\n",
      "Loaded dataframe ./solutions2/140.results.json\n",
      "Executed on: ['algry01']\n",
      "During: 2021-08-23 22:40:38.010294 and 2021-08-23 22:45:48.208942\n",
      "Loaded dataframe ./solutions2/151.results.json\n",
      "Executed on: ['algry03' 'algry01']\n",
      "During: 2021-08-20 16:27:21.684082 and 2021-08-23 19:30:40.861690\n",
      "Loaded dataframe ./solutions2/4.results.json\n",
      "Executed on: ['algry01']\n",
      "During: 2021-08-23 22:32:14.381140 and 2021-08-23 22:33:22.402613\n",
      "Loaded dataframe ./solutions2/123.results.json\n",
      "Executed on: ['algry03' 'algry01']\n",
      "During: 2021-08-20 16:29:28.465216 and 2021-08-23 19:24:01.389110\n",
      "Loaded dataframe ./solutions2/157.results.json\n",
      "Executed on: ['algry01']\n",
      "During: 2021-08-23 16:30:48.605371 and 2021-08-23 16:35:45.451485\n",
      "Loaded dataframe ./solutions2/55.results.json\n",
      "Executed on: ['algry01']\n",
      "During: 2021-08-23 17:15:00.704133 and 2021-08-23 17:17:05.432893\n",
      "Loaded dataframe ./solutions2/192.results.json\n",
      "Executed on: ['algry01']\n",
      "During: 2021-08-23 18:59:38.404351 and 2021-08-23 19:03:40.744534\n",
      "Loaded dataframe ./solutions2/195.results.json\n",
      "Executed on: ['algry03' 'algry01']\n",
      "During: 2021-08-20 18:36:27.687629 and 2021-08-23 20:19:34.061564\n",
      "Loaded dataframe ./solutions2/26.results.json\n",
      "Executed on: ['algry03' 'algry01']\n",
      "During: 2021-08-20 16:24:30.799419 and 2021-08-23 19:30:21.283666\n",
      "Loaded dataframe ./solutions2/124.results.json\n",
      "Executed on: ['algry01']\n",
      "During: 2021-08-23 18:05:43.263250 and 2021-08-23 18:11:13.511560\n",
      "Loaded dataframe ./solutions2/198.results.json\n",
      "Executed on: ['algry03' 'algry01']\n",
      "During: 2021-08-20 17:22:14.934079 and 2021-08-23 18:53:00.982210\n",
      "Loaded dataframe ./solutions2/147.results.json\n",
      "Executed on: ['algry01']\n",
      "During: 2021-08-23 20:23:22.328241 and 2021-08-23 20:28:50.873113\n",
      "Loaded dataframe ./solutions2/111.results.json\n",
      "Executed on: ['algry01']\n",
      "During: 2021-08-23 16:17:12.473838 and 2021-08-23 16:20:54.508401\n",
      "Loaded dataframe ./solutions2/63.results.json\n",
      "Executed on: ['algry01']\n",
      "During: 2021-08-23 20:28:28.265093 and 2021-08-23 20:33:50.957017\n",
      "Loaded dataframe ./solutions2/82.results.json\n",
      "Executed on: ['algry01']\n",
      "During: 2021-08-20 17:12:20.791099 and 2021-08-20 17:15:15.332001\n",
      "Loaded dataframe ./solutions2/150.results.json\n",
      "Executed on: ['algry01']\n",
      "During: 2021-08-23 19:39:21.685288 and 2021-08-23 19:40:22.616411\n",
      "Loaded dataframe ./solutions2/187.results.json\n",
      "Executed on: ['algry03' 'algry01']\n",
      "During: 2021-08-20 18:27:45.199901 and 2021-08-23 21:25:11.870245\n",
      "Loaded dataframe ./solutions2/72.results.json\n",
      "Executed on: ['algry01']\n",
      "During: 2021-08-23 16:52:44.989772 and 2021-08-23 16:57:13.030748\n",
      "Loaded dataframe ./solutions2/31.results.json\n",
      "Executed on: ['algry01']\n",
      "During: 2021-08-20 17:01:50.990330 and 2021-08-20 17:07:00.347967\n",
      "Loaded dataframe ./solutions2/25.results.json\n",
      "Executed on: ['algry01']\n",
      "During: 2021-08-20 17:41:53.747181 and 2021-08-20 17:45:33.840289\n",
      "Loaded dataframe ./solutions2/34.results.json\n",
      "Executed on: ['algry01']\n",
      "During: 2021-08-20 16:32:30.360091 and 2021-08-20 17:19:20.964770\n",
      "Loaded dataframe ./solutions2/108.results.json\n",
      "Executed on: ['algry01']\n",
      "During: 2021-08-23 18:37:09.076313 and 2021-08-23 18:38:38.347915\n",
      "Loaded dataframe ./solutions2/105.results.json\n",
      "Executed on: ['algry01']\n",
      "During: 2021-08-23 18:45:32.686242 and 2021-08-23 18:53:34.196936\n",
      "Loaded dataframe ./solutions2/42.results.json\n",
      "Executed on: ['algry03' 'algry01']\n",
      "During: 2021-08-20 16:30:23.045839 and 2021-08-23 17:25:40.668203\n",
      "Loaded dataframe ./solutions2/155.results.json\n",
      "Executed on: ['algry01']\n",
      "During: 2021-08-23 22:32:06.389609 and 2021-08-23 22:33:16.305571\n",
      "Loaded dataframe ./solutions2/138.results.json\n",
      "Executed on: ['algry03' 'algry01']\n",
      "During: 2021-08-20 16:23:39.852856 and 2021-08-23 19:38:43.156660\n",
      "Loaded dataframe ./solutions2/51.results.json\n",
      "Executed on: ['algry01']\n",
      "During: 2021-08-23 16:07:43.425187 and 2021-08-23 16:09:24.606398\n",
      "Loaded dataframe ./solutions2/95.results.json\n",
      "Executed on: ['algry01']\n",
      "During: 2021-08-20 16:12:34.662668 and 2021-08-23 22:31:44.436253\n",
      "Loaded dataframe ./solutions2/8.results.json\n",
      "Executed on: ['algry03' 'algry01']\n",
      "During: 2021-08-20 18:12:40.245905 and 2021-08-23 19:25:44.352784\n",
      "Loaded dataframe ./solutions2/103.results.json\n",
      "Executed on: ['algry01']\n",
      "During: 2021-08-23 21:00:35.706847 and 2021-08-23 21:20:36.935339\n",
      "Loaded dataframe ./solutions2/43.results.json\n",
      "Executed on: ['algry01']\n",
      "During: 2021-08-23 18:01:19.566129 and 2021-08-23 18:09:44.385057\n",
      "Loaded dataframe ./solutions2/177.results.json\n",
      "Executed on: ['algry01']\n",
      "During: 2021-08-20 16:33:46.310079 and 2021-08-23 20:29:29.036763\n",
      "Loaded dataframe ./solutions2/33.results.json\n",
      "Executed on: ['algry01']\n",
      "During: 2021-08-20 16:24:14.799366 and 2021-08-23 19:33:28.682057\n",
      "Loaded dataframe ./solutions2/15.results.json\n",
      "Executed on: ['algry01']\n",
      "During: 2021-08-23 16:40:48.961284 and 2021-08-23 16:43:13.976993\n",
      "Loaded dataframe ./solutions2/23.results.json\n",
      "Executed on: ['algry01']\n",
      "During: 2021-08-20 19:28:54.153733 and 2021-08-23 18:54:55.343603\n",
      "Loaded dataframe ./solutions2/109.results.json\n",
      "Executed on: ['algry03' 'algry01']\n",
      "During: 2021-08-20 16:57:05.383318 and 2021-08-20 17:29:03.637288\n",
      "Loaded dataframe ./solutions2/89.results.json\n",
      "Executed on: ['algry01']\n",
      "During: 2021-08-23 18:30:36.733103 and 2021-08-23 18:33:41.412023\n",
      "Loaded dataframe ./solutions2/56.results.json\n",
      "Executed on: ['algry01']\n",
      "During: 2021-08-20 16:51:19.689657 and 2021-08-20 16:54:02.499206\n",
      "Loaded dataframe ./solutions2/30.results.json\n",
      "Executed on: ['algry01']\n",
      "During: 2021-08-23 20:57:03.194743 and 2021-08-23 21:14:09.272694\n",
      "Loaded dataframe ./solutions2/117.results.json\n",
      "Executed on: ['algry01']\n",
      "During: 2021-08-20 16:55:44.470288 and 2021-08-20 16:59:19.043933\n",
      "Loaded dataframe ./solutions2/175.results.json\n",
      "Executed on: ['algry03' 'algry01']\n",
      "During: 2021-08-20 16:56:02.084711 and 2021-08-23 19:59:57.196119\n",
      "Loaded dataframe ./solutions2/120.results.json\n",
      "Executed on: ['algry01']\n",
      "During: 2021-08-20 16:42:39.119396 and 2021-08-20 16:46:33.033414\n",
      "Loaded dataframe ./solutions2/20.results.json\n",
      "Executed on: ['algry01']\n",
      "During: 2021-08-23 19:16:36.052821 and 2021-08-23 19:20:34.362989\n",
      "Loaded dataframe ./solutions2/113.results.json\n",
      "Executed on: ['algry01']\n",
      "During: 2021-08-20 19:01:17.234497 and 2021-08-20 19:18:46.029878\n",
      "Loaded dataframe ./solutions2/19.results.json\n",
      "Executed on: ['algry03' 'algry01']\n",
      "During: 2021-08-20 17:10:25.396870 and 2021-08-23 19:17:42.030101\n",
      "Loaded dataframe ./solutions2/106.results.json\n",
      "Executed on: ['algry01']\n",
      "During: 2021-08-23 16:14:46.160894 and 2021-08-23 16:18:39.451582\n",
      "Loaded dataframe ./solutions2/172.results.json\n",
      "Executed on: ['algry01']\n",
      "During: 2021-08-20 17:30:20.386364 and 2021-08-20 17:33:11.936330\n",
      "Loaded dataframe ./solutions2/18.results.json\n",
      "Executed on: ['algry01']\n",
      "During: 2021-08-23 18:42:07.856067 and 2021-08-23 18:43:00.442022\n",
      "Loaded dataframe ./solutions2/27.results.json\n",
      "Executed on: ['algry01']\n",
      "During: 2021-08-20 16:40:41.509864 and 2021-08-23 18:02:27.592707\n",
      "Loaded dataframe ./solutions2/152.results.json\n",
      "Executed on: ['algry01']\n",
      "During: 2021-08-20 16:21:35.402078 and 2021-08-23 21:00:34.048130\n",
      "Loaded dataframe ./solutions2/159.results.json\n",
      "Executed on: ['algry01']\n",
      "During: 2021-08-20 16:42:22.221293 and 2021-08-20 16:46:08.741734\n",
      "Loaded dataframe ./solutions2/190.results.json\n",
      "Executed on: ['algry01']\n",
      "During: 2021-08-23 18:39:43.430237 and 2021-08-23 18:50:57.915658\n"
     ]
    }
   ],
   "source": [
    "tables = []\n",
    "for f in os.listdir(\"./solutions2\"):\n",
    "    if not f.endswith(\".results.json\"):\n",
    "        continue\n",
    "    f = os.path.join(\"./solutions2\", f)\n",
    "    tables.append(read_as_pd(f))\n",
    "\n",
    "data = pd.concat(tables, ignore_index=True)\n",
    "data.groupby([\"solver\"])[\"instance\"].nunique()\n",
    "bad_instance = \"./instances2/122.instance.json\"\n",
    "data = data[data[\"instance_path\"] == bad_instance]"
   ]
  },
  {
   "cell_type": "code",
   "execution_count": 5,
   "metadata": {
    "collapsed": false,
    "pycharm": {
     "name": "#%%\n"
    }
   },
   "outputs": [
    {
     "data": {
      "text/html": [
       "<div>\n",
       "<style scoped>\n",
       "    .dataframe tbody tr th:only-of-type {\n",
       "        vertical-align: middle;\n",
       "    }\n",
       "\n",
       "    .dataframe tbody tr th {\n",
       "        vertical-align: top;\n",
       "    }\n",
       "\n",
       "    .dataframe thead th {\n",
       "        text-align: right;\n",
       "    }\n",
       "</style>\n",
       "<table border=\"1\" class=\"dataframe\">\n",
       "  <thead>\n",
       "    <tr style=\"text-align: right;\">\n",
       "      <th></th>\n",
       "      <th>solution</th>\n",
       "      <th>coverage</th>\n",
       "      <th>touring_cost</th>\n",
       "      <th>length</th>\n",
       "      <th>turn_sum</th>\n",
       "      <th>instance</th>\n",
       "      <th>instance_path</th>\n",
       "      <th>runtime</th>\n",
       "      <th>timestamp</th>\n",
       "      <th>hostname</th>\n",
       "      <th>argv</th>\n",
       "      <th>git_revision</th>\n",
       "      <th>cwd</th>\n",
       "      <th>solver</th>\n",
       "      <th>i</th>\n",
       "      <th>turn_factor</th>\n",
       "    </tr>\n",
       "  </thead>\n",
       "  <tbody>\n",
       "  </tbody>\n",
       "</table>\n",
       "</div>"
      ],
      "text/plain": [
       "Empty DataFrame\n",
       "Columns: [solution, coverage, touring_cost, length, turn_sum, instance, instance_path, runtime, timestamp, hostname, argv, git_revision, cwd, solver, i, turn_factor]\n",
       "Index: []"
      ]
     },
     "execution_count": 5,
     "metadata": {},
     "output_type": "execute_result"
    }
   ],
   "source": [
    "data[data.isna().any(axis=1)]"
   ]
  },
  {
   "cell_type": "code",
   "execution_count": 6,
   "metadata": {
    "collapsed": false,
    "pycharm": {
     "name": "#%%\n"
    }
   },
   "outputs": [
    {
     "data": {
      "text/plain": [
       "solver\n",
       "MeshAlgorithm(0.95, full_coverage=False)                                                                             1\n",
       "MeshAlgorithm(0.95, full_coverage=True)                                                                              1\n",
       "RotatingHexagonalAlgorithm(RotatingRegularHexagonal(full_coverage=False, point_based=False, with_boundary=False))    1\n",
       "RotatingHexagonalAlgorithm(RotatingRegularHexagonal(full_coverage=True, point_based=False, with_boundary=False))     1\n",
       "Name: instance, dtype: int64"
      ]
     },
     "execution_count": 6,
     "metadata": {},
     "output_type": "execute_result"
    }
   ],
   "source": [
    "data.dropna(inplace=True)\n",
    "data = data[data[\"solver\"] != \"MeshAlgorithm(0.95)\"]\n",
    "data.groupby([\"solver\"])[\"instance\"].nunique()"
   ]
  },
  {
   "cell_type": "code",
   "execution_count": 7,
   "metadata": {
    "collapsed": false,
    "pycharm": {
     "name": "#%%\n"
    }
   },
   "outputs": [],
   "source": [
    "from optimizer.instance_converter.dmsh import GmshGrid\n",
    "\n",
    "\n",
    "def rename(s):\n",
    "    names = {\n",
    "        \"RotatingHexagonalAlgorithm(RotatingRegularHexagonal(full_coverage=False, point_based=False, with_boundary=False))\": \"Regular (Partial)\",\n",
    "        \"RotatingHexagonalAlgorithm(RotatingRegularHexagonal(full_coverage=True, point_based=False, with_boundary=False))\": \"Regular (Full)\",\n",
    "        \"MeshAlgorithm(0.95, full_coverage=False)\": \"Mesh (Partial)\",\n",
    "        \"MeshAlgorithm(0.95, full_coverage=True)\": \"Mesh (Full)\",\n",
    "    }\n",
    "    return names.get(s, s)\n",
    "\n",
    "\n",
    "data[\"solver\"] = data[\"solver\"].apply(rename)\n",
    "data = data[data[\"solver\"].apply(lambda s: \"Full\" in s)]"
   ]
  },
  {
   "cell_type": "code",
   "execution_count": 8,
   "metadata": {
    "collapsed": false,
    "pycharm": {
     "name": "#%%\n"
    }
   },
   "outputs": [],
   "source": [
    "data[\"type\"] = data[\"solver\"].apply(lambda s: \"hex\" if \"Hex\" in s else \"square\")\n",
    "data[\"point_based\"] = data[\"solver\"].apply(lambda s: \"pb=True\" in s)"
   ]
  },
  {
   "cell_type": "code",
   "execution_count": 8,
   "metadata": {
    "collapsed": false,
    "pycharm": {
     "name": "#%%\n"
    }
   },
   "outputs": [],
   "source": []
  },
  {
   "cell_type": "code",
   "execution_count": 9,
   "metadata": {
    "collapsed": false,
    "pycharm": {
     "name": "#%%\n"
    }
   },
   "outputs": [],
   "source": [
    "instance_paths = list(data[\"instance_path\"].unique())\n",
    "instances = {f: PolygonInstance.from_json(file_path=f) for f in instance_paths}\n",
    "instance_areas = pd.DataFrame(\n",
    "    data={\"area\": [i.original_area.area for i in instances.values()]},\n",
    "    index=instance_paths,\n",
    ")\n",
    "data = data.merge(instance_areas, left_on=\"instance_path\", right_index=True)\n",
    "\n",
    "\n",
    "def compute_objective(row):\n",
    "    instance = instances[row[\"instance_path\"]]\n",
    "    solution = Solution.from_json(data=row[\"solution\"])\n",
    "    instance: PolygonInstance\n",
    "    return instance.compute_touring_cost(\n",
    "        solution.waypoints\n",
    "    ) + instance.compute_missed_covering_value(solution.waypoints)\n",
    "\n",
    "\n",
    "data[\"Obj\"] = data.apply(compute_objective, axis=1)"
   ]
  },
  {
   "cell_type": "code",
   "execution_count": 10,
   "metadata": {
    "collapsed": false,
    "pycharm": {
     "name": "#%%\n"
    }
   },
   "outputs": [],
   "source": [
    "t_ = data.groupby(\"instance\")[[\"touring_cost\"]].min()\n",
    "data = data.merge(t_, left_on=\"instance\", right_index=True, suffixes=(\"\", \"_min\"))\n",
    "data[\"relative_cost\"] = 100 * ((data[\"touring_cost\"] / data[\"touring_cost_min\"]) - 1)\n",
    "data[\"relative_coverage\"] = 100 * data[\"coverage\"] / data[\"area\"]\n",
    "data[\"type\"] = data[\"solver\"].apply(lambda s: s[0])"
   ]
  },
  {
   "cell_type": "code",
   "execution_count": 11,
   "metadata": {
    "collapsed": false,
    "pycharm": {
     "name": "#%%\n"
    }
   },
   "outputs": [],
   "source": [
    "t_ = data.groupby(\"instance\")[[\"Obj\"]].min()\n",
    "data = data.merge(t_, left_on=\"instance\", right_index=True, suffixes=(\"\", \"_min\"))\n",
    "data[\"relative_obj\"] = 100 * ((data[\"Obj\"] / data[\"Obj_min\"]) - 1)"
   ]
  },
  {
   "cell_type": "code",
   "execution_count": 12,
   "metadata": {
    "collapsed": false,
    "pycharm": {
     "name": "#%%\n"
    }
   },
   "outputs": [],
   "source": [
    "data.sort_values([\"solver\"], inplace=True, ascending=True)\n",
    "data.sort_values([\"type\"], inplace=True, ascending=True, kind=\"stable\")"
   ]
  },
  {
   "cell_type": "code",
   "execution_count": 13,
   "metadata": {
    "collapsed": false,
    "pycharm": {
     "name": "#%%\n"
    }
   },
   "outputs": [
    {
     "data": {
      "text/plain": [
       "solver\n",
       "Mesh (Full)       1\n",
       "Regular (Full)    1\n",
       "Name: instance, dtype: int64"
      ]
     },
     "execution_count": 13,
     "metadata": {},
     "output_type": "execute_result"
    }
   ],
   "source": [
    "t_ = data.dropna()\n",
    "t_ = t_.groupby([\"solver\"])[\"instance\"].nunique()\n",
    "t_"
   ]
  },
  {
   "cell_type": "code",
   "execution_count": 14,
   "metadata": {
    "collapsed": false,
    "pycharm": {
     "name": "#%%\n"
    }
   },
   "outputs": [
    {
     "name": "stdout",
     "output_type": "stream",
     "text": [
      "Mesh (Full) & 60.8 \\\\\n",
      "Regular (Full) & 13.2 \\\\\n"
     ]
    }
   ],
   "source": [
    "t = data.groupby([\"solver\"])[\"runtime\"].mean().reset_index()\n",
    "t[\"solver\"] = t[\"solver\"].apply(lambda s: s.replace(\"□\", \"$\\\\square$\"))\n",
    "t[\"solver\"] = t[\"solver\"].apply(lambda s: s.replace(\"△\", \"$\\\\Delta$\"))\n",
    "t[\"solver\"] = t[\"solver\"].apply(lambda s: s.replace(\"%\", \"\\\\%\"))\n",
    "for i, t in t.iterrows():\n",
    "    print(t[\"solver\"], \"&\", round(t[\"runtime\"], 1), \"\\\\\\\\\")"
   ]
  },
  {
   "cell_type": "code",
   "execution_count": 18,
   "metadata": {
    "collapsed": false,
    "pycharm": {
     "name": "#%%\n"
    }
   },
   "outputs": [
    {
     "name": "stdout",
     "output_type": "stream",
     "text": [
      "Computing coverage polygon\n",
      "Plotting coverage polygon\n"
     ]
    },
    {
     "data": {
      "text/plain": [
       "<Figure size 432x288 with 0 Axes>"
      ]
     },
     "metadata": {},
     "output_type": "display_data"
    },
    {
     "data": {
      "image/png": "[encoded data removed]",
      "text/plain": [
       "<Figure size 252x180 with 1 Axes>"
      ]
     },
     "metadata": {
      "needs_background": "light"
     },
     "output_type": "display_data"
    },
    {
     "name": "stdout",
     "output_type": "stream",
     "text": [
      "Computing coverage polygon\n",
      "Plotting coverage polygon\n"
     ]
    },
    {
     "data": {
      "text/plain": [
       "<Figure size 432x288 with 0 Axes>"
      ]
     },
     "metadata": {},
     "output_type": "display_data"
    },
    {
     "data": {
      "image/png": "[encoded data removed]",
      "text/plain": [
       "<Figure size 252x180 with 1 Axes>"
      ]
     },
     "metadata": {
      "needs_background": "light"
     },
     "output_type": "display_data"
    }
   ],
   "source": [
    "def plot(row, path=None, ax=None):\n",
    "    instance_path = row[\"instance_path\"]\n",
    "    instance = PolygonInstance.from_json(file_path=instance_path)\n",
    "    solution = Solution.from_json(data=row[\"solution\"])\n",
    "    if not ax:\n",
    "        ax = setup_plot(figsize=(3.5, 2.5))\n",
    "    plot_polygon_instance(ax, instance, set_limits=True, plot_valuable_areas=False)\n",
    "    plot_solution(ax, solution, color=\"blue\")\n",
    "    plot_coverage(ax, instance, solution)\n",
    "    ax.set_title(f\"Coverage: {round(row['relative_coverage'],1)}%\")\n",
    "    if path:\n",
    "        plt.tight_layout()\n",
    "        plt.savefig(path)\n",
    "\n",
    "\n",
    "for i, row in data[data[\"instance_path\"] == bad_instance].iterrows():\n",
    "    plot(row)\n",
    "    plt.tight_layout()\n",
    "    plt.savefig(f\"08_bad_coverage_{i}.pdf\")\n",
    "    plt.show()"
   ]
  }
 ],
 "metadata": {
  "kernelspec": {
   "display_name": "Python 3",
   "language": "python",
   "name": "python3"
  },
  "language_info": {
   "codemirror_mode": {
    "name": "ipython",
    "version": 2
   },
   "file_extension": ".py",
   "mimetype": "text/x-python",
   "name": "python",
   "nbconvert_exporter": "python",
   "pygments_lexer": "ipython2",
   "version": "2.7.6"
  }
 },
 "nbformat": 4,
 "nbformat_minor": 0
}
