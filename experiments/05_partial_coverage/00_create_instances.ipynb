{
 "cells": [
  {
   "cell_type": "code",
   "execution_count": 11,
   "metadata": {
    "collapsed": false,
    "pycharm": {
     "name": "#%%\n"
    }
   },
   "outputs": [],
   "source": [
    "import os.path\n",
    "import random\n",
    "import sys\n",
    "from shapely.errors import TopologicalError\n",
    "\n",
    "\n",
    "\n",
    "from pcpptc.plot import setup_plot, plot_polygon_instance\n",
    "from pcpptc.polygon_instance import RandomPolygonInstanceGenerator\n",
    "import matplotlib.pyplot as plt"
   ]
  },
  {
   "cell_type": "code",
   "execution_count": 12,
   "metadata": {
    "collapsed": false,
    "pycharm": {
     "name": "#%%\n"
    }
   },
   "outputs": [],
   "source": [
    "tool_radius = 1.0\n",
    "complexities = [2, 4, 8, 16]\n",
    "sizes = [25, 30, 40]\n",
    "holes = [1, 2, 4, 8, 16]\n",
    "hole_sizes = [0.2, 0.4, 0.8, 1.6]\n",
    "hole_complexities = [1, 2, 4]\n",
    "turn_costs = [1.0, 5.0, 50.0]\n",
    "expensive_areas = [1, 2, 4, 8]\n",
    "expensve = [2, 5, 10, 50]\n",
    "valuable_areas = [4, 8, 16, 32]\n",
    "value = [5, 10]\n",
    "\n",
    "\n",
    "combinations = [sizes, complexities, holes, hole_sizes, hole_complexities, turn_costs]"
   ]
  },
  {
   "cell_type": "code",
   "execution_count": 13,
   "metadata": {
    "collapsed": false,
    "pycharm": {
     "name": "#%%\n"
    }
   },
   "outputs": [],
   "source": [
    "def random_instance(tries=0):\n",
    "    if tries > 100:\n",
    "        return RuntimeError(\"Could not generate instance. Check parameters\")\n",
    "    try:\n",
    "        params = dict(\n",
    "            complexity=random.choice(complexities),\n",
    "            size=random.choice(sizes),\n",
    "            turn_costs=random.choice(turn_costs),\n",
    "            holes=random.choice(holes),\n",
    "            hole_size=random.choice(hole_sizes),\n",
    "            hole_complexity=random.choice(hole_complexities),\n",
    "            penalties=random.choice(valuable_areas),\n",
    "            penalty_strength=random.choice(value),\n",
    "            multiplier=random.choice(expensive_areas),\n",
    "            multiplier_strength=random.choice(expensve),\n",
    "            tool_radius=tool_radius,\n",
    "        )\n",
    "        print(params)\n",
    "        pi = RandomPolygonInstanceGenerator(**params)()\n",
    "        pi.to_json(as_string=True)\n",
    "        if sum(p[0].area for p in pi.expensive_areas) > 0.5 * pi.feasible_area.area:\n",
    "            raise ValueError(\"Too much expensive.\")\n",
    "        if sum(p[0].area for p in pi.valuable_areas) < 0.1 * pi.feasible_area.area:\n",
    "            raise ValueError(\"Not enough valuable area.\")\n",
    "        if sum(a.area * v for a, v in pi.valuable_areas) / pi.original_area.area > 30:\n",
    "            raise ValueError(\"Too dense\")\n",
    "        return pi\n",
    "    except AttributeError as ae:\n",
    "        print(ae)\n",
    "    except ValueError as ve:\n",
    "        print(ve)\n",
    "    except TopologicalError as te:\n",
    "        print(te)\n",
    "    return random_instance(tries + 1)"
   ]
  },
  {
   "cell_type": "code",
   "execution_count": 14,
   "metadata": {
    "collapsed": false,
    "pycharm": {
     "name": "#%%\n"
    }
   },
   "outputs": [
    {
     "name": "stdout",
     "output_type": "stream",
     "text": [
      "{'complexity': 16, 'size': 40, 'turn_costs': 5.0, 'holes': 1, 'hole_size': 0.8, 'hole_complexity': 2, 'penalties': 32, 'penalty_strength': 5, 'multiplier': 1, 'multiplier_strength': 50, 'tool_radius': 1.0}\n",
      "{'complexity': 4, 'size': 40, 'turn_costs': 1.0, 'holes': 8, 'hole_size': 0.2, 'hole_complexity': 4, 'penalties': 16, 'penalty_strength': 5, 'multiplier': 1, 'multiplier_strength': 10, 'tool_radius': 1.0}\n",
      "{'complexity': 16, 'size': 30, 'turn_costs': 5.0, 'holes': 8, 'hole_size': 0.8, 'hole_complexity': 4, 'penalties': 16, 'penalty_strength': 10, 'multiplier': 1, 'multiplier_strength': 5, 'tool_radius': 1.0}\n",
      "{'complexity': 16, 'size': 40, 'turn_costs': 1.0, 'holes': 8, 'hole_size': 1.6, 'hole_complexity': 1, 'penalties': 8, 'penalty_strength': 5, 'multiplier': 4, 'multiplier_strength': 10, 'tool_radius': 1.0}\n",
      "{'complexity': 2, 'size': 25, 'turn_costs': 50.0, 'holes': 1, 'hole_size': 0.2, 'hole_complexity': 1, 'penalties': 4, 'penalty_strength': 5, 'multiplier': 8, 'multiplier_strength': 10, 'tool_radius': 1.0}\n",
      "Too much expensive.\n",
      "{'complexity': 16, 'size': 30, 'turn_costs': 1.0, 'holes': 8, 'hole_size': 0.2, 'hole_complexity': 1, 'penalties': 8, 'penalty_strength': 5, 'multiplier': 4, 'multiplier_strength': 5, 'tool_radius': 1.0}\n",
      "{'complexity': 8, 'size': 25, 'turn_costs': 5.0, 'holes': 16, 'hole_size': 1.6, 'hole_complexity': 4, 'penalties': 16, 'penalty_strength': 10, 'multiplier': 2, 'multiplier_strength': 10, 'tool_radius': 1.0}\n",
      "{'complexity': 16, 'size': 40, 'turn_costs': 50.0, 'holes': 1, 'hole_size': 0.2, 'hole_complexity': 4, 'penalties': 8, 'penalty_strength': 10, 'multiplier': 1, 'multiplier_strength': 10, 'tool_radius': 1.0}\n",
      "{'complexity': 4, 'size': 40, 'turn_costs': 50.0, 'holes': 16, 'hole_size': 0.8, 'hole_complexity': 4, 'penalties': 8, 'penalty_strength': 10, 'multiplier': 1, 'multiplier_strength': 2, 'tool_radius': 1.0}\n",
      "{'complexity': 2, 'size': 30, 'turn_costs': 5.0, 'holes': 1, 'hole_size': 0.2, 'hole_complexity': 4, 'penalties': 4, 'penalty_strength': 5, 'multiplier': 1, 'multiplier_strength': 2, 'tool_radius': 1.0}\n",
      "{'complexity': 4, 'size': 40, 'turn_costs': 1.0, 'holes': 8, 'hole_size': 1.6, 'hole_complexity': 2, 'penalties': 32, 'penalty_strength': 10, 'multiplier': 4, 'multiplier_strength': 10, 'tool_radius': 1.0}\n",
      "Too much expensive.\n",
      "{'complexity': 8, 'size': 25, 'turn_costs': 50.0, 'holes': 2, 'hole_size': 0.8, 'hole_complexity': 4, 'penalties': 4, 'penalty_strength': 10, 'multiplier': 8, 'multiplier_strength': 2, 'tool_radius': 1.0}\n",
      "Too much expensive.\n",
      "{'complexity': 4, 'size': 30, 'turn_costs': 1.0, 'holes': 4, 'hole_size': 0.8, 'hole_complexity': 2, 'penalties': 8, 'penalty_strength': 10, 'multiplier': 2, 'multiplier_strength': 5, 'tool_radius': 1.0}\n",
      "{'complexity': 4, 'size': 30, 'turn_costs': 1.0, 'holes': 2, 'hole_size': 1.6, 'hole_complexity': 1, 'penalties': 16, 'penalty_strength': 10, 'multiplier': 4, 'multiplier_strength': 50, 'tool_radius': 1.0}\n",
      "Too much expensive.\n",
      "{'complexity': 2, 'size': 30, 'turn_costs': 1.0, 'holes': 1, 'hole_size': 1.6, 'hole_complexity': 2, 'penalties': 8, 'penalty_strength': 5, 'multiplier': 8, 'multiplier_strength': 2, 'tool_radius': 1.0}\n",
      "Too much expensive.\n",
      "{'complexity': 16, 'size': 40, 'turn_costs': 1.0, 'holes': 16, 'hole_size': 0.4, 'hole_complexity': 4, 'penalties': 16, 'penalty_strength': 5, 'multiplier': 2, 'multiplier_strength': 2, 'tool_radius': 1.0}\n",
      "{'complexity': 8, 'size': 25, 'turn_costs': 50.0, 'holes': 1, 'hole_size': 0.2, 'hole_complexity': 4, 'penalties': 4, 'penalty_strength': 10, 'multiplier': 8, 'multiplier_strength': 5, 'tool_radius': 1.0}\n",
      "Too much expensive.\n",
      "{'complexity': 4, 'size': 25, 'turn_costs': 5.0, 'holes': 2, 'hole_size': 1.6, 'hole_complexity': 2, 'penalties': 8, 'penalty_strength': 10, 'multiplier': 8, 'multiplier_strength': 5, 'tool_radius': 1.0}\n",
      "Too much expensive.\n",
      "{'complexity': 4, 'size': 40, 'turn_costs': 5.0, 'holes': 4, 'hole_size': 0.4, 'hole_complexity': 4, 'penalties': 4, 'penalty_strength': 10, 'multiplier': 4, 'multiplier_strength': 50, 'tool_radius': 1.0}\n",
      "{'complexity': 16, 'size': 25, 'turn_costs': 1.0, 'holes': 4, 'hole_size': 0.8, 'hole_complexity': 2, 'penalties': 32, 'penalty_strength': 10, 'multiplier': 8, 'multiplier_strength': 50, 'tool_radius': 1.0}\n",
      "Too much expensive.\n",
      "{'complexity': 16, 'size': 40, 'turn_costs': 5.0, 'holes': 2, 'hole_size': 1.6, 'hole_complexity': 1, 'penalties': 8, 'penalty_strength': 10, 'multiplier': 4, 'multiplier_strength': 2, 'tool_radius': 1.0}\n",
      "{'complexity': 4, 'size': 25, 'turn_costs': 1.0, 'holes': 2, 'hole_size': 1.6, 'hole_complexity': 2, 'penalties': 8, 'penalty_strength': 5, 'multiplier': 8, 'multiplier_strength': 50, 'tool_radius': 1.0}\n",
      "Too much expensive.\n",
      "{'complexity': 8, 'size': 30, 'turn_costs': 5.0, 'holes': 16, 'hole_size': 0.2, 'hole_complexity': 1, 'penalties': 8, 'penalty_strength': 5, 'multiplier': 1, 'multiplier_strength': 2, 'tool_radius': 1.0}\n",
      "{'complexity': 2, 'size': 25, 'turn_costs': 1.0, 'holes': 1, 'hole_size': 0.8, 'hole_complexity': 4, 'penalties': 32, 'penalty_strength': 5, 'multiplier': 2, 'multiplier_strength': 10, 'tool_radius': 1.0}\n",
      "Too dense\n",
      "{'complexity': 2, 'size': 40, 'turn_costs': 50.0, 'holes': 1, 'hole_size': 1.6, 'hole_complexity': 2, 'penalties': 8, 'penalty_strength': 5, 'multiplier': 8, 'multiplier_strength': 2, 'tool_radius': 1.0}\n",
      "Too much expensive.\n",
      "{'complexity': 4, 'size': 25, 'turn_costs': 50.0, 'holes': 4, 'hole_size': 0.4, 'hole_complexity': 1, 'penalties': 16, 'penalty_strength': 10, 'multiplier': 8, 'multiplier_strength': 50, 'tool_radius': 1.0}\n",
      "Too much expensive.\n",
      "{'complexity': 2, 'size': 40, 'turn_costs': 50.0, 'holes': 16, 'hole_size': 0.2, 'hole_complexity': 4, 'penalties': 32, 'penalty_strength': 5, 'multiplier': 4, 'multiplier_strength': 2, 'tool_radius': 1.0}\n",
      "'MultiPolygon' object has no attribute 'exterior'\n",
      "{'complexity': 2, 'size': 30, 'turn_costs': 50.0, 'holes': 2, 'hole_size': 0.8, 'hole_complexity': 1, 'penalties': 16, 'penalty_strength': 5, 'multiplier': 1, 'multiplier_strength': 2, 'tool_radius': 1.0}\n",
      "{'complexity': 4, 'size': 25, 'turn_costs': 1.0, 'holes': 1, 'hole_size': 1.6, 'hole_complexity': 2, 'penalties': 8, 'penalty_strength': 10, 'multiplier': 8, 'multiplier_strength': 50, 'tool_radius': 1.0}\n",
      "Too much expensive.\n",
      "{'complexity': 4, 'size': 25, 'turn_costs': 1.0, 'holes': 16, 'hole_size': 0.4, 'hole_complexity': 4, 'penalties': 4, 'penalty_strength': 10, 'multiplier': 8, 'multiplier_strength': 5, 'tool_radius': 1.0}\n",
      "Too much expensive.\n",
      "{'complexity': 4, 'size': 25, 'turn_costs': 1.0, 'holes': 1, 'hole_size': 1.6, 'hole_complexity': 2, 'penalties': 8, 'penalty_strength': 10, 'multiplier': 1, 'multiplier_strength': 10, 'tool_radius': 1.0}\n",
      "{'complexity': 8, 'size': 30, 'turn_costs': 50.0, 'holes': 1, 'hole_size': 1.6, 'hole_complexity': 2, 'penalties': 8, 'penalty_strength': 5, 'multiplier': 1, 'multiplier_strength': 2, 'tool_radius': 1.0}\n",
      "{'complexity': 8, 'size': 25, 'turn_costs': 5.0, 'holes': 4, 'hole_size': 0.4, 'hole_complexity': 4, 'penalties': 4, 'penalty_strength': 10, 'multiplier': 8, 'multiplier_strength': 2, 'tool_radius': 1.0}\n",
      "Too much expensive.\n",
      "{'complexity': 8, 'size': 25, 'turn_costs': 1.0, 'holes': 1, 'hole_size': 0.2, 'hole_complexity': 1, 'penalties': 32, 'penalty_strength': 5, 'multiplier': 2, 'multiplier_strength': 10, 'tool_radius': 1.0}\n",
      "{'complexity': 2, 'size': 40, 'turn_costs': 1.0, 'holes': 4, 'hole_size': 0.2, 'hole_complexity': 1, 'penalties': 32, 'penalty_strength': 5, 'multiplier': 8, 'multiplier_strength': 10, 'tool_radius': 1.0}\n",
      "Too much expensive.\n",
      "{'complexity': 2, 'size': 25, 'turn_costs': 50.0, 'holes': 8, 'hole_size': 1.6, 'hole_complexity': 2, 'penalties': 32, 'penalty_strength': 10, 'multiplier': 1, 'multiplier_strength': 5, 'tool_radius': 1.0}\n",
      "Too dense\n",
      "{'complexity': 8, 'size': 30, 'turn_costs': 1.0, 'holes': 8, 'hole_size': 0.2, 'hole_complexity': 1, 'penalties': 8, 'penalty_strength': 10, 'multiplier': 1, 'multiplier_strength': 2, 'tool_radius': 1.0}\n",
      "{'complexity': 2, 'size': 30, 'turn_costs': 50.0, 'holes': 1, 'hole_size': 0.8, 'hole_complexity': 4, 'penalties': 16, 'penalty_strength': 10, 'multiplier': 2, 'multiplier_strength': 50, 'tool_radius': 1.0}\n",
      "Too dense\n",
      "{'complexity': 2, 'size': 40, 'turn_costs': 1.0, 'holes': 2, 'hole_size': 1.6, 'hole_complexity': 4, 'penalties': 32, 'penalty_strength': 10, 'multiplier': 4, 'multiplier_strength': 2, 'tool_radius': 1.0}\n",
      "Too much expensive.\n",
      "{'complexity': 4, 'size': 25, 'turn_costs': 1.0, 'holes': 16, 'hole_size': 1.6, 'hole_complexity': 1, 'penalties': 4, 'penalty_strength': 5, 'multiplier': 2, 'multiplier_strength': 50, 'tool_radius': 1.0}\n",
      "{'complexity': 8, 'size': 40, 'turn_costs': 50.0, 'holes': 16, 'hole_size': 0.4, 'hole_complexity': 4, 'penalties': 16, 'penalty_strength': 10, 'multiplier': 8, 'multiplier_strength': 50, 'tool_radius': 1.0}\n",
      "Too much expensive.\n",
      "{'complexity': 16, 'size': 25, 'turn_costs': 1.0, 'holes': 4, 'hole_size': 0.2, 'hole_complexity': 1, 'penalties': 32, 'penalty_strength': 10, 'multiplier': 1, 'multiplier_strength': 10, 'tool_radius': 1.0}\n",
      "{'complexity': 4, 'size': 30, 'turn_costs': 1.0, 'holes': 4, 'hole_size': 0.8, 'hole_complexity': 2, 'penalties': 32, 'penalty_strength': 10, 'multiplier': 4, 'multiplier_strength': 10, 'tool_radius': 1.0}\n",
      "Too much expensive.\n",
      "{'complexity': 16, 'size': 25, 'turn_costs': 1.0, 'holes': 4, 'hole_size': 0.2, 'hole_complexity': 2, 'penalties': 16, 'penalty_strength': 5, 'multiplier': 4, 'multiplier_strength': 50, 'tool_radius': 1.0}\n",
      "{'complexity': 16, 'size': 30, 'turn_costs': 50.0, 'holes': 4, 'hole_size': 0.2, 'hole_complexity': 1, 'penalties': 8, 'penalty_strength': 10, 'multiplier': 1, 'multiplier_strength': 10, 'tool_radius': 1.0}\n",
      "{'complexity': 4, 'size': 40, 'turn_costs': 5.0, 'holes': 16, 'hole_size': 0.4, 'hole_complexity': 2, 'penalties': 32, 'penalty_strength': 5, 'multiplier': 1, 'multiplier_strength': 50, 'tool_radius': 1.0}\n",
      "{'complexity': 8, 'size': 25, 'turn_costs': 50.0, 'holes': 8, 'hole_size': 0.8, 'hole_complexity': 1, 'penalties': 32, 'penalty_strength': 10, 'multiplier': 1, 'multiplier_strength': 2, 'tool_radius': 1.0}\n",
      "Too dense\n",
      "{'complexity': 8, 'size': 25, 'turn_costs': 50.0, 'holes': 1, 'hole_size': 0.4, 'hole_complexity': 4, 'penalties': 32, 'penalty_strength': 10, 'multiplier': 4, 'multiplier_strength': 5, 'tool_radius': 1.0}\n",
      "Too dense\n",
      "{'complexity': 8, 'size': 40, 'turn_costs': 5.0, 'holes': 16, 'hole_size': 0.8, 'hole_complexity': 4, 'penalties': 16, 'penalty_strength': 5, 'multiplier': 2, 'multiplier_strength': 50, 'tool_radius': 1.0}\n",
      "{'complexity': 8, 'size': 25, 'turn_costs': 5.0, 'holes': 8, 'hole_size': 1.6, 'hole_complexity': 4, 'penalties': 4, 'penalty_strength': 10, 'multiplier': 2, 'multiplier_strength': 50, 'tool_radius': 1.0}\n",
      "{'complexity': 16, 'size': 30, 'turn_costs': 1.0, 'holes': 16, 'hole_size': 0.2, 'hole_complexity': 4, 'penalties': 32, 'penalty_strength': 5, 'multiplier': 2, 'multiplier_strength': 50, 'tool_radius': 1.0}\n",
      "'MultiPolygon' object has no attribute 'exterior'\n",
      "{'complexity': 16, 'size': 25, 'turn_costs': 50.0, 'holes': 2, 'hole_size': 0.8, 'hole_complexity': 4, 'penalties': 4, 'penalty_strength': 5, 'multiplier': 1, 'multiplier_strength': 50, 'tool_radius': 1.0}\n",
      "{'complexity': 8, 'size': 25, 'turn_costs': 1.0, 'holes': 4, 'hole_size': 0.8, 'hole_complexity': 1, 'penalties': 32, 'penalty_strength': 5, 'multiplier': 8, 'multiplier_strength': 2, 'tool_radius': 1.0}\n",
      "Too much expensive.\n",
      "{'complexity': 4, 'size': 25, 'turn_costs': 1.0, 'holes': 1, 'hole_size': 1.6, 'hole_complexity': 1, 'penalties': 32, 'penalty_strength': 10, 'multiplier': 8, 'multiplier_strength': 2, 'tool_radius': 1.0}\n",
      "Too much expensive.\n",
      "{'complexity': 16, 'size': 40, 'turn_costs': 1.0, 'holes': 16, 'hole_size': 1.6, 'hole_complexity': 2, 'penalties': 16, 'penalty_strength': 5, 'multiplier': 2, 'multiplier_strength': 5, 'tool_radius': 1.0}\n",
      "{'complexity': 2, 'size': 30, 'turn_costs': 5.0, 'holes': 8, 'hole_size': 0.4, 'hole_complexity': 4, 'penalties': 16, 'penalty_strength': 10, 'multiplier': 8, 'multiplier_strength': 2, 'tool_radius': 1.0}\n",
      "Too much expensive.\n",
      "{'complexity': 16, 'size': 40, 'turn_costs': 5.0, 'holes': 16, 'hole_size': 1.6, 'hole_complexity': 1, 'penalties': 16, 'penalty_strength': 5, 'multiplier': 4, 'multiplier_strength': 10, 'tool_radius': 1.0}\n",
      "{'complexity': 2, 'size': 40, 'turn_costs': 1.0, 'holes': 8, 'hole_size': 1.6, 'hole_complexity': 1, 'penalties': 4, 'penalty_strength': 5, 'multiplier': 4, 'multiplier_strength': 5, 'tool_radius': 1.0}\n",
      "Too much expensive.\n",
      "{'complexity': 4, 'size': 40, 'turn_costs': 1.0, 'holes': 1, 'hole_size': 0.4, 'hole_complexity': 4, 'penalties': 32, 'penalty_strength': 5, 'multiplier': 2, 'multiplier_strength': 10, 'tool_radius': 1.0}\n",
      "{'complexity': 2, 'size': 30, 'turn_costs': 1.0, 'holes': 2, 'hole_size': 0.2, 'hole_complexity': 2, 'penalties': 8, 'penalty_strength': 5, 'multiplier': 4, 'multiplier_strength': 50, 'tool_radius': 1.0}\n",
      "Too much expensive.\n",
      "{'complexity': 8, 'size': 25, 'turn_costs': 1.0, 'holes': 4, 'hole_size': 0.4, 'hole_complexity': 1, 'penalties': 16, 'penalty_strength': 5, 'multiplier': 1, 'multiplier_strength': 50, 'tool_radius': 1.0}\n",
      "{'complexity': 8, 'size': 40, 'turn_costs': 1.0, 'holes': 16, 'hole_size': 0.8, 'hole_complexity': 4, 'penalties': 4, 'penalty_strength': 10, 'multiplier': 8, 'multiplier_strength': 5, 'tool_radius': 1.0}\n",
      "Too much expensive.\n",
      "{'complexity': 8, 'size': 40, 'turn_costs': 5.0, 'holes': 1, 'hole_size': 0.4, 'hole_complexity': 4, 'penalties': 16, 'penalty_strength': 10, 'multiplier': 1, 'multiplier_strength': 50, 'tool_radius': 1.0}\n",
      "{'complexity': 16, 'size': 25, 'turn_costs': 5.0, 'holes': 1, 'hole_size': 0.8, 'hole_complexity': 4, 'penalties': 8, 'penalty_strength': 10, 'multiplier': 2, 'multiplier_strength': 10, 'tool_radius': 1.0}\n",
      "{'complexity': 4, 'size': 40, 'turn_costs': 1.0, 'holes': 1, 'hole_size': 0.8, 'hole_complexity': 2, 'penalties': 16, 'penalty_strength': 10, 'multiplier': 2, 'multiplier_strength': 5, 'tool_radius': 1.0}\n",
      "{'complexity': 2, 'size': 30, 'turn_costs': 1.0, 'holes': 16, 'hole_size': 0.8, 'hole_complexity': 1, 'penalties': 8, 'penalty_strength': 10, 'multiplier': 8, 'multiplier_strength': 2, 'tool_radius': 1.0}\n",
      "Too much expensive.\n",
      "{'complexity': 2, 'size': 40, 'turn_costs': 1.0, 'holes': 8, 'hole_size': 1.6, 'hole_complexity': 2, 'penalties': 4, 'penalty_strength': 5, 'multiplier': 2, 'multiplier_strength': 10, 'tool_radius': 1.0}\n",
      "Too much expensive.\n",
      "{'complexity': 16, 'size': 40, 'turn_costs': 5.0, 'holes': 8, 'hole_size': 0.8, 'hole_complexity': 4, 'penalties': 16, 'penalty_strength': 5, 'multiplier': 4, 'multiplier_strength': 5, 'tool_radius': 1.0}\n",
      "{'complexity': 2, 'size': 25, 'turn_costs': 1.0, 'holes': 16, 'hole_size': 1.6, 'hole_complexity': 1, 'penalties': 8, 'penalty_strength': 10, 'multiplier': 4, 'multiplier_strength': 2, 'tool_radius': 1.0}\n",
      "Too much expensive.\n",
      "{'complexity': 8, 'size': 30, 'turn_costs': 50.0, 'holes': 2, 'hole_size': 1.6, 'hole_complexity': 2, 'penalties': 32, 'penalty_strength': 10, 'multiplier': 1, 'multiplier_strength': 50, 'tool_radius': 1.0}\n",
      "Too dense\n",
      "{'complexity': 8, 'size': 40, 'turn_costs': 1.0, 'holes': 4, 'hole_size': 0.2, 'hole_complexity': 2, 'penalties': 4, 'penalty_strength': 10, 'multiplier': 1, 'multiplier_strength': 5, 'tool_radius': 1.0}\n",
      "{'complexity': 8, 'size': 40, 'turn_costs': 5.0, 'holes': 2, 'hole_size': 0.4, 'hole_complexity': 1, 'penalties': 8, 'penalty_strength': 5, 'multiplier': 1, 'multiplier_strength': 5, 'tool_radius': 1.0}\n",
      "{'complexity': 2, 'size': 40, 'turn_costs': 1.0, 'holes': 1, 'hole_size': 1.6, 'hole_complexity': 2, 'penalties': 8, 'penalty_strength': 10, 'multiplier': 2, 'multiplier_strength': 50, 'tool_radius': 1.0}\n",
      "{'complexity': 2, 'size': 30, 'turn_costs': 50.0, 'holes': 8, 'hole_size': 0.4, 'hole_complexity': 2, 'penalties': 4, 'penalty_strength': 10, 'multiplier': 4, 'multiplier_strength': 5, 'tool_radius': 1.0}\n",
      "Too much expensive.\n",
      "{'complexity': 16, 'size': 40, 'turn_costs': 1.0, 'holes': 2, 'hole_size': 0.2, 'hole_complexity': 2, 'penalties': 32, 'penalty_strength': 5, 'multiplier': 1, 'multiplier_strength': 2, 'tool_radius': 1.0}\n",
      "{'complexity': 4, 'size': 25, 'turn_costs': 1.0, 'holes': 16, 'hole_size': 0.4, 'hole_complexity': 4, 'penalties': 32, 'penalty_strength': 5, 'multiplier': 4, 'multiplier_strength': 2, 'tool_radius': 1.0}\n",
      "'MultiPolygon' object has no attribute 'exterior'\n",
      "{'complexity': 2, 'size': 30, 'turn_costs': 1.0, 'holes': 1, 'hole_size': 0.2, 'hole_complexity': 1, 'penalties': 32, 'penalty_strength': 5, 'multiplier': 8, 'multiplier_strength': 5, 'tool_radius': 1.0}\n",
      "Too much expensive.\n",
      "{'complexity': 8, 'size': 40, 'turn_costs': 1.0, 'holes': 4, 'hole_size': 0.4, 'hole_complexity': 4, 'penalties': 16, 'penalty_strength': 5, 'multiplier': 2, 'multiplier_strength': 5, 'tool_radius': 1.0}\n",
      "{'complexity': 8, 'size': 25, 'turn_costs': 50.0, 'holes': 8, 'hole_size': 0.8, 'hole_complexity': 2, 'penalties': 16, 'penalty_strength': 5, 'multiplier': 8, 'multiplier_strength': 10, 'tool_radius': 1.0}\n",
      "{'complexity': 8, 'size': 30, 'turn_costs': 5.0, 'holes': 1, 'hole_size': 1.6, 'hole_complexity': 2, 'penalties': 16, 'penalty_strength': 5, 'multiplier': 8, 'multiplier_strength': 5, 'tool_radius': 1.0}\n",
      "Too much expensive.\n",
      "{'complexity': 4, 'size': 30, 'turn_costs': 50.0, 'holes': 2, 'hole_size': 0.4, 'hole_complexity': 1, 'penalties': 4, 'penalty_strength': 10, 'multiplier': 1, 'multiplier_strength': 5, 'tool_radius': 1.0}\n",
      "{'complexity': 16, 'size': 25, 'turn_costs': 5.0, 'holes': 1, 'hole_size': 0.4, 'hole_complexity': 4, 'penalties': 8, 'penalty_strength': 10, 'multiplier': 2, 'multiplier_strength': 10, 'tool_radius': 1.0}\n",
      "{'complexity': 4, 'size': 25, 'turn_costs': 50.0, 'holes': 2, 'hole_size': 0.2, 'hole_complexity': 1, 'penalties': 4, 'penalty_strength': 5, 'multiplier': 8, 'multiplier_strength': 2, 'tool_radius': 1.0}\n",
      "Too much expensive.\n",
      "{'complexity': 4, 'size': 25, 'turn_costs': 1.0, 'holes': 4, 'hole_size': 0.2, 'hole_complexity': 2, 'penalties': 8, 'penalty_strength': 10, 'multiplier': 4, 'multiplier_strength': 5, 'tool_radius': 1.0}\n",
      "{'complexity': 4, 'size': 40, 'turn_costs': 50.0, 'holes': 16, 'hole_size': 0.4, 'hole_complexity': 4, 'penalties': 16, 'penalty_strength': 5, 'multiplier': 8, 'multiplier_strength': 2, 'tool_radius': 1.0}\n",
      "'MultiPolygon' object has no attribute 'exterior'\n",
      "{'complexity': 16, 'size': 25, 'turn_costs': 50.0, 'holes': 4, 'hole_size': 0.8, 'hole_complexity': 4, 'penalties': 32, 'penalty_strength': 10, 'multiplier': 4, 'multiplier_strength': 10, 'tool_radius': 1.0}\n",
      "{'complexity': 8, 'size': 40, 'turn_costs': 50.0, 'holes': 8, 'hole_size': 1.6, 'hole_complexity': 2, 'penalties': 32, 'penalty_strength': 10, 'multiplier': 2, 'multiplier_strength': 10, 'tool_radius': 1.0}\n",
      "Too dense\n",
      "{'complexity': 8, 'size': 25, 'turn_costs': 1.0, 'holes': 16, 'hole_size': 1.6, 'hole_complexity': 2, 'penalties': 8, 'penalty_strength': 5, 'multiplier': 4, 'multiplier_strength': 10, 'tool_radius': 1.0}\n",
      "{'complexity': 2, 'size': 30, 'turn_costs': 1.0, 'holes': 4, 'hole_size': 1.6, 'hole_complexity': 1, 'penalties': 4, 'penalty_strength': 5, 'multiplier': 2, 'multiplier_strength': 2, 'tool_radius': 1.0}\n",
      "Too much expensive.\n",
      "{'complexity': 8, 'size': 25, 'turn_costs': 5.0, 'holes': 4, 'hole_size': 0.2, 'hole_complexity': 4, 'penalties': 16, 'penalty_strength': 10, 'multiplier': 1, 'multiplier_strength': 5, 'tool_radius': 1.0}\n",
      "{'complexity': 4, 'size': 40, 'turn_costs': 5.0, 'holes': 4, 'hole_size': 0.8, 'hole_complexity': 1, 'penalties': 4, 'penalty_strength': 10, 'multiplier': 4, 'multiplier_strength': 50, 'tool_radius': 1.0}\n",
      "{'complexity': 4, 'size': 40, 'turn_costs': 50.0, 'holes': 1, 'hole_size': 0.8, 'hole_complexity': 2, 'penalties': 8, 'penalty_strength': 5, 'multiplier': 1, 'multiplier_strength': 5, 'tool_radius': 1.0}\n",
      "{'complexity': 16, 'size': 25, 'turn_costs': 5.0, 'holes': 16, 'hole_size': 0.4, 'hole_complexity': 4, 'penalties': 32, 'penalty_strength': 10, 'multiplier': 1, 'multiplier_strength': 50, 'tool_radius': 1.0}\n",
      "{'complexity': 8, 'size': 30, 'turn_costs': 1.0, 'holes': 8, 'hole_size': 0.2, 'hole_complexity': 2, 'penalties': 32, 'penalty_strength': 5, 'multiplier': 4, 'multiplier_strength': 5, 'tool_radius': 1.0}\n",
      "Too much expensive.\n",
      "{'complexity': 4, 'size': 30, 'turn_costs': 1.0, 'holes': 1, 'hole_size': 0.2, 'hole_complexity': 2, 'penalties': 16, 'penalty_strength': 5, 'multiplier': 2, 'multiplier_strength': 10, 'tool_radius': 1.0}\n",
      "{'complexity': 16, 'size': 30, 'turn_costs': 50.0, 'holes': 4, 'hole_size': 0.2, 'hole_complexity': 1, 'penalties': 4, 'penalty_strength': 5, 'multiplier': 8, 'multiplier_strength': 2, 'tool_radius': 1.0}\n",
      "{'complexity': 16, 'size': 30, 'turn_costs': 50.0, 'holes': 8, 'hole_size': 0.4, 'hole_complexity': 1, 'penalties': 8, 'penalty_strength': 10, 'multiplier': 1, 'multiplier_strength': 2, 'tool_radius': 1.0}\n",
      "{'complexity': 2, 'size': 30, 'turn_costs': 50.0, 'holes': 4, 'hole_size': 0.4, 'hole_complexity': 2, 'penalties': 4, 'penalty_strength': 5, 'multiplier': 8, 'multiplier_strength': 50, 'tool_radius': 1.0}\n",
      "Too much expensive.\n",
      "{'complexity': 2, 'size': 30, 'turn_costs': 5.0, 'holes': 2, 'hole_size': 0.2, 'hole_complexity': 2, 'penalties': 4, 'penalty_strength': 10, 'multiplier': 2, 'multiplier_strength': 10, 'tool_radius': 1.0}\n",
      "Too much expensive.\n",
      "{'complexity': 8, 'size': 40, 'turn_costs': 1.0, 'holes': 4, 'hole_size': 0.4, 'hole_complexity': 1, 'penalties': 32, 'penalty_strength': 10, 'multiplier': 2, 'multiplier_strength': 50, 'tool_radius': 1.0}\n",
      "Too much expensive.\n",
      "{'complexity': 16, 'size': 40, 'turn_costs': 50.0, 'holes': 8, 'hole_size': 1.6, 'hole_complexity': 1, 'penalties': 8, 'penalty_strength': 10, 'multiplier': 2, 'multiplier_strength': 5, 'tool_radius': 1.0}\n",
      "{'complexity': 4, 'size': 30, 'turn_costs': 50.0, 'holes': 1, 'hole_size': 0.8, 'hole_complexity': 4, 'penalties': 8, 'penalty_strength': 5, 'multiplier': 8, 'multiplier_strength': 2, 'tool_radius': 1.0}\n",
      "Too much expensive.\n",
      "{'complexity': 16, 'size': 30, 'turn_costs': 5.0, 'holes': 2, 'hole_size': 0.4, 'hole_complexity': 4, 'penalties': 16, 'penalty_strength': 10, 'multiplier': 8, 'multiplier_strength': 10, 'tool_radius': 1.0}\n",
      "{'complexity': 2, 'size': 40, 'turn_costs': 50.0, 'holes': 2, 'hole_size': 0.8, 'hole_complexity': 2, 'penalties': 8, 'penalty_strength': 10, 'multiplier': 1, 'multiplier_strength': 10, 'tool_radius': 1.0}\n",
      "{'complexity': 2, 'size': 30, 'turn_costs': 5.0, 'holes': 4, 'hole_size': 0.4, 'hole_complexity': 1, 'penalties': 4, 'penalty_strength': 5, 'multiplier': 1, 'multiplier_strength': 50, 'tool_radius': 1.0}\n",
      "{'complexity': 2, 'size': 25, 'turn_costs': 50.0, 'holes': 16, 'hole_size': 0.4, 'hole_complexity': 2, 'penalties': 16, 'penalty_strength': 10, 'multiplier': 8, 'multiplier_strength': 10, 'tool_radius': 1.0}\n",
      "'MultiPolygon' object has no attribute 'exterior'\n",
      "{'complexity': 4, 'size': 30, 'turn_costs': 1.0, 'holes': 8, 'hole_size': 0.8, 'hole_complexity': 2, 'penalties': 32, 'penalty_strength': 5, 'multiplier': 4, 'multiplier_strength': 50, 'tool_radius': 1.0}\n",
      "Too dense\n",
      "{'complexity': 4, 'size': 40, 'turn_costs': 1.0, 'holes': 1, 'hole_size': 0.4, 'hole_complexity': 1, 'penalties': 8, 'penalty_strength': 5, 'multiplier': 2, 'multiplier_strength': 50, 'tool_radius': 1.0}\n",
      "{'complexity': 4, 'size': 30, 'turn_costs': 50.0, 'holes': 4, 'hole_size': 0.2, 'hole_complexity': 2, 'penalties': 4, 'penalty_strength': 10, 'multiplier': 8, 'multiplier_strength': 10, 'tool_radius': 1.0}\n",
      "Too much expensive.\n",
      "{'complexity': 8, 'size': 25, 'turn_costs': 1.0, 'holes': 4, 'hole_size': 0.4, 'hole_complexity': 2, 'penalties': 16, 'penalty_strength': 10, 'multiplier': 1, 'multiplier_strength': 2, 'tool_radius': 1.0}\n",
      "{'complexity': 2, 'size': 30, 'turn_costs': 5.0, 'holes': 2, 'hole_size': 0.4, 'hole_complexity': 2, 'penalties': 8, 'penalty_strength': 5, 'multiplier': 8, 'multiplier_strength': 50, 'tool_radius': 1.0}\n",
      "Too much expensive.\n",
      "{'complexity': 8, 'size': 25, 'turn_costs': 50.0, 'holes': 2, 'hole_size': 1.6, 'hole_complexity': 4, 'penalties': 16, 'penalty_strength': 5, 'multiplier': 2, 'multiplier_strength': 2, 'tool_radius': 1.0}\n",
      "{'complexity': 8, 'size': 40, 'turn_costs': 1.0, 'holes': 16, 'hole_size': 0.8, 'hole_complexity': 2, 'penalties': 8, 'penalty_strength': 5, 'multiplier': 2, 'multiplier_strength': 5, 'tool_radius': 1.0}\n",
      "'MultiPolygon' object has no attribute 'exterior'\n",
      "{'complexity': 2, 'size': 25, 'turn_costs': 50.0, 'holes': 16, 'hole_size': 1.6, 'hole_complexity': 1, 'penalties': 16, 'penalty_strength': 10, 'multiplier': 4, 'multiplier_strength': 50, 'tool_radius': 1.0}\n",
      "Too dense\n",
      "{'complexity': 8, 'size': 30, 'turn_costs': 5.0, 'holes': 8, 'hole_size': 0.8, 'hole_complexity': 4, 'penalties': 16, 'penalty_strength': 10, 'multiplier': 2, 'multiplier_strength': 50, 'tool_radius': 1.0}\n",
      "{'complexity': 2, 'size': 40, 'turn_costs': 50.0, 'holes': 8, 'hole_size': 0.4, 'hole_complexity': 4, 'penalties': 4, 'penalty_strength': 5, 'multiplier': 2, 'multiplier_strength': 10, 'tool_radius': 1.0}\n",
      "Too much expensive.\n",
      "{'complexity': 2, 'size': 30, 'turn_costs': 50.0, 'holes': 2, 'hole_size': 0.2, 'hole_complexity': 4, 'penalties': 8, 'penalty_strength': 5, 'multiplier': 4, 'multiplier_strength': 5, 'tool_radius': 1.0}\n",
      "Too much expensive.\n",
      "{'complexity': 16, 'size': 30, 'turn_costs': 5.0, 'holes': 8, 'hole_size': 1.6, 'hole_complexity': 2, 'penalties': 16, 'penalty_strength': 10, 'multiplier': 2, 'multiplier_strength': 10, 'tool_radius': 1.0}\n",
      "{'complexity': 8, 'size': 25, 'turn_costs': 1.0, 'holes': 8, 'hole_size': 1.6, 'hole_complexity': 2, 'penalties': 16, 'penalty_strength': 10, 'multiplier': 4, 'multiplier_strength': 10, 'tool_radius': 1.0}\n",
      "{'complexity': 8, 'size': 40, 'turn_costs': 5.0, 'holes': 4, 'hole_size': 0.4, 'hole_complexity': 1, 'penalties': 32, 'penalty_strength': 10, 'multiplier': 1, 'multiplier_strength': 2, 'tool_radius': 1.0}\n",
      "Too dense\n",
      "{'complexity': 16, 'size': 30, 'turn_costs': 50.0, 'holes': 4, 'hole_size': 1.6, 'hole_complexity': 4, 'penalties': 32, 'penalty_strength': 5, 'multiplier': 2, 'multiplier_strength': 5, 'tool_radius': 1.0}\n",
      "{'complexity': 2, 'size': 25, 'turn_costs': 5.0, 'holes': 16, 'hole_size': 0.8, 'hole_complexity': 2, 'penalties': 4, 'penalty_strength': 10, 'multiplier': 4, 'multiplier_strength': 5, 'tool_radius': 1.0}\n",
      "Too much expensive.\n",
      "{'complexity': 16, 'size': 30, 'turn_costs': 50.0, 'holes': 4, 'hole_size': 0.2, 'hole_complexity': 4, 'penalties': 16, 'penalty_strength': 5, 'multiplier': 1, 'multiplier_strength': 2, 'tool_radius': 1.0}\n",
      "{'complexity': 8, 'size': 40, 'turn_costs': 1.0, 'holes': 1, 'hole_size': 1.6, 'hole_complexity': 4, 'penalties': 16, 'penalty_strength': 10, 'multiplier': 1, 'multiplier_strength': 10, 'tool_radius': 1.0}\n",
      "{'complexity': 16, 'size': 25, 'turn_costs': 50.0, 'holes': 2, 'hole_size': 0.4, 'hole_complexity': 2, 'penalties': 8, 'penalty_strength': 10, 'multiplier': 1, 'multiplier_strength': 5, 'tool_radius': 1.0}\n",
      "{'complexity': 2, 'size': 40, 'turn_costs': 50.0, 'holes': 8, 'hole_size': 0.4, 'hole_complexity': 2, 'penalties': 16, 'penalty_strength': 5, 'multiplier': 4, 'multiplier_strength': 50, 'tool_radius': 1.0}\n",
      "Too much expensive.\n",
      "{'complexity': 8, 'size': 40, 'turn_costs': 1.0, 'holes': 8, 'hole_size': 0.4, 'hole_complexity': 1, 'penalties': 16, 'penalty_strength': 5, 'multiplier': 4, 'multiplier_strength': 5, 'tool_radius': 1.0}\n",
      "{'complexity': 4, 'size': 25, 'turn_costs': 5.0, 'holes': 8, 'hole_size': 0.2, 'hole_complexity': 4, 'penalties': 4, 'penalty_strength': 5, 'multiplier': 8, 'multiplier_strength': 10, 'tool_radius': 1.0}\n",
      "Too much expensive.\n",
      "{'complexity': 16, 'size': 40, 'turn_costs': 1.0, 'holes': 8, 'hole_size': 1.6, 'hole_complexity': 2, 'penalties': 32, 'penalty_strength': 5, 'multiplier': 8, 'multiplier_strength': 5, 'tool_radius': 1.0}\n",
      "{'complexity': 8, 'size': 25, 'turn_costs': 5.0, 'holes': 8, 'hole_size': 0.2, 'hole_complexity': 2, 'penalties': 32, 'penalty_strength': 5, 'multiplier': 1, 'multiplier_strength': 10, 'tool_radius': 1.0}\n",
      "{'complexity': 4, 'size': 40, 'turn_costs': 5.0, 'holes': 16, 'hole_size': 1.6, 'hole_complexity': 4, 'penalties': 4, 'penalty_strength': 10, 'multiplier': 1, 'multiplier_strength': 2, 'tool_radius': 1.0}\n",
      "{'complexity': 2, 'size': 30, 'turn_costs': 50.0, 'holes': 8, 'hole_size': 0.4, 'hole_complexity': 1, 'penalties': 32, 'penalty_strength': 5, 'multiplier': 4, 'multiplier_strength': 50, 'tool_radius': 1.0}\n",
      "Feasible area is not connected.\n",
      "{'complexity': 2, 'size': 40, 'turn_costs': 1.0, 'holes': 16, 'hole_size': 1.6, 'hole_complexity': 1, 'penalties': 32, 'penalty_strength': 5, 'multiplier': 2, 'multiplier_strength': 2, 'tool_radius': 1.0}\n",
      "{'complexity': 4, 'size': 30, 'turn_costs': 50.0, 'holes': 8, 'hole_size': 0.8, 'hole_complexity': 2, 'penalties': 16, 'penalty_strength': 5, 'multiplier': 4, 'multiplier_strength': 50, 'tool_radius': 1.0}\n",
      "Too much expensive.\n",
      "{'complexity': 8, 'size': 30, 'turn_costs': 1.0, 'holes': 1, 'hole_size': 0.4, 'hole_complexity': 4, 'penalties': 4, 'penalty_strength': 10, 'multiplier': 4, 'multiplier_strength': 2, 'tool_radius': 1.0}\n",
      "Too much expensive.\n",
      "{'complexity': 16, 'size': 40, 'turn_costs': 1.0, 'holes': 2, 'hole_size': 1.6, 'hole_complexity': 1, 'penalties': 8, 'penalty_strength': 5, 'multiplier': 4, 'multiplier_strength': 10, 'tool_radius': 1.0}\n",
      "{'complexity': 8, 'size': 30, 'turn_costs': 1.0, 'holes': 8, 'hole_size': 0.2, 'hole_complexity': 4, 'penalties': 32, 'penalty_strength': 10, 'multiplier': 4, 'multiplier_strength': 50, 'tool_radius': 1.0}\n",
      "'LineString' object has no attribute 'exterior'\n",
      "{'complexity': 2, 'size': 30, 'turn_costs': 5.0, 'holes': 2, 'hole_size': 0.4, 'hole_complexity': 4, 'penalties': 4, 'penalty_strength': 10, 'multiplier': 8, 'multiplier_strength': 5, 'tool_radius': 1.0}\n",
      "Too much expensive.\n",
      "{'complexity': 16, 'size': 30, 'turn_costs': 50.0, 'holes': 2, 'hole_size': 0.4, 'hole_complexity': 2, 'penalties': 32, 'penalty_strength': 5, 'multiplier': 1, 'multiplier_strength': 2, 'tool_radius': 1.0}\n",
      "{'complexity': 8, 'size': 25, 'turn_costs': 50.0, 'holes': 4, 'hole_size': 0.8, 'hole_complexity': 2, 'penalties': 4, 'penalty_strength': 5, 'multiplier': 2, 'multiplier_strength': 50, 'tool_radius': 1.0}\n",
      "{'complexity': 4, 'size': 30, 'turn_costs': 5.0, 'holes': 16, 'hole_size': 0.8, 'hole_complexity': 1, 'penalties': 32, 'penalty_strength': 10, 'multiplier': 2, 'multiplier_strength': 10, 'tool_radius': 1.0}\n",
      "Feasible area is not connected.\n",
      "{'complexity': 8, 'size': 40, 'turn_costs': 1.0, 'holes': 2, 'hole_size': 0.8, 'hole_complexity': 2, 'penalties': 16, 'penalty_strength': 5, 'multiplier': 2, 'multiplier_strength': 50, 'tool_radius': 1.0}\n",
      "{'complexity': 4, 'size': 30, 'turn_costs': 5.0, 'holes': 2, 'hole_size': 0.8, 'hole_complexity': 2, 'penalties': 4, 'penalty_strength': 5, 'multiplier': 1, 'multiplier_strength': 50, 'tool_radius': 1.0}\n",
      "{'complexity': 4, 'size': 25, 'turn_costs': 50.0, 'holes': 2, 'hole_size': 0.8, 'hole_complexity': 2, 'penalties': 4, 'penalty_strength': 10, 'multiplier': 1, 'multiplier_strength': 5, 'tool_radius': 1.0}\n",
      "{'complexity': 8, 'size': 30, 'turn_costs': 1.0, 'holes': 4, 'hole_size': 1.6, 'hole_complexity': 2, 'penalties': 8, 'penalty_strength': 5, 'multiplier': 4, 'multiplier_strength': 5, 'tool_radius': 1.0}\n",
      "Too much expensive.\n",
      "{'complexity': 8, 'size': 30, 'turn_costs': 50.0, 'holes': 8, 'hole_size': 1.6, 'hole_complexity': 4, 'penalties': 16, 'penalty_strength': 10, 'multiplier': 4, 'multiplier_strength': 5, 'tool_radius': 1.0}\n",
      "{'complexity': 8, 'size': 40, 'turn_costs': 5.0, 'holes': 16, 'hole_size': 0.4, 'hole_complexity': 1, 'penalties': 16, 'penalty_strength': 10, 'multiplier': 1, 'multiplier_strength': 2, 'tool_radius': 1.0}\n",
      "{'complexity': 8, 'size': 30, 'turn_costs': 1.0, 'holes': 16, 'hole_size': 0.8, 'hole_complexity': 2, 'penalties': 4, 'penalty_strength': 10, 'multiplier': 2, 'multiplier_strength': 2, 'tool_radius': 1.0}\n",
      "'MultiPolygon' object has no attribute 'exterior'\n",
      "{'complexity': 2, 'size': 30, 'turn_costs': 5.0, 'holes': 8, 'hole_size': 0.8, 'hole_complexity': 4, 'penalties': 4, 'penalty_strength': 5, 'multiplier': 8, 'multiplier_strength': 10, 'tool_radius': 1.0}\n",
      "Too much expensive.\n",
      "{'complexity': 4, 'size': 25, 'turn_costs': 1.0, 'holes': 8, 'hole_size': 0.2, 'hole_complexity': 2, 'penalties': 8, 'penalty_strength': 5, 'multiplier': 8, 'multiplier_strength': 5, 'tool_radius': 1.0}\n",
      "Too much expensive.\n",
      "{'complexity': 4, 'size': 40, 'turn_costs': 1.0, 'holes': 8, 'hole_size': 0.4, 'hole_complexity': 1, 'penalties': 16, 'penalty_strength': 5, 'multiplier': 2, 'multiplier_strength': 50, 'tool_radius': 1.0}\n",
      "'MultiPolygon' object has no attribute 'exterior'\n",
      "{'complexity': 2, 'size': 30, 'turn_costs': 50.0, 'holes': 2, 'hole_size': 0.4, 'hole_complexity': 1, 'penalties': 8, 'penalty_strength': 5, 'multiplier': 1, 'multiplier_strength': 5, 'tool_radius': 1.0}\n",
      "{'complexity': 2, 'size': 30, 'turn_costs': 1.0, 'holes': 2, 'hole_size': 0.4, 'hole_complexity': 4, 'penalties': 8, 'penalty_strength': 10, 'multiplier': 1, 'multiplier_strength': 2, 'tool_radius': 1.0}\n",
      "{'complexity': 2, 'size': 40, 'turn_costs': 1.0, 'holes': 2, 'hole_size': 0.8, 'hole_complexity': 2, 'penalties': 8, 'penalty_strength': 10, 'multiplier': 2, 'multiplier_strength': 2, 'tool_radius': 1.0}\n",
      "{'complexity': 16, 'size': 40, 'turn_costs': 50.0, 'holes': 16, 'hole_size': 1.6, 'hole_complexity': 2, 'penalties': 16, 'penalty_strength': 5, 'multiplier': 1, 'multiplier_strength': 50, 'tool_radius': 1.0}\n",
      "Feasible area is not connected.\n",
      "{'complexity': 2, 'size': 40, 'turn_costs': 50.0, 'holes': 8, 'hole_size': 0.4, 'hole_complexity': 1, 'penalties': 4, 'penalty_strength': 5, 'multiplier': 4, 'multiplier_strength': 5, 'tool_radius': 1.0}\n",
      "Too much expensive.\n",
      "{'complexity': 4, 'size': 25, 'turn_costs': 50.0, 'holes': 16, 'hole_size': 0.8, 'hole_complexity': 2, 'penalties': 16, 'penalty_strength': 5, 'multiplier': 4, 'multiplier_strength': 5, 'tool_radius': 1.0}\n",
      "'LineString' object has no attribute 'exterior'\n",
      "{'complexity': 16, 'size': 40, 'turn_costs': 1.0, 'holes': 4, 'hole_size': 1.6, 'hole_complexity': 4, 'penalties': 8, 'penalty_strength': 10, 'multiplier': 4, 'multiplier_strength': 50, 'tool_radius': 1.0}\n",
      "{'complexity': 16, 'size': 30, 'turn_costs': 5.0, 'holes': 2, 'hole_size': 0.2, 'hole_complexity': 2, 'penalties': 8, 'penalty_strength': 10, 'multiplier': 2, 'multiplier_strength': 2, 'tool_radius': 1.0}\n",
      "{'complexity': 8, 'size': 40, 'turn_costs': 5.0, 'holes': 1, 'hole_size': 0.4, 'hole_complexity': 1, 'penalties': 32, 'penalty_strength': 10, 'multiplier': 2, 'multiplier_strength': 50, 'tool_radius': 1.0}\n",
      "{'complexity': 4, 'size': 25, 'turn_costs': 1.0, 'holes': 2, 'hole_size': 0.4, 'hole_complexity': 1, 'penalties': 32, 'penalty_strength': 10, 'multiplier': 1, 'multiplier_strength': 10, 'tool_radius': 1.0}\n",
      "Too dense\n",
      "{'complexity': 16, 'size': 25, 'turn_costs': 5.0, 'holes': 16, 'hole_size': 0.2, 'hole_complexity': 1, 'penalties': 16, 'penalty_strength': 5, 'multiplier': 2, 'multiplier_strength': 2, 'tool_radius': 1.0}\n",
      "'MultiPolygon' object has no attribute 'exterior'\n",
      "{'complexity': 16, 'size': 30, 'turn_costs': 50.0, 'holes': 8, 'hole_size': 0.2, 'hole_complexity': 2, 'penalties': 32, 'penalty_strength': 10, 'multiplier': 4, 'multiplier_strength': 5, 'tool_radius': 1.0}\n",
      "{'complexity': 8, 'size': 30, 'turn_costs': 1.0, 'holes': 8, 'hole_size': 1.6, 'hole_complexity': 1, 'penalties': 8, 'penalty_strength': 5, 'multiplier': 1, 'multiplier_strength': 5, 'tool_radius': 1.0}\n",
      "'MultiPolygon' object has no attribute 'exterior'\n",
      "{'complexity': 8, 'size': 40, 'turn_costs': 50.0, 'holes': 8, 'hole_size': 0.4, 'hole_complexity': 2, 'penalties': 32, 'penalty_strength': 10, 'multiplier': 1, 'multiplier_strength': 2, 'tool_radius': 1.0}\n",
      "Too dense\n",
      "{'complexity': 2, 'size': 30, 'turn_costs': 5.0, 'holes': 8, 'hole_size': 1.6, 'hole_complexity': 2, 'penalties': 8, 'penalty_strength': 10, 'multiplier': 8, 'multiplier_strength': 2, 'tool_radius': 1.0}\n",
      "Too much expensive.\n",
      "{'complexity': 2, 'size': 30, 'turn_costs': 50.0, 'holes': 1, 'hole_size': 1.6, 'hole_complexity': 2, 'penalties': 32, 'penalty_strength': 10, 'multiplier': 8, 'multiplier_strength': 10, 'tool_radius': 1.0}\n",
      "Too much expensive.\n",
      "{'complexity': 8, 'size': 40, 'turn_costs': 50.0, 'holes': 8, 'hole_size': 0.8, 'hole_complexity': 4, 'penalties': 32, 'penalty_strength': 5, 'multiplier': 1, 'multiplier_strength': 5, 'tool_radius': 1.0}\n",
      "'MultiPolygon' object has no attribute 'exterior'\n",
      "{'complexity': 8, 'size': 40, 'turn_costs': 1.0, 'holes': 4, 'hole_size': 0.2, 'hole_complexity': 4, 'penalties': 32, 'penalty_strength': 10, 'multiplier': 4, 'multiplier_strength': 2, 'tool_radius': 1.0}\n",
      "{'complexity': 16, 'size': 40, 'turn_costs': 50.0, 'holes': 8, 'hole_size': 1.6, 'hole_complexity': 4, 'penalties': 16, 'penalty_strength': 10, 'multiplier': 4, 'multiplier_strength': 2, 'tool_radius': 1.0}\n",
      "{'complexity': 4, 'size': 25, 'turn_costs': 5.0, 'holes': 1, 'hole_size': 0.4, 'hole_complexity': 4, 'penalties': 8, 'penalty_strength': 5, 'multiplier': 1, 'multiplier_strength': 5, 'tool_radius': 1.0}\n",
      "{'complexity': 8, 'size': 40, 'turn_costs': 1.0, 'holes': 1, 'hole_size': 0.2, 'hole_complexity': 4, 'penalties': 32, 'penalty_strength': 5, 'multiplier': 4, 'multiplier_strength': 10, 'tool_radius': 1.0}\n",
      "{'complexity': 2, 'size': 40, 'turn_costs': 50.0, 'holes': 1, 'hole_size': 0.4, 'hole_complexity': 4, 'penalties': 4, 'penalty_strength': 10, 'multiplier': 1, 'multiplier_strength': 10, 'tool_radius': 1.0}\n",
      "{'complexity': 4, 'size': 40, 'turn_costs': 50.0, 'holes': 8, 'hole_size': 1.6, 'hole_complexity': 1, 'penalties': 32, 'penalty_strength': 5, 'multiplier': 1, 'multiplier_strength': 50, 'tool_radius': 1.0}\n",
      "Too dense\n",
      "{'complexity': 4, 'size': 30, 'turn_costs': 1.0, 'holes': 1, 'hole_size': 0.2, 'hole_complexity': 4, 'penalties': 32, 'penalty_strength': 5, 'multiplier': 8, 'multiplier_strength': 10, 'tool_radius': 1.0}\n",
      "Too much expensive.\n",
      "{'complexity': 8, 'size': 30, 'turn_costs': 1.0, 'holes': 8, 'hole_size': 1.6, 'hole_complexity': 1, 'penalties': 4, 'penalty_strength': 5, 'multiplier': 2, 'multiplier_strength': 10, 'tool_radius': 1.0}\n",
      "{'complexity': 4, 'size': 25, 'turn_costs': 5.0, 'holes': 16, 'hole_size': 0.8, 'hole_complexity': 2, 'penalties': 32, 'penalty_strength': 5, 'multiplier': 2, 'multiplier_strength': 2, 'tool_radius': 1.0}\n",
      "{'complexity': 2, 'size': 30, 'turn_costs': 50.0, 'holes': 16, 'hole_size': 1.6, 'hole_complexity': 4, 'penalties': 4, 'penalty_strength': 10, 'multiplier': 4, 'multiplier_strength': 50, 'tool_radius': 1.0}\n",
      "Too much expensive.\n",
      "{'complexity': 4, 'size': 40, 'turn_costs': 5.0, 'holes': 2, 'hole_size': 0.4, 'hole_complexity': 4, 'penalties': 8, 'penalty_strength': 10, 'multiplier': 2, 'multiplier_strength': 5, 'tool_radius': 1.0}\n",
      "{'complexity': 16, 'size': 25, 'turn_costs': 1.0, 'holes': 1, 'hole_size': 1.6, 'hole_complexity': 4, 'penalties': 8, 'penalty_strength': 5, 'multiplier': 8, 'multiplier_strength': 10, 'tool_radius': 1.0}\n",
      "{'complexity': 16, 'size': 25, 'turn_costs': 50.0, 'holes': 1, 'hole_size': 0.4, 'hole_complexity': 4, 'penalties': 32, 'penalty_strength': 5, 'multiplier': 8, 'multiplier_strength': 5, 'tool_radius': 1.0}\n",
      "Too much expensive.\n",
      "{'complexity': 8, 'size': 25, 'turn_costs': 1.0, 'holes': 1, 'hole_size': 0.4, 'hole_complexity': 2, 'penalties': 16, 'penalty_strength': 10, 'multiplier': 4, 'multiplier_strength': 2, 'tool_radius': 1.0}\n",
      "{'complexity': 16, 'size': 25, 'turn_costs': 50.0, 'holes': 4, 'hole_size': 0.8, 'hole_complexity': 2, 'penalties': 16, 'penalty_strength': 10, 'multiplier': 2, 'multiplier_strength': 2, 'tool_radius': 1.0}\n",
      "{'complexity': 8, 'size': 30, 'turn_costs': 50.0, 'holes': 2, 'hole_size': 0.4, 'hole_complexity': 4, 'penalties': 16, 'penalty_strength': 10, 'multiplier': 8, 'multiplier_strength': 50, 'tool_radius': 1.0}\n",
      "Too much expensive.\n",
      "{'complexity': 8, 'size': 30, 'turn_costs': 5.0, 'holes': 16, 'hole_size': 1.6, 'hole_complexity': 1, 'penalties': 4, 'penalty_strength': 5, 'multiplier': 4, 'multiplier_strength': 10, 'tool_radius': 1.0}\n",
      "{'complexity': 4, 'size': 40, 'turn_costs': 1.0, 'holes': 2, 'hole_size': 0.8, 'hole_complexity': 1, 'penalties': 32, 'penalty_strength': 10, 'multiplier': 1, 'multiplier_strength': 2, 'tool_radius': 1.0}\n",
      "Too dense\n",
      "{'complexity': 16, 'size': 30, 'turn_costs': 1.0, 'holes': 1, 'hole_size': 0.4, 'hole_complexity': 4, 'penalties': 8, 'penalty_strength': 10, 'multiplier': 1, 'multiplier_strength': 50, 'tool_radius': 1.0}\n",
      "{'complexity': 16, 'size': 40, 'turn_costs': 5.0, 'holes': 16, 'hole_size': 0.8, 'hole_complexity': 4, 'penalties': 16, 'penalty_strength': 5, 'multiplier': 4, 'multiplier_strength': 10, 'tool_radius': 1.0}\n",
      "'MultiPolygon' object has no attribute 'exterior'\n",
      "{'complexity': 16, 'size': 25, 'turn_costs': 50.0, 'holes': 2, 'hole_size': 0.4, 'hole_complexity': 2, 'penalties': 16, 'penalty_strength': 5, 'multiplier': 1, 'multiplier_strength': 5, 'tool_radius': 1.0}\n",
      "{'complexity': 2, 'size': 40, 'turn_costs': 50.0, 'holes': 1, 'hole_size': 0.4, 'hole_complexity': 4, 'penalties': 16, 'penalty_strength': 5, 'multiplier': 4, 'multiplier_strength': 10, 'tool_radius': 1.0}\n",
      "Too much expensive.\n",
      "{'complexity': 2, 'size': 25, 'turn_costs': 1.0, 'holes': 1, 'hole_size': 1.6, 'hole_complexity': 1, 'penalties': 16, 'penalty_strength': 10, 'multiplier': 1, 'multiplier_strength': 10, 'tool_radius': 1.0}\n",
      "Too dense\n",
      "{'complexity': 16, 'size': 25, 'turn_costs': 5.0, 'holes': 4, 'hole_size': 0.2, 'hole_complexity': 4, 'penalties': 32, 'penalty_strength': 10, 'multiplier': 1, 'multiplier_strength': 2, 'tool_radius': 1.0}\n",
      "{'complexity': 16, 'size': 30, 'turn_costs': 5.0, 'holes': 1, 'hole_size': 0.4, 'hole_complexity': 1, 'penalties': 16, 'penalty_strength': 5, 'multiplier': 1, 'multiplier_strength': 2, 'tool_radius': 1.0}\n",
      "{'complexity': 8, 'size': 25, 'turn_costs': 50.0, 'holes': 1, 'hole_size': 0.2, 'hole_complexity': 4, 'penalties': 4, 'penalty_strength': 5, 'multiplier': 8, 'multiplier_strength': 10, 'tool_radius': 1.0}\n",
      "Too much expensive.\n",
      "{'complexity': 2, 'size': 25, 'turn_costs': 50.0, 'holes': 16, 'hole_size': 0.2, 'hole_complexity': 4, 'penalties': 8, 'penalty_strength': 5, 'multiplier': 1, 'multiplier_strength': 50, 'tool_radius': 1.0}\n",
      "'MultiPolygon' object has no attribute 'exterior'\n",
      "{'complexity': 8, 'size': 25, 'turn_costs': 50.0, 'holes': 1, 'hole_size': 0.2, 'hole_complexity': 2, 'penalties': 16, 'penalty_strength': 5, 'multiplier': 2, 'multiplier_strength': 10, 'tool_radius': 1.0}\n",
      "{'complexity': 2, 'size': 30, 'turn_costs': 50.0, 'holes': 2, 'hole_size': 0.2, 'hole_complexity': 1, 'penalties': 32, 'penalty_strength': 5, 'multiplier': 8, 'multiplier_strength': 5, 'tool_radius': 1.0}\n",
      "Too much expensive.\n",
      "{'complexity': 2, 'size': 25, 'turn_costs': 5.0, 'holes': 4, 'hole_size': 0.4, 'hole_complexity': 2, 'penalties': 16, 'penalty_strength': 10, 'multiplier': 4, 'multiplier_strength': 2, 'tool_radius': 1.0}\n",
      "Too much expensive.\n",
      "{'complexity': 16, 'size': 25, 'turn_costs': 5.0, 'holes': 16, 'hole_size': 1.6, 'hole_complexity': 1, 'penalties': 16, 'penalty_strength': 10, 'multiplier': 4, 'multiplier_strength': 50, 'tool_radius': 1.0}\n",
      "'MultiPolygon' object has no attribute 'exterior'\n",
      "{'complexity': 4, 'size': 25, 'turn_costs': 1.0, 'holes': 2, 'hole_size': 1.6, 'hole_complexity': 1, 'penalties': 4, 'penalty_strength': 5, 'multiplier': 8, 'multiplier_strength': 10, 'tool_radius': 1.0}\n",
      "Too much expensive.\n",
      "{'complexity': 2, 'size': 25, 'turn_costs': 50.0, 'holes': 16, 'hole_size': 0.2, 'hole_complexity': 4, 'penalties': 8, 'penalty_strength': 5, 'multiplier': 1, 'multiplier_strength': 5, 'tool_radius': 1.0}\n",
      "Feasible area is not connected.\n",
      "{'complexity': 4, 'size': 25, 'turn_costs': 50.0, 'holes': 8, 'hole_size': 0.2, 'hole_complexity': 1, 'penalties': 4, 'penalty_strength': 10, 'multiplier': 1, 'multiplier_strength': 5, 'tool_radius': 1.0}\n",
      "{'complexity': 4, 'size': 30, 'turn_costs': 5.0, 'holes': 1, 'hole_size': 0.8, 'hole_complexity': 2, 'penalties': 8, 'penalty_strength': 10, 'multiplier': 2, 'multiplier_strength': 5, 'tool_radius': 1.0}\n",
      "{'complexity': 2, 'size': 30, 'turn_costs': 50.0, 'holes': 8, 'hole_size': 1.6, 'hole_complexity': 1, 'penalties': 32, 'penalty_strength': 5, 'multiplier': 1, 'multiplier_strength': 2, 'tool_radius': 1.0}\n",
      "{'complexity': 2, 'size': 25, 'turn_costs': 1.0, 'holes': 16, 'hole_size': 0.2, 'hole_complexity': 2, 'penalties': 16, 'penalty_strength': 5, 'multiplier': 4, 'multiplier_strength': 2, 'tool_radius': 1.0}\n",
      "Too much expensive.\n",
      "{'complexity': 8, 'size': 40, 'turn_costs': 5.0, 'holes': 16, 'hole_size': 0.2, 'hole_complexity': 4, 'penalties': 16, 'penalty_strength': 10, 'multiplier': 4, 'multiplier_strength': 2, 'tool_radius': 1.0}\n",
      "{'complexity': 4, 'size': 25, 'turn_costs': 1.0, 'holes': 16, 'hole_size': 0.4, 'hole_complexity': 1, 'penalties': 16, 'penalty_strength': 5, 'multiplier': 1, 'multiplier_strength': 2, 'tool_radius': 1.0}\n",
      "'LineString' object has no attribute 'exterior'\n",
      "{'complexity': 4, 'size': 40, 'turn_costs': 1.0, 'holes': 8, 'hole_size': 0.2, 'hole_complexity': 1, 'penalties': 32, 'penalty_strength': 10, 'multiplier': 8, 'multiplier_strength': 10, 'tool_radius': 1.0}\n",
      "Too much expensive.\n",
      "{'complexity': 2, 'size': 25, 'turn_costs': 5.0, 'holes': 4, 'hole_size': 1.6, 'hole_complexity': 4, 'penalties': 8, 'penalty_strength': 5, 'multiplier': 8, 'multiplier_strength': 5, 'tool_radius': 1.0}\n",
      "Too much expensive.\n",
      "{'complexity': 2, 'size': 40, 'turn_costs': 50.0, 'holes': 1, 'hole_size': 0.2, 'hole_complexity': 4, 'penalties': 32, 'penalty_strength': 10, 'multiplier': 1, 'multiplier_strength': 50, 'tool_radius': 1.0}\n",
      "Too dense\n",
      "{'complexity': 8, 'size': 25, 'turn_costs': 50.0, 'holes': 1, 'hole_size': 0.8, 'hole_complexity': 1, 'penalties': 32, 'penalty_strength': 10, 'multiplier': 2, 'multiplier_strength': 5, 'tool_radius': 1.0}\n",
      "Too dense\n",
      "{'complexity': 8, 'size': 30, 'turn_costs': 5.0, 'holes': 1, 'hole_size': 1.6, 'hole_complexity': 4, 'penalties': 8, 'penalty_strength': 10, 'multiplier': 8, 'multiplier_strength': 10, 'tool_radius': 1.0}\n",
      "Too much expensive.\n",
      "{'complexity': 8, 'size': 25, 'turn_costs': 1.0, 'holes': 2, 'hole_size': 0.2, 'hole_complexity': 2, 'penalties': 32, 'penalty_strength': 5, 'multiplier': 2, 'multiplier_strength': 10, 'tool_radius': 1.0}\n",
      "{'complexity': 4, 'size': 40, 'turn_costs': 1.0, 'holes': 16, 'hole_size': 0.8, 'hole_complexity': 4, 'penalties': 8, 'penalty_strength': 5, 'multiplier': 2, 'multiplier_strength': 50, 'tool_radius': 1.0}\n",
      "{'complexity': 2, 'size': 25, 'turn_costs': 1.0, 'holes': 8, 'hole_size': 0.4, 'hole_complexity': 4, 'penalties': 4, 'penalty_strength': 10, 'multiplier': 8, 'multiplier_strength': 10, 'tool_radius': 1.0}\n",
      "'MultiPolygon' object has no attribute 'exterior'\n",
      "{'complexity': 16, 'size': 30, 'turn_costs': 1.0, 'holes': 16, 'hole_size': 0.2, 'hole_complexity': 2, 'penalties': 32, 'penalty_strength': 10, 'multiplier': 2, 'multiplier_strength': 50, 'tool_radius': 1.0}\n",
      "'MultiPolygon' object has no attribute 'exterior'\n",
      "{'complexity': 16, 'size': 25, 'turn_costs': 5.0, 'holes': 4, 'hole_size': 0.2, 'hole_complexity': 2, 'penalties': 32, 'penalty_strength': 10, 'multiplier': 4, 'multiplier_strength': 50, 'tool_radius': 1.0}\n",
      "{'complexity': 4, 'size': 30, 'turn_costs': 1.0, 'holes': 8, 'hole_size': 0.8, 'hole_complexity': 4, 'penalties': 8, 'penalty_strength': 5, 'multiplier': 2, 'multiplier_strength': 2, 'tool_radius': 1.0}\n",
      "Feasible area is not connected.\n",
      "{'complexity': 4, 'size': 40, 'turn_costs': 50.0, 'holes': 2, 'hole_size': 0.4, 'hole_complexity': 4, 'penalties': 16, 'penalty_strength': 5, 'multiplier': 4, 'multiplier_strength': 2, 'tool_radius': 1.0}\n",
      "Too much expensive.\n",
      "{'complexity': 16, 'size': 40, 'turn_costs': 5.0, 'holes': 16, 'hole_size': 0.4, 'hole_complexity': 2, 'penalties': 16, 'penalty_strength': 10, 'multiplier': 2, 'multiplier_strength': 50, 'tool_radius': 1.0}\n",
      "{'complexity': 16, 'size': 40, 'turn_costs': 5.0, 'holes': 16, 'hole_size': 0.8, 'hole_complexity': 2, 'penalties': 8, 'penalty_strength': 10, 'multiplier': 4, 'multiplier_strength': 50, 'tool_radius': 1.0}\n",
      "{'complexity': 4, 'size': 30, 'turn_costs': 50.0, 'holes': 4, 'hole_size': 1.6, 'hole_complexity': 1, 'penalties': 16, 'penalty_strength': 5, 'multiplier': 2, 'multiplier_strength': 5, 'tool_radius': 1.0}\n",
      "{'complexity': 16, 'size': 30, 'turn_costs': 50.0, 'holes': 4, 'hole_size': 0.4, 'hole_complexity': 1, 'penalties': 32, 'penalty_strength': 10, 'multiplier': 4, 'multiplier_strength': 10, 'tool_radius': 1.0}\n",
      "Too dense\n",
      "{'complexity': 2, 'size': 25, 'turn_costs': 1.0, 'holes': 1, 'hole_size': 1.6, 'hole_complexity': 4, 'penalties': 4, 'penalty_strength': 5, 'multiplier': 4, 'multiplier_strength': 2, 'tool_radius': 1.0}\n",
      "Too much expensive.\n",
      "{'complexity': 2, 'size': 40, 'turn_costs': 50.0, 'holes': 8, 'hole_size': 0.4, 'hole_complexity': 2, 'penalties': 32, 'penalty_strength': 5, 'multiplier': 1, 'multiplier_strength': 5, 'tool_radius': 1.0}\n",
      "'MultiPolygon' object has no attribute 'exterior'\n",
      "{'complexity': 4, 'size': 40, 'turn_costs': 50.0, 'holes': 16, 'hole_size': 1.6, 'hole_complexity': 1, 'penalties': 4, 'penalty_strength': 5, 'multiplier': 4, 'multiplier_strength': 2, 'tool_radius': 1.0}\n",
      "{'complexity': 8, 'size': 30, 'turn_costs': 5.0, 'holes': 16, 'hole_size': 1.6, 'hole_complexity': 2, 'penalties': 8, 'penalty_strength': 5, 'multiplier': 1, 'multiplier_strength': 5, 'tool_radius': 1.0}\n",
      "{'complexity': 16, 'size': 25, 'turn_costs': 50.0, 'holes': 16, 'hole_size': 1.6, 'hole_complexity': 1, 'penalties': 32, 'penalty_strength': 10, 'multiplier': 1, 'multiplier_strength': 2, 'tool_radius': 1.0}\n",
      "{'complexity': 4, 'size': 30, 'turn_costs': 1.0, 'holes': 8, 'hole_size': 0.4, 'hole_complexity': 1, 'penalties': 8, 'penalty_strength': 5, 'multiplier': 4, 'multiplier_strength': 2, 'tool_radius': 1.0}\n",
      "{'complexity': 8, 'size': 40, 'turn_costs': 5.0, 'holes': 1, 'hole_size': 0.8, 'hole_complexity': 2, 'penalties': 4, 'penalty_strength': 5, 'multiplier': 8, 'multiplier_strength': 5, 'tool_radius': 1.0}\n",
      "Too much expensive.\n",
      "{'complexity': 16, 'size': 25, 'turn_costs': 5.0, 'holes': 2, 'hole_size': 0.4, 'hole_complexity': 4, 'penalties': 4, 'penalty_strength': 10, 'multiplier': 8, 'multiplier_strength': 10, 'tool_radius': 1.0}\n",
      "{'complexity': 8, 'size': 25, 'turn_costs': 50.0, 'holes': 8, 'hole_size': 0.4, 'hole_complexity': 2, 'penalties': 8, 'penalty_strength': 10, 'multiplier': 8, 'multiplier_strength': 10, 'tool_radius': 1.0}\n",
      "Too much expensive.\n",
      "{'complexity': 16, 'size': 40, 'turn_costs': 1.0, 'holes': 2, 'hole_size': 0.2, 'hole_complexity': 2, 'penalties': 16, 'penalty_strength': 10, 'multiplier': 4, 'multiplier_strength': 2, 'tool_radius': 1.0}\n",
      "{'complexity': 4, 'size': 40, 'turn_costs': 1.0, 'holes': 4, 'hole_size': 0.8, 'hole_complexity': 1, 'penalties': 8, 'penalty_strength': 10, 'multiplier': 4, 'multiplier_strength': 5, 'tool_radius': 1.0}\n",
      "Too much expensive.\n",
      "{'complexity': 2, 'size': 40, 'turn_costs': 1.0, 'holes': 4, 'hole_size': 0.2, 'hole_complexity': 4, 'penalties': 4, 'penalty_strength': 10, 'multiplier': 8, 'multiplier_strength': 5, 'tool_radius': 1.0}\n",
      "Too much expensive.\n",
      "{'complexity': 2, 'size': 25, 'turn_costs': 50.0, 'holes': 16, 'hole_size': 0.8, 'hole_complexity': 4, 'penalties': 16, 'penalty_strength': 10, 'multiplier': 8, 'multiplier_strength': 50, 'tool_radius': 1.0}\n",
      "Too much expensive.\n",
      "{'complexity': 16, 'size': 30, 'turn_costs': 50.0, 'holes': 8, 'hole_size': 1.6, 'hole_complexity': 4, 'penalties': 4, 'penalty_strength': 10, 'multiplier': 2, 'multiplier_strength': 10, 'tool_radius': 1.0}\n",
      "{'complexity': 8, 'size': 40, 'turn_costs': 50.0, 'holes': 8, 'hole_size': 0.2, 'hole_complexity': 4, 'penalties': 32, 'penalty_strength': 10, 'multiplier': 4, 'multiplier_strength': 50, 'tool_radius': 1.0}\n",
      "Too dense\n",
      "{'complexity': 2, 'size': 30, 'turn_costs': 5.0, 'holes': 1, 'hole_size': 0.4, 'hole_complexity': 1, 'penalties': 4, 'penalty_strength': 5, 'multiplier': 4, 'multiplier_strength': 10, 'tool_radius': 1.0}\n",
      "Too much expensive.\n",
      "{'complexity': 16, 'size': 40, 'turn_costs': 5.0, 'holes': 1, 'hole_size': 0.2, 'hole_complexity': 1, 'penalties': 4, 'penalty_strength': 10, 'multiplier': 4, 'multiplier_strength': 10, 'tool_radius': 1.0}\n",
      "{'complexity': 8, 'size': 40, 'turn_costs': 1.0, 'holes': 8, 'hole_size': 0.4, 'hole_complexity': 4, 'penalties': 16, 'penalty_strength': 5, 'multiplier': 2, 'multiplier_strength': 5, 'tool_radius': 1.0}\n",
      "'MultiPolygon' object has no attribute 'exterior'\n",
      "{'complexity': 2, 'size': 40, 'turn_costs': 5.0, 'holes': 8, 'hole_size': 0.4, 'hole_complexity': 4, 'penalties': 4, 'penalty_strength': 5, 'multiplier': 1, 'multiplier_strength': 5, 'tool_radius': 1.0}\n",
      "{'complexity': 2, 'size': 30, 'turn_costs': 5.0, 'holes': 4, 'hole_size': 1.6, 'hole_complexity': 4, 'penalties': 16, 'penalty_strength': 10, 'multiplier': 2, 'multiplier_strength': 5, 'tool_radius': 1.0}\n",
      "Too much expensive.\n",
      "{'complexity': 16, 'size': 25, 'turn_costs': 1.0, 'holes': 8, 'hole_size': 0.2, 'hole_complexity': 2, 'penalties': 4, 'penalty_strength': 5, 'multiplier': 4, 'multiplier_strength': 10, 'tool_radius': 1.0}\n",
      "{'complexity': 16, 'size': 25, 'turn_costs': 50.0, 'holes': 2, 'hole_size': 0.4, 'hole_complexity': 4, 'penalties': 4, 'penalty_strength': 5, 'multiplier': 1, 'multiplier_strength': 5, 'tool_radius': 1.0}\n",
      "{'complexity': 4, 'size': 40, 'turn_costs': 5.0, 'holes': 16, 'hole_size': 0.4, 'hole_complexity': 1, 'penalties': 8, 'penalty_strength': 5, 'multiplier': 8, 'multiplier_strength': 10, 'tool_radius': 1.0}\n",
      "'MultiPolygon' object has no attribute 'exterior'\n",
      "{'complexity': 16, 'size': 30, 'turn_costs': 5.0, 'holes': 8, 'hole_size': 0.2, 'hole_complexity': 4, 'penalties': 32, 'penalty_strength': 5, 'multiplier': 8, 'multiplier_strength': 2, 'tool_radius': 1.0}\n",
      "{'complexity': 4, 'size': 40, 'turn_costs': 50.0, 'holes': 1, 'hole_size': 0.4, 'hole_complexity': 4, 'penalties': 4, 'penalty_strength': 10, 'multiplier': 1, 'multiplier_strength': 50, 'tool_radius': 1.0}\n",
      "{'complexity': 16, 'size': 40, 'turn_costs': 50.0, 'holes': 2, 'hole_size': 0.8, 'hole_complexity': 4, 'penalties': 8, 'penalty_strength': 10, 'multiplier': 4, 'multiplier_strength': 2, 'tool_radius': 1.0}\n",
      "{'complexity': 4, 'size': 30, 'turn_costs': 1.0, 'holes': 1, 'hole_size': 0.2, 'hole_complexity': 2, 'penalties': 4, 'penalty_strength': 5, 'multiplier': 2, 'multiplier_strength': 50, 'tool_radius': 1.0}\n",
      "{'complexity': 4, 'size': 25, 'turn_costs': 50.0, 'holes': 4, 'hole_size': 0.2, 'hole_complexity': 2, 'penalties': 32, 'penalty_strength': 10, 'multiplier': 2, 'multiplier_strength': 5, 'tool_radius': 1.0}\n",
      "Too dense\n",
      "{'complexity': 4, 'size': 25, 'turn_costs': 50.0, 'holes': 1, 'hole_size': 0.2, 'hole_complexity': 1, 'penalties': 16, 'penalty_strength': 10, 'multiplier': 8, 'multiplier_strength': 10, 'tool_radius': 1.0}\n",
      "Too much expensive.\n",
      "{'complexity': 16, 'size': 30, 'turn_costs': 5.0, 'holes': 1, 'hole_size': 1.6, 'hole_complexity': 4, 'penalties': 32, 'penalty_strength': 10, 'multiplier': 2, 'multiplier_strength': 50, 'tool_radius': 1.0}\n",
      "{'complexity': 2, 'size': 25, 'turn_costs': 50.0, 'holes': 1, 'hole_size': 0.2, 'hole_complexity': 4, 'penalties': 16, 'penalty_strength': 10, 'multiplier': 4, 'multiplier_strength': 5, 'tool_radius': 1.0}\n",
      "Too much expensive.\n",
      "{'complexity': 8, 'size': 30, 'turn_costs': 5.0, 'holes': 2, 'hole_size': 0.2, 'hole_complexity': 2, 'penalties': 8, 'penalty_strength': 5, 'multiplier': 8, 'multiplier_strength': 50, 'tool_radius': 1.0}\n",
      "Too much expensive.\n",
      "{'complexity': 8, 'size': 30, 'turn_costs': 50.0, 'holes': 16, 'hole_size': 0.2, 'hole_complexity': 4, 'penalties': 4, 'penalty_strength': 5, 'multiplier': 8, 'multiplier_strength': 50, 'tool_radius': 1.0}\n",
      "Too much expensive.\n",
      "{'complexity': 2, 'size': 30, 'turn_costs': 5.0, 'holes': 4, 'hole_size': 0.4, 'hole_complexity': 2, 'penalties': 16, 'penalty_strength': 10, 'multiplier': 4, 'multiplier_strength': 10, 'tool_radius': 1.0}\n",
      "Too much expensive.\n",
      "{'complexity': 8, 'size': 30, 'turn_costs': 5.0, 'holes': 8, 'hole_size': 0.2, 'hole_complexity': 1, 'penalties': 32, 'penalty_strength': 10, 'multiplier': 4, 'multiplier_strength': 10, 'tool_radius': 1.0}\n",
      "Too much expensive.\n",
      "{'complexity': 4, 'size': 30, 'turn_costs': 1.0, 'holes': 4, 'hole_size': 0.2, 'hole_complexity': 2, 'penalties': 32, 'penalty_strength': 10, 'multiplier': 4, 'multiplier_strength': 10, 'tool_radius': 1.0}\n",
      "Too much expensive.\n",
      "{'complexity': 4, 'size': 40, 'turn_costs': 5.0, 'holes': 4, 'hole_size': 0.4, 'hole_complexity': 2, 'penalties': 16, 'penalty_strength': 10, 'multiplier': 2, 'multiplier_strength': 5, 'tool_radius': 1.0}\n",
      "{'complexity': 16, 'size': 40, 'turn_costs': 50.0, 'holes': 1, 'hole_size': 0.8, 'hole_complexity': 4, 'penalties': 16, 'penalty_strength': 10, 'multiplier': 4, 'multiplier_strength': 10, 'tool_radius': 1.0}\n",
      "{'complexity': 4, 'size': 30, 'turn_costs': 50.0, 'holes': 8, 'hole_size': 0.8, 'hole_complexity': 1, 'penalties': 4, 'penalty_strength': 10, 'multiplier': 8, 'multiplier_strength': 50, 'tool_radius': 1.0}\n",
      "'MultiPolygon' object has no attribute 'exterior'\n",
      "{'complexity': 4, 'size': 40, 'turn_costs': 50.0, 'holes': 1, 'hole_size': 0.8, 'hole_complexity': 4, 'penalties': 32, 'penalty_strength': 5, 'multiplier': 1, 'multiplier_strength': 5, 'tool_radius': 1.0}\n",
      "Too dense\n",
      "{'complexity': 8, 'size': 30, 'turn_costs': 5.0, 'holes': 8, 'hole_size': 0.4, 'hole_complexity': 4, 'penalties': 16, 'penalty_strength': 5, 'multiplier': 4, 'multiplier_strength': 50, 'tool_radius': 1.0}\n",
      "'MultiPolygon' object has no attribute 'exterior'\n",
      "{'complexity': 4, 'size': 25, 'turn_costs': 5.0, 'holes': 1, 'hole_size': 1.6, 'hole_complexity': 4, 'penalties': 4, 'penalty_strength': 10, 'multiplier': 8, 'multiplier_strength': 5, 'tool_radius': 1.0}\n",
      "Too much expensive.\n",
      "{'complexity': 16, 'size': 25, 'turn_costs': 50.0, 'holes': 1, 'hole_size': 0.8, 'hole_complexity': 2, 'penalties': 4, 'penalty_strength': 5, 'multiplier': 2, 'multiplier_strength': 2, 'tool_radius': 1.0}\n",
      "{'complexity': 4, 'size': 30, 'turn_costs': 5.0, 'holes': 8, 'hole_size': 0.8, 'hole_complexity': 2, 'penalties': 32, 'penalty_strength': 5, 'multiplier': 2, 'multiplier_strength': 10, 'tool_radius': 1.0}\n",
      "Feasible area is not connected.\n",
      "{'complexity': 2, 'size': 30, 'turn_costs': 5.0, 'holes': 2, 'hole_size': 0.4, 'hole_complexity': 1, 'penalties': 4, 'penalty_strength': 5, 'multiplier': 1, 'multiplier_strength': 2, 'tool_radius': 1.0}\n",
      "{'complexity': 4, 'size': 40, 'turn_costs': 1.0, 'holes': 16, 'hole_size': 0.8, 'hole_complexity': 4, 'penalties': 8, 'penalty_strength': 5, 'multiplier': 2, 'multiplier_strength': 5, 'tool_radius': 1.0}\n",
      "{'complexity': 8, 'size': 40, 'turn_costs': 5.0, 'holes': 2, 'hole_size': 0.8, 'hole_complexity': 4, 'penalties': 4, 'penalty_strength': 10, 'multiplier': 2, 'multiplier_strength': 2, 'tool_radius': 1.0}\n",
      "{'complexity': 8, 'size': 40, 'turn_costs': 50.0, 'holes': 1, 'hole_size': 1.6, 'hole_complexity': 4, 'penalties': 32, 'penalty_strength': 5, 'multiplier': 2, 'multiplier_strength': 5, 'tool_radius': 1.0}\n",
      "{'complexity': 4, 'size': 25, 'turn_costs': 50.0, 'holes': 1, 'hole_size': 0.2, 'hole_complexity': 4, 'penalties': 16, 'penalty_strength': 10, 'multiplier': 1, 'multiplier_strength': 10, 'tool_radius': 1.0}\n",
      "Too dense\n",
      "{'complexity': 16, 'size': 40, 'turn_costs': 5.0, 'holes': 1, 'hole_size': 0.8, 'hole_complexity': 1, 'penalties': 8, 'penalty_strength': 10, 'multiplier': 8, 'multiplier_strength': 5, 'tool_radius': 1.0}\n",
      "{'complexity': 2, 'size': 40, 'turn_costs': 5.0, 'holes': 8, 'hole_size': 0.8, 'hole_complexity': 2, 'penalties': 32, 'penalty_strength': 5, 'multiplier': 4, 'multiplier_strength': 50, 'tool_radius': 1.0}\n",
      "Too much expensive.\n",
      "{'complexity': 8, 'size': 25, 'turn_costs': 1.0, 'holes': 2, 'hole_size': 0.8, 'hole_complexity': 1, 'penalties': 8, 'penalty_strength': 10, 'multiplier': 8, 'multiplier_strength': 5, 'tool_radius': 1.0}\n",
      "Too much expensive.\n",
      "{'complexity': 16, 'size': 30, 'turn_costs': 50.0, 'holes': 4, 'hole_size': 0.8, 'hole_complexity': 1, 'penalties': 32, 'penalty_strength': 5, 'multiplier': 1, 'multiplier_strength': 5, 'tool_radius': 1.0}\n",
      "{'complexity': 2, 'size': 25, 'turn_costs': 5.0, 'holes': 1, 'hole_size': 0.8, 'hole_complexity': 2, 'penalties': 8, 'penalty_strength': 5, 'multiplier': 8, 'multiplier_strength': 2, 'tool_radius': 1.0}\n",
      "Too much expensive.\n",
      "{'complexity': 8, 'size': 25, 'turn_costs': 1.0, 'holes': 4, 'hole_size': 0.4, 'hole_complexity': 2, 'penalties': 8, 'penalty_strength': 10, 'multiplier': 2, 'multiplier_strength': 10, 'tool_radius': 1.0}\n",
      "{'complexity': 8, 'size': 25, 'turn_costs': 1.0, 'holes': 4, 'hole_size': 0.2, 'hole_complexity': 1, 'penalties': 4, 'penalty_strength': 10, 'multiplier': 4, 'multiplier_strength': 5, 'tool_radius': 1.0}\n",
      "{'complexity': 2, 'size': 30, 'turn_costs': 5.0, 'holes': 16, 'hole_size': 1.6, 'hole_complexity': 1, 'penalties': 32, 'penalty_strength': 5, 'multiplier': 8, 'multiplier_strength': 50, 'tool_radius': 1.0}\n",
      "'MultiPolygon' object has no attribute 'exterior'\n",
      "{'complexity': 16, 'size': 30, 'turn_costs': 1.0, 'holes': 2, 'hole_size': 0.8, 'hole_complexity': 2, 'penalties': 8, 'penalty_strength': 10, 'multiplier': 4, 'multiplier_strength': 2, 'tool_radius': 1.0}\n",
      "{'complexity': 2, 'size': 30, 'turn_costs': 5.0, 'holes': 8, 'hole_size': 1.6, 'hole_complexity': 4, 'penalties': 16, 'penalty_strength': 5, 'multiplier': 2, 'multiplier_strength': 10, 'tool_radius': 1.0}\n",
      "{'complexity': 16, 'size': 25, 'turn_costs': 1.0, 'holes': 1, 'hole_size': 0.2, 'hole_complexity': 4, 'penalties': 32, 'penalty_strength': 10, 'multiplier': 2, 'multiplier_strength': 10, 'tool_radius': 1.0}\n",
      "{'complexity': 8, 'size': 25, 'turn_costs': 50.0, 'holes': 8, 'hole_size': 0.8, 'hole_complexity': 1, 'penalties': 32, 'penalty_strength': 10, 'multiplier': 2, 'multiplier_strength': 5, 'tool_radius': 1.0}\n",
      "Too dense\n",
      "{'complexity': 4, 'size': 25, 'turn_costs': 1.0, 'holes': 4, 'hole_size': 1.6, 'hole_complexity': 1, 'penalties': 16, 'penalty_strength': 10, 'multiplier': 4, 'multiplier_strength': 2, 'tool_radius': 1.0}\n",
      "Too much expensive.\n",
      "{'complexity': 2, 'size': 30, 'turn_costs': 1.0, 'holes': 1, 'hole_size': 0.2, 'hole_complexity': 2, 'penalties': 4, 'penalty_strength': 5, 'multiplier': 2, 'multiplier_strength': 10, 'tool_radius': 1.0}\n",
      "{'complexity': 16, 'size': 40, 'turn_costs': 1.0, 'holes': 8, 'hole_size': 0.2, 'hole_complexity': 2, 'penalties': 8, 'penalty_strength': 5, 'multiplier': 8, 'multiplier_strength': 10, 'tool_radius': 1.0}\n",
      "{'complexity': 4, 'size': 30, 'turn_costs': 1.0, 'holes': 4, 'hole_size': 0.8, 'hole_complexity': 2, 'penalties': 8, 'penalty_strength': 10, 'multiplier': 1, 'multiplier_strength': 5, 'tool_radius': 1.0}\n",
      "{'complexity': 16, 'size': 30, 'turn_costs': 5.0, 'holes': 1, 'hole_size': 0.4, 'hole_complexity': 4, 'penalties': 4, 'penalty_strength': 10, 'multiplier': 4, 'multiplier_strength': 2, 'tool_radius': 1.0}\n",
      "{'complexity': 8, 'size': 25, 'turn_costs': 50.0, 'holes': 16, 'hole_size': 1.6, 'hole_complexity': 2, 'penalties': 4, 'penalty_strength': 10, 'multiplier': 2, 'multiplier_strength': 10, 'tool_radius': 1.0}\n",
      "{'complexity': 2, 'size': 25, 'turn_costs': 1.0, 'holes': 2, 'hole_size': 0.8, 'hole_complexity': 1, 'penalties': 16, 'penalty_strength': 10, 'multiplier': 2, 'multiplier_strength': 50, 'tool_radius': 1.0}\n",
      "{'complexity': 8, 'size': 30, 'turn_costs': 50.0, 'holes': 2, 'hole_size': 0.8, 'hole_complexity': 1, 'penalties': 32, 'penalty_strength': 5, 'multiplier': 8, 'multiplier_strength': 10, 'tool_radius': 1.0}\n",
      "Too much expensive.\n",
      "{'complexity': 2, 'size': 30, 'turn_costs': 5.0, 'holes': 1, 'hole_size': 0.2, 'hole_complexity': 2, 'penalties': 32, 'penalty_strength': 10, 'multiplier': 8, 'multiplier_strength': 50, 'tool_radius': 1.0}\n",
      "Too much expensive.\n",
      "{'complexity': 4, 'size': 40, 'turn_costs': 5.0, 'holes': 16, 'hole_size': 1.6, 'hole_complexity': 1, 'penalties': 16, 'penalty_strength': 5, 'multiplier': 8, 'multiplier_strength': 10, 'tool_radius': 1.0}\n",
      "Too much expensive.\n",
      "{'complexity': 2, 'size': 30, 'turn_costs': 5.0, 'holes': 2, 'hole_size': 0.4, 'hole_complexity': 1, 'penalties': 4, 'penalty_strength': 10, 'multiplier': 2, 'multiplier_strength': 10, 'tool_radius': 1.0}\n",
      "{'complexity': 4, 'size': 30, 'turn_costs': 50.0, 'holes': 8, 'hole_size': 0.4, 'hole_complexity': 4, 'penalties': 32, 'penalty_strength': 5, 'multiplier': 1, 'multiplier_strength': 2, 'tool_radius': 1.0}\n",
      "'MultiPolygon' object has no attribute 'exterior'\n",
      "{'complexity': 8, 'size': 25, 'turn_costs': 50.0, 'holes': 8, 'hole_size': 0.4, 'hole_complexity': 4, 'penalties': 16, 'penalty_strength': 10, 'multiplier': 8, 'multiplier_strength': 5, 'tool_radius': 1.0}\n",
      "Too much expensive.\n",
      "{'complexity': 2, 'size': 30, 'turn_costs': 1.0, 'holes': 8, 'hole_size': 0.4, 'hole_complexity': 1, 'penalties': 16, 'penalty_strength': 10, 'multiplier': 4, 'multiplier_strength': 5, 'tool_radius': 1.0}\n",
      "Too much expensive.\n",
      "{'complexity': 2, 'size': 25, 'turn_costs': 5.0, 'holes': 8, 'hole_size': 0.8, 'hole_complexity': 1, 'penalties': 16, 'penalty_strength': 5, 'multiplier': 4, 'multiplier_strength': 5, 'tool_radius': 1.0}\n",
      "'LineString' object has no attribute 'exterior'\n",
      "{'complexity': 16, 'size': 25, 'turn_costs': 1.0, 'holes': 1, 'hole_size': 0.4, 'hole_complexity': 1, 'penalties': 16, 'penalty_strength': 10, 'multiplier': 1, 'multiplier_strength': 50, 'tool_radius': 1.0}\n",
      "{'complexity': 8, 'size': 30, 'turn_costs': 1.0, 'holes': 16, 'hole_size': 0.4, 'hole_complexity': 1, 'penalties': 16, 'penalty_strength': 10, 'multiplier': 4, 'multiplier_strength': 50, 'tool_radius': 1.0}\n",
      "{'complexity': 2, 'size': 30, 'turn_costs': 1.0, 'holes': 1, 'hole_size': 0.2, 'hole_complexity': 4, 'penalties': 8, 'penalty_strength': 10, 'multiplier': 4, 'multiplier_strength': 50, 'tool_radius': 1.0}\n",
      "Too much expensive.\n",
      "{'complexity': 16, 'size': 25, 'turn_costs': 5.0, 'holes': 1, 'hole_size': 0.4, 'hole_complexity': 2, 'penalties': 32, 'penalty_strength': 5, 'multiplier': 2, 'multiplier_strength': 2, 'tool_radius': 1.0}\n",
      "{'complexity': 2, 'size': 25, 'turn_costs': 1.0, 'holes': 4, 'hole_size': 0.2, 'hole_complexity': 2, 'penalties': 4, 'penalty_strength': 5, 'multiplier': 2, 'multiplier_strength': 10, 'tool_radius': 1.0}\n",
      "{'complexity': 16, 'size': 25, 'turn_costs': 5.0, 'holes': 4, 'hole_size': 0.4, 'hole_complexity': 1, 'penalties': 32, 'penalty_strength': 10, 'multiplier': 8, 'multiplier_strength': 2, 'tool_radius': 1.0}\n",
      "Too much expensive.\n",
      "{'complexity': 16, 'size': 40, 'turn_costs': 50.0, 'holes': 2, 'hole_size': 0.2, 'hole_complexity': 2, 'penalties': 4, 'penalty_strength': 10, 'multiplier': 4, 'multiplier_strength': 50, 'tool_radius': 1.0}\n",
      "{'complexity': 16, 'size': 30, 'turn_costs': 5.0, 'holes': 8, 'hole_size': 0.8, 'hole_complexity': 1, 'penalties': 8, 'penalty_strength': 5, 'multiplier': 4, 'multiplier_strength': 10, 'tool_radius': 1.0}\n",
      "{'complexity': 16, 'size': 25, 'turn_costs': 1.0, 'holes': 1, 'hole_size': 0.8, 'hole_complexity': 1, 'penalties': 32, 'penalty_strength': 5, 'multiplier': 2, 'multiplier_strength': 50, 'tool_radius': 1.0}\n",
      "{'complexity': 2, 'size': 40, 'turn_costs': 1.0, 'holes': 1, 'hole_size': 1.6, 'hole_complexity': 2, 'penalties': 4, 'penalty_strength': 5, 'multiplier': 1, 'multiplier_strength': 5, 'tool_radius': 1.0}\n",
      "{'complexity': 4, 'size': 40, 'turn_costs': 50.0, 'holes': 2, 'hole_size': 0.2, 'hole_complexity': 1, 'penalties': 4, 'penalty_strength': 10, 'multiplier': 4, 'multiplier_strength': 10, 'tool_radius': 1.0}\n",
      "{'complexity': 8, 'size': 25, 'turn_costs': 1.0, 'holes': 16, 'hole_size': 0.8, 'hole_complexity': 4, 'penalties': 8, 'penalty_strength': 10, 'multiplier': 8, 'multiplier_strength': 10, 'tool_radius': 1.0}\n",
      "'MultiPolygon' object has no attribute 'exterior'\n",
      "{'complexity': 4, 'size': 25, 'turn_costs': 1.0, 'holes': 2, 'hole_size': 0.2, 'hole_complexity': 1, 'penalties': 32, 'penalty_strength': 5, 'multiplier': 1, 'multiplier_strength': 50, 'tool_radius': 1.0}\n",
      "{'complexity': 4, 'size': 25, 'turn_costs': 1.0, 'holes': 1, 'hole_size': 0.4, 'hole_complexity': 1, 'penalties': 16, 'penalty_strength': 5, 'multiplier': 1, 'multiplier_strength': 5, 'tool_radius': 1.0}\n",
      "{'complexity': 16, 'size': 30, 'turn_costs': 1.0, 'holes': 2, 'hole_size': 0.2, 'hole_complexity': 2, 'penalties': 16, 'penalty_strength': 5, 'multiplier': 4, 'multiplier_strength': 50, 'tool_radius': 1.0}\n",
      "{'complexity': 16, 'size': 25, 'turn_costs': 5.0, 'holes': 8, 'hole_size': 0.2, 'hole_complexity': 4, 'penalties': 32, 'penalty_strength': 10, 'multiplier': 2, 'multiplier_strength': 2, 'tool_radius': 1.0}\n",
      "{'complexity': 2, 'size': 40, 'turn_costs': 1.0, 'holes': 16, 'hole_size': 0.4, 'hole_complexity': 1, 'penalties': 4, 'penalty_strength': 5, 'multiplier': 8, 'multiplier_strength': 2, 'tool_radius': 1.0}\n",
      "Too much expensive.\n",
      "{'complexity': 8, 'size': 40, 'turn_costs': 1.0, 'holes': 16, 'hole_size': 1.6, 'hole_complexity': 1, 'penalties': 8, 'penalty_strength': 5, 'multiplier': 4, 'multiplier_strength': 2, 'tool_radius': 1.0}\n",
      "{'complexity': 4, 'size': 30, 'turn_costs': 50.0, 'holes': 4, 'hole_size': 0.2, 'hole_complexity': 4, 'penalties': 16, 'penalty_strength': 5, 'multiplier': 4, 'multiplier_strength': 2, 'tool_radius': 1.0}\n",
      "Too much expensive.\n",
      "{'complexity': 16, 'size': 30, 'turn_costs': 50.0, 'holes': 1, 'hole_size': 0.8, 'hole_complexity': 4, 'penalties': 4, 'penalty_strength': 10, 'multiplier': 4, 'multiplier_strength': 50, 'tool_radius': 1.0}\n",
      "{'complexity': 2, 'size': 30, 'turn_costs': 1.0, 'holes': 16, 'hole_size': 0.4, 'hole_complexity': 2, 'penalties': 8, 'penalty_strength': 5, 'multiplier': 1, 'multiplier_strength': 50, 'tool_radius': 1.0}\n",
      "{'complexity': 4, 'size': 25, 'turn_costs': 5.0, 'holes': 4, 'hole_size': 0.4, 'hole_complexity': 4, 'penalties': 32, 'penalty_strength': 5, 'multiplier': 8, 'multiplier_strength': 5, 'tool_radius': 1.0}\n",
      "Too much expensive.\n",
      "{'complexity': 16, 'size': 30, 'turn_costs': 50.0, 'holes': 8, 'hole_size': 0.4, 'hole_complexity': 1, 'penalties': 32, 'penalty_strength': 5, 'multiplier': 8, 'multiplier_strength': 10, 'tool_radius': 1.0}\n",
      "Too much expensive.\n",
      "{'complexity': 16, 'size': 30, 'turn_costs': 1.0, 'holes': 16, 'hole_size': 0.2, 'hole_complexity': 1, 'penalties': 16, 'penalty_strength': 5, 'multiplier': 1, 'multiplier_strength': 5, 'tool_radius': 1.0}\n",
      "Feasible area is not connected.\n",
      "{'complexity': 4, 'size': 25, 'turn_costs': 50.0, 'holes': 2, 'hole_size': 0.8, 'hole_complexity': 2, 'penalties': 8, 'penalty_strength': 10, 'multiplier': 8, 'multiplier_strength': 2, 'tool_radius': 1.0}\n",
      "Too much expensive.\n",
      "{'complexity': 8, 'size': 40, 'turn_costs': 1.0, 'holes': 4, 'hole_size': 0.4, 'hole_complexity': 4, 'penalties': 8, 'penalty_strength': 10, 'multiplier': 1, 'multiplier_strength': 5, 'tool_radius': 1.0}\n",
      "{'complexity': 8, 'size': 25, 'turn_costs': 5.0, 'holes': 2, 'hole_size': 0.8, 'hole_complexity': 2, 'penalties': 8, 'penalty_strength': 10, 'multiplier': 4, 'multiplier_strength': 2, 'tool_radius': 1.0}\n",
      "{'complexity': 2, 'size': 25, 'turn_costs': 1.0, 'holes': 1, 'hole_size': 0.8, 'hole_complexity': 4, 'penalties': 4, 'penalty_strength': 5, 'multiplier': 4, 'multiplier_strength': 2, 'tool_radius': 1.0}\n",
      "Too much expensive.\n",
      "{'complexity': 16, 'size': 40, 'turn_costs': 1.0, 'holes': 4, 'hole_size': 1.6, 'hole_complexity': 1, 'penalties': 4, 'penalty_strength': 10, 'multiplier': 1, 'multiplier_strength': 50, 'tool_radius': 1.0}\n",
      "{'complexity': 8, 'size': 40, 'turn_costs': 1.0, 'holes': 1, 'hole_size': 1.6, 'hole_complexity': 4, 'penalties': 8, 'penalty_strength': 10, 'multiplier': 4, 'multiplier_strength': 2, 'tool_radius': 1.0}\n",
      "{'complexity': 16, 'size': 30, 'turn_costs': 50.0, 'holes': 1, 'hole_size': 0.8, 'hole_complexity': 4, 'penalties': 32, 'penalty_strength': 10, 'multiplier': 8, 'multiplier_strength': 5, 'tool_radius': 1.0}\n",
      "Too much expensive.\n",
      "{'complexity': 2, 'size': 40, 'turn_costs': 50.0, 'holes': 2, 'hole_size': 0.4, 'hole_complexity': 1, 'penalties': 4, 'penalty_strength': 10, 'multiplier': 8, 'multiplier_strength': 5, 'tool_radius': 1.0}\n",
      "Too much expensive.\n",
      "{'complexity': 2, 'size': 40, 'turn_costs': 50.0, 'holes': 4, 'hole_size': 1.6, 'hole_complexity': 4, 'penalties': 8, 'penalty_strength': 10, 'multiplier': 8, 'multiplier_strength': 2, 'tool_radius': 1.0}\n",
      "Too much expensive.\n",
      "{'complexity': 4, 'size': 30, 'turn_costs': 1.0, 'holes': 2, 'hole_size': 0.4, 'hole_complexity': 1, 'penalties': 4, 'penalty_strength': 5, 'multiplier': 8, 'multiplier_strength': 5, 'tool_radius': 1.0}\n",
      "Too much expensive.\n",
      "{'complexity': 4, 'size': 30, 'turn_costs': 1.0, 'holes': 2, 'hole_size': 1.6, 'hole_complexity': 2, 'penalties': 4, 'penalty_strength': 5, 'multiplier': 4, 'multiplier_strength': 5, 'tool_radius': 1.0}\n",
      "{'complexity': 16, 'size': 30, 'turn_costs': 5.0, 'holes': 1, 'hole_size': 1.6, 'hole_complexity': 2, 'penalties': 8, 'penalty_strength': 5, 'multiplier': 1, 'multiplier_strength': 50, 'tool_radius': 1.0}\n",
      "{'complexity': 8, 'size': 25, 'turn_costs': 5.0, 'holes': 8, 'hole_size': 0.2, 'hole_complexity': 2, 'penalties': 32, 'penalty_strength': 5, 'multiplier': 4, 'multiplier_strength': 5, 'tool_radius': 1.0}\n",
      "{'complexity': 8, 'size': 30, 'turn_costs': 1.0, 'holes': 4, 'hole_size': 0.4, 'hole_complexity': 4, 'penalties': 16, 'penalty_strength': 10, 'multiplier': 1, 'multiplier_strength': 2, 'tool_radius': 1.0}\n",
      "{'complexity': 2, 'size': 30, 'turn_costs': 5.0, 'holes': 2, 'hole_size': 0.4, 'hole_complexity': 4, 'penalties': 8, 'penalty_strength': 5, 'multiplier': 1, 'multiplier_strength': 10, 'tool_radius': 1.0}\n",
      "{'complexity': 16, 'size': 40, 'turn_costs': 5.0, 'holes': 8, 'hole_size': 0.2, 'hole_complexity': 2, 'penalties': 4, 'penalty_strength': 5, 'multiplier': 1, 'multiplier_strength': 5, 'tool_radius': 1.0}\n",
      "{'complexity': 8, 'size': 30, 'turn_costs': 5.0, 'holes': 4, 'hole_size': 0.4, 'hole_complexity': 1, 'penalties': 4, 'penalty_strength': 10, 'multiplier': 4, 'multiplier_strength': 10, 'tool_radius': 1.0}\n",
      "{'complexity': 4, 'size': 30, 'turn_costs': 50.0, 'holes': 2, 'hole_size': 0.8, 'hole_complexity': 1, 'penalties': 4, 'penalty_strength': 10, 'multiplier': 2, 'multiplier_strength': 5, 'tool_radius': 1.0}\n",
      "{'complexity': 2, 'size': 30, 'turn_costs': 5.0, 'holes': 1, 'hole_size': 0.2, 'hole_complexity': 2, 'penalties': 32, 'penalty_strength': 10, 'multiplier': 8, 'multiplier_strength': 10, 'tool_radius': 1.0}\n",
      "Too much expensive.\n",
      "{'complexity': 16, 'size': 25, 'turn_costs': 50.0, 'holes': 4, 'hole_size': 0.4, 'hole_complexity': 2, 'penalties': 32, 'penalty_strength': 10, 'multiplier': 8, 'multiplier_strength': 2, 'tool_radius': 1.0}\n",
      "Too much expensive.\n",
      "{'complexity': 16, 'size': 40, 'turn_costs': 5.0, 'holes': 2, 'hole_size': 1.6, 'hole_complexity': 1, 'penalties': 4, 'penalty_strength': 5, 'multiplier': 8, 'multiplier_strength': 50, 'tool_radius': 1.0}\n",
      "{'complexity': 2, 'size': 40, 'turn_costs': 50.0, 'holes': 1, 'hole_size': 1.6, 'hole_complexity': 4, 'penalties': 8, 'penalty_strength': 5, 'multiplier': 4, 'multiplier_strength': 10, 'tool_radius': 1.0}\n",
      "Too much expensive.\n",
      "{'complexity': 2, 'size': 40, 'turn_costs': 5.0, 'holes': 8, 'hole_size': 1.6, 'hole_complexity': 4, 'penalties': 32, 'penalty_strength': 5, 'multiplier': 2, 'multiplier_strength': 10, 'tool_radius': 1.0}\n",
      "Too dense\n",
      "{'complexity': 16, 'size': 25, 'turn_costs': 50.0, 'holes': 8, 'hole_size': 1.6, 'hole_complexity': 2, 'penalties': 4, 'penalty_strength': 5, 'multiplier': 8, 'multiplier_strength': 50, 'tool_radius': 1.0}\n",
      "{'complexity': 8, 'size': 40, 'turn_costs': 1.0, 'holes': 8, 'hole_size': 0.4, 'hole_complexity': 1, 'penalties': 8, 'penalty_strength': 10, 'multiplier': 1, 'multiplier_strength': 2, 'tool_radius': 1.0}\n",
      "{'complexity': 16, 'size': 40, 'turn_costs': 5.0, 'holes': 16, 'hole_size': 0.4, 'hole_complexity': 4, 'penalties': 8, 'penalty_strength': 10, 'multiplier': 4, 'multiplier_strength': 50, 'tool_radius': 1.0}\n",
      "{'complexity': 16, 'size': 30, 'turn_costs': 5.0, 'holes': 2, 'hole_size': 1.6, 'hole_complexity': 1, 'penalties': 16, 'penalty_strength': 10, 'multiplier': 8, 'multiplier_strength': 2, 'tool_radius': 1.0}\n",
      "{'complexity': 4, 'size': 40, 'turn_costs': 1.0, 'holes': 16, 'hole_size': 0.4, 'hole_complexity': 2, 'penalties': 8, 'penalty_strength': 10, 'multiplier': 8, 'multiplier_strength': 10, 'tool_radius': 1.0}\n",
      "Too much expensive.\n",
      "{'complexity': 16, 'size': 30, 'turn_costs': 50.0, 'holes': 2, 'hole_size': 0.2, 'hole_complexity': 2, 'penalties': 4, 'penalty_strength': 10, 'multiplier': 1, 'multiplier_strength': 50, 'tool_radius': 1.0}\n",
      "{'complexity': 16, 'size': 30, 'turn_costs': 50.0, 'holes': 2, 'hole_size': 1.6, 'hole_complexity': 4, 'penalties': 32, 'penalty_strength': 5, 'multiplier': 4, 'multiplier_strength': 5, 'tool_radius': 1.0}\n",
      "{'complexity': 2, 'size': 30, 'turn_costs': 5.0, 'holes': 2, 'hole_size': 0.4, 'hole_complexity': 1, 'penalties': 32, 'penalty_strength': 10, 'multiplier': 4, 'multiplier_strength': 10, 'tool_radius': 1.0}\n",
      "Too much expensive.\n",
      "{'complexity': 8, 'size': 25, 'turn_costs': 5.0, 'holes': 1, 'hole_size': 1.6, 'hole_complexity': 1, 'penalties': 16, 'penalty_strength': 5, 'multiplier': 1, 'multiplier_strength': 2, 'tool_radius': 1.0}\n",
      "{'complexity': 16, 'size': 30, 'turn_costs': 5.0, 'holes': 8, 'hole_size': 1.6, 'hole_complexity': 2, 'penalties': 8, 'penalty_strength': 10, 'multiplier': 8, 'multiplier_strength': 50, 'tool_radius': 1.0}\n",
      "{'complexity': 4, 'size': 25, 'turn_costs': 50.0, 'holes': 4, 'hole_size': 0.4, 'hole_complexity': 1, 'penalties': 32, 'penalty_strength': 10, 'multiplier': 4, 'multiplier_strength': 2, 'tool_radius': 1.0}\n",
      "Too much expensive.\n",
      "{'complexity': 4, 'size': 30, 'turn_costs': 5.0, 'holes': 1, 'hole_size': 0.2, 'hole_complexity': 2, 'penalties': 16, 'penalty_strength': 10, 'multiplier': 4, 'multiplier_strength': 50, 'tool_radius': 1.0}\n",
      "{'complexity': 2, 'size': 40, 'turn_costs': 5.0, 'holes': 2, 'hole_size': 0.4, 'hole_complexity': 1, 'penalties': 4, 'penalty_strength': 10, 'multiplier': 1, 'multiplier_strength': 5, 'tool_radius': 1.0}\n",
      "{'complexity': 4, 'size': 40, 'turn_costs': 1.0, 'holes': 8, 'hole_size': 0.2, 'hole_complexity': 1, 'penalties': 4, 'penalty_strength': 5, 'multiplier': 4, 'multiplier_strength': 10, 'tool_radius': 1.0}\n",
      "Too much expensive.\n",
      "{'complexity': 2, 'size': 25, 'turn_costs': 5.0, 'holes': 8, 'hole_size': 0.8, 'hole_complexity': 2, 'penalties': 16, 'penalty_strength': 5, 'multiplier': 2, 'multiplier_strength': 5, 'tool_radius': 1.0}\n",
      "Too much expensive.\n",
      "{'complexity': 2, 'size': 25, 'turn_costs': 1.0, 'holes': 2, 'hole_size': 0.4, 'hole_complexity': 4, 'penalties': 8, 'penalty_strength': 10, 'multiplier': 4, 'multiplier_strength': 5, 'tool_radius': 1.0}\n",
      "Too much expensive.\n",
      "{'complexity': 2, 'size': 25, 'turn_costs': 50.0, 'holes': 16, 'hole_size': 0.8, 'hole_complexity': 2, 'penalties': 8, 'penalty_strength': 5, 'multiplier': 1, 'multiplier_strength': 50, 'tool_radius': 1.0}\n",
      "{'complexity': 8, 'size': 40, 'turn_costs': 50.0, 'holes': 16, 'hole_size': 0.4, 'hole_complexity': 4, 'penalties': 4, 'penalty_strength': 5, 'multiplier': 1, 'multiplier_strength': 50, 'tool_radius': 1.0}\n",
      "{'complexity': 4, 'size': 30, 'turn_costs': 50.0, 'holes': 8, 'hole_size': 0.2, 'hole_complexity': 1, 'penalties': 16, 'penalty_strength': 5, 'multiplier': 2, 'multiplier_strength': 2, 'tool_radius': 1.0}\n",
      "{'complexity': 16, 'size': 30, 'turn_costs': 1.0, 'holes': 2, 'hole_size': 0.4, 'hole_complexity': 2, 'penalties': 4, 'penalty_strength': 10, 'multiplier': 2, 'multiplier_strength': 10, 'tool_radius': 1.0}\n",
      "{'complexity': 8, 'size': 30, 'turn_costs': 1.0, 'holes': 2, 'hole_size': 0.2, 'hole_complexity': 2, 'penalties': 32, 'penalty_strength': 10, 'multiplier': 8, 'multiplier_strength': 2, 'tool_radius': 1.0}\n",
      "{'complexity': 2, 'size': 40, 'turn_costs': 1.0, 'holes': 4, 'hole_size': 0.8, 'hole_complexity': 2, 'penalties': 8, 'penalty_strength': 5, 'multiplier': 1, 'multiplier_strength': 5, 'tool_radius': 1.0}\n",
      "{'complexity': 8, 'size': 40, 'turn_costs': 1.0, 'holes': 2, 'hole_size': 0.2, 'hole_complexity': 4, 'penalties': 8, 'penalty_strength': 5, 'multiplier': 2, 'multiplier_strength': 5, 'tool_radius': 1.0}\n",
      "{'complexity': 16, 'size': 30, 'turn_costs': 1.0, 'holes': 4, 'hole_size': 0.4, 'hole_complexity': 1, 'penalties': 8, 'penalty_strength': 10, 'multiplier': 8, 'multiplier_strength': 5, 'tool_radius': 1.0}\n",
      "Too much expensive.\n",
      "{'complexity': 16, 'size': 40, 'turn_costs': 5.0, 'holes': 1, 'hole_size': 0.2, 'hole_complexity': 1, 'penalties': 16, 'penalty_strength': 10, 'multiplier': 2, 'multiplier_strength': 2, 'tool_radius': 1.0}\n",
      "{'complexity': 8, 'size': 30, 'turn_costs': 1.0, 'holes': 4, 'hole_size': 0.2, 'hole_complexity': 4, 'penalties': 8, 'penalty_strength': 5, 'multiplier': 2, 'multiplier_strength': 2, 'tool_radius': 1.0}\n",
      "{'complexity': 8, 'size': 25, 'turn_costs': 50.0, 'holes': 16, 'hole_size': 0.2, 'hole_complexity': 4, 'penalties': 4, 'penalty_strength': 5, 'multiplier': 8, 'multiplier_strength': 10, 'tool_radius': 1.0}\n",
      "Too much expensive.\n",
      "{'complexity': 2, 'size': 40, 'turn_costs': 1.0, 'holes': 2, 'hole_size': 0.2, 'hole_complexity': 1, 'penalties': 32, 'penalty_strength': 10, 'multiplier': 2, 'multiplier_strength': 10, 'tool_radius': 1.0}\n",
      "Too dense\n",
      "{'complexity': 2, 'size': 40, 'turn_costs': 50.0, 'holes': 1, 'hole_size': 1.6, 'hole_complexity': 4, 'penalties': 4, 'penalty_strength': 5, 'multiplier': 4, 'multiplier_strength': 50, 'tool_radius': 1.0}\n",
      "Too much expensive.\n",
      "{'complexity': 2, 'size': 30, 'turn_costs': 50.0, 'holes': 1, 'hole_size': 0.4, 'hole_complexity': 4, 'penalties': 16, 'penalty_strength': 10, 'multiplier': 2, 'multiplier_strength': 5, 'tool_radius': 1.0}\n",
      "Too dense\n",
      "{'complexity': 16, 'size': 25, 'turn_costs': 50.0, 'holes': 2, 'hole_size': 0.8, 'hole_complexity': 4, 'penalties': 4, 'penalty_strength': 5, 'multiplier': 8, 'multiplier_strength': 2, 'tool_radius': 1.0}\n",
      "{'complexity': 8, 'size': 30, 'turn_costs': 1.0, 'holes': 8, 'hole_size': 0.4, 'hole_complexity': 2, 'penalties': 4, 'penalty_strength': 10, 'multiplier': 8, 'multiplier_strength': 5, 'tool_radius': 1.0}\n",
      "Too much expensive.\n",
      "{'complexity': 4, 'size': 30, 'turn_costs': 1.0, 'holes': 8, 'hole_size': 0.8, 'hole_complexity': 4, 'penalties': 4, 'penalty_strength': 5, 'multiplier': 1, 'multiplier_strength': 5, 'tool_radius': 1.0}\n",
      "'MultiPolygon' object has no attribute 'exterior'\n",
      "{'complexity': 4, 'size': 40, 'turn_costs': 1.0, 'holes': 8, 'hole_size': 0.4, 'hole_complexity': 2, 'penalties': 8, 'penalty_strength': 10, 'multiplier': 4, 'multiplier_strength': 50, 'tool_radius': 1.0}\n",
      "{'complexity': 4, 'size': 25, 'turn_costs': 1.0, 'holes': 4, 'hole_size': 0.8, 'hole_complexity': 2, 'penalties': 16, 'penalty_strength': 10, 'multiplier': 2, 'multiplier_strength': 5, 'tool_radius': 1.0}\n",
      "{'complexity': 2, 'size': 40, 'turn_costs': 50.0, 'holes': 1, 'hole_size': 0.2, 'hole_complexity': 4, 'penalties': 32, 'penalty_strength': 10, 'multiplier': 8, 'multiplier_strength': 10, 'tool_radius': 1.0}\n",
      "Too much expensive.\n",
      "{'complexity': 2, 'size': 30, 'turn_costs': 5.0, 'holes': 8, 'hole_size': 0.4, 'hole_complexity': 4, 'penalties': 8, 'penalty_strength': 5, 'multiplier': 1, 'multiplier_strength': 2, 'tool_radius': 1.0}\n",
      "{'complexity': 8, 'size': 25, 'turn_costs': 1.0, 'holes': 8, 'hole_size': 0.4, 'hole_complexity': 1, 'penalties': 8, 'penalty_strength': 10, 'multiplier': 8, 'multiplier_strength': 2, 'tool_radius': 1.0}\n",
      "{'complexity': 4, 'size': 30, 'turn_costs': 50.0, 'holes': 8, 'hole_size': 0.4, 'hole_complexity': 4, 'penalties': 16, 'penalty_strength': 5, 'multiplier': 2, 'multiplier_strength': 2, 'tool_radius': 1.0}\n",
      "{'complexity': 8, 'size': 40, 'turn_costs': 5.0, 'holes': 16, 'hole_size': 1.6, 'hole_complexity': 1, 'penalties': 8, 'penalty_strength': 5, 'multiplier': 2, 'multiplier_strength': 10, 'tool_radius': 1.0}\n",
      "{'complexity': 8, 'size': 25, 'turn_costs': 1.0, 'holes': 2, 'hole_size': 0.8, 'hole_complexity': 2, 'penalties': 8, 'penalty_strength': 10, 'multiplier': 2, 'multiplier_strength': 2, 'tool_radius': 1.0}\n",
      "Too much expensive.\n",
      "{'complexity': 16, 'size': 25, 'turn_costs': 5.0, 'holes': 8, 'hole_size': 0.2, 'hole_complexity': 2, 'penalties': 4, 'penalty_strength': 10, 'multiplier': 2, 'multiplier_strength': 5, 'tool_radius': 1.0}\n",
      "'MultiPolygon' object has no attribute 'exterior'\n",
      "{'complexity': 2, 'size': 30, 'turn_costs': 5.0, 'holes': 8, 'hole_size': 1.6, 'hole_complexity': 4, 'penalties': 16, 'penalty_strength': 10, 'multiplier': 4, 'multiplier_strength': 10, 'tool_radius': 1.0}\n",
      "Too much expensive.\n",
      "{'complexity': 8, 'size': 30, 'turn_costs': 5.0, 'holes': 1, 'hole_size': 0.2, 'hole_complexity': 2, 'penalties': 32, 'penalty_strength': 5, 'multiplier': 4, 'multiplier_strength': 5, 'tool_radius': 1.0}\n",
      "{'complexity': 4, 'size': 25, 'turn_costs': 50.0, 'holes': 8, 'hole_size': 1.6, 'hole_complexity': 2, 'penalties': 8, 'penalty_strength': 5, 'multiplier': 4, 'multiplier_strength': 10, 'tool_radius': 1.0}\n",
      "{'complexity': 8, 'size': 30, 'turn_costs': 50.0, 'holes': 1, 'hole_size': 0.8, 'hole_complexity': 4, 'penalties': 8, 'penalty_strength': 5, 'multiplier': 8, 'multiplier_strength': 10, 'tool_radius': 1.0}\n",
      "Too much expensive.\n",
      "{'complexity': 4, 'size': 40, 'turn_costs': 50.0, 'holes': 2, 'hole_size': 1.6, 'hole_complexity': 1, 'penalties': 32, 'penalty_strength': 5, 'multiplier': 4, 'multiplier_strength': 10, 'tool_radius': 1.0}\n",
      "Too much expensive.\n",
      "{'complexity': 4, 'size': 25, 'turn_costs': 1.0, 'holes': 1, 'hole_size': 0.8, 'hole_complexity': 2, 'penalties': 4, 'penalty_strength': 10, 'multiplier': 8, 'multiplier_strength': 2, 'tool_radius': 1.0}\n",
      "Too much expensive.\n",
      "{'complexity': 8, 'size': 30, 'turn_costs': 50.0, 'holes': 2, 'hole_size': 0.2, 'hole_complexity': 2, 'penalties': 16, 'penalty_strength': 5, 'multiplier': 8, 'multiplier_strength': 2, 'tool_radius': 1.0}\n",
      "Too much expensive.\n",
      "{'complexity': 8, 'size': 40, 'turn_costs': 1.0, 'holes': 2, 'hole_size': 0.8, 'hole_complexity': 4, 'penalties': 8, 'penalty_strength': 10, 'multiplier': 8, 'multiplier_strength': 5, 'tool_radius': 1.0}\n",
      "Too much expensive.\n",
      "{'complexity': 2, 'size': 40, 'turn_costs': 50.0, 'holes': 16, 'hole_size': 1.6, 'hole_complexity': 1, 'penalties': 4, 'penalty_strength': 10, 'multiplier': 2, 'multiplier_strength': 5, 'tool_radius': 1.0}\n",
      "{'complexity': 8, 'size': 40, 'turn_costs': 1.0, 'holes': 2, 'hole_size': 0.2, 'hole_complexity': 2, 'penalties': 32, 'penalty_strength': 10, 'multiplier': 1, 'multiplier_strength': 2, 'tool_radius': 1.0}\n",
      "Too dense\n",
      "{'complexity': 8, 'size': 30, 'turn_costs': 50.0, 'holes': 16, 'hole_size': 0.2, 'hole_complexity': 1, 'penalties': 8, 'penalty_strength': 10, 'multiplier': 2, 'multiplier_strength': 50, 'tool_radius': 1.0}\n",
      "'LineString' object has no attribute 'exterior'\n",
      "{'complexity': 4, 'size': 40, 'turn_costs': 5.0, 'holes': 2, 'hole_size': 0.8, 'hole_complexity': 4, 'penalties': 4, 'penalty_strength': 10, 'multiplier': 4, 'multiplier_strength': 50, 'tool_radius': 1.0}\n",
      "{'complexity': 8, 'size': 25, 'turn_costs': 1.0, 'holes': 4, 'hole_size': 1.6, 'hole_complexity': 4, 'penalties': 8, 'penalty_strength': 10, 'multiplier': 8, 'multiplier_strength': 10, 'tool_radius': 1.0}\n",
      "Too much expensive.\n",
      "{'complexity': 2, 'size': 25, 'turn_costs': 1.0, 'holes': 8, 'hole_size': 0.4, 'hole_complexity': 4, 'penalties': 16, 'penalty_strength': 5, 'multiplier': 4, 'multiplier_strength': 5, 'tool_radius': 1.0}\n",
      "Too much expensive.\n",
      "{'complexity': 4, 'size': 30, 'turn_costs': 50.0, 'holes': 2, 'hole_size': 1.6, 'hole_complexity': 4, 'penalties': 32, 'penalty_strength': 5, 'multiplier': 8, 'multiplier_strength': 2, 'tool_radius': 1.0}\n",
      "Too much expensive.\n",
      "{'complexity': 4, 'size': 25, 'turn_costs': 50.0, 'holes': 16, 'hole_size': 0.4, 'hole_complexity': 1, 'penalties': 4, 'penalty_strength': 5, 'multiplier': 2, 'multiplier_strength': 5, 'tool_radius': 1.0}\n",
      "{'complexity': 2, 'size': 25, 'turn_costs': 1.0, 'holes': 16, 'hole_size': 0.2, 'hole_complexity': 1, 'penalties': 8, 'penalty_strength': 5, 'multiplier': 1, 'multiplier_strength': 2, 'tool_radius': 1.0}\n",
      "{'complexity': 8, 'size': 25, 'turn_costs': 50.0, 'holes': 1, 'hole_size': 0.4, 'hole_complexity': 4, 'penalties': 32, 'penalty_strength': 5, 'multiplier': 4, 'multiplier_strength': 5, 'tool_radius': 1.0}\n",
      "{'complexity': 2, 'size': 25, 'turn_costs': 50.0, 'holes': 16, 'hole_size': 0.8, 'hole_complexity': 2, 'penalties': 8, 'penalty_strength': 10, 'multiplier': 2, 'multiplier_strength': 5, 'tool_radius': 1.0}\n",
      "{'complexity': 16, 'size': 30, 'turn_costs': 5.0, 'holes': 4, 'hole_size': 0.2, 'hole_complexity': 2, 'penalties': 32, 'penalty_strength': 10, 'multiplier': 4, 'multiplier_strength': 2, 'tool_radius': 1.0}\n",
      "{'complexity': 8, 'size': 30, 'turn_costs': 50.0, 'holes': 16, 'hole_size': 0.2, 'hole_complexity': 2, 'penalties': 32, 'penalty_strength': 10, 'multiplier': 2, 'multiplier_strength': 2, 'tool_radius': 1.0}\n",
      "Too dense\n",
      "{'complexity': 8, 'size': 40, 'turn_costs': 50.0, 'holes': 4, 'hole_size': 1.6, 'hole_complexity': 2, 'penalties': 16, 'penalty_strength': 10, 'multiplier': 1, 'multiplier_strength': 10, 'tool_radius': 1.0}\n",
      "Too dense\n",
      "{'complexity': 4, 'size': 40, 'turn_costs': 1.0, 'holes': 1, 'hole_size': 1.6, 'hole_complexity': 1, 'penalties': 16, 'penalty_strength': 5, 'multiplier': 8, 'multiplier_strength': 10, 'tool_radius': 1.0}\n",
      "Too much expensive.\n",
      "{'complexity': 8, 'size': 25, 'turn_costs': 5.0, 'holes': 16, 'hole_size': 0.8, 'hole_complexity': 1, 'penalties': 8, 'penalty_strength': 10, 'multiplier': 8, 'multiplier_strength': 5, 'tool_radius': 1.0}\n",
      "Too much expensive.\n",
      "{'complexity': 16, 'size': 40, 'turn_costs': 1.0, 'holes': 16, 'hole_size': 0.8, 'hole_complexity': 2, 'penalties': 4, 'penalty_strength': 10, 'multiplier': 1, 'multiplier_strength': 50, 'tool_radius': 1.0}\n",
      "{'complexity': 4, 'size': 40, 'turn_costs': 1.0, 'holes': 2, 'hole_size': 1.6, 'hole_complexity': 4, 'penalties': 8, 'penalty_strength': 5, 'multiplier': 8, 'multiplier_strength': 50, 'tool_radius': 1.0}\n",
      "Too much expensive.\n",
      "{'complexity': 16, 'size': 25, 'turn_costs': 1.0, 'holes': 2, 'hole_size': 0.8, 'hole_complexity': 1, 'penalties': 8, 'penalty_strength': 10, 'multiplier': 1, 'multiplier_strength': 50, 'tool_radius': 1.0}\n",
      "{'complexity': 16, 'size': 40, 'turn_costs': 1.0, 'holes': 16, 'hole_size': 0.8, 'hole_complexity': 4, 'penalties': 8, 'penalty_strength': 5, 'multiplier': 4, 'multiplier_strength': 5, 'tool_radius': 1.0}\n",
      "{'complexity': 4, 'size': 30, 'turn_costs': 5.0, 'holes': 2, 'hole_size': 0.4, 'hole_complexity': 2, 'penalties': 32, 'penalty_strength': 5, 'multiplier': 4, 'multiplier_strength': 2, 'tool_radius': 1.0}\n",
      "Too much expensive.\n",
      "{'complexity': 16, 'size': 40, 'turn_costs': 1.0, 'holes': 2, 'hole_size': 0.8, 'hole_complexity': 2, 'penalties': 4, 'penalty_strength': 5, 'multiplier': 2, 'multiplier_strength': 5, 'tool_radius': 1.0}\n",
      "{'complexity': 4, 'size': 25, 'turn_costs': 5.0, 'holes': 4, 'hole_size': 0.4, 'hole_complexity': 4, 'penalties': 16, 'penalty_strength': 5, 'multiplier': 4, 'multiplier_strength': 5, 'tool_radius': 1.0}\n",
      "Too much expensive.\n",
      "{'complexity': 8, 'size': 40, 'turn_costs': 5.0, 'holes': 1, 'hole_size': 1.6, 'hole_complexity': 4, 'penalties': 16, 'penalty_strength': 10, 'multiplier': 8, 'multiplier_strength': 2, 'tool_radius': 1.0}\n",
      "Too much expensive.\n",
      "{'complexity': 2, 'size': 25, 'turn_costs': 1.0, 'holes': 8, 'hole_size': 0.8, 'hole_complexity': 4, 'penalties': 8, 'penalty_strength': 10, 'multiplier': 8, 'multiplier_strength': 5, 'tool_radius': 1.0}\n",
      "Too much expensive.\n",
      "{'complexity': 2, 'size': 40, 'turn_costs': 1.0, 'holes': 16, 'hole_size': 0.2, 'hole_complexity': 4, 'penalties': 32, 'penalty_strength': 10, 'multiplier': 2, 'multiplier_strength': 50, 'tool_radius': 1.0}\n",
      "'LineString' object has no attribute 'exterior'\n",
      "{'complexity': 8, 'size': 25, 'turn_costs': 1.0, 'holes': 1, 'hole_size': 0.2, 'hole_complexity': 1, 'penalties': 4, 'penalty_strength': 5, 'multiplier': 1, 'multiplier_strength': 5, 'tool_radius': 1.0}\n",
      "{'complexity': 4, 'size': 30, 'turn_costs': 1.0, 'holes': 16, 'hole_size': 0.2, 'hole_complexity': 2, 'penalties': 8, 'penalty_strength': 10, 'multiplier': 4, 'multiplier_strength': 50, 'tool_radius': 1.0}\n",
      "'LineString' object has no attribute 'exterior'\n",
      "{'complexity': 2, 'size': 30, 'turn_costs': 50.0, 'holes': 8, 'hole_size': 1.6, 'hole_complexity': 1, 'penalties': 16, 'penalty_strength': 10, 'multiplier': 8, 'multiplier_strength': 50, 'tool_radius': 1.0}\n",
      "Too much expensive.\n",
      "{'complexity': 8, 'size': 40, 'turn_costs': 50.0, 'holes': 8, 'hole_size': 0.4, 'hole_complexity': 1, 'penalties': 4, 'penalty_strength': 10, 'multiplier': 8, 'multiplier_strength': 2, 'tool_radius': 1.0}\n",
      "Too much expensive.\n",
      "{'complexity': 16, 'size': 25, 'turn_costs': 5.0, 'holes': 8, 'hole_size': 0.8, 'hole_complexity': 1, 'penalties': 8, 'penalty_strength': 5, 'multiplier': 2, 'multiplier_strength': 2, 'tool_radius': 1.0}\n",
      "{'complexity': 2, 'size': 30, 'turn_costs': 50.0, 'holes': 4, 'hole_size': 0.2, 'hole_complexity': 2, 'penalties': 4, 'penalty_strength': 10, 'multiplier': 2, 'multiplier_strength': 50, 'tool_radius': 1.0}\n",
      "Too much expensive.\n",
      "{'complexity': 16, 'size': 25, 'turn_costs': 1.0, 'holes': 8, 'hole_size': 1.6, 'hole_complexity': 2, 'penalties': 16, 'penalty_strength': 5, 'multiplier': 4, 'multiplier_strength': 2, 'tool_radius': 1.0}\n",
      "{'complexity': 2, 'size': 30, 'turn_costs': 5.0, 'holes': 1, 'hole_size': 0.4, 'hole_complexity': 2, 'penalties': 32, 'penalty_strength': 10, 'multiplier': 4, 'multiplier_strength': 5, 'tool_radius': 1.0}\n",
      "Too much expensive.\n",
      "{'complexity': 16, 'size': 25, 'turn_costs': 50.0, 'holes': 4, 'hole_size': 0.2, 'hole_complexity': 1, 'penalties': 16, 'penalty_strength': 10, 'multiplier': 2, 'multiplier_strength': 5, 'tool_radius': 1.0}\n",
      "{'complexity': 4, 'size': 40, 'turn_costs': 5.0, 'holes': 16, 'hole_size': 0.2, 'hole_complexity': 2, 'penalties': 4, 'penalty_strength': 10, 'multiplier': 4, 'multiplier_strength': 10, 'tool_radius': 1.0}\n",
      "'LineString' object has no attribute 'exterior'\n",
      "{'complexity': 8, 'size': 40, 'turn_costs': 1.0, 'holes': 1, 'hole_size': 1.6, 'hole_complexity': 2, 'penalties': 16, 'penalty_strength': 5, 'multiplier': 8, 'multiplier_strength': 2, 'tool_radius': 1.0}\n",
      "Too much expensive.\n",
      "{'complexity': 4, 'size': 40, 'turn_costs': 50.0, 'holes': 16, 'hole_size': 0.4, 'hole_complexity': 2, 'penalties': 16, 'penalty_strength': 10, 'multiplier': 8, 'multiplier_strength': 2, 'tool_radius': 1.0}\n",
      "'MultiPolygon' object has no attribute 'exterior'\n",
      "{'complexity': 8, 'size': 25, 'turn_costs': 1.0, 'holes': 2, 'hole_size': 0.8, 'hole_complexity': 2, 'penalties': 4, 'penalty_strength': 5, 'multiplier': 4, 'multiplier_strength': 50, 'tool_radius': 1.0}\n",
      "Too much expensive.\n",
      "{'complexity': 2, 'size': 30, 'turn_costs': 5.0, 'holes': 8, 'hole_size': 1.6, 'hole_complexity': 2, 'penalties': 16, 'penalty_strength': 5, 'multiplier': 2, 'multiplier_strength': 5, 'tool_radius': 1.0}\n",
      "{'complexity': 2, 'size': 30, 'turn_costs': 1.0, 'holes': 1, 'hole_size': 0.4, 'hole_complexity': 1, 'penalties': 4, 'penalty_strength': 10, 'multiplier': 1, 'multiplier_strength': 2, 'tool_radius': 1.0}\n",
      "{'complexity': 16, 'size': 30, 'turn_costs': 50.0, 'holes': 16, 'hole_size': 0.8, 'hole_complexity': 2, 'penalties': 4, 'penalty_strength': 5, 'multiplier': 8, 'multiplier_strength': 10, 'tool_radius': 1.0}\n",
      "{'complexity': 2, 'size': 30, 'turn_costs': 1.0, 'holes': 1, 'hole_size': 0.4, 'hole_complexity': 1, 'penalties': 4, 'penalty_strength': 10, 'multiplier': 4, 'multiplier_strength': 10, 'tool_radius': 1.0}\n",
      "Too much expensive.\n",
      "{'complexity': 8, 'size': 25, 'turn_costs': 1.0, 'holes': 16, 'hole_size': 1.6, 'hole_complexity': 2, 'penalties': 4, 'penalty_strength': 5, 'multiplier': 1, 'multiplier_strength': 10, 'tool_radius': 1.0}\n",
      "{'complexity': 8, 'size': 40, 'turn_costs': 5.0, 'holes': 2, 'hole_size': 0.4, 'hole_complexity': 1, 'penalties': 4, 'penalty_strength': 10, 'multiplier': 8, 'multiplier_strength': 2, 'tool_radius': 1.0}\n",
      "Too much expensive.\n",
      "{'complexity': 2, 'size': 30, 'turn_costs': 50.0, 'holes': 2, 'hole_size': 1.6, 'hole_complexity': 4, 'penalties': 8, 'penalty_strength': 10, 'multiplier': 2, 'multiplier_strength': 50, 'tool_radius': 1.0}\n",
      "{'complexity': 2, 'size': 25, 'turn_costs': 5.0, 'holes': 16, 'hole_size': 1.6, 'hole_complexity': 1, 'penalties': 4, 'penalty_strength': 5, 'multiplier': 8, 'multiplier_strength': 5, 'tool_radius': 1.0}\n",
      "Too much expensive.\n",
      "{'complexity': 8, 'size': 25, 'turn_costs': 50.0, 'holes': 1, 'hole_size': 0.8, 'hole_complexity': 4, 'penalties': 4, 'penalty_strength': 10, 'multiplier': 8, 'multiplier_strength': 50, 'tool_radius': 1.0}\n",
      "Too much expensive.\n",
      "{'complexity': 16, 'size': 25, 'turn_costs': 50.0, 'holes': 8, 'hole_size': 0.4, 'hole_complexity': 2, 'penalties': 4, 'penalty_strength': 5, 'multiplier': 1, 'multiplier_strength': 50, 'tool_radius': 1.0}\n",
      "{'complexity': 4, 'size': 40, 'turn_costs': 5.0, 'holes': 2, 'hole_size': 0.8, 'hole_complexity': 4, 'penalties': 16, 'penalty_strength': 5, 'multiplier': 8, 'multiplier_strength': 2, 'tool_radius': 1.0}\n",
      "Too much expensive.\n",
      "{'complexity': 8, 'size': 25, 'turn_costs': 5.0, 'holes': 16, 'hole_size': 0.2, 'hole_complexity': 1, 'penalties': 8, 'penalty_strength': 10, 'multiplier': 4, 'multiplier_strength': 2, 'tool_radius': 1.0}\n",
      "Feasible area is not connected.\n",
      "{'complexity': 16, 'size': 25, 'turn_costs': 1.0, 'holes': 4, 'hole_size': 0.8, 'hole_complexity': 1, 'penalties': 32, 'penalty_strength': 5, 'multiplier': 4, 'multiplier_strength': 10, 'tool_radius': 1.0}\n",
      "{'complexity': 4, 'size': 40, 'turn_costs': 5.0, 'holes': 2, 'hole_size': 0.2, 'hole_complexity': 1, 'penalties': 8, 'penalty_strength': 10, 'multiplier': 8, 'multiplier_strength': 50, 'tool_radius': 1.0}\n",
      "Too much expensive.\n",
      "{'complexity': 4, 'size': 30, 'turn_costs': 1.0, 'holes': 16, 'hole_size': 1.6, 'hole_complexity': 1, 'penalties': 8, 'penalty_strength': 10, 'multiplier': 1, 'multiplier_strength': 10, 'tool_radius': 1.0}\n",
      "{'complexity': 16, 'size': 30, 'turn_costs': 1.0, 'holes': 1, 'hole_size': 1.6, 'hole_complexity': 1, 'penalties': 32, 'penalty_strength': 10, 'multiplier': 2, 'multiplier_strength': 5, 'tool_radius': 1.0}\n",
      "Too dense\n",
      "{'complexity': 4, 'size': 25, 'turn_costs': 1.0, 'holes': 4, 'hole_size': 1.6, 'hole_complexity': 2, 'penalties': 8, 'penalty_strength': 5, 'multiplier': 4, 'multiplier_strength': 10, 'tool_radius': 1.0}\n",
      "{'complexity': 8, 'size': 30, 'turn_costs': 5.0, 'holes': 2, 'hole_size': 0.8, 'hole_complexity': 4, 'penalties': 8, 'penalty_strength': 5, 'multiplier': 1, 'multiplier_strength': 2, 'tool_radius': 1.0}\n",
      "{'complexity': 4, 'size': 30, 'turn_costs': 5.0, 'holes': 2, 'hole_size': 0.8, 'hole_complexity': 4, 'penalties': 8, 'penalty_strength': 10, 'multiplier': 1, 'multiplier_strength': 10, 'tool_radius': 1.0}\n",
      "{'complexity': 16, 'size': 40, 'turn_costs': 1.0, 'holes': 2, 'hole_size': 0.8, 'hole_complexity': 4, 'penalties': 16, 'penalty_strength': 5, 'multiplier': 4, 'multiplier_strength': 10, 'tool_radius': 1.0}\n",
      "{'complexity': 4, 'size': 25, 'turn_costs': 50.0, 'holes': 4, 'hole_size': 0.8, 'hole_complexity': 1, 'penalties': 4, 'penalty_strength': 10, 'multiplier': 1, 'multiplier_strength': 50, 'tool_radius': 1.0}\n",
      "{'complexity': 16, 'size': 30, 'turn_costs': 50.0, 'holes': 4, 'hole_size': 0.2, 'hole_complexity': 2, 'penalties': 32, 'penalty_strength': 10, 'multiplier': 2, 'multiplier_strength': 10, 'tool_radius': 1.0}\n",
      "{'complexity': 8, 'size': 40, 'turn_costs': 50.0, 'holes': 2, 'hole_size': 0.4, 'hole_complexity': 4, 'penalties': 8, 'penalty_strength': 10, 'multiplier': 2, 'multiplier_strength': 10, 'tool_radius': 1.0}\n",
      "{'complexity': 16, 'size': 25, 'turn_costs': 1.0, 'holes': 2, 'hole_size': 0.4, 'hole_complexity': 4, 'penalties': 32, 'penalty_strength': 10, 'multiplier': 8, 'multiplier_strength': 50, 'tool_radius': 1.0}\n",
      "{'complexity': 2, 'size': 40, 'turn_costs': 50.0, 'holes': 1, 'hole_size': 0.4, 'hole_complexity': 2, 'penalties': 32, 'penalty_strength': 5, 'multiplier': 1, 'multiplier_strength': 50, 'tool_radius': 1.0}\n",
      "Too dense\n",
      "{'complexity': 16, 'size': 40, 'turn_costs': 50.0, 'holes': 8, 'hole_size': 1.6, 'hole_complexity': 2, 'penalties': 8, 'penalty_strength': 5, 'multiplier': 8, 'multiplier_strength': 10, 'tool_radius': 1.0}\n",
      "Too much expensive.\n",
      "{'complexity': 2, 'size': 25, 'turn_costs': 5.0, 'holes': 16, 'hole_size': 0.2, 'hole_complexity': 4, 'penalties': 8, 'penalty_strength': 5, 'multiplier': 1, 'multiplier_strength': 10, 'tool_radius': 1.0}\n",
      "{'complexity': 16, 'size': 40, 'turn_costs': 1.0, 'holes': 4, 'hole_size': 0.4, 'hole_complexity': 1, 'penalties': 4, 'penalty_strength': 5, 'multiplier': 8, 'multiplier_strength': 50, 'tool_radius': 1.0}\n",
      "Too much expensive.\n",
      "{'complexity': 4, 'size': 25, 'turn_costs': 50.0, 'holes': 1, 'hole_size': 1.6, 'hole_complexity': 1, 'penalties': 8, 'penalty_strength': 10, 'multiplier': 2, 'multiplier_strength': 10, 'tool_radius': 1.0}\n",
      "{'complexity': 16, 'size': 30, 'turn_costs': 50.0, 'holes': 2, 'hole_size': 1.6, 'hole_complexity': 1, 'penalties': 4, 'penalty_strength': 5, 'multiplier': 2, 'multiplier_strength': 2, 'tool_radius': 1.0}\n",
      "{'complexity': 4, 'size': 30, 'turn_costs': 50.0, 'holes': 4, 'hole_size': 0.2, 'hole_complexity': 2, 'penalties': 4, 'penalty_strength': 5, 'multiplier': 2, 'multiplier_strength': 5, 'tool_radius': 1.0}\n",
      "{'complexity': 16, 'size': 40, 'turn_costs': 50.0, 'holes': 16, 'hole_size': 0.4, 'hole_complexity': 2, 'penalties': 4, 'penalty_strength': 5, 'multiplier': 8, 'multiplier_strength': 10, 'tool_radius': 1.0}\n",
      "{'complexity': 16, 'size': 30, 'turn_costs': 5.0, 'holes': 16, 'hole_size': 1.6, 'hole_complexity': 1, 'penalties': 8, 'penalty_strength': 10, 'multiplier': 1, 'multiplier_strength': 50, 'tool_radius': 1.0}\n",
      "{'complexity': 2, 'size': 25, 'turn_costs': 5.0, 'holes': 8, 'hole_size': 1.6, 'hole_complexity': 2, 'penalties': 4, 'penalty_strength': 10, 'multiplier': 4, 'multiplier_strength': 5, 'tool_radius': 1.0}\n",
      "{'complexity': 4, 'size': 40, 'turn_costs': 5.0, 'holes': 4, 'hole_size': 0.8, 'hole_complexity': 4, 'penalties': 4, 'penalty_strength': 5, 'multiplier': 4, 'multiplier_strength': 50, 'tool_radius': 1.0}\n",
      "{'complexity': 2, 'size': 30, 'turn_costs': 1.0, 'holes': 16, 'hole_size': 0.4, 'hole_complexity': 4, 'penalties': 32, 'penalty_strength': 5, 'multiplier': 1, 'multiplier_strength': 5, 'tool_radius': 1.0}\n",
      "'MultiPolygon' object has no attribute 'exterior'\n",
      "{'complexity': 16, 'size': 25, 'turn_costs': 1.0, 'holes': 8, 'hole_size': 0.8, 'hole_complexity': 1, 'penalties': 4, 'penalty_strength': 10, 'multiplier': 1, 'multiplier_strength': 5, 'tool_radius': 1.0}\n",
      "{'complexity': 16, 'size': 40, 'turn_costs': 5.0, 'holes': 16, 'hole_size': 0.8, 'hole_complexity': 1, 'penalties': 8, 'penalty_strength': 5, 'multiplier': 8, 'multiplier_strength': 2, 'tool_radius': 1.0}\n",
      "'MultiPolygon' object has no attribute 'exterior'\n",
      "{'complexity': 2, 'size': 25, 'turn_costs': 1.0, 'holes': 8, 'hole_size': 0.2, 'hole_complexity': 1, 'penalties': 32, 'penalty_strength': 10, 'multiplier': 4, 'multiplier_strength': 5, 'tool_radius': 1.0}\n",
      "Too much expensive.\n",
      "{'complexity': 16, 'size': 25, 'turn_costs': 50.0, 'holes': 8, 'hole_size': 0.8, 'hole_complexity': 4, 'penalties': 16, 'penalty_strength': 10, 'multiplier': 4, 'multiplier_strength': 5, 'tool_radius': 1.0}\n",
      "'MultiPolygon' object has no attribute 'exterior'\n",
      "{'complexity': 2, 'size': 40, 'turn_costs': 5.0, 'holes': 16, 'hole_size': 0.2, 'hole_complexity': 2, 'penalties': 8, 'penalty_strength': 10, 'multiplier': 1, 'multiplier_strength': 10, 'tool_radius': 1.0}\n",
      "{'complexity': 8, 'size': 30, 'turn_costs': 5.0, 'holes': 1, 'hole_size': 0.4, 'hole_complexity': 4, 'penalties': 16, 'penalty_strength': 5, 'multiplier': 1, 'multiplier_strength': 2, 'tool_radius': 1.0}\n",
      "{'complexity': 16, 'size': 40, 'turn_costs': 5.0, 'holes': 1, 'hole_size': 0.4, 'hole_complexity': 1, 'penalties': 4, 'penalty_strength': 5, 'multiplier': 2, 'multiplier_strength': 10, 'tool_radius': 1.0}\n",
      "{'complexity': 16, 'size': 30, 'turn_costs': 5.0, 'holes': 16, 'hole_size': 0.8, 'hole_complexity': 1, 'penalties': 32, 'penalty_strength': 5, 'multiplier': 4, 'multiplier_strength': 5, 'tool_radius': 1.0}\n",
      "{'complexity': 4, 'size': 40, 'turn_costs': 50.0, 'holes': 16, 'hole_size': 1.6, 'hole_complexity': 1, 'penalties': 4, 'penalty_strength': 10, 'multiplier': 1, 'multiplier_strength': 2, 'tool_radius': 1.0}\n",
      "{'complexity': 2, 'size': 30, 'turn_costs': 5.0, 'holes': 8, 'hole_size': 0.8, 'hole_complexity': 4, 'penalties': 8, 'penalty_strength': 5, 'multiplier': 2, 'multiplier_strength': 50, 'tool_radius': 1.0}\n",
      "{'complexity': 16, 'size': 25, 'turn_costs': 5.0, 'holes': 4, 'hole_size': 0.8, 'hole_complexity': 1, 'penalties': 32, 'penalty_strength': 5, 'multiplier': 4, 'multiplier_strength': 50, 'tool_radius': 1.0}\n",
      "{'complexity': 16, 'size': 25, 'turn_costs': 1.0, 'holes': 8, 'hole_size': 0.4, 'hole_complexity': 2, 'penalties': 32, 'penalty_strength': 10, 'multiplier': 1, 'multiplier_strength': 5, 'tool_radius': 1.0}\n",
      "'GeometryCollection' object has no attribute 'exterior'\n",
      "{'complexity': 4, 'size': 40, 'turn_costs': 5.0, 'holes': 8, 'hole_size': 1.6, 'hole_complexity': 2, 'penalties': 8, 'penalty_strength': 10, 'multiplier': 2, 'multiplier_strength': 2, 'tool_radius': 1.0}\n",
      "{'complexity': 8, 'size': 40, 'turn_costs': 1.0, 'holes': 2, 'hole_size': 0.4, 'hole_complexity': 4, 'penalties': 16, 'penalty_strength': 10, 'multiplier': 8, 'multiplier_strength': 2, 'tool_radius': 1.0}\n",
      "Too much expensive.\n",
      "{'complexity': 8, 'size': 25, 'turn_costs': 50.0, 'holes': 2, 'hole_size': 0.2, 'hole_complexity': 1, 'penalties': 32, 'penalty_strength': 5, 'multiplier': 1, 'multiplier_strength': 10, 'tool_radius': 1.0}\n",
      "{'complexity': 4, 'size': 30, 'turn_costs': 5.0, 'holes': 1, 'hole_size': 0.8, 'hole_complexity': 4, 'penalties': 4, 'penalty_strength': 10, 'multiplier': 4, 'multiplier_strength': 5, 'tool_radius': 1.0}\n",
      "{'complexity': 4, 'size': 30, 'turn_costs': 1.0, 'holes': 16, 'hole_size': 0.4, 'hole_complexity': 4, 'penalties': 4, 'penalty_strength': 5, 'multiplier': 4, 'multiplier_strength': 5, 'tool_radius': 1.0}\n",
      "Too much expensive.\n",
      "{'complexity': 2, 'size': 40, 'turn_costs': 1.0, 'holes': 8, 'hole_size': 0.8, 'hole_complexity': 1, 'penalties': 4, 'penalty_strength': 10, 'multiplier': 1, 'multiplier_strength': 2, 'tool_radius': 1.0}\n",
      "{'complexity': 2, 'size': 40, 'turn_costs': 50.0, 'holes': 8, 'hole_size': 1.6, 'hole_complexity': 2, 'penalties': 32, 'penalty_strength': 10, 'multiplier': 1, 'multiplier_strength': 10, 'tool_radius': 1.0}\n",
      "Too dense\n",
      "{'complexity': 16, 'size': 30, 'turn_costs': 50.0, 'holes': 1, 'hole_size': 0.8, 'hole_complexity': 4, 'penalties': 8, 'penalty_strength': 10, 'multiplier': 4, 'multiplier_strength': 10, 'tool_radius': 1.0}\n",
      "{'complexity': 2, 'size': 25, 'turn_costs': 1.0, 'holes': 4, 'hole_size': 0.8, 'hole_complexity': 1, 'penalties': 4, 'penalty_strength': 10, 'multiplier': 2, 'multiplier_strength': 5, 'tool_radius': 1.0}\n",
      "{'complexity': 4, 'size': 40, 'turn_costs': 50.0, 'holes': 4, 'hole_size': 0.8, 'hole_complexity': 2, 'penalties': 32, 'penalty_strength': 10, 'multiplier': 8, 'multiplier_strength': 50, 'tool_radius': 1.0}\n",
      "Too much expensive.\n",
      "{'complexity': 8, 'size': 30, 'turn_costs': 5.0, 'holes': 8, 'hole_size': 0.4, 'hole_complexity': 4, 'penalties': 32, 'penalty_strength': 10, 'multiplier': 2, 'multiplier_strength': 10, 'tool_radius': 1.0}\n",
      "{'complexity': 2, 'size': 30, 'turn_costs': 5.0, 'holes': 1, 'hole_size': 1.6, 'hole_complexity': 4, 'penalties': 8, 'penalty_strength': 5, 'multiplier': 4, 'multiplier_strength': 10, 'tool_radius': 1.0}\n",
      "Too much expensive.\n",
      "{'complexity': 4, 'size': 30, 'turn_costs': 5.0, 'holes': 1, 'hole_size': 0.8, 'hole_complexity': 4, 'penalties': 16, 'penalty_strength': 5, 'multiplier': 1, 'multiplier_strength': 5, 'tool_radius': 1.0}\n",
      "{'complexity': 2, 'size': 40, 'turn_costs': 5.0, 'holes': 1, 'hole_size': 0.4, 'hole_complexity': 1, 'penalties': 16, 'penalty_strength': 5, 'multiplier': 4, 'multiplier_strength': 10, 'tool_radius': 1.0}\n",
      "Too much expensive.\n",
      "{'complexity': 8, 'size': 30, 'turn_costs': 5.0, 'holes': 16, 'hole_size': 0.8, 'hole_complexity': 4, 'penalties': 8, 'penalty_strength': 5, 'multiplier': 1, 'multiplier_strength': 2, 'tool_radius': 1.0}\n",
      "{'complexity': 4, 'size': 40, 'turn_costs': 5.0, 'holes': 8, 'hole_size': 0.2, 'hole_complexity': 4, 'penalties': 8, 'penalty_strength': 5, 'multiplier': 2, 'multiplier_strength': 2, 'tool_radius': 1.0}\n",
      "'MultiPolygon' object has no attribute 'exterior'\n",
      "{'complexity': 4, 'size': 30, 'turn_costs': 50.0, 'holes': 2, 'hole_size': 1.6, 'hole_complexity': 1, 'penalties': 4, 'penalty_strength': 10, 'multiplier': 1, 'multiplier_strength': 10, 'tool_radius': 1.0}\n",
      "{'complexity': 2, 'size': 40, 'turn_costs': 1.0, 'holes': 16, 'hole_size': 0.2, 'hole_complexity': 4, 'penalties': 32, 'penalty_strength': 10, 'multiplier': 1, 'multiplier_strength': 5, 'tool_radius': 1.0}\n",
      "Too dense\n",
      "{'complexity': 8, 'size': 25, 'turn_costs': 5.0, 'holes': 4, 'hole_size': 0.8, 'hole_complexity': 2, 'penalties': 4, 'penalty_strength': 5, 'multiplier': 4, 'multiplier_strength': 10, 'tool_radius': 1.0}\n",
      "{'complexity': 16, 'size': 40, 'turn_costs': 50.0, 'holes': 8, 'hole_size': 1.6, 'hole_complexity': 1, 'penalties': 8, 'penalty_strength': 10, 'multiplier': 4, 'multiplier_strength': 5, 'tool_radius': 1.0}\n",
      "{'complexity': 4, 'size': 40, 'turn_costs': 5.0, 'holes': 4, 'hole_size': 0.8, 'hole_complexity': 1, 'penalties': 8, 'penalty_strength': 10, 'multiplier': 1, 'multiplier_strength': 10, 'tool_radius': 1.0}\n",
      "{'complexity': 8, 'size': 25, 'turn_costs': 1.0, 'holes': 4, 'hole_size': 0.4, 'hole_complexity': 1, 'penalties': 4, 'penalty_strength': 5, 'multiplier': 1, 'multiplier_strength': 50, 'tool_radius': 1.0}\n",
      "{'complexity': 16, 'size': 30, 'turn_costs': 1.0, 'holes': 1, 'hole_size': 0.4, 'hole_complexity': 2, 'penalties': 32, 'penalty_strength': 10, 'multiplier': 1, 'multiplier_strength': 2, 'tool_radius': 1.0}\n",
      "{'complexity': 2, 'size': 30, 'turn_costs': 50.0, 'holes': 4, 'hole_size': 0.2, 'hole_complexity': 2, 'penalties': 16, 'penalty_strength': 5, 'multiplier': 4, 'multiplier_strength': 10, 'tool_radius': 1.0}\n",
      "Too much expensive.\n",
      "{'complexity': 8, 'size': 25, 'turn_costs': 5.0, 'holes': 2, 'hole_size': 0.2, 'hole_complexity': 2, 'penalties': 8, 'penalty_strength': 10, 'multiplier': 4, 'multiplier_strength': 2, 'tool_radius': 1.0}\n",
      "Too much expensive.\n",
      "{'complexity': 4, 'size': 25, 'turn_costs': 1.0, 'holes': 8, 'hole_size': 0.8, 'hole_complexity': 4, 'penalties': 32, 'penalty_strength': 5, 'multiplier': 8, 'multiplier_strength': 10, 'tool_radius': 1.0}\n",
      "Too much expensive.\n",
      "{'complexity': 4, 'size': 30, 'turn_costs': 5.0, 'holes': 8, 'hole_size': 0.8, 'hole_complexity': 4, 'penalties': 4, 'penalty_strength': 10, 'multiplier': 4, 'multiplier_strength': 5, 'tool_radius': 1.0}\n",
      "Too much expensive.\n",
      "{'complexity': 8, 'size': 30, 'turn_costs': 5.0, 'holes': 4, 'hole_size': 1.6, 'hole_complexity': 2, 'penalties': 32, 'penalty_strength': 10, 'multiplier': 2, 'multiplier_strength': 2, 'tool_radius': 1.0}\n",
      "Too dense\n",
      "{'complexity': 2, 'size': 30, 'turn_costs': 50.0, 'holes': 16, 'hole_size': 0.2, 'hole_complexity': 2, 'penalties': 8, 'penalty_strength': 10, 'multiplier': 2, 'multiplier_strength': 10, 'tool_radius': 1.0}\n",
      "{'complexity': 2, 'size': 40, 'turn_costs': 1.0, 'holes': 4, 'hole_size': 0.2, 'hole_complexity': 4, 'penalties': 16, 'penalty_strength': 10, 'multiplier': 8, 'multiplier_strength': 10, 'tool_radius': 1.0}\n",
      "Too much expensive.\n",
      "{'complexity': 16, 'size': 40, 'turn_costs': 5.0, 'holes': 2, 'hole_size': 0.8, 'hole_complexity': 4, 'penalties': 8, 'penalty_strength': 5, 'multiplier': 1, 'multiplier_strength': 5, 'tool_radius': 1.0}\n",
      "{'complexity': 8, 'size': 30, 'turn_costs': 5.0, 'holes': 1, 'hole_size': 0.4, 'hole_complexity': 2, 'penalties': 8, 'penalty_strength': 10, 'multiplier': 4, 'multiplier_strength': 2, 'tool_radius': 1.0}\n",
      "{'complexity': 16, 'size': 25, 'turn_costs': 1.0, 'holes': 1, 'hole_size': 0.8, 'hole_complexity': 4, 'penalties': 16, 'penalty_strength': 5, 'multiplier': 1, 'multiplier_strength': 5, 'tool_radius': 1.0}\n",
      "{'complexity': 4, 'size': 40, 'turn_costs': 1.0, 'holes': 4, 'hole_size': 1.6, 'hole_complexity': 4, 'penalties': 16, 'penalty_strength': 10, 'multiplier': 4, 'multiplier_strength': 5, 'tool_radius': 1.0}\n",
      "Too much expensive.\n",
      "{'complexity': 16, 'size': 40, 'turn_costs': 50.0, 'holes': 8, 'hole_size': 0.2, 'hole_complexity': 4, 'penalties': 8, 'penalty_strength': 5, 'multiplier': 2, 'multiplier_strength': 50, 'tool_radius': 1.0}\n",
      "{'complexity': 16, 'size': 40, 'turn_costs': 1.0, 'holes': 1, 'hole_size': 1.6, 'hole_complexity': 4, 'penalties': 16, 'penalty_strength': 10, 'multiplier': 8, 'multiplier_strength': 5, 'tool_radius': 1.0}\n",
      "{'complexity': 2, 'size': 40, 'turn_costs': 5.0, 'holes': 2, 'hole_size': 0.8, 'hole_complexity': 4, 'penalties': 16, 'penalty_strength': 5, 'multiplier': 1, 'multiplier_strength': 10, 'tool_radius': 1.0}\n",
      "{'complexity': 16, 'size': 25, 'turn_costs': 50.0, 'holes': 2, 'hole_size': 0.2, 'hole_complexity': 1, 'penalties': 4, 'penalty_strength': 5, 'multiplier': 8, 'multiplier_strength': 50, 'tool_radius': 1.0}\n",
      "{'complexity': 16, 'size': 30, 'turn_costs': 50.0, 'holes': 4, 'hole_size': 0.2, 'hole_complexity': 4, 'penalties': 4, 'penalty_strength': 5, 'multiplier': 8, 'multiplier_strength': 10, 'tool_radius': 1.0}\n",
      "{'complexity': 16, 'size': 40, 'turn_costs': 5.0, 'holes': 1, 'hole_size': 0.2, 'hole_complexity': 2, 'penalties': 32, 'penalty_strength': 10, 'multiplier': 4, 'multiplier_strength': 5, 'tool_radius': 1.0}\n",
      "Too dense\n",
      "{'complexity': 2, 'size': 40, 'turn_costs': 5.0, 'holes': 2, 'hole_size': 0.8, 'hole_complexity': 4, 'penalties': 8, 'penalty_strength': 10, 'multiplier': 8, 'multiplier_strength': 2, 'tool_radius': 1.0}\n",
      "Too much expensive.\n",
      "{'complexity': 16, 'size': 40, 'turn_costs': 5.0, 'holes': 2, 'hole_size': 0.8, 'hole_complexity': 4, 'penalties': 32, 'penalty_strength': 10, 'multiplier': 2, 'multiplier_strength': 5, 'tool_radius': 1.0}\n",
      "{'complexity': 4, 'size': 25, 'turn_costs': 5.0, 'holes': 16, 'hole_size': 0.2, 'hole_complexity': 4, 'penalties': 16, 'penalty_strength': 5, 'multiplier': 1, 'multiplier_strength': 10, 'tool_radius': 1.0}\n",
      "{'complexity': 2, 'size': 25, 'turn_costs': 50.0, 'holes': 8, 'hole_size': 0.8, 'hole_complexity': 4, 'penalties': 8, 'penalty_strength': 5, 'multiplier': 1, 'multiplier_strength': 50, 'tool_radius': 1.0}\n",
      "{'complexity': 8, 'size': 25, 'turn_costs': 1.0, 'holes': 1, 'hole_size': 0.2, 'hole_complexity': 2, 'penalties': 8, 'penalty_strength': 5, 'multiplier': 1, 'multiplier_strength': 2, 'tool_radius': 1.0}\n",
      "{'complexity': 4, 'size': 30, 'turn_costs': 1.0, 'holes': 2, 'hole_size': 0.8, 'hole_complexity': 2, 'penalties': 8, 'penalty_strength': 5, 'multiplier': 2, 'multiplier_strength': 5, 'tool_radius': 1.0}\n",
      "{'complexity': 8, 'size': 40, 'turn_costs': 1.0, 'holes': 16, 'hole_size': 0.4, 'hole_complexity': 4, 'penalties': 16, 'penalty_strength': 10, 'multiplier': 8, 'multiplier_strength': 50, 'tool_radius': 1.0}\n",
      "'MultiPolygon' object has no attribute 'exterior'\n",
      "{'complexity': 4, 'size': 30, 'turn_costs': 5.0, 'holes': 4, 'hole_size': 1.6, 'hole_complexity': 2, 'penalties': 4, 'penalty_strength': 10, 'multiplier': 1, 'multiplier_strength': 2, 'tool_radius': 1.0}\n",
      "{'complexity': 4, 'size': 40, 'turn_costs': 50.0, 'holes': 8, 'hole_size': 1.6, 'hole_complexity': 2, 'penalties': 32, 'penalty_strength': 5, 'multiplier': 8, 'multiplier_strength': 5, 'tool_radius': 1.0}\n",
      "Too much expensive.\n",
      "{'complexity': 8, 'size': 40, 'turn_costs': 5.0, 'holes': 4, 'hole_size': 1.6, 'hole_complexity': 2, 'penalties': 8, 'penalty_strength': 10, 'multiplier': 2, 'multiplier_strength': 50, 'tool_radius': 1.0}\n",
      "{'complexity': 2, 'size': 25, 'turn_costs': 5.0, 'holes': 4, 'hole_size': 0.4, 'hole_complexity': 1, 'penalties': 4, 'penalty_strength': 10, 'multiplier': 4, 'multiplier_strength': 50, 'tool_radius': 1.0}\n",
      "{'complexity': 8, 'size': 30, 'turn_costs': 50.0, 'holes': 1, 'hole_size': 0.8, 'hole_complexity': 4, 'penalties': 16, 'penalty_strength': 5, 'multiplier': 8, 'multiplier_strength': 5, 'tool_radius': 1.0}\n",
      "Too much expensive.\n",
      "{'complexity': 4, 'size': 40, 'turn_costs': 1.0, 'holes': 2, 'hole_size': 0.8, 'hole_complexity': 1, 'penalties': 16, 'penalty_strength': 10, 'multiplier': 4, 'multiplier_strength': 10, 'tool_radius': 1.0}\n",
      "{'complexity': 4, 'size': 25, 'turn_costs': 50.0, 'holes': 2, 'hole_size': 1.6, 'hole_complexity': 4, 'penalties': 32, 'penalty_strength': 5, 'multiplier': 8, 'multiplier_strength': 50, 'tool_radius': 1.0}\n",
      "Too much expensive.\n",
      "{'complexity': 16, 'size': 25, 'turn_costs': 1.0, 'holes': 16, 'hole_size': 0.4, 'hole_complexity': 2, 'penalties': 16, 'penalty_strength': 10, 'multiplier': 8, 'multiplier_strength': 50, 'tool_radius': 1.0}\n",
      "Too much expensive.\n",
      "{'complexity': 8, 'size': 30, 'turn_costs': 50.0, 'holes': 16, 'hole_size': 1.6, 'hole_complexity': 4, 'penalties': 4, 'penalty_strength': 5, 'multiplier': 8, 'multiplier_strength': 50, 'tool_radius': 1.0}\n",
      "Too much expensive.\n",
      "{'complexity': 8, 'size': 25, 'turn_costs': 50.0, 'holes': 8, 'hole_size': 0.2, 'hole_complexity': 4, 'penalties': 16, 'penalty_strength': 5, 'multiplier': 2, 'multiplier_strength': 2, 'tool_radius': 1.0}\n",
      "{'complexity': 4, 'size': 40, 'turn_costs': 50.0, 'holes': 2, 'hole_size': 1.6, 'hole_complexity': 1, 'penalties': 4, 'penalty_strength': 10, 'multiplier': 1, 'multiplier_strength': 10, 'tool_radius': 1.0}\n",
      "{'complexity': 16, 'size': 25, 'turn_costs': 50.0, 'holes': 16, 'hole_size': 1.6, 'hole_complexity': 1, 'penalties': 8, 'penalty_strength': 5, 'multiplier': 4, 'multiplier_strength': 5, 'tool_radius': 1.0}\n",
      "{'complexity': 8, 'size': 30, 'turn_costs': 1.0, 'holes': 16, 'hole_size': 0.8, 'hole_complexity': 2, 'penalties': 32, 'penalty_strength': 5, 'multiplier': 2, 'multiplier_strength': 5, 'tool_radius': 1.0}\n",
      "{'complexity': 2, 'size': 25, 'turn_costs': 5.0, 'holes': 16, 'hole_size': 0.8, 'hole_complexity': 1, 'penalties': 32, 'penalty_strength': 10, 'multiplier': 4, 'multiplier_strength': 5, 'tool_radius': 1.0}\n",
      "'MultiPolygon' object has no attribute 'exterior'\n",
      "{'complexity': 2, 'size': 30, 'turn_costs': 5.0, 'holes': 2, 'hole_size': 0.8, 'hole_complexity': 1, 'penalties': 8, 'penalty_strength': 10, 'multiplier': 4, 'multiplier_strength': 50, 'tool_radius': 1.0}\n",
      "Too much expensive.\n",
      "{'complexity': 4, 'size': 30, 'turn_costs': 1.0, 'holes': 4, 'hole_size': 0.4, 'hole_complexity': 1, 'penalties': 4, 'penalty_strength': 10, 'multiplier': 8, 'multiplier_strength': 5, 'tool_radius': 1.0}\n",
      "Too much expensive.\n",
      "{'complexity': 2, 'size': 30, 'turn_costs': 50.0, 'holes': 1, 'hole_size': 0.4, 'hole_complexity': 2, 'penalties': 4, 'penalty_strength': 5, 'multiplier': 1, 'multiplier_strength': 10, 'tool_radius': 1.0}\n",
      "{'complexity': 4, 'size': 40, 'turn_costs': 1.0, 'holes': 4, 'hole_size': 0.8, 'hole_complexity': 2, 'penalties': 4, 'penalty_strength': 10, 'multiplier': 4, 'multiplier_strength': 50, 'tool_radius': 1.0}\n",
      "Too much expensive.\n",
      "{'complexity': 16, 'size': 25, 'turn_costs': 50.0, 'holes': 2, 'hole_size': 0.8, 'hole_complexity': 1, 'penalties': 4, 'penalty_strength': 10, 'multiplier': 2, 'multiplier_strength': 10, 'tool_radius': 1.0}\n",
      "{'complexity': 2, 'size': 40, 'turn_costs': 1.0, 'holes': 8, 'hole_size': 0.2, 'hole_complexity': 2, 'penalties': 16, 'penalty_strength': 10, 'multiplier': 8, 'multiplier_strength': 50, 'tool_radius': 1.0}\n",
      "Too much expensive.\n",
      "{'complexity': 8, 'size': 40, 'turn_costs': 1.0, 'holes': 8, 'hole_size': 0.8, 'hole_complexity': 2, 'penalties': 4, 'penalty_strength': 5, 'multiplier': 2, 'multiplier_strength': 2, 'tool_radius': 1.0}\n",
      "{'complexity': 16, 'size': 30, 'turn_costs': 1.0, 'holes': 8, 'hole_size': 1.6, 'hole_complexity': 4, 'penalties': 4, 'penalty_strength': 5, 'multiplier': 2, 'multiplier_strength': 50, 'tool_radius': 1.0}\n",
      "{'complexity': 8, 'size': 40, 'turn_costs': 5.0, 'holes': 1, 'hole_size': 0.2, 'hole_complexity': 1, 'penalties': 4, 'penalty_strength': 10, 'multiplier': 2, 'multiplier_strength': 2, 'tool_radius': 1.0}\n",
      "{'complexity': 2, 'size': 30, 'turn_costs': 50.0, 'holes': 4, 'hole_size': 0.2, 'hole_complexity': 1, 'penalties': 4, 'penalty_strength': 10, 'multiplier': 8, 'multiplier_strength': 10, 'tool_radius': 1.0}\n",
      "Too much expensive.\n",
      "{'complexity': 8, 'size': 25, 'turn_costs': 50.0, 'holes': 4, 'hole_size': 0.8, 'hole_complexity': 1, 'penalties': 8, 'penalty_strength': 5, 'multiplier': 1, 'multiplier_strength': 2, 'tool_radius': 1.0}\n",
      "{'complexity': 2, 'size': 40, 'turn_costs': 5.0, 'holes': 16, 'hole_size': 1.6, 'hole_complexity': 2, 'penalties': 32, 'penalty_strength': 10, 'multiplier': 4, 'multiplier_strength': 5, 'tool_radius': 1.0}\n",
      "Too much expensive.\n",
      "{'complexity': 16, 'size': 30, 'turn_costs': 50.0, 'holes': 8, 'hole_size': 1.6, 'hole_complexity': 4, 'penalties': 16, 'penalty_strength': 10, 'multiplier': 2, 'multiplier_strength': 50, 'tool_radius': 1.0}\n",
      "{'complexity': 4, 'size': 30, 'turn_costs': 5.0, 'holes': 4, 'hole_size': 1.6, 'hole_complexity': 1, 'penalties': 4, 'penalty_strength': 5, 'multiplier': 4, 'multiplier_strength': 50, 'tool_radius': 1.0}\n",
      "Too much expensive.\n",
      "{'complexity': 2, 'size': 30, 'turn_costs': 50.0, 'holes': 1, 'hole_size': 0.2, 'hole_complexity': 2, 'penalties': 4, 'penalty_strength': 5, 'multiplier': 2, 'multiplier_strength': 50, 'tool_radius': 1.0}\n"
     ]
    },
    {
     "name": "stderr",
     "output_type": "stream",
     "text": [
      "/Users/ANONYMOUS_USER/Repositories/grid_warping/optimizer/plot/setup.py:9: RuntimeWarning: More than 20 figures have been opened. Figures created through the pyplot interface (`matplotlib.pyplot.figure`) are retained until explicitly closed and may consume too much memory. (To control this warning, see the rcParam `figure.max_open_warning`).\n",
      "  fig, ax = plt.subplots(figsize=figsize)\n"
     ]
    }
   ],
   "source": [
    "from pcpptc.plot import plot_solution\n",
    "from pcpptc import MeshAlgorithm\n",
    "\n",
    "instance_folder = \"./instances2\"\n",
    "os.makedirs(instance_folder, exist_ok=True)\n",
    "alg = MeshAlgorithm()\n",
    "for i in range(200, 500):\n",
    "    instance = random_instance()\n",
    "    # instance.valuable_areas = [(instance.original_area, 1.0)]\n",
    "    instance.to_json(file_path=os.path.join(instance_folder, f\"{i}.instance.json\"))\n",
    "    ax = setup_plot()\n",
    "    plot_polygon_instance(ax, instance, plot_valuable_areas=True)\n",
    "    # tour = alg(instance)\n",
    "    # plot_solution(ax, tour)\n",
    "    plt.savefig(os.path.join(instance_folder, f\"{i}.instance.png\"))\n",
    "    # plt.show()"
   ]
  },
  {
   "cell_type": "code",
   "execution_count": 15,
   "metadata": {
    "collapsed": false,
    "pycharm": {
     "name": "#%%\n"
    }
   },
   "outputs": [
    {
     "name": "stdout",
     "output_type": "stream",
     "text": [
      "{'complexity': 8, 'size': 40, 'turn_costs': 50.0, 'holes': 4, 'hole_size': 1.6, 'hole_complexity': 4, 'penalties': 4, 'penalty_strength': 10, 'multiplier': 1, 'multiplier_strength': 5, 'tool_radius': 1.0}\n"
     ]
    }
   ],
   "source": [
    "instance = random_instance()"
   ]
  },
  {
   "cell_type": "code",
   "execution_count": 16,
   "metadata": {
    "collapsed": false,
    "pycharm": {
     "name": "#%%\n"
    }
   },
   "outputs": [
    {
     "name": "stdout",
     "output_type": "stream",
     "text": [
      "Converting polygon instance to grid instance...\n",
      "Optimize grid with CVT-full\n",
      "Grid Solver:\n",
      "==============================\n",
      "Cycle Cover Solver:\n",
      "Using linear programming and blossom matching to compute a cycle cover with turn-aware, heterogeneous touring costs.\n",
      "IntegralizingFractionalSolverComputing a fractional solution with some BnB steps to improve integrality.Up to 50 BnB steps are performed.\n",
      "NeighborBasedStripStrategy selecting 6 atomic strips first on usage than on minimizing the worst case overhead.\n",
      "------------------------------\n",
      "Local Relaxation CC Optimization:\n",
      " - AreaSelector with area size 50.\n",
      "         Selects the vertex that in sum with its direct neighbors has the highest\n",
      "         coverage costs plus opportunity loss.\n",
      "         \n",
      "- Repeating 25 times.\n",
      "------------------------------\n",
      "Local Relaxation Tour Optimization:\n",
      "- Like CC version but trying to reconnect unconnected solutions up to 10 times.\n",
      " - AreaSelector with area size 50.\n",
      "         Selects the vertex that in sum with its direct neighbors has the highest\n",
      "         coverage costs plus opportunity loss.\n",
      "         \n",
      "- Repeating 25 times.\n",
      "==============================\n",
      "\n",
      "Instance\n",
      "---------------------------------\n",
      "Vertices: 988\n",
      "Edges: 2822\n",
      "Max Degree: 7\n",
      "Max value: 98.82582455774096\n",
      "Cycle Cover: Computing fractional solution...\n",
      "Academic license - for non-commercial use only - expires 2021-10-21\n",
      "Using license file /Users/ANONYMOUS_USER/gurobi.lic\n",
      "Initial fractional solution: 6322.460755678343\n",
      "Optimized fractional solution: 6345.312434562731\n",
      "Fractional solution: 6345.312434562731\n",
      "Cycle Cover: Creating matching problem...\n",
      "Using adaptive strip selection strategy.\n",
      "Cycle Cover: Solving matching...\n",
      "Solve matching on 384573 edges.\n",
      "Optimize CC around PointVertex[140470851062080]@(-8.616064255105504, -32.41505892482281).\n",
      "Optimize CC around PointVertex[140471191090512]@(-6.109217614989, -36.23360536137637).\n",
      "Optimize CC around PointVertex[140470851061936]@(-13.253224352869376, -32.5294943167949).\n",
      "Optimize CC around PointVertex[140470523691888]@(4.002965214626445, -26.627138929369945).\n",
      "Optimize CC around PointVertex[140471073097328]@(-3.5759055274685245, -40.07161188080123).\n",
      "Optimize CC around PointVertex[140471473755184]@(-23.369713380789978, -22.25188208139047).\n",
      "Optimize CC around PointVertex[140471466200608]@(-17.934679425102928, -28.57872192024799).\n",
      "Optimize CC around PointVertex[140471470575728]@(3.0188992224108238, 33.86943895165685).\n",
      "Optimize CC around PointVertex[140470851151232]@(-17.768410273265783, -32.432824733125955).\n",
      "Optimize CC around PointVertex[140471078229088]@(-5.149938814334305, -30.473678279220803).\n",
      "Optimize CC around PointVertex[140470963414352]@(-12.688693741611083, 30.66019708174735).\n",
      "Optimize CC around PointVertex[140470968019216]@(-8.68165524353626, 29.602507376683768).\n",
      "Optimize CC around PointVertex[140470223379280]@(-17.455995853103232, 17.980427609410622).\n",
      "Optimize CC around PointVertex[140471078172944]@(-19.585990045459923, -16.282517408887323).\n",
      "Optimize CC around PointVertex[140471480096992]@(-14.359831081437056, 12.01720542764307).\n",
      "Optimize CC around PointVertex[140470963413104]@(-5.258883079430177, 31.62476884338476).\n",
      "Optimize CC around PointVertex[140470963415552]@(-0.5512857447223737, 31.833731747525125).\n",
      "Optimize CC around PointVertex[140471472862592]@(3.900755024946221, -22.771138136571267).\n",
      "Optimize CC around PointVertex[140470523566592]@(-14.905149331578015, 26.73465487824506).\n",
      "Optimize CC around PointVertex[140471068748144]@(7.3653795777281825, -24.66377242050695).\n",
      "Optimize CC around PointVertex[140471470576544]@(-14.586629866920408, 34.925444668504745).\n",
      "Optimize CC around PointVertex[140471199840816]@(-21.33828193879524, -26.45060059287687).\n",
      "Optimize CC around PointVertex[140471068772000]@(-13.810227947198296, 8.406650528240881).\n",
      "Optimize CC around PointVertex[140471472824816]@(6.59708276733777, 35.740010368067765).\n",
      "Optimize CC around PointVertex[140470228701536]@(-18.834861096880786, -1.743076547306175).\n",
      "Connecting 3 cycles\n",
      "Trying to connect greedily\n",
      "3 cycles remaining\n",
      "Computing PCST\n",
      "PCST Mip with 3 nodes.\n",
      "Values: [5835.418280840336, 121.59244294361221, 195.47009311397875]\n",
      "Selected 3 cycles.\n",
      "Connecting PCST via DFS\n",
      "Optimize tour around PointVertex[140471473755184]@(-23.369713380789978, -22.25188208139047).\n",
      "Checking for cycles in solution.\n",
      "Found 2 cycles.\n",
      "Adding subtour elimination constraint.\n",
      "Adding subtour elimination constraint.\n",
      "Checking for cycles in solution.\n",
      "Found 1 cycles.\n",
      "Optimize tour around PointVertex[140471466200608]@(-17.934679425102928, -28.57872192024799).\n",
      "Checking for cycles in solution.\n",
      "Found 1 cycles.\n",
      "Optimize tour around PointVertex[140470523691888]@(4.002965214626445, -26.627138929369945).\n",
      "Checking for cycles in solution.\n",
      "Found 2 cycles.\n",
      "Adding subtour elimination constraint.\n",
      "Adding subtour elimination constraint.\n",
      "Checking for cycles in solution.\n",
      "Found 2 cycles.\n",
      "Adding subtour elimination constraint.\n",
      "Adding subtour elimination constraint.\n",
      "Checking for cycles in solution.\n",
      "Found 1 cycles.\n",
      "Optimize tour around PointVertex[140471470575728]@(3.0188992224108238, 33.86943895165685).\n",
      "Checking for cycles in solution.\n",
      "Found 1 cycles.\n",
      "Optimize tour around PointVertex[140471078172128]@(-21.763940812846776, -16.17161415225427).\n",
      "Checking for cycles in solution.\n",
      "Found 2 cycles.\n",
      "Adding subtour elimination constraint.\n",
      "Adding subtour elimination constraint.\n",
      "Checking for cycles in solution.\n",
      "Found 1 cycles.\n",
      "Optimize tour around PointVertex[140470963414352]@(-12.688693741611083, 30.66019708174735).\n",
      "Checking for cycles in solution.\n",
      "Found 1 cycles.\n",
      "Optimize tour around PointVertex[140470968019216]@(-8.68165524353626, 29.602507376683768).\n",
      "Checking for cycles in solution.\n",
      "Found 1 cycles.\n",
      "Optimize tour around PointVertex[140470223379280]@(-17.455995853103232, 17.980427609410622).\n",
      "Checking for cycles in solution.\n",
      "Found 1 cycles.\n",
      "Optimize tour around PointVertex[140471480096992]@(-14.359831081437056, 12.01720542764307).\n",
      "Checking for cycles in solution.\n",
      "Found 1 cycles.\n",
      "Optimize tour around PointVertex[140470963413104]@(-5.258883079430177, 31.62476884338476).\n",
      "Checking for cycles in solution.\n",
      "Found 1 cycles.\n",
      "Optimize tour around PointVertex[140470963415552]@(-0.5512857447223737, 31.833731747525125).\n",
      "Checking for cycles in solution.\n",
      "Found 1 cycles.\n",
      "Optimize tour around PointVertex[140470528121296]@(2.731561056911782, -20.846485665262257).\n",
      "Checking for cycles in solution.\n",
      "Found 2 cycles.\n",
      "Adding subtour elimination constraint.\n",
      "Adding subtour elimination constraint.\n",
      "Checking for cycles in solution.\n",
      "Found 2 cycles.\n",
      "Adding subtour elimination constraint.\n",
      "Adding subtour elimination constraint.\n",
      "Checking for cycles in solution.\n",
      "Found 1 cycles.\n",
      "Optimize tour around PointVertex[140470523566592]@(-14.905149331578015, 26.73465487824506).\n",
      "Checking for cycles in solution.\n",
      "Found 1 cycles.\n",
      "Optimize tour around PointVertex[140471470576544]@(-14.586629866920408, 34.925444668504745).\n",
      "Checking for cycles in solution.\n",
      "Found 1 cycles.\n",
      "Optimize tour around PointVertex[140471068772000]@(-13.810227947198296, 8.406650528240881).\n",
      "Checking for cycles in solution.\n",
      "Found 1 cycles.\n",
      "Optimize tour around PointVertex[140470523587840]@(-18.291621399130342, -14.24697547349482).\n",
      "Checking for cycles in solution.\n",
      "Found 2 cycles.\n",
      "Adding subtour elimination constraint.\n",
      "Adding subtour elimination constraint.\n",
      "Checking for cycles in solution.\n",
      "Found 1 cycles.\n",
      "Optimize tour around PointVertex[140471472824816]@(6.59708276733777, 35.740010368067765).\n",
      "Checking for cycles in solution.\n",
      "Found 1 cycles.\n",
      "Optimize tour around PointVertex[140470228701536]@(-18.834861096880786, -1.743076547306175).\n",
      "Checking for cycles in solution.\n",
      "Found 1 cycles.\n",
      "Optimize tour around PointVertex[140470228828608]@(-14.502263295813679, 15.488055853136936).\n",
      "Checking for cycles in solution.\n",
      "Found 1 cycles.\n",
      "Optimize tour around PointVertex[140470228634208]@(-14.472303591300351, 4.740049785775073).\n",
      "Checking for cycles in solution.\n",
      "Found 1 cycles.\n",
      "Optimize tour around PointVertex[140471474115392]@(-13.341052202252788, -28.64658209470781).\n",
      "Checking for cycles in solution.\n",
      "Found 1 cycles.\n",
      "Optimize tour around PointVertex[140470523576176]@(-4.023947930491355, -17.045546310319722).\n",
      "Checking for cycles in solution.\n",
      "Found 1 cycles.\n",
      "Optimize tour around PointVertex[140470532839840]@(-14.006668763673305, 20.207838995537994).\n",
      "Checking for cycles in solution.\n",
      "Found 1 cycles.\n",
      "Optimize tour around PointVertex[140471474115920]@(-8.706138589879819, -28.62717785724661).\n",
      "Checking for cycles in solution.\n",
      "Found 1 cycles.\n",
      "Optimize tour around PointVertex[140470528264560]@(-21.30238848407153, -12.074696293657322).\n",
      "Checking for cycles in solution.\n",
      "Found 2 cycles.\n",
      "Adding subtour elimination constraint.\n",
      "Adding subtour elimination constraint.\n",
      "Checking for cycles in solution.\n",
      "Found 1 cycles.\n",
      "Touring costs in grid: 4905.757615258557\n",
      "Opportunity loss in grid: 1745.868587209795\n",
      "Done. Converting to tour.\n"
     ]
    },
    {
     "data": {
      "text/plain": [
       "<Figure size 640x480 with 0 Axes>"
      ]
     },
     "metadata": {},
     "output_type": "display_data"
    },
    {
     "data": {
      "text/plain": [
       "<Figure size 1000x1000 with 0 Axes>"
      ]
     },
     "metadata": {},
     "output_type": "display_data"
    },
    {
     "data": {
      "text/plain": [
       "<Figure size 1000x1000 with 0 Axes>"
      ]
     },
     "metadata": {},
     "output_type": "display_data"
    },
    {
     "data": {
      "text/plain": [
       "<Figure size 1000x1000 with 0 Axes>"
      ]
     },
     "metadata": {},
     "output_type": "display_data"
    },
    {
     "data": {
      "text/plain": [
       "<Figure size 1000x1000 with 0 Axes>"
      ]
     },
     "metadata": {},
     "output_type": "display_data"
    },
    {
     "data": {
      "text/plain": [
       "<Figure size 1000x1000 with 0 Axes>"
      ]
     },
     "metadata": {},
     "output_type": "display_data"
    },
    {
     "data": {
      "text/plain": [
       "<Figure size 1000x1000 with 0 Axes>"
      ]
     },
     "metadata": {},
     "output_type": "display_data"
    },
    {
     "data": {
      "text/plain": [
       "<Figure size 1000x1000 with 0 Axes>"
      ]
     },
     "metadata": {},
     "output_type": "display_data"
    },
    {
     "data": {
      "text/plain": [
       "<Figure size 1000x1000 with 0 Axes>"
      ]
     },
     "metadata": {},
     "output_type": "display_data"
    },
    {
     "data": {
      "text/plain": [
       "<Figure size 1000x1000 with 0 Axes>"
      ]
     },
     "metadata": {},
     "output_type": "display_data"
    },
    {
     "data": {
      "text/plain": [
       "<Figure size 1000x1000 with 0 Axes>"
      ]
     },
     "metadata": {},
     "output_type": "display_data"
    },
    {
     "data": {
      "text/plain": [
       "<Figure size 1000x1000 with 0 Axes>"
      ]
     },
     "metadata": {},
     "output_type": "display_data"
    },
    {
     "data": {
      "text/plain": [
       "<Figure size 1000x1000 with 0 Axes>"
      ]
     },
     "metadata": {},
     "output_type": "display_data"
    },
    {
     "data": {
      "text/plain": [
       "<Figure size 1000x1000 with 0 Axes>"
      ]
     },
     "metadata": {},
     "output_type": "display_data"
    },
    {
     "data": {
      "text/plain": [
       "<Figure size 1000x1000 with 0 Axes>"
      ]
     },
     "metadata": {},
     "output_type": "display_data"
    },
    {
     "data": {
      "text/plain": [
       "<Figure size 1000x1000 with 0 Axes>"
      ]
     },
     "metadata": {},
     "output_type": "display_data"
    },
    {
     "data": {
      "text/plain": [
       "<Figure size 1000x1000 with 0 Axes>"
      ]
     },
     "metadata": {},
     "output_type": "display_data"
    },
    {
     "data": {
      "text/plain": [
       "<Figure size 1000x1000 with 0 Axes>"
      ]
     },
     "metadata": {},
     "output_type": "display_data"
    },
    {
     "data": {
      "text/plain": [
       "<Figure size 1000x1000 with 0 Axes>"
      ]
     },
     "metadata": {},
     "output_type": "display_data"
    },
    {
     "data": {
      "text/plain": [
       "<Figure size 1000x1000 with 0 Axes>"
      ]
     },
     "metadata": {},
     "output_type": "display_data"
    },
    {
     "data": {
      "text/plain": [
       "<Figure size 1000x1000 with 0 Axes>"
      ]
     },
     "metadata": {},
     "output_type": "display_data"
    },
    {
     "data": {
      "text/plain": [
       "<Figure size 1000x1000 with 0 Axes>"
      ]
     },
     "metadata": {},
     "output_type": "display_data"
    },
    {
     "data": {
      "text/plain": [
       "<Figure size 1000x1000 with 0 Axes>"
      ]
     },
     "metadata": {},
     "output_type": "display_data"
    },
    {
     "data": {
      "text/plain": [
       "<Figure size 1000x1000 with 0 Axes>"
      ]
     },
     "metadata": {},
     "output_type": "display_data"
    },
    {
     "data": {
      "text/plain": [
       "<Figure size 1000x1000 with 0 Axes>"
      ]
     },
     "metadata": {},
     "output_type": "display_data"
    },
    {
     "data": {
      "text/plain": [
       "<Figure size 1000x1000 with 0 Axes>"
      ]
     },
     "metadata": {},
     "output_type": "display_data"
    },
    {
     "data": {
      "text/plain": [
       "<Figure size 1000x1000 with 0 Axes>"
      ]
     },
     "metadata": {},
     "output_type": "display_data"
    },
    {
     "data": {
      "text/plain": [
       "<Figure size 1000x1000 with 0 Axes>"
      ]
     },
     "metadata": {},
     "output_type": "display_data"
    },
    {
     "data": {
      "text/plain": [
       "<Figure size 1000x1000 with 0 Axes>"
      ]
     },
     "metadata": {},
     "output_type": "display_data"
    },
    {
     "data": {
      "text/plain": [
       "<Figure size 1000x1000 with 0 Axes>"
      ]
     },
     "metadata": {},
     "output_type": "display_data"
    },
    {
     "data": {
      "text/plain": [
       "<Figure size 1000x1000 with 0 Axes>"
      ]
     },
     "metadata": {},
     "output_type": "display_data"
    },
    {
     "data": {
      "text/plain": [
       "<Figure size 1000x1000 with 0 Axes>"
      ]
     },
     "metadata": {},
     "output_type": "display_data"
    },
    {
     "data": {
      "text/plain": [
       "<Figure size 1000x1000 with 0 Axes>"
      ]
     },
     "metadata": {},
     "output_type": "display_data"
    },
    {
     "data": {
      "text/plain": [
       "<Figure size 1000x1000 with 0 Axes>"
      ]
     },
     "metadata": {},
     "output_type": "display_data"
    },
    {
     "data": {
      "text/plain": [
       "<Figure size 1000x1000 with 0 Axes>"
      ]
     },
     "metadata": {},
     "output_type": "display_data"
    },
    {
     "data": {
      "text/plain": [
       "<Figure size 1000x1000 with 0 Axes>"
      ]
     },
     "metadata": {},
     "output_type": "display_data"
    },
    {
     "data": {
      "text/plain": [
       "<Figure size 1000x1000 with 0 Axes>"
      ]
     },
     "metadata": {},
     "output_type": "display_data"
    },
    {
     "data": {
      "text/plain": [
       "<Figure size 1000x1000 with 0 Axes>"
      ]
     },
     "metadata": {},
     "output_type": "display_data"
    },
    {
     "data": {
      "text/plain": [
       "<Figure size 1000x1000 with 0 Axes>"
      ]
     },
     "metadata": {},
     "output_type": "display_data"
    },
    {
     "data": {
      "text/plain": [
       "<Figure size 1000x1000 with 0 Axes>"
      ]
     },
     "metadata": {},
     "output_type": "display_data"
    },
    {
     "data": {
      "text/plain": [
       "<Figure size 1000x1000 with 0 Axes>"
      ]
     },
     "metadata": {},
     "output_type": "display_data"
    },
    {
     "data": {
      "text/plain": [
       "<Figure size 1000x1000 with 0 Axes>"
      ]
     },
     "metadata": {},
     "output_type": "display_data"
    },
    {
     "data": {
      "text/plain": [
       "<Figure size 1000x1000 with 0 Axes>"
      ]
     },
     "metadata": {},
     "output_type": "display_data"
    },
    {
     "data": {
      "text/plain": [
       "<Figure size 1000x1000 with 0 Axes>"
      ]
     },
     "metadata": {},
     "output_type": "display_data"
    },
    {
     "data": {
      "text/plain": [
       "<Figure size 1000x1000 with 0 Axes>"
      ]
     },
     "metadata": {},
     "output_type": "display_data"
    },
    {
     "data": {
      "text/plain": [
       "<Figure size 1000x1000 with 0 Axes>"
      ]
     },
     "metadata": {},
     "output_type": "display_data"
    },
    {
     "data": {
      "text/plain": [
       "<Figure size 1000x1000 with 0 Axes>"
      ]
     },
     "metadata": {},
     "output_type": "display_data"
    },
    {
     "data": {
      "text/plain": [
       "<Figure size 1000x1000 with 0 Axes>"
      ]
     },
     "metadata": {},
     "output_type": "display_data"
    },
    {
     "data": {
      "text/plain": [
       "<Figure size 1000x1000 with 0 Axes>"
      ]
     },
     "metadata": {},
     "output_type": "display_data"
    },
    {
     "data": {
      "text/plain": [
       "<Figure size 1000x1000 with 0 Axes>"
      ]
     },
     "metadata": {},
     "output_type": "display_data"
    },
    {
     "data": {
      "text/plain": [
       "<Figure size 1000x1000 with 0 Axes>"
      ]
     },
     "metadata": {},
     "output_type": "display_data"
    },
    {
     "data": {
      "text/plain": [
       "<Figure size 1000x1000 with 0 Axes>"
      ]
     },
     "metadata": {},
     "output_type": "display_data"
    },
    {
     "data": {
      "text/plain": [
       "<Figure size 1000x1000 with 0 Axes>"
      ]
     },
     "metadata": {},
     "output_type": "display_data"
    },
    {
     "data": {
      "text/plain": [
       "<Figure size 1000x1000 with 0 Axes>"
      ]
     },
     "metadata": {},
     "output_type": "display_data"
    },
    {
     "data": {
      "text/plain": [
       "<Figure size 1000x1000 with 0 Axes>"
      ]
     },
     "metadata": {},
     "output_type": "display_data"
    },
    {
     "data": {
      "text/plain": [
       "<Figure size 1000x1000 with 0 Axes>"
      ]
     },
     "metadata": {},
     "output_type": "display_data"
    },
    {
     "data": {
      "text/plain": [
       "<Figure size 1000x1000 with 0 Axes>"
      ]
     },
     "metadata": {},
     "output_type": "display_data"
    },
    {
     "data": {
      "text/plain": [
       "<Figure size 1000x1000 with 0 Axes>"
      ]
     },
     "metadata": {},
     "output_type": "display_data"
    },
    {
     "data": {
      "text/plain": [
       "<Figure size 1000x1000 with 0 Axes>"
      ]
     },
     "metadata": {},
     "output_type": "display_data"
    },
    {
     "data": {
      "text/plain": [
       "<Figure size 1000x1000 with 0 Axes>"
      ]
     },
     "metadata": {},
     "output_type": "display_data"
    },
    {
     "data": {
      "text/plain": [
       "<Figure size 1000x1000 with 0 Axes>"
      ]
     },
     "metadata": {},
     "output_type": "display_data"
    },
    {
     "data": {
      "text/plain": [
       "<Figure size 1000x1000 with 0 Axes>"
      ]
     },
     "metadata": {},
     "output_type": "display_data"
    },
    {
     "data": {
      "text/plain": [
       "<Figure size 1000x1000 with 0 Axes>"
      ]
     },
     "metadata": {},
     "output_type": "display_data"
    },
    {
     "data": {
      "text/plain": [
       "<Figure size 1000x1000 with 0 Axes>"
      ]
     },
     "metadata": {},
     "output_type": "display_data"
    },
    {
     "data": {
      "text/plain": [
       "<Figure size 1000x1000 with 0 Axes>"
      ]
     },
     "metadata": {},
     "output_type": "display_data"
    },
    {
     "data": {
      "text/plain": [
       "<Figure size 1000x1000 with 0 Axes>"
      ]
     },
     "metadata": {},
     "output_type": "display_data"
    },
    {
     "data": {
      "text/plain": [
       "<Figure size 1000x1000 with 0 Axes>"
      ]
     },
     "metadata": {},
     "output_type": "display_data"
    },
    {
     "data": {
      "text/plain": [
       "<Figure size 1000x1000 with 0 Axes>"
      ]
     },
     "metadata": {},
     "output_type": "display_data"
    },
    {
     "data": {
      "text/plain": [
       "<Figure size 1000x1000 with 0 Axes>"
      ]
     },
     "metadata": {},
     "output_type": "display_data"
    },
    {
     "data": {
      "text/plain": [
       "<Figure size 1000x1000 with 0 Axes>"
      ]
     },
     "metadata": {},
     "output_type": "display_data"
    },
    {
     "data": {
      "text/plain": [
       "<Figure size 1000x1000 with 0 Axes>"
      ]
     },
     "metadata": {},
     "output_type": "display_data"
    },
    {
     "data": {
      "text/plain": [
       "<Figure size 1000x1000 with 0 Axes>"
      ]
     },
     "metadata": {},
     "output_type": "display_data"
    },
    {
     "data": {
      "text/plain": [
       "<Figure size 1000x1000 with 0 Axes>"
      ]
     },
     "metadata": {},
     "output_type": "display_data"
    },
    {
     "data": {
      "text/plain": [
       "<Figure size 1000x1000 with 0 Axes>"
      ]
     },
     "metadata": {},
     "output_type": "display_data"
    },
    {
     "data": {
      "text/plain": [
       "<Figure size 1000x1000 with 0 Axes>"
      ]
     },
     "metadata": {},
     "output_type": "display_data"
    },
    {
     "data": {
      "text/plain": [
       "<Figure size 1000x1000 with 0 Axes>"
      ]
     },
     "metadata": {},
     "output_type": "display_data"
    },
    {
     "data": {
      "text/plain": [
       "<Figure size 1000x1000 with 0 Axes>"
      ]
     },
     "metadata": {},
     "output_type": "display_data"
    },
    {
     "data": {
      "text/plain": [
       "<Figure size 1000x1000 with 0 Axes>"
      ]
     },
     "metadata": {},
     "output_type": "display_data"
    },
    {
     "data": {
      "text/plain": [
       "<Figure size 1000x1000 with 0 Axes>"
      ]
     },
     "metadata": {},
     "output_type": "display_data"
    },
    {
     "data": {
      "text/plain": [
       "<Figure size 1000x1000 with 0 Axes>"
      ]
     },
     "metadata": {},
     "output_type": "display_data"
    },
    {
     "data": {
      "text/plain": [
       "<Figure size 1000x1000 with 0 Axes>"
      ]
     },
     "metadata": {},
     "output_type": "display_data"
    },
    {
     "data": {
      "text/plain": [
       "<Figure size 1000x1000 with 0 Axes>"
      ]
     },
     "metadata": {},
     "output_type": "display_data"
    },
    {
     "data": {
      "text/plain": [
       "<Figure size 1000x1000 with 0 Axes>"
      ]
     },
     "metadata": {},
     "output_type": "display_data"
    },
    {
     "data": {
      "text/plain": [
       "<Figure size 1000x1000 with 0 Axes>"
      ]
     },
     "metadata": {},
     "output_type": "display_data"
    },
    {
     "data": {
      "text/plain": [
       "<Figure size 1000x1000 with 0 Axes>"
      ]
     },
     "metadata": {},
     "output_type": "display_data"
    },
    {
     "data": {
      "text/plain": [
       "<Figure size 1000x1000 with 0 Axes>"
      ]
     },
     "metadata": {},
     "output_type": "display_data"
    },
    {
     "data": {
      "text/plain": [
       "<Figure size 1000x1000 with 0 Axes>"
      ]
     },
     "metadata": {},
     "output_type": "display_data"
    },
    {
     "data": {
      "text/plain": [
       "<Figure size 1000x1000 with 0 Axes>"
      ]
     },
     "metadata": {},
     "output_type": "display_data"
    },
    {
     "data": {
      "text/plain": [
       "<Figure size 1000x1000 with 0 Axes>"
      ]
     },
     "metadata": {},
     "output_type": "display_data"
    },
    {
     "data": {
      "text/plain": [
       "<Figure size 1000x1000 with 0 Axes>"
      ]
     },
     "metadata": {},
     "output_type": "display_data"
    },
    {
     "data": {
      "text/plain": [
       "<Figure size 1000x1000 with 0 Axes>"
      ]
     },
     "metadata": {},
     "output_type": "display_data"
    },
    {
     "data": {
      "text/plain": [
       "<Figure size 1000x1000 with 0 Axes>"
      ]
     },
     "metadata": {},
     "output_type": "display_data"
    },
    {
     "data": {
      "text/plain": [
       "<Figure size 1000x1000 with 0 Axes>"
      ]
     },
     "metadata": {},
     "output_type": "display_data"
    },
    {
     "data": {
      "text/plain": [
       "<Figure size 1000x1000 with 0 Axes>"
      ]
     },
     "metadata": {},
     "output_type": "display_data"
    },
    {
     "data": {
      "text/plain": [
       "<Figure size 1000x1000 with 0 Axes>"
      ]
     },
     "metadata": {},
     "output_type": "display_data"
    },
    {
     "data": {
      "text/plain": [
       "<Figure size 1000x1000 with 0 Axes>"
      ]
     },
     "metadata": {},
     "output_type": "display_data"
    },
    {
     "data": {
      "text/plain": [
       "<Figure size 1000x1000 with 0 Axes>"
      ]
     },
     "metadata": {},
     "output_type": "display_data"
    },
    {
     "data": {
      "text/plain": [
       "<Figure size 1000x1000 with 0 Axes>"
      ]
     },
     "metadata": {},
     "output_type": "display_data"
    },
    {
     "data": {
      "text/plain": [
       "<Figure size 1000x1000 with 0 Axes>"
      ]
     },
     "metadata": {},
     "output_type": "display_data"
    },
    {
     "data": {
      "text/plain": [
       "<Figure size 1000x1000 with 0 Axes>"
      ]
     },
     "metadata": {},
     "output_type": "display_data"
    },
    {
     "data": {
      "text/plain": [
       "<Figure size 1000x1000 with 0 Axes>"
      ]
     },
     "metadata": {},
     "output_type": "display_data"
    },
    {
     "data": {
      "text/plain": [
       "<Figure size 1000x1000 with 0 Axes>"
      ]
     },
     "metadata": {},
     "output_type": "display_data"
    },
    {
     "data": {
      "text/plain": [
       "<Figure size 1000x1000 with 0 Axes>"
      ]
     },
     "metadata": {},
     "output_type": "display_data"
    },
    {
     "data": {
      "text/plain": [
       "<Figure size 1000x1000 with 0 Axes>"
      ]
     },
     "metadata": {},
     "output_type": "display_data"
    },
    {
     "data": {
      "text/plain": [
       "<Figure size 1000x1000 with 0 Axes>"
      ]
     },
     "metadata": {},
     "output_type": "display_data"
    },
    {
     "data": {
      "text/plain": [
       "<Figure size 1000x1000 with 0 Axes>"
      ]
     },
     "metadata": {},
     "output_type": "display_data"
    },
    {
     "data": {
      "text/plain": [
       "<Figure size 1000x1000 with 0 Axes>"
      ]
     },
     "metadata": {},
     "output_type": "display_data"
    },
    {
     "data": {
      "text/plain": [
       "<Figure size 1000x1000 with 0 Axes>"
      ]
     },
     "metadata": {},
     "output_type": "display_data"
    },
    {
     "data": {
      "text/plain": [
       "<Figure size 1000x1000 with 0 Axes>"
      ]
     },
     "metadata": {},
     "output_type": "display_data"
    },
    {
     "data": {
      "text/plain": [
       "<Figure size 1000x1000 with 0 Axes>"
      ]
     },
     "metadata": {},
     "output_type": "display_data"
    },
    {
     "data": {
      "text/plain": [
       "<Figure size 1000x1000 with 0 Axes>"
      ]
     },
     "metadata": {},
     "output_type": "display_data"
    },
    {
     "data": {
      "text/plain": [
       "<Figure size 1000x1000 with 0 Axes>"
      ]
     },
     "metadata": {},
     "output_type": "display_data"
    },
    {
     "data": {
      "text/plain": [
       "<Figure size 1000x1000 with 0 Axes>"
      ]
     },
     "metadata": {},
     "output_type": "display_data"
    },
    {
     "data": {
      "text/plain": [
       "<Figure size 1000x1000 with 0 Axes>"
      ]
     },
     "metadata": {},
     "output_type": "display_data"
    },
    {
     "data": {
      "text/plain": [
       "<Figure size 1000x1000 with 0 Axes>"
      ]
     },
     "metadata": {},
     "output_type": "display_data"
    },
    {
     "data": {
      "text/plain": [
       "<Figure size 1000x1000 with 0 Axes>"
      ]
     },
     "metadata": {},
     "output_type": "display_data"
    },
    {
     "data": {
      "text/plain": [
       "<Figure size 1000x1000 with 0 Axes>"
      ]
     },
     "metadata": {},
     "output_type": "display_data"
    },
    {
     "data": {
      "text/plain": [
       "<Figure size 1000x1000 with 0 Axes>"
      ]
     },
     "metadata": {},
     "output_type": "display_data"
    },
    {
     "data": {
      "text/plain": [
       "<Figure size 1000x1000 with 0 Axes>"
      ]
     },
     "metadata": {},
     "output_type": "display_data"
    },
    {
     "data": {
      "text/plain": [
       "<Figure size 1000x1000 with 0 Axes>"
      ]
     },
     "metadata": {},
     "output_type": "display_data"
    },
    {
     "data": {
      "text/plain": [
       "<Figure size 1000x1000 with 0 Axes>"
      ]
     },
     "metadata": {},
     "output_type": "display_data"
    },
    {
     "data": {
      "text/plain": [
       "<Figure size 1000x1000 with 0 Axes>"
      ]
     },
     "metadata": {},
     "output_type": "display_data"
    },
    {
     "data": {
      "text/plain": [
       "<Figure size 1000x1000 with 0 Axes>"
      ]
     },
     "metadata": {},
     "output_type": "display_data"
    },
    {
     "data": {
      "text/plain": [
       "<Figure size 1000x1000 with 0 Axes>"
      ]
     },
     "metadata": {},
     "output_type": "display_data"
    },
    {
     "data": {
      "text/plain": [
       "<Figure size 1000x1000 with 0 Axes>"
      ]
     },
     "metadata": {},
     "output_type": "display_data"
    },
    {
     "data": {
      "text/plain": [
       "<Figure size 1000x1000 with 0 Axes>"
      ]
     },
     "metadata": {},
     "output_type": "display_data"
    },
    {
     "data": {
      "text/plain": [
       "<Figure size 1000x1000 with 0 Axes>"
      ]
     },
     "metadata": {},
     "output_type": "display_data"
    },
    {
     "data": {
      "text/plain": [
       "<Figure size 1000x1000 with 0 Axes>"
      ]
     },
     "metadata": {},
     "output_type": "display_data"
    },
    {
     "data": {
      "text/plain": [
       "<Figure size 1000x1000 with 0 Axes>"
      ]
     },
     "metadata": {},
     "output_type": "display_data"
    },
    {
     "data": {
      "text/plain": [
       "<Figure size 1000x1000 with 0 Axes>"
      ]
     },
     "metadata": {},
     "output_type": "display_data"
    },
    {
     "data": {
      "text/plain": [
       "<Figure size 1000x1000 with 0 Axes>"
      ]
     },
     "metadata": {},
     "output_type": "display_data"
    },
    {
     "data": {
      "text/plain": [
       "<Figure size 1000x1000 with 0 Axes>"
      ]
     },
     "metadata": {},
     "output_type": "display_data"
    },
    {
     "data": {
      "text/plain": [
       "<Figure size 1000x1000 with 0 Axes>"
      ]
     },
     "metadata": {},
     "output_type": "display_data"
    },
    {
     "data": {
      "text/plain": [
       "<Figure size 1000x1000 with 0 Axes>"
      ]
     },
     "metadata": {},
     "output_type": "display_data"
    },
    {
     "data": {
      "text/plain": [
       "<Figure size 1000x1000 with 0 Axes>"
      ]
     },
     "metadata": {},
     "output_type": "display_data"
    },
    {
     "data": {
      "text/plain": [
       "<Figure size 1000x1000 with 0 Axes>"
      ]
     },
     "metadata": {},
     "output_type": "display_data"
    },
    {
     "data": {
      "text/plain": [
       "<Figure size 1000x1000 with 0 Axes>"
      ]
     },
     "metadata": {},
     "output_type": "display_data"
    },
    {
     "data": {
      "text/plain": [
       "<Figure size 1000x1000 with 0 Axes>"
      ]
     },
     "metadata": {},
     "output_type": "display_data"
    },
    {
     "data": {
      "text/plain": [
       "<Figure size 1000x1000 with 0 Axes>"
      ]
     },
     "metadata": {},
     "output_type": "display_data"
    },
    {
     "data": {
      "text/plain": [
       "<Figure size 1000x1000 with 0 Axes>"
      ]
     },
     "metadata": {},
     "output_type": "display_data"
    },
    {
     "data": {
      "text/plain": [
       "<Figure size 1000x1000 with 0 Axes>"
      ]
     },
     "metadata": {},
     "output_type": "display_data"
    },
    {
     "data": {
      "text/plain": [
       "<Figure size 1000x1000 with 0 Axes>"
      ]
     },
     "metadata": {},
     "output_type": "display_data"
    },
    {
     "data": {
      "text/plain": [
       "<Figure size 1000x1000 with 0 Axes>"
      ]
     },
     "metadata": {},
     "output_type": "display_data"
    },
    {
     "data": {
      "text/plain": [
       "<Figure size 1000x1000 with 0 Axes>"
      ]
     },
     "metadata": {},
     "output_type": "display_data"
    },
    {
     "data": {
      "text/plain": [
       "<Figure size 1000x1000 with 0 Axes>"
      ]
     },
     "metadata": {},
     "output_type": "display_data"
    },
    {
     "data": {
      "text/plain": [
       "<Figure size 1000x1000 with 0 Axes>"
      ]
     },
     "metadata": {},
     "output_type": "display_data"
    },
    {
     "data": {
      "text/plain": [
       "<Figure size 1000x1000 with 0 Axes>"
      ]
     },
     "metadata": {},
     "output_type": "display_data"
    },
    {
     "data": {
      "text/plain": [
       "<Figure size 1000x1000 with 0 Axes>"
      ]
     },
     "metadata": {},
     "output_type": "display_data"
    },
    {
     "data": {
      "text/plain": [
       "<Figure size 1000x1000 with 0 Axes>"
      ]
     },
     "metadata": {},
     "output_type": "display_data"
    },
    {
     "data": {
      "text/plain": [
       "<Figure size 1000x1000 with 0 Axes>"
      ]
     },
     "metadata": {},
     "output_type": "display_data"
    },
    {
     "data": {
      "text/plain": [
       "<Figure size 1000x1000 with 0 Axes>"
      ]
     },
     "metadata": {},
     "output_type": "display_data"
    },
    {
     "data": {
      "text/plain": [
       "<Figure size 1000x1000 with 0 Axes>"
      ]
     },
     "metadata": {},
     "output_type": "display_data"
    },
    {
     "data": {
      "text/plain": [
       "<Figure size 1000x1000 with 0 Axes>"
      ]
     },
     "metadata": {},
     "output_type": "display_data"
    },
    {
     "data": {
      "text/plain": [
       "<Figure size 1000x1000 with 0 Axes>"
      ]
     },
     "metadata": {},
     "output_type": "display_data"
    },
    {
     "data": {
      "text/plain": [
       "<Figure size 1000x1000 with 0 Axes>"
      ]
     },
     "metadata": {},
     "output_type": "display_data"
    },
    {
     "data": {
      "text/plain": [
       "<Figure size 1000x1000 with 0 Axes>"
      ]
     },
     "metadata": {},
     "output_type": "display_data"
    },
    {
     "data": {
      "text/plain": [
       "<Figure size 1000x1000 with 0 Axes>"
      ]
     },
     "metadata": {},
     "output_type": "display_data"
    },
    {
     "data": {
      "text/plain": [
       "<Figure size 1000x1000 with 0 Axes>"
      ]
     },
     "metadata": {},
     "output_type": "display_data"
    },
    {
     "data": {
      "text/plain": [
       "<Figure size 1000x1000 with 0 Axes>"
      ]
     },
     "metadata": {},
     "output_type": "display_data"
    },
    {
     "data": {
      "text/plain": [
       "<Figure size 1000x1000 with 0 Axes>"
      ]
     },
     "metadata": {},
     "output_type": "display_data"
    },
    {
     "data": {
      "text/plain": [
       "<Figure size 1000x1000 with 0 Axes>"
      ]
     },
     "metadata": {},
     "output_type": "display_data"
    },
    {
     "data": {
      "text/plain": [
       "<Figure size 1000x1000 with 0 Axes>"
      ]
     },
     "metadata": {},
     "output_type": "display_data"
    },
    {
     "data": {
      "text/plain": [
       "<Figure size 1000x1000 with 0 Axes>"
      ]
     },
     "metadata": {},
     "output_type": "display_data"
    },
    {
     "data": {
      "text/plain": [
       "<Figure size 1000x1000 with 0 Axes>"
      ]
     },
     "metadata": {},
     "output_type": "display_data"
    },
    {
     "data": {
      "text/plain": [
       "<Figure size 1000x1000 with 0 Axes>"
      ]
     },
     "metadata": {},
     "output_type": "display_data"
    },
    {
     "data": {
      "text/plain": [
       "<Figure size 1000x1000 with 0 Axes>"
      ]
     },
     "metadata": {},
     "output_type": "display_data"
    },
    {
     "data": {
      "text/plain": [
       "<Figure size 1000x1000 with 0 Axes>"
      ]
     },
     "metadata": {},
     "output_type": "display_data"
    },
    {
     "data": {
      "text/plain": [
       "<Figure size 1000x1000 with 0 Axes>"
      ]
     },
     "metadata": {},
     "output_type": "display_data"
    },
    {
     "data": {
      "text/plain": [
       "<Figure size 1000x1000 with 0 Axes>"
      ]
     },
     "metadata": {},
     "output_type": "display_data"
    },
    {
     "data": {
      "text/plain": [
       "<Figure size 1000x1000 with 0 Axes>"
      ]
     },
     "metadata": {},
     "output_type": "display_data"
    },
    {
     "data": {
      "text/plain": [
       "<Figure size 1000x1000 with 0 Axes>"
      ]
     },
     "metadata": {},
     "output_type": "display_data"
    },
    {
     "data": {
      "text/plain": [
       "<Figure size 1000x1000 with 0 Axes>"
      ]
     },
     "metadata": {},
     "output_type": "display_data"
    },
    {
     "data": {
      "text/plain": [
       "<Figure size 1000x1000 with 0 Axes>"
      ]
     },
     "metadata": {},
     "output_type": "display_data"
    },
    {
     "data": {
      "text/plain": [
       "<Figure size 1000x1000 with 0 Axes>"
      ]
     },
     "metadata": {},
     "output_type": "display_data"
    },
    {
     "data": {
      "text/plain": [
       "<Figure size 1000x1000 with 0 Axes>"
      ]
     },
     "metadata": {},
     "output_type": "display_data"
    },
    {
     "data": {
      "text/plain": [
       "<Figure size 1000x1000 with 0 Axes>"
      ]
     },
     "metadata": {},
     "output_type": "display_data"
    },
    {
     "data": {
      "text/plain": [
       "<Figure size 1000x1000 with 0 Axes>"
      ]
     },
     "metadata": {},
     "output_type": "display_data"
    },
    {
     "data": {
      "text/plain": [
       "<Figure size 1000x1000 with 0 Axes>"
      ]
     },
     "metadata": {},
     "output_type": "display_data"
    },
    {
     "data": {
      "text/plain": [
       "<Figure size 1000x1000 with 0 Axes>"
      ]
     },
     "metadata": {},
     "output_type": "display_data"
    },
    {
     "data": {
      "text/plain": [
       "<Figure size 1000x1000 with 0 Axes>"
      ]
     },
     "metadata": {},
     "output_type": "display_data"
    },
    {
     "data": {
      "text/plain": [
       "<Figure size 1000x1000 with 0 Axes>"
      ]
     },
     "metadata": {},
     "output_type": "display_data"
    },
    {
     "data": {
      "text/plain": [
       "<Figure size 1000x1000 with 0 Axes>"
      ]
     },
     "metadata": {},
     "output_type": "display_data"
    },
    {
     "data": {
      "text/plain": [
       "<Figure size 1000x1000 with 0 Axes>"
      ]
     },
     "metadata": {},
     "output_type": "display_data"
    },
    {
     "data": {
      "text/plain": [
       "<Figure size 1000x1000 with 0 Axes>"
      ]
     },
     "metadata": {},
     "output_type": "display_data"
    },
    {
     "data": {
      "text/plain": [
       "<Figure size 1000x1000 with 0 Axes>"
      ]
     },
     "metadata": {},
     "output_type": "display_data"
    },
    {
     "data": {
      "text/plain": [
       "<Figure size 1000x1000 with 0 Axes>"
      ]
     },
     "metadata": {},
     "output_type": "display_data"
    },
    {
     "data": {
      "text/plain": [
       "<Figure size 1000x1000 with 0 Axes>"
      ]
     },
     "metadata": {},
     "output_type": "display_data"
    },
    {
     "data": {
      "text/plain": [
       "<Figure size 1000x1000 with 0 Axes>"
      ]
     },
     "metadata": {},
     "output_type": "display_data"
    },
    {
     "data": {
      "text/plain": [
       "<Figure size 1000x1000 with 0 Axes>"
      ]
     },
     "metadata": {},
     "output_type": "display_data"
    },
    {
     "data": {
      "text/plain": [
       "<Figure size 1000x1000 with 0 Axes>"
      ]
     },
     "metadata": {},
     "output_type": "display_data"
    },
    {
     "data": {
      "text/plain": [
       "<Figure size 1000x1000 with 0 Axes>"
      ]
     },
     "metadata": {},
     "output_type": "display_data"
    },
    {
     "data": {
      "text/plain": [
       "<Figure size 1000x1000 with 0 Axes>"
      ]
     },
     "metadata": {},
     "output_type": "display_data"
    },
    {
     "data": {
      "text/plain": [
       "<Figure size 1000x1000 with 0 Axes>"
      ]
     },
     "metadata": {},
     "output_type": "display_data"
    },
    {
     "data": {
      "text/plain": [
       "<Figure size 1000x1000 with 0 Axes>"
      ]
     },
     "metadata": {},
     "output_type": "display_data"
    },
    {
     "data": {
      "text/plain": [
       "<Figure size 1000x1000 with 0 Axes>"
      ]
     },
     "metadata": {},
     "output_type": "display_data"
    },
    {
     "data": {
      "text/plain": [
       "<Figure size 1000x1000 with 0 Axes>"
      ]
     },
     "metadata": {},
     "output_type": "display_data"
    },
    {
     "data": {
      "text/plain": [
       "<Figure size 1000x1000 with 0 Axes>"
      ]
     },
     "metadata": {},
     "output_type": "display_data"
    },
    {
     "data": {
      "text/plain": [
       "<Figure size 1000x1000 with 0 Axes>"
      ]
     },
     "metadata": {},
     "output_type": "display_data"
    },
    {
     "data": {
      "text/plain": [
       "<Figure size 1000x1000 with 0 Axes>"
      ]
     },
     "metadata": {},
     "output_type": "display_data"
    },
    {
     "data": {
      "text/plain": [
       "<Figure size 1000x1000 with 0 Axes>"
      ]
     },
     "metadata": {},
     "output_type": "display_data"
    },
    {
     "data": {
      "text/plain": [
       "<Figure size 1000x1000 with 0 Axes>"
      ]
     },
     "metadata": {},
     "output_type": "display_data"
    },
    {
     "data": {
      "text/plain": [
       "<Figure size 1000x1000 with 0 Axes>"
      ]
     },
     "metadata": {},
     "output_type": "display_data"
    },
    {
     "data": {
      "text/plain": [
       "<Figure size 1000x1000 with 0 Axes>"
      ]
     },
     "metadata": {},
     "output_type": "display_data"
    },
    {
     "data": {
      "text/plain": [
       "<Figure size 1000x1000 with 0 Axes>"
      ]
     },
     "metadata": {},
     "output_type": "display_data"
    },
    {
     "data": {
      "text/plain": [
       "<Figure size 1000x1000 with 0 Axes>"
      ]
     },
     "metadata": {},
     "output_type": "display_data"
    },
    {
     "data": {
      "text/plain": [
       "<Figure size 1000x1000 with 0 Axes>"
      ]
     },
     "metadata": {},
     "output_type": "display_data"
    },
    {
     "data": {
      "text/plain": [
       "<Figure size 1000x1000 with 0 Axes>"
      ]
     },
     "metadata": {},
     "output_type": "display_data"
    },
    {
     "data": {
      "text/plain": [
       "<Figure size 1000x1000 with 0 Axes>"
      ]
     },
     "metadata": {},
     "output_type": "display_data"
    },
    {
     "data": {
      "text/plain": [
       "<Figure size 1000x1000 with 0 Axes>"
      ]
     },
     "metadata": {},
     "output_type": "display_data"
    },
    {
     "data": {
      "text/plain": [
       "<Figure size 1000x1000 with 0 Axes>"
      ]
     },
     "metadata": {},
     "output_type": "display_data"
    },
    {
     "data": {
      "text/plain": [
       "<Figure size 1000x1000 with 0 Axes>"
      ]
     },
     "metadata": {},
     "output_type": "display_data"
    },
    {
     "data": {
      "text/plain": [
       "<Figure size 1000x1000 with 0 Axes>"
      ]
     },
     "metadata": {},
     "output_type": "display_data"
    },
    {
     "data": {
      "text/plain": [
       "<Figure size 1000x1000 with 0 Axes>"
      ]
     },
     "metadata": {},
     "output_type": "display_data"
    },
    {
     "data": {
      "text/plain": [
       "<Figure size 1000x1000 with 0 Axes>"
      ]
     },
     "metadata": {},
     "output_type": "display_data"
    },
    {
     "data": {
      "text/plain": [
       "<Figure size 1000x1000 with 0 Axes>"
      ]
     },
     "metadata": {},
     "output_type": "display_data"
    },
    {
     "data": {
      "text/plain": [
       "<Figure size 1000x1000 with 0 Axes>"
      ]
     },
     "metadata": {},
     "output_type": "display_data"
    },
    {
     "data": {
      "text/plain": [
       "<Figure size 1000x1000 with 0 Axes>"
      ]
     },
     "metadata": {},
     "output_type": "display_data"
    },
    {
     "data": {
      "text/plain": [
       "<Figure size 1000x1000 with 0 Axes>"
      ]
     },
     "metadata": {},
     "output_type": "display_data"
    },
    {
     "data": {
      "text/plain": [
       "<Figure size 1000x1000 with 0 Axes>"
      ]
     },
     "metadata": {},
     "output_type": "display_data"
    },
    {
     "data": {
      "text/plain": [
       "<Figure size 1000x1000 with 0 Axes>"
      ]
     },
     "metadata": {},
     "output_type": "display_data"
    },
    {
     "data": {
      "text/plain": [
       "<Figure size 1000x1000 with 0 Axes>"
      ]
     },
     "metadata": {},
     "output_type": "display_data"
    },
    {
     "data": {
      "text/plain": [
       "<Figure size 1000x1000 with 0 Axes>"
      ]
     },
     "metadata": {},
     "output_type": "display_data"
    },
    {
     "data": {
      "text/plain": [
       "<Figure size 1000x1000 with 0 Axes>"
      ]
     },
     "metadata": {},
     "output_type": "display_data"
    },
    {
     "data": {
      "text/plain": [
       "<Figure size 1000x1000 with 0 Axes>"
      ]
     },
     "metadata": {},
     "output_type": "display_data"
    },
    {
     "data": {
      "text/plain": [
       "<Figure size 1000x1000 with 0 Axes>"
      ]
     },
     "metadata": {},
     "output_type": "display_data"
    },
    {
     "data": {
      "text/plain": [
       "<Figure size 1000x1000 with 0 Axes>"
      ]
     },
     "metadata": {},
     "output_type": "display_data"
    },
    {
     "data": {
      "text/plain": [
       "<Figure size 1000x1000 with 0 Axes>"
      ]
     },
     "metadata": {},
     "output_type": "display_data"
    },
    {
     "data": {
      "text/plain": [
       "<Figure size 1000x1000 with 0 Axes>"
      ]
     },
     "metadata": {},
     "output_type": "display_data"
    },
    {
     "data": {
      "text/plain": [
       "<Figure size 1000x1000 with 0 Axes>"
      ]
     },
     "metadata": {},
     "output_type": "display_data"
    },
    {
     "data": {
      "text/plain": [
       "<Figure size 1000x1000 with 0 Axes>"
      ]
     },
     "metadata": {},
     "output_type": "display_data"
    },
    {
     "data": {
      "text/plain": [
       "<Figure size 1000x1000 with 0 Axes>"
      ]
     },
     "metadata": {},
     "output_type": "display_data"
    },
    {
     "data": {
      "text/plain": [
       "<Figure size 1000x1000 with 0 Axes>"
      ]
     },
     "metadata": {},
     "output_type": "display_data"
    },
    {
     "data": {
      "text/plain": [
       "<Figure size 1000x1000 with 0 Axes>"
      ]
     },
     "metadata": {},
     "output_type": "display_data"
    },
    {
     "data": {
      "text/plain": [
       "<Figure size 1000x1000 with 0 Axes>"
      ]
     },
     "metadata": {},
     "output_type": "display_data"
    },
    {
     "data": {
      "text/plain": [
       "<Figure size 1000x1000 with 0 Axes>"
      ]
     },
     "metadata": {},
     "output_type": "display_data"
    },
    {
     "data": {
      "text/plain": [
       "<Figure size 1000x1000 with 0 Axes>"
      ]
     },
     "metadata": {},
     "output_type": "display_data"
    },
    {
     "data": {
      "text/plain": [
       "<Figure size 1000x1000 with 0 Axes>"
      ]
     },
     "metadata": {},
     "output_type": "display_data"
    },
    {
     "data": {
      "text/plain": [
       "<Figure size 1000x1000 with 0 Axes>"
      ]
     },
     "metadata": {},
     "output_type": "display_data"
    },
    {
     "data": {
      "text/plain": [
       "<Figure size 1000x1000 with 0 Axes>"
      ]
     },
     "metadata": {},
     "output_type": "display_data"
    },
    {
     "data": {
      "text/plain": [
       "<Figure size 1000x1000 with 0 Axes>"
      ]
     },
     "metadata": {},
     "output_type": "display_data"
    },
    {
     "data": {
      "text/plain": [
       "<Figure size 1000x1000 with 0 Axes>"
      ]
     },
     "metadata": {},
     "output_type": "display_data"
    },
    {
     "data": {
      "text/plain": [
       "<Figure size 1000x1000 with 0 Axes>"
      ]
     },
     "metadata": {},
     "output_type": "display_data"
    },
    {
     "data": {
      "text/plain": [
       "<Figure size 1000x1000 with 0 Axes>"
      ]
     },
     "metadata": {},
     "output_type": "display_data"
    },
    {
     "data": {
      "text/plain": [
       "<Figure size 1000x1000 with 0 Axes>"
      ]
     },
     "metadata": {},
     "output_type": "display_data"
    },
    {
     "data": {
      "text/plain": [
       "<Figure size 1000x1000 with 0 Axes>"
      ]
     },
     "metadata": {},
     "output_type": "display_data"
    },
    {
     "data": {
      "text/plain": [
       "<Figure size 1000x1000 with 0 Axes>"
      ]
     },
     "metadata": {},
     "output_type": "display_data"
    },
    {
     "data": {
      "text/plain": [
       "<Figure size 1000x1000 with 0 Axes>"
      ]
     },
     "metadata": {},
     "output_type": "display_data"
    },
    {
     "data": {
      "text/plain": [
       "<Figure size 1000x1000 with 0 Axes>"
      ]
     },
     "metadata": {},
     "output_type": "display_data"
    },
    {
     "data": {
      "text/plain": [
       "<Figure size 1000x1000 with 0 Axes>"
      ]
     },
     "metadata": {},
     "output_type": "display_data"
    },
    {
     "data": {
      "text/plain": [
       "<Figure size 1000x1000 with 0 Axes>"
      ]
     },
     "metadata": {},
     "output_type": "display_data"
    },
    {
     "data": {
      "text/plain": [
       "<Figure size 1000x1000 with 0 Axes>"
      ]
     },
     "metadata": {},
     "output_type": "display_data"
    },
    {
     "data": {
      "text/plain": [
       "<Figure size 1000x1000 with 0 Axes>"
      ]
     },
     "metadata": {},
     "output_type": "display_data"
    },
    {
     "data": {
      "text/plain": [
       "<Figure size 1000x1000 with 0 Axes>"
      ]
     },
     "metadata": {},
     "output_type": "display_data"
    },
    {
     "data": {
      "text/plain": [
       "<Figure size 1000x1000 with 0 Axes>"
      ]
     },
     "metadata": {},
     "output_type": "display_data"
    },
    {
     "data": {
      "text/plain": [
       "<Figure size 1000x1000 with 0 Axes>"
      ]
     },
     "metadata": {},
     "output_type": "display_data"
    },
    {
     "data": {
      "text/plain": [
       "<Figure size 1000x1000 with 0 Axes>"
      ]
     },
     "metadata": {},
     "output_type": "display_data"
    },
    {
     "data": {
      "text/plain": [
       "<Figure size 1000x1000 with 0 Axes>"
      ]
     },
     "metadata": {},
     "output_type": "display_data"
    },
    {
     "data": {
      "text/plain": [
       "<Figure size 1000x1000 with 0 Axes>"
      ]
     },
     "metadata": {},
     "output_type": "display_data"
    },
    {
     "data": {
      "text/plain": [
       "<Figure size 1000x1000 with 0 Axes>"
      ]
     },
     "metadata": {},
     "output_type": "display_data"
    },
    {
     "data": {
      "text/plain": [
       "<Figure size 1000x1000 with 0 Axes>"
      ]
     },
     "metadata": {},
     "output_type": "display_data"
    },
    {
     "data": {
      "text/plain": [
       "<Figure size 1000x1000 with 0 Axes>"
      ]
     },
     "metadata": {},
     "output_type": "display_data"
    },
    {
     "data": {
      "text/plain": [
       "<Figure size 1000x1000 with 0 Axes>"
      ]
     },
     "metadata": {},
     "output_type": "display_data"
    },
    {
     "data": {
      "text/plain": [
       "<Figure size 1000x1000 with 0 Axes>"
      ]
     },
     "metadata": {},
     "output_type": "display_data"
    },
    {
     "data": {
      "text/plain": [
       "<Figure size 1000x1000 with 0 Axes>"
      ]
     },
     "metadata": {},
     "output_type": "display_data"
    },
    {
     "data": {
      "text/plain": [
       "<Figure size 1000x1000 with 0 Axes>"
      ]
     },
     "metadata": {},
     "output_type": "display_data"
    },
    {
     "data": {
      "text/plain": [
       "<Figure size 1000x1000 with 0 Axes>"
      ]
     },
     "metadata": {},
     "output_type": "display_data"
    },
    {
     "data": {
      "text/plain": [
       "<Figure size 1000x1000 with 0 Axes>"
      ]
     },
     "metadata": {},
     "output_type": "display_data"
    },
    {
     "data": {
      "text/plain": [
       "<Figure size 1000x1000 with 0 Axes>"
      ]
     },
     "metadata": {},
     "output_type": "display_data"
    },
    {
     "data": {
      "text/plain": [
       "<Figure size 1000x1000 with 0 Axes>"
      ]
     },
     "metadata": {},
     "output_type": "display_data"
    },
    {
     "data": {
      "text/plain": [
       "<Figure size 1000x1000 with 0 Axes>"
      ]
     },
     "metadata": {},
     "output_type": "display_data"
    },
    {
     "data": {
      "text/plain": [
       "<Figure size 1000x1000 with 0 Axes>"
      ]
     },
     "metadata": {},
     "output_type": "display_data"
    },
    {
     "data": {
      "text/plain": [
       "<Figure size 1000x1000 with 0 Axes>"
      ]
     },
     "metadata": {},
     "output_type": "display_data"
    },
    {
     "data": {
      "text/plain": [
       "<Figure size 1000x1000 with 0 Axes>"
      ]
     },
     "metadata": {},
     "output_type": "display_data"
    },
    {
     "data": {
      "text/plain": [
       "<Figure size 1000x1000 with 0 Axes>"
      ]
     },
     "metadata": {},
     "output_type": "display_data"
    },
    {
     "data": {
      "text/plain": [
       "<Figure size 1000x1000 with 0 Axes>"
      ]
     },
     "metadata": {},
     "output_type": "display_data"
    },
    {
     "data": {
      "text/plain": [
       "<Figure size 1000x1000 with 0 Axes>"
      ]
     },
     "metadata": {},
     "output_type": "display_data"
    },
    {
     "data": {
      "text/plain": [
       "<Figure size 1000x1000 with 0 Axes>"
      ]
     },
     "metadata": {},
     "output_type": "display_data"
    },
    {
     "data": {
      "text/plain": [
       "<Figure size 1000x1000 with 0 Axes>"
      ]
     },
     "metadata": {},
     "output_type": "display_data"
    },
    {
     "data": {
      "text/plain": [
       "<Figure size 1000x1000 with 0 Axes>"
      ]
     },
     "metadata": {},
     "output_type": "display_data"
    },
    {
     "data": {
      "text/plain": [
       "<Figure size 1000x1000 with 0 Axes>"
      ]
     },
     "metadata": {},
     "output_type": "display_data"
    },
    {
     "data": {
      "text/plain": [
       "<Figure size 1000x1000 with 0 Axes>"
      ]
     },
     "metadata": {},
     "output_type": "display_data"
    },
    {
     "data": {
      "text/plain": [
       "<Figure size 1000x1000 with 0 Axes>"
      ]
     },
     "metadata": {},
     "output_type": "display_data"
    },
    {
     "data": {
      "text/plain": [
       "<Figure size 1000x1000 with 0 Axes>"
      ]
     },
     "metadata": {},
     "output_type": "display_data"
    },
    {
     "data": {
      "text/plain": [
       "<Figure size 1000x1000 with 0 Axes>"
      ]
     },
     "metadata": {},
     "output_type": "display_data"
    },
    {
     "data": {
      "text/plain": [
       "<Figure size 1000x1000 with 0 Axes>"
      ]
     },
     "metadata": {},
     "output_type": "display_data"
    },
    {
     "data": {
      "text/plain": [
       "<Figure size 1000x1000 with 0 Axes>"
      ]
     },
     "metadata": {},
     "output_type": "display_data"
    },
    {
     "data": {
      "text/plain": [
       "<Figure size 1000x1000 with 0 Axes>"
      ]
     },
     "metadata": {},
     "output_type": "display_data"
    },
    {
     "data": {
      "text/plain": [
       "<Figure size 1000x1000 with 0 Axes>"
      ]
     },
     "metadata": {},
     "output_type": "display_data"
    },
    {
     "data": {
      "text/plain": [
       "<Figure size 1000x1000 with 0 Axes>"
      ]
     },
     "metadata": {},
     "output_type": "display_data"
    },
    {
     "data": {
      "text/plain": [
       "<Figure size 1000x1000 with 0 Axes>"
      ]
     },
     "metadata": {},
     "output_type": "display_data"
    },
    {
     "data": {
      "text/plain": [
       "<Figure size 1000x1000 with 0 Axes>"
      ]
     },
     "metadata": {},
     "output_type": "display_data"
    },
    {
     "data": {
      "text/plain": [
       "<Figure size 1000x1000 with 0 Axes>"
      ]
     },
     "metadata": {},
     "output_type": "display_data"
    },
    {
     "data": {
      "text/plain": [
       "<Figure size 1000x1000 with 0 Axes>"
      ]
     },
     "metadata": {},
     "output_type": "display_data"
    },
    {
     "data": {
      "text/plain": [
       "<Figure size 1000x1000 with 0 Axes>"
      ]
     },
     "metadata": {},
     "output_type": "display_data"
    },
    {
     "data": {
      "text/plain": [
       "<Figure size 1000x1000 with 0 Axes>"
      ]
     },
     "metadata": {},
     "output_type": "display_data"
    },
    {
     "data": {
      "text/plain": [
       "<Figure size 1000x1000 with 0 Axes>"
      ]
     },
     "metadata": {},
     "output_type": "display_data"
    },
    {
     "data": {
      "text/plain": [
       "<Figure size 1000x1000 with 0 Axes>"
      ]
     },
     "metadata": {},
     "output_type": "display_data"
    },
    {
     "data": {
      "text/plain": [
       "<Figure size 1000x1000 with 0 Axes>"
      ]
     },
     "metadata": {},
     "output_type": "display_data"
    },
    {
     "data": {
      "text/plain": [
       "<Figure size 1000x1000 with 0 Axes>"
      ]
     },
     "metadata": {},
     "output_type": "display_data"
    },
    {
     "data": {
      "text/plain": [
       "<Figure size 1000x1000 with 0 Axes>"
      ]
     },
     "metadata": {},
     "output_type": "display_data"
    },
    {
     "data": {
      "text/plain": [
       "<Figure size 1000x1000 with 0 Axes>"
      ]
     },
     "metadata": {},
     "output_type": "display_data"
    },
    {
     "data": {
      "image/png": "[encoded data removed]",
      "text/plain": [
       "<Figure size 1000x1000 with 1 Axes>"
      ]
     },
     "metadata": {},
     "output_type": "display_data"
    }
   ],
   "source": [
    "# instance.valuable_areas = [(instance.original_area, 1.0)]\n",
    "# instance.to_json(file_path=os.path.join(instance_folder, f\"{i}.instance.json\"))\n",
    "ax = setup_plot()\n",
    "plot_polygon_instance(ax, instance, plot_valuable_areas=True)\n",
    "tour = alg(instance)\n",
    "# plot_solution(ax, tour)\n",
    "##plt.savefig(os.path.join(\"./instances\", f\"{i}.instance.png\"))\n",
    "plt.show()"
   ]
  }
 ],
 "metadata": {
  "kernelspec": {
   "display_name": "Python 3",
   "language": "python",
   "name": "python3"
  },
  "language_info": {
   "codemirror_mode": {
    "name": "ipython",
    "version": 2
   },
   "file_extension": ".py",
   "mimetype": "text/x-python",
   "name": "python",
   "nbconvert_exporter": "python",
   "pygments_lexer": "ipython2",
   "version": "2.7.6"
  }
 },
 "nbformat": 4,
 "nbformat_minor": 0
}
