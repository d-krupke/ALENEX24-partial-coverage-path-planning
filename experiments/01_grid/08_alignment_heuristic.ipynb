{
 "cells": [
  {
   "cell_type": "markdown",
   "metadata": {
    "collapsed": true,
    "pycharm": {
     "name": "#%% md\n"
    }
   },
   "source": [
    "# Performance of average random grid"
   ]
  },
  {
   "cell_type": "code",
   "execution_count": 1,
   "metadata": {
    "collapsed": false,
    "pycharm": {
     "name": "#%%\n"
    }
   },
   "outputs": [],
   "source": [
    "import os\n",
    "\n",
    "from aemeasure import read_as_pd\n",
    "import pandas as pd\n",
    "\n",
    "from pcpptc import PolygonInstance\n",
    "\n",
    "\n",
    "data = pd.read_json(\"./01c_data.json\")"
   ]
  },
  {
   "cell_type": "code",
   "execution_count": 2,
   "metadata": {
    "collapsed": false,
    "pycharm": {
     "name": "#%%\n"
    }
   },
   "outputs": [],
   "source": [
    "# Sort data to be displayed in legend correctly\n",
    "def order(row):\n",
    "    i = 0\n",
    "    if \"Triangular\" in row[\"Grid\"]:\n",
    "        i += 2\n",
    "    if \"Line\" in row[\"Grid\"]:\n",
    "        i += 1\n",
    "    return i\n",
    "\n",
    "\n",
    "data[\"order\"] = data.apply(order, axis=1)\n",
    "data.sort_values(by=[\"order\"], inplace=True)"
   ]
  },
  {
   "cell_type": "code",
   "execution_count": 3,
   "metadata": {
    "collapsed": false,
    "pycharm": {
     "name": "#%%\n"
    }
   },
   "outputs": [
    {
     "data": {
      "text/plain": [
       "Grid\n",
       "Square, Line-based         1.099354\n",
       "Square, Point-based        1.585849\n",
       "Triangular, Line-based     1.027059\n",
       "Triangular, Point-based    1.386815\n",
       "Name: relative_cost, dtype: float64"
      ]
     },
     "execution_count": 3,
     "metadata": {},
     "output_type": "execute_result"
    }
   ],
   "source": [
    "t = data[data[\"solver\"].str.contains(\"Rotating\")]\n",
    "t.groupby(\"Grid\")[\"relative_cost\"].mean()"
   ]
  },
  {
   "cell_type": "code",
   "execution_count": 4,
   "metadata": {
    "collapsed": false,
    "pycharm": {
     "name": "#%%\n"
    }
   },
   "outputs": [
    {
     "data": {
      "text/plain": [
       "Grid\n",
       "Square, Line-based         1.091999\n",
       "Square, Point-based        1.548356\n",
       "Triangular, Line-based     1.006241\n",
       "Triangular, Point-based    1.360278\n",
       "Name: relative_cost, dtype: float64"
      ]
     },
     "execution_count": 4,
     "metadata": {},
     "output_type": "execute_result"
    }
   ],
   "source": [
    "t = data[~data[\"solver\"].str.contains(\"Rotating\")]\n",
    "t = t.groupby([\"Grid\", \"instance\"])[\"relative_cost\"].min().reset_index()\n",
    "t.drop_duplicates(subset=[\"instance\", \"Grid\"], inplace=True)\n",
    "t.groupby([\"Grid\"])[\"relative_cost\"].mean()"
   ]
  },
  {
   "cell_type": "code",
   "execution_count": 5,
   "metadata": {
    "collapsed": false,
    "pycharm": {
     "name": "#%%\n"
    }
   },
   "outputs": [
    {
     "data": {
      "text/plain": [
       "Grid\n",
       "Square, Line-based         1.072398\n",
       "Square, Point-based        1.535116\n",
       "Triangular, Line-based     1.002512\n",
       "Triangular, Point-based    1.354748\n",
       "Name: relative_cost, dtype: float64"
      ]
     },
     "execution_count": 5,
     "metadata": {},
     "output_type": "execute_result"
    }
   ],
   "source": [
    "t = data\n",
    "t = t.groupby([\"Grid\", \"instance\"])[\"relative_cost\"].min().reset_index()\n",
    "t.drop_duplicates(subset=[\"instance\", \"Grid\"], inplace=True)\n",
    "t.groupby([\"Grid\"])[\"relative_cost\"].mean()"
   ]
  },
  {
   "cell_type": "code",
   "execution_count": 6,
   "metadata": {
    "collapsed": false,
    "pycharm": {
     "name": "#%%\n"
    }
   },
   "outputs": [],
   "source": [
    "import matplotlib.pyplot as plt\n",
    "import seaborn as sns\n",
    "\n",
    "sns.set_theme()"
   ]
  },
  {
   "cell_type": "code",
   "execution_count": 10,
   "metadata": {
    "collapsed": false,
    "pycharm": {
     "name": "#%%\n"
    }
   },
   "outputs": [
    {
     "data": {
      "image/png": "[encoded data removed]",
      "text/plain": [
       "<Figure size 252x252 with 1 Axes>"
      ]
     },
     "metadata": {},
     "output_type": "display_data"
    }
   ],
   "source": [
    "t = data[~data[\"solver\"].str.contains(\"Rotating\")].copy()\n",
    "\n",
    "\n",
    "def order(row):\n",
    "    i = 0\n",
    "    if \"Triangular\" in row[\"Grid\"]:\n",
    "        i += 2\n",
    "    if \"Line\" in row[\"Grid\"]:\n",
    "        i += 1\n",
    "    return i\n",
    "\n",
    "\n",
    "t[\"order\"] = t.apply(order, axis=1)\n",
    "# t.sort_values(by=[\"order\"], inplace=True)\n",
    "t.sort_values(by=[\"Grid\"], ascending=False, inplace=True)\n",
    "plt.figure(figsize=(3.5, 3.5))\n",
    "\n",
    "t[\"y\"] = (t[\"relative_cost\"] - 1) * 100\n",
    "sns.boxplot(data=t, x=\"turn_factor\", y=\"y\", hue=\"Grid\")\n",
    "plt.ylabel(\"Touring cost (% above best)\")\n",
    "plt.xlabel(\"Optimization weight of turn cost\")\n",
    "plt.title(\"Lower is better\")\n",
    "plt.tight_layout()\n",
    "plt.legend(loc=\"upper left\", bbox_to_anchor=(0.0, 1.55))\n",
    "ax = plt.gca()\n",
    "# ax.set_yticklabels([f\"+{int(s)}%\" for s in ax.get_yticks()])\n",
    "plt.savefig(\"./output/08_avg_alignment.pdf\", bbox_inches=\"tight\")\n",
    "plt.show()"
   ]
  }
 ],
 "metadata": {
  "kernelspec": {
   "display_name": "Python 3",
   "language": "python",
   "name": "python3"
  },
  "language_info": {
   "codemirror_mode": {
    "name": "ipython",
    "version": 2
   },
   "file_extension": ".py",
   "mimetype": "text/x-python",
   "name": "python",
   "nbconvert_exporter": "python",
   "pygments_lexer": "ipython2",
   "version": "2.7.6"
  }
 },
 "nbformat": 4,
 "nbformat_minor": 0
}
