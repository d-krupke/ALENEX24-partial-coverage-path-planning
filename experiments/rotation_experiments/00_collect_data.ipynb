{
 "cells": [
  {
   "cell_type": "code",
   "execution_count": 2,
   "outputs": [
    {
     "name": "stdout",
     "output_type": "stream",
     "text": [
      "409940489\n",
      "633783764\n",
      "350580137\n",
      "746223557\n",
      "270092049\n",
      "255632833\n",
      "493870815\n",
      "357645180\n",
      "259836074\n"
     ]
    },
    {
     "name": "stderr",
     "output_type": "stream",
     "text": [
      "TopologyException: Input geom 0 is invalid: Self-intersection at or near point 15.170578763683247 11.338480445822446 at 15.170578763683247 11.338480445822446\n"
     ]
    },
    {
     "name": "stdout",
     "output_type": "stream",
     "text": [
      "Topological problems. Trying workaround...\n",
      "845866097\n",
      "375916193\n",
      "75991472\n",
      "624916187\n",
      "590138911\n",
      "631608536\n",
      "181858109\n",
      "391177535\n",
      "824965920\n",
      "268454170\n",
      "581658356\n",
      "610140870\n",
      "754032755\n",
      "769571253\n",
      "300147947\n",
      "565230972\n",
      "904018665\n",
      "42659124\n",
      "145274716\n",
      "176082451\n",
      "326150701\n",
      "949202104\n",
      "843734338\n",
      "467678158\n",
      "133438442\n",
      "179339060\n",
      "421726951\n",
      "750222458\n",
      "115612803\n",
      "793327509\n",
      "93823119\n",
      "128285392\n",
      "910012857\n",
      "812858203\n",
      "433132207\n",
      "576863648\n",
      "457987486\n",
      "176198128\n",
      "329736412\n",
      "793118552\n",
      "104391725\n",
      "427259423\n",
      "579176608\n",
      "633393890\n",
      "831233422\n",
      "195002827\n",
      "741867176\n",
      "149238541\n",
      "311434043\n",
      "619955222\n",
      "577731695\n",
      "81118586\n",
      "522325560\n",
      "974123027\n",
      "451498214\n",
      "332304789\n",
      "486285673\n",
      "764300405\n",
      "991318949\n"
     ]
    },
    {
     "name": "stderr",
     "output_type": "stream",
     "text": [
      "TopologyException: Input geom 0 is invalid: Self-intersection at or near point 5.003653870212128 10.879101604690787 at 5.003653870212128 10.879101604690787\n"
     ]
    },
    {
     "name": "stdout",
     "output_type": "stream",
     "text": [
      "Topological problems. Trying workaround...\n",
      "442690354\n",
      "882300760\n",
      "389619720\n",
      "688621200\n",
      "388486169\n",
      "516178183\n",
      "208061919\n",
      "980192137\n",
      "308559212\n",
      "317008271\n",
      "360577235\n",
      "286407919\n",
      "394170846\n",
      "842698079\n",
      "39068482\n",
      "426862686\n",
      "48712010\n",
      "318140713\n",
      "867537025\n",
      "22941329\n",
      "830608646\n"
     ]
    },
    {
     "name": "stderr",
     "output_type": "stream",
     "text": [
      "TopologyException: Input geom 0 is invalid: Self-intersection at or near point -20.189124718086401 -42.176035262097997 at -20.189124718086401 -42.176035262097997\n"
     ]
    },
    {
     "name": "stdout",
     "output_type": "stream",
     "text": [
      "Topological problems. Trying workaround...\n",
      "527784003\n",
      "644728778\n",
      "807440284\n",
      "850150252\n",
      "367064595\n",
      "766530935\n",
      "924943061\n",
      "875593211\n",
      "485411083\n",
      "612218708\n",
      "244556576\n",
      "144762302\n",
      "331275487\n",
      "173084316\n",
      "808460938\n",
      "283631980\n",
      "55541367\n",
      "967348823\n",
      "413472725\n",
      "165581651\n",
      "228055145\n",
      "141975177\n",
      "14926268\n",
      "884184923\n",
      "670943147\n",
      "223470136\n",
      "522942862\n",
      "732803709\n",
      "557808733\n",
      "453919908\n",
      "676478221\n",
      "486669453\n",
      "974604023\n",
      "294892935\n",
      "47869815\n",
      "905154417\n",
      "500683248\n",
      "710824024\n",
      "324483048\n"
     ]
    },
    {
     "name": "stderr",
     "output_type": "stream",
     "text": [
      "TopologyException: Input geom 0 is invalid: Self-intersection at or near point 9.2769748941119694 3.9631475604704152 at 9.2769748941119694 3.9631475604704152\n"
     ]
    },
    {
     "name": "stdout",
     "output_type": "stream",
     "text": [
      "Topological problems. Trying workaround...\n",
      "66526895\n",
      "195455010\n"
     ]
    },
    {
     "name": "stderr",
     "output_type": "stream",
     "text": [
      "TopologyException: Input geom 0 is invalid: Self-intersection at or near point -8.4575280114336291 0.88178829151642169 at -8.4575280114336291 0.88178829151642169\n"
     ]
    },
    {
     "name": "stdout",
     "output_type": "stream",
     "text": [
      "Topological problems. Trying workaround...\n",
      "552093160\n",
      "865927765\n",
      "452006721\n"
     ]
    },
    {
     "name": "stderr",
     "output_type": "stream",
     "text": [
      "TopologyException: Input geom 0 is invalid: Self-intersection at or near point -29.922112213516542 -27.535021859536908 at -29.922112213516542 -27.535021859536908\n"
     ]
    },
    {
     "name": "stdout",
     "output_type": "stream",
     "text": [
      "Topological problems. Trying workaround...\n",
      "618398360\n"
     ]
    },
    {
     "name": "stderr",
     "output_type": "stream",
     "text": [
      "TopologyException: Input geom 0 is invalid: Self-intersection at or near point 9.1178393403887483 -0.29595330192802333 at 9.1178393403887483 -0.29595330192802333\n"
     ]
    },
    {
     "name": "stdout",
     "output_type": "stream",
     "text": [
      "Topological problems. Trying workaround...\n",
      "693121391\n",
      "780004154\n",
      "839293420\n",
      "263392218\n",
      "369804992\n",
      "65834215\n",
      "380918099\n",
      "845720784\n",
      "955534765\n",
      "357556472\n",
      "882203674\n",
      "180823586\n",
      "171065305\n",
      "101840754\n",
      "414033105\n",
      "882506198\n",
      "343013616\n",
      "838075561\n",
      "10455301\n",
      "184063289\n",
      "314409862\n",
      "353040569\n",
      "408895187\n",
      "120647541\n"
     ]
    },
    {
     "name": "stderr",
     "output_type": "stream",
     "text": [
      "TopologyException: Input geom 0 is invalid: Self-intersection at or near point 40.556264996169091 21.95080761585367 at 40.556264996169091 21.95080761585367\n"
     ]
    },
    {
     "name": "stdout",
     "output_type": "stream",
     "text": [
      "Topological problems. Trying workaround...\n",
      "376413960\n",
      "625819498\n",
      "165893444\n",
      "843813240\n",
      "680740026\n",
      "290883776\n",
      "890227962\n",
      "510979688\n",
      "928301641\n",
      "860943870\n",
      "928018144\n"
     ]
    },
    {
     "name": "stderr",
     "output_type": "stream",
     "text": [
      "TopologyException: Input geom 0 is invalid: Self-intersection at or near point 5.7236966498665174 -12.544267064967979 at 5.7236966498665174 -12.544267064967979\n"
     ]
    },
    {
     "name": "stdout",
     "output_type": "stream",
     "text": [
      "Topological problems. Trying workaround...\n",
      "639613891\n",
      "385615399\n",
      "339778810\n",
      "210736726\n",
      "49748353\n",
      "94043754\n",
      "487434412\n",
      "722921860\n"
     ]
    },
    {
     "name": "stderr",
     "output_type": "stream",
     "text": [
      "TopologyException: Input geom 0 is invalid: Self-intersection at or near point 27.113643168468041 0.16542495538027299 at 27.113643168468041 0.16542495538027299\n"
     ]
    },
    {
     "name": "stdout",
     "output_type": "stream",
     "text": [
      "Topological problems. Trying workaround...\n",
      "58836873\n",
      "718655021\n",
      "57093626\n",
      "960506026\n",
      "686801451\n",
      "585386144\n",
      "516658843\n",
      "524747628\n",
      "790800215\n"
     ]
    },
    {
     "name": "stderr",
     "output_type": "stream",
     "text": [
      "TopologyException: Input geom 0 is invalid: Self-intersection at or near point 1.6941338884048991 18.9623814546086 at 1.6941338884048991 18.9623814546086\n"
     ]
    },
    {
     "name": "stdout",
     "output_type": "stream",
     "text": [
      "Topological problems. Trying workaround...\n",
      "666151621\n"
     ]
    },
    {
     "name": "stderr",
     "output_type": "stream",
     "text": [
      "TopologyException: Input geom 0 is invalid: Self-intersection at or near point -11.269866930509552 20.897048896330038 at -11.269866930509552 20.897048896330038\n"
     ]
    },
    {
     "name": "stdout",
     "output_type": "stream",
     "text": [
      "Topological problems. Trying workaround...\n",
      "903770065\n",
      "180049528\n",
      "161103648\n",
      "216373469\n",
      "849536461\n"
     ]
    },
    {
     "name": "stderr",
     "output_type": "stream",
     "text": [
      "TopologyException: Input geom 0 is invalid: Self-intersection at or near point 12.813150340076801 4.9721627241874318 at 12.813150340076801 4.9721627241874318\n"
     ]
    },
    {
     "name": "stdout",
     "output_type": "stream",
     "text": [
      "Topological problems. Trying workaround...\n",
      "56675211\n",
      "554234405\n",
      "504854869\n",
      "693709486\n",
      "311844165\n",
      "693117510\n",
      "731774029\n",
      "207328772\n",
      "790425875\n",
      "727346600\n",
      "977792482\n",
      "683350410\n",
      "928585298\n",
      "629721351\n",
      "875170073\n",
      "573280763\n"
     ]
    },
    {
     "name": "stderr",
     "output_type": "stream",
     "text": [
      "TopologyException: Input geom 0 is invalid: Self-intersection at or near point -12.104185641274784 1.0315204817860837 at -12.104185641274784 1.0315204817860837\n"
     ]
    },
    {
     "name": "stdout",
     "output_type": "stream",
     "text": [
      "Topological problems. Trying workaround...\n",
      "329415391\n",
      "519261163\n",
      "662054004\n",
      "16266946\n",
      "807870517\n",
      "729026726\n",
      "907239767\n",
      "732927999\n",
      "59810827\n",
      "973843125\n",
      "509300688\n",
      "683538173\n",
      "516691210\n",
      "648303410\n",
      "454392306\n",
      "945623954\n",
      "941857933\n",
      "361252434\n",
      "436889656\n",
      "405401201\n",
      "516361800\n",
      "552755730\n",
      "818311645\n",
      "448416890\n",
      "846721570\n",
      "42587898\n",
      "783386598\n",
      "708311445\n",
      "7466260\n",
      "200620920\n",
      "72671446\n",
      "580986864\n",
      "564596802\n",
      "791936128\n",
      "358623212\n",
      "83660426\n",
      "845734727\n",
      "749695143\n",
      "182051035\n",
      "558427003\n",
      "344434830\n",
      "337004477\n",
      "268661772\n",
      "101433178\n",
      "406427308\n",
      "648256088\n",
      "982895016\n",
      "911689454\n",
      "68170208\n",
      "956317698\n",
      "306749745\n",
      "566899647\n",
      "580317237\n",
      "479852538\n",
      "948185611\n",
      "732733829\n",
      "450136880\n",
      "452176802\n",
      "6412277\n",
      "812959453\n",
      "575289104\n",
      "483662939\n",
      "378418123\n"
     ]
    },
    {
     "name": "stderr",
     "output_type": "stream",
     "text": [
      "TopologyException: Input geom 0 is invalid: Self-intersection at or near point -2.3771177567859447 -3.0475715359539395 at -2.3771177567859447 -3.0475715359539395\n"
     ]
    },
    {
     "name": "stdout",
     "output_type": "stream",
     "text": [
      "Topological problems. Trying workaround...\n",
      "14617614\n"
     ]
    }
   ],
   "source": [
    "import os\n",
    "\n",
    "\n",
    "from optimizer import PolygonInstance\n",
    "from optimizer.polygon_instance import Solution\n",
    "\n",
    "instances = [f for f in os.listdir(\"./data\") if \"instance\" in f]\n",
    "\n",
    "data = {\n",
    "    \"instance\": [],\n",
    "    \"turns\": [],\n",
    "    \"type\": [],\n",
    "    \"length\": [],\n",
    "    \"coverage\": [],\n",
    "    \"value\": [],\n",
    "    \"cost\": [],\n",
    "    \"turn_factor\": [],\n",
    "    \"area\": [],\n",
    "}\n",
    "\n",
    "for instance_file in instances:\n",
    "    instance = PolygonInstance.from_json(\n",
    "        file_path=os.path.join(\"./data\", instance_file)\n",
    "    )\n",
    "    instance_name = instance_file.split(\".\")[0]\n",
    "    print(instance_name)\n",
    "    solution_files = [\n",
    "        f\n",
    "        for f in os.listdir(\"./data\")\n",
    "        if f.startswith(instance_name) and \"instance\" not in f\n",
    "    ]\n",
    "    solutions = []\n",
    "    for sf in solution_files:\n",
    "        solution = Solution.from_json(file_path=os.path.join(\"./data\", sf))\n",
    "        solution.type = \"square\" if \"square\" in sf else \"hex\"\n",
    "        data[\"instance\"].append(instance_name)\n",
    "        data[\"turns\"].append(solution.turn_angle_sum())\n",
    "        data[\"type\"].append(solution.type)\n",
    "        data[\"length\"].append(solution.euclidean_length())\n",
    "        data[\"coverage\"].append(solution.coverage_polygon(instance.tool_radius).area)\n",
    "        data[\"value\"].append(instance.compute_covering_value(solution))\n",
    "        data[\"cost\"].append(instance.compute_touring_cost(solution))\n",
    "        data[\"turn_factor\"].append(instance.turn_cost)\n",
    "        data[\"area\"].append(instance.feasible_area.area)"
   ],
   "metadata": {
    "collapsed": false,
    "pycharm": {
     "name": "#%%\n"
    }
   }
  },
  {
   "cell_type": "code",
   "execution_count": 3,
   "outputs": [
    {
     "ename": "AttributeError",
     "evalue": "'PolygonInstance' object has no attribute 'original_area'",
     "output_type": "error",
     "traceback": [
      "\u001b[0;31m---------------------------------------------------------------------------\u001b[0m",
      "\u001b[0;31mAttributeError\u001b[0m                            Traceback (most recent call last)",
      "\u001b[0;32m<ipython-input-3-b71507fb1a0e>\u001b[0m in \u001b[0;36m<module>\u001b[0;34m\u001b[0m\n\u001b[1;32m     10\u001b[0m \u001b[0;34m\u001b[0m\u001b[0m\n\u001b[1;32m     11\u001b[0m \u001b[0max\u001b[0m \u001b[0;34m=\u001b[0m \u001b[0msetup_plot\u001b[0m\u001b[0;34m(\u001b[0m\u001b[0;34m)\u001b[0m\u001b[0;34m\u001b[0m\u001b[0;34m\u001b[0m\u001b[0m\n\u001b[0;32m---> 12\u001b[0;31m \u001b[0mplot_polygon_instance\u001b[0m\u001b[0;34m(\u001b[0m\u001b[0max\u001b[0m\u001b[0;34m,\u001b[0m \u001b[0minstance\u001b[0m\u001b[0;34m)\u001b[0m\u001b[0;34m\u001b[0m\u001b[0;34m\u001b[0m\u001b[0m\n\u001b[0m\u001b[1;32m     13\u001b[0m \u001b[0mplot_solution\u001b[0m\u001b[0;34m(\u001b[0m\u001b[0max\u001b[0m\u001b[0;34m,\u001b[0m \u001b[0msolution\u001b[0m\u001b[0;34m)\u001b[0m\u001b[0;34m\u001b[0m\u001b[0;34m\u001b[0m\u001b[0m\n\u001b[1;32m     14\u001b[0m \u001b[0mplot_coverage\u001b[0m\u001b[0;34m(\u001b[0m\u001b[0max\u001b[0m\u001b[0;34m,\u001b[0m \u001b[0minstance\u001b[0m\u001b[0;34m,\u001b[0m \u001b[0msolution\u001b[0m\u001b[0;34m)\u001b[0m\u001b[0;34m\u001b[0m\u001b[0;34m\u001b[0m\u001b[0m\n",
      "\u001b[0;32m~/Repositories/grid_warping/optimizer/plot/polgyon_instance.py\u001b[0m in \u001b[0;36mplot_polygon_instance\u001b[0;34m(ax, pi, set_limits, plot_valuable_areas, plot_expensive_areas)\u001b[0m\n\u001b[1;32m     21\u001b[0m         \u001b[0max\u001b[0m\u001b[0;34m.\u001b[0m\u001b[0mset_ylim\u001b[0m\u001b[0;34m(\u001b[0m\u001b[0mbounds\u001b[0m\u001b[0;34m[\u001b[0m\u001b[0;36m1\u001b[0m\u001b[0;34m]\u001b[0m \u001b[0;34m-\u001b[0m \u001b[0;36m2\u001b[0m \u001b[0;34m*\u001b[0m \u001b[0mpi\u001b[0m\u001b[0;34m.\u001b[0m\u001b[0mtool_radius\u001b[0m\u001b[0;34m,\u001b[0m \u001b[0mbounds\u001b[0m\u001b[0;34m[\u001b[0m\u001b[0;36m3\u001b[0m\u001b[0;34m]\u001b[0m \u001b[0;34m+\u001b[0m \u001b[0;36m2\u001b[0m \u001b[0;34m*\u001b[0m \u001b[0mpi\u001b[0m\u001b[0;34m.\u001b[0m\u001b[0mtool_radius\u001b[0m\u001b[0;34m)\u001b[0m\u001b[0;34m\u001b[0m\u001b[0;34m\u001b[0m\u001b[0m\n\u001b[1;32m     22\u001b[0m     \u001b[0max\u001b[0m\u001b[0;34m.\u001b[0m\u001b[0mset_facecolor\u001b[0m\u001b[0;34m(\u001b[0m\u001b[0;34m'lightgrey'\u001b[0m\u001b[0;34m)\u001b[0m\u001b[0;34m\u001b[0m\u001b[0;34m\u001b[0m\u001b[0m\n\u001b[0;32m---> 23\u001b[0;31m     \u001b[0;32mif\u001b[0m \u001b[0mpi\u001b[0m\u001b[0;34m.\u001b[0m\u001b[0moriginal_area\u001b[0m\u001b[0;34m:\u001b[0m\u001b[0;34m\u001b[0m\u001b[0;34m\u001b[0m\u001b[0m\n\u001b[0m\u001b[1;32m     24\u001b[0m         \u001b[0morig_bg_patch\u001b[0m \u001b[0;34m=\u001b[0m \u001b[0mPolygonPatch\u001b[0m\u001b[0;34m(\u001b[0m\u001b[0mpi\u001b[0m\u001b[0;34m.\u001b[0m\u001b[0moriginal_area\u001b[0m\u001b[0;34m,\u001b[0m \u001b[0mfc\u001b[0m\u001b[0;34m=\u001b[0m\u001b[0;34m'white'\u001b[0m\u001b[0;34m,\u001b[0m \u001b[0mec\u001b[0m\u001b[0;34m=\u001b[0m\u001b[0;34m'black'\u001b[0m\u001b[0;34m,\u001b[0m \u001b[0malpha\u001b[0m\u001b[0;34m=\u001b[0m\u001b[0;36m1.0\u001b[0m\u001b[0;34m,\u001b[0m \u001b[0mzorder\u001b[0m\u001b[0;34m=\u001b[0m\u001b[0;36m1\u001b[0m\u001b[0;34m)\u001b[0m\u001b[0;34m\u001b[0m\u001b[0;34m\u001b[0m\u001b[0m\n\u001b[1;32m     25\u001b[0m         \u001b[0max\u001b[0m\u001b[0;34m.\u001b[0m\u001b[0madd_patch\u001b[0m\u001b[0;34m(\u001b[0m\u001b[0morig_bg_patch\u001b[0m\u001b[0;34m)\u001b[0m\u001b[0;34m\u001b[0m\u001b[0;34m\u001b[0m\u001b[0m\n",
      "\u001b[0;31mAttributeError\u001b[0m: 'PolygonInstance' object has no attribute 'original_area'"
     ]
    },
    {
     "data": {
      "text/plain": "<Figure size 432x288 with 0 Axes>"
     },
     "metadata": {},
     "output_type": "display_data"
    },
    {
     "data": {
      "text/plain": "<Figure size 720x720 with 1 Axes>",
      "image/png": "[encoded data removed]"
     },
     "metadata": {
      "needs_background": "light"
     },
     "output_type": "display_data"
    }
   ],
   "source": [
    "import matplotlib.pyplot as plt\n",
    "from optimizer.plot import setup_plot, plot_polygon_instance, plot_solution\n",
    "from descartes import PolygonPatch\n",
    "\n",
    "solution.coverage_polygon(1.0)\n",
    "\n",
    "\n",
    "def plot_coverage(ax: plt.Axes, pi: PolygonInstance, solution: Solution, color=\"blue\"):\n",
    "    patch = PolygonPatch(\n",
    "        solution.coverage_polygon(pi.tool_radius),\n",
    "        fc=color,\n",
    "        ec=color,\n",
    "        alpha=0.5,\n",
    "        zorder=1,\n",
    "    )\n",
    "    ax.add_patch(patch)\n",
    "\n",
    "\n",
    "ax = setup_plot()\n",
    "plot_polygon_instance(ax, instance)\n",
    "plot_solution(ax, solution)\n",
    "plot_coverage(ax, instance, solution)\n",
    "plt.show()"
   ],
   "metadata": {
    "collapsed": false,
    "pycharm": {
     "name": "#%%\n"
    }
   }
  },
  {
   "cell_type": "code",
   "execution_count": null,
   "outputs": [],
   "source": [
    "instance.valuable_areas[0][0]"
   ],
   "metadata": {
    "collapsed": false,
    "pycharm": {
     "name": "#%%\n"
    }
   }
  },
  {
   "cell_type": "code",
   "execution_count": null,
   "outputs": [],
   "source": [
    "solution.coverage_polygon(1.0).intersection(instance.valuable_areas[0][0])"
   ],
   "metadata": {
    "collapsed": false,
    "pycharm": {
     "name": "#%%\n"
    }
   }
  },
  {
   "cell_type": "code",
   "execution_count": null,
   "outputs": [],
   "source": [
    "import pandas as pd\n",
    "\n",
    "table = pd.DataFrame(data)"
   ],
   "metadata": {
    "collapsed": false,
    "pycharm": {
     "name": "#%%\n"
    }
   }
  },
  {
   "cell_type": "code",
   "execution_count": null,
   "outputs": [],
   "source": [
    "min_data = 25\n",
    "\n",
    "t_ = table.groupby([\"instance\", \"type\"])[\"turns\"].count()\n",
    "t_ = t_[t_ >= min_data].reset_index().groupby(\"instance\")[\"type\"].count()\n",
    "t_ = t_[t_ >= 2]\n",
    "selected_instance = t_.index.to_list()\n",
    "selected_instance"
   ],
   "metadata": {
    "collapsed": false,
    "pycharm": {
     "name": "#%%\n"
    }
   }
  },
  {
   "cell_type": "code",
   "execution_count": null,
   "outputs": [],
   "source": [
    "table = table[table[\"instance\"].isin(selected_instance)]\n",
    "table.to_json(\"./data/results.json\")"
   ],
   "metadata": {
    "collapsed": false,
    "pycharm": {
     "name": "#%%\n"
    }
   }
  }
 ],
 "metadata": {
  "kernelspec": {
   "display_name": "Python 3",
   "language": "python",
   "name": "python3"
  },
  "language_info": {
   "codemirror_mode": {
    "name": "ipython",
    "version": 2
   },
   "file_extension": ".py",
   "mimetype": "text/x-python",
   "name": "python",
   "nbconvert_exporter": "python",
   "pygments_lexer": "ipython2",
   "version": "2.7.6"
  }
 },
 "nbformat": 4,
 "nbformat_minor": 0
}
